{
  "nbformat": 4,
  "nbformat_minor": 0,
  "metadata": {
    "colab": {
      "provenance": []
    },
    "kernelspec": {
      "name": "python3",
      "display_name": "Python 3"
    },
    "language_info": {
      "name": "python"
    }
  },
  "cells": [
    {
      "cell_type": "markdown",
      "metadata": {
        "id": "8CZmc2uGp4WD"
      },
      "source": [
        "# Predicting Mortgage Backed Securities Prepayment Risk Prediction"
      ]
    },
    {
      "cell_type": "markdown",
      "source": [
        "# **First Task : Data Preprocessing**\n",
        "\n",
        "The different steps for this first task are as follows:\n",
        "1. Data Cleaning\n",
        "2. Data Encoding\n",
        "3. Data Labeling"
      ],
      "metadata": {
        "id": "8g7faQ0gjN1m"
      }
    },
    {
      "cell_type": "markdown",
      "source": [
        "# **Blueprint of Project**\n",
        "1. Exploratory Data Analysis(EDA)\n",
        "2. Data Cleaning & Preprocessing\n",
        "3. Model Building & Evaluation\n",
        "4. Deployment\n"
      ],
      "metadata": {
        "id": "L5y8nZvUrb9E"
      }
    },
    {
      "cell_type": "markdown",
      "metadata": {
        "id": "HdZk8iLvp4WH"
      },
      "source": [
        "## Importing Data & Needed Libraries"
      ]
    },
    {
      "cell_type": "code",
      "execution_count": null,
      "metadata": {
        "id": "YgW8ER9R6G7_",
        "colab": {
          "base_uri": "https://localhost:8080/"
        },
        "outputId": "ff8d1fb8-828c-4d17-d4a0-f4c0cf66f76c"
      },
      "outputs": [
        {
          "output_type": "stream",
          "name": "stderr",
          "text": [
            "/usr/local/lib/python3.10/dist-packages/ipykernel/ipkernel.py:283: DeprecationWarning: `should_run_async` will not call `transform_cell` automatically in the future. Please pass the result to `transformed_cell` argument and any exception that happen during thetransform in `preprocessing_exc_tuple` in IPython 7.17 and above.\n",
            "  and should_run_async(code)\n"
          ]
        }
      ],
      "source": [
        "import pandas as pd\n",
        "import numpy as np\n",
        "import matplotlib.pyplot as plt\n",
        "import seaborn as sns\n",
        "import networkx as nx\n",
        "import statsmodels.api as sm\n",
        "from sklearn import preprocessing\n",
        "from sklearn.preprocessing import OneHotEncoder\n",
        "import warnings\n",
        "warnings.filterwarnings(\"ignore\")\n",
        "import matplotlib\n",
        "warnings.filterwarnings(\"always\")\n",
        "\n",
        "%matplotlib inline"
      ]
    },
    {
      "cell_type": "markdown",
      "source": [
        "# First Look at the data\n"
      ],
      "metadata": {
        "id": "ZQ_b31alhYwL"
      }
    },
    {
      "cell_type": "code",
      "execution_count": null,
      "metadata": {
        "colab": {
          "base_uri": "https://localhost:8080/",
          "height": 842
        },
        "id": "wzEw2aAp7_hD",
        "outputId": "f0def372-a55a-4f40-ca9c-40736876a503"
      },
      "outputs": [
        {
          "output_type": "stream",
          "name": "stderr",
          "text": [
            "/usr/local/lib/python3.10/dist-packages/ipykernel/ipkernel.py:283: DeprecationWarning: `should_run_async` will not call `transform_cell` automatically in the future. Please pass the result to `transformed_cell` argument and any exception that happen during thetransform in `preprocessing_exc_tuple` in IPython 7.17 and above.\n",
            "  and should_run_async(code)\n",
            "<ipython-input-63-674adbca6759>:1: DtypeWarning: Columns (18) have mixed types. Specify dtype option on import or set low_memory=False.\n",
            "  data = pd.read_csv('LoanExport.csv')\n"
          ]
        },
        {
          "output_type": "execute_result",
          "data": {
            "text/plain": [
              "    CreditScore  FirstPaymentDate FirstTimeHomebuyer  MaturityDate    MSA  \\\n",
              "0             0            199902                  N        202901  16974   \n",
              "1             0            199902                  N        202901  19740   \n",
              "2             0            199902                  N        202901  29940   \n",
              "3             0            199902                  N        202901  31084   \n",
              "4             0            199902                  N        202901  35644   \n",
              "5             0            199902                  N        202901  X       \n",
              "6             0            199902                  N        202901  X       \n",
              "7             0            199902                  X        202901  36740   \n",
              "8             0            199902                  Y        202710  25540   \n",
              "9             0            199902                  Y        202901  48620   \n",
              "10            0            199903                  N        202902  12060   \n",
              "11            0            199903                  N        202902  12060   \n",
              "12            0            199903                  N        202902  12060   \n",
              "13            0            199903                  N        202902  12060   \n",
              "14            0            199903                  N        202902  12060   \n",
              "15            0            199903                  N        202902  12060   \n",
              "16            0            199903                  N        202902  12060   \n",
              "17            0            199903                  N        202902  12420   \n",
              "18            0            199903                  N        202902  13140   \n",
              "19            0            199903                  N        202902  13644   \n",
              "\n",
              "    MIP  Units Occupancy  OCLTV  DTI  ...  PostalCode    LoanSeqNum  \\\n",
              "0    25      1         O     89   27  ...       60400  F199Q1268030   \n",
              "1     0      1         O     73   17  ...       80200  F199Q1015092   \n",
              "2     0      1         O     75   16  ...       66000  F199Q1266886   \n",
              "3     0      1         O     76   14  ...       90700  F199Q1178167   \n",
              "4     0      1         O     78   18  ...        7600  F199Q1178517   \n",
              "5    25      1         O     89   40  ...       80400  F199Q1224802   \n",
              "6    25      1         O     90   21  ...       53100  F199Q1291436   \n",
              "7     0      1         O     72   20  ...       32800  F199Q1001824   \n",
              "8    30      1         O     95   38  ...        6400  F199Q1079744   \n",
              "9    30      1         O     95   27  ...       67000  F199Q1196318   \n",
              "10    0      1         O     80   19  ...       30100  F199Q1309144   \n",
              "11   12      1         O     77   18  ...       30000  F199Q1363208   \n",
              "12   12      1         O     85   38  ...       30100  F199Q1388109   \n",
              "13   25      1         O     90   19  ...       30600  F199Q1388083   \n",
              "14   25      1         O     90   23  ...       30200  F199Q1312860   \n",
              "15   25      1         O     90   45  ...       30300  F199Q1271788   \n",
              "16   30      1         O     95   28  ...       30000  F199Q1311724   \n",
              "17   25      1         O     90   27  ...       78700  F199Q1330011   \n",
              "18   25      1         O     90   29  ...       77700  F199Q1321742   \n",
              "19   25      1         O     90   15  ...       20800  F199Q1245176   \n",
              "\n",
              "    LoanPurpose OrigLoanTerm NumBorrowers SellerName          ServicerName  \\\n",
              "0             P          360            2         FL  WASHINGTONMUTUALBANK   \n",
              "1             N          360            1         FT  CHASEHOMEFINANCELLC    \n",
              "2             N          360            2         FL  WASHINGTONMUTUALBANK   \n",
              "3             N          360            2         GM  GMACMTGECORP           \n",
              "4             N          360            2         GM  GMACMTGECORP           \n",
              "5             N          360            2         Ot  Other servicers        \n",
              "6             P          360            1         RE  Other servicers        \n",
              "7             N          360            1         NO   WELLSFARGOBANKNA      \n",
              "8             P          345            1         Ot  Other servicers        \n",
              "9             P          360            1         Ot   WELLSFARGOBANKNA      \n",
              "10            P          360            2         Ot  Other servicers        \n",
              "11            C          360            1         ST   ABNAMROMTGEGROUPINC   \n",
              "12            P          360            1         Ot   BANKOFAMERICANA       \n",
              "13            N          360            2         Ot   BANKOFAMERICANA       \n",
              "14            P          360            2         ST  CHASEMANHATTANMTGECO   \n",
              "15            N          360            1         Ot   BANKOFAMERICANA       \n",
              "16            P          360            1         CR  CHASEMANHATTANMTGECO   \n",
              "17            P          360            2         Ot   HOMESIDELENDINGINC    \n",
              "18            P          360            2         CH  CHASEMTGECO            \n",
              "19            P          360            1         FI  WELLSFARGOHOMEMORTGA   \n",
              "\n",
              "   EverDelinquent MonthsDelinquent MonthsInRepayment  \n",
              "0               0                0                52  \n",
              "1               0                0               144  \n",
              "2               0                0                67  \n",
              "3               0                0                35  \n",
              "4               0                0                54  \n",
              "5               0                0                42  \n",
              "6               0                0                44  \n",
              "7               1                3               145  \n",
              "8               0                0                64  \n",
              "9               1              104               212  \n",
              "10              0                0                37  \n",
              "11              0                0                47  \n",
              "12              0                0                53  \n",
              "13              0                0                55  \n",
              "14              0                0                66  \n",
              "15              1                5                55  \n",
              "16              1               23                55  \n",
              "17              0                0                26  \n",
              "18              0                0                38  \n",
              "19              0                0                36  \n",
              "\n",
              "[20 rows x 28 columns]"
            ],
            "text/html": [
              "\n",
              "\n",
              "  <div id=\"df-8660dac6-d4df-4a09-853e-b19305e6f7a7\">\n",
              "    <div class=\"colab-df-container\">\n",
              "      <div>\n",
              "<style scoped>\n",
              "    .dataframe tbody tr th:only-of-type {\n",
              "        vertical-align: middle;\n",
              "    }\n",
              "\n",
              "    .dataframe tbody tr th {\n",
              "        vertical-align: top;\n",
              "    }\n",
              "\n",
              "    .dataframe thead th {\n",
              "        text-align: right;\n",
              "    }\n",
              "</style>\n",
              "<table border=\"1\" class=\"dataframe\">\n",
              "  <thead>\n",
              "    <tr style=\"text-align: right;\">\n",
              "      <th></th>\n",
              "      <th>CreditScore</th>\n",
              "      <th>FirstPaymentDate</th>\n",
              "      <th>FirstTimeHomebuyer</th>\n",
              "      <th>MaturityDate</th>\n",
              "      <th>MSA</th>\n",
              "      <th>MIP</th>\n",
              "      <th>Units</th>\n",
              "      <th>Occupancy</th>\n",
              "      <th>OCLTV</th>\n",
              "      <th>DTI</th>\n",
              "      <th>...</th>\n",
              "      <th>PostalCode</th>\n",
              "      <th>LoanSeqNum</th>\n",
              "      <th>LoanPurpose</th>\n",
              "      <th>OrigLoanTerm</th>\n",
              "      <th>NumBorrowers</th>\n",
              "      <th>SellerName</th>\n",
              "      <th>ServicerName</th>\n",
              "      <th>EverDelinquent</th>\n",
              "      <th>MonthsDelinquent</th>\n",
              "      <th>MonthsInRepayment</th>\n",
              "    </tr>\n",
              "  </thead>\n",
              "  <tbody>\n",
              "    <tr>\n",
              "      <th>0</th>\n",
              "      <td>0</td>\n",
              "      <td>199902</td>\n",
              "      <td>N</td>\n",
              "      <td>202901</td>\n",
              "      <td>16974</td>\n",
              "      <td>25</td>\n",
              "      <td>1</td>\n",
              "      <td>O</td>\n",
              "      <td>89</td>\n",
              "      <td>27</td>\n",
              "      <td>...</td>\n",
              "      <td>60400</td>\n",
              "      <td>F199Q1268030</td>\n",
              "      <td>P</td>\n",
              "      <td>360</td>\n",
              "      <td>2</td>\n",
              "      <td>FL</td>\n",
              "      <td>WASHINGTONMUTUALBANK</td>\n",
              "      <td>0</td>\n",
              "      <td>0</td>\n",
              "      <td>52</td>\n",
              "    </tr>\n",
              "    <tr>\n",
              "      <th>1</th>\n",
              "      <td>0</td>\n",
              "      <td>199902</td>\n",
              "      <td>N</td>\n",
              "      <td>202901</td>\n",
              "      <td>19740</td>\n",
              "      <td>0</td>\n",
              "      <td>1</td>\n",
              "      <td>O</td>\n",
              "      <td>73</td>\n",
              "      <td>17</td>\n",
              "      <td>...</td>\n",
              "      <td>80200</td>\n",
              "      <td>F199Q1015092</td>\n",
              "      <td>N</td>\n",
              "      <td>360</td>\n",
              "      <td>1</td>\n",
              "      <td>FT</td>\n",
              "      <td>CHASEHOMEFINANCELLC</td>\n",
              "      <td>0</td>\n",
              "      <td>0</td>\n",
              "      <td>144</td>\n",
              "    </tr>\n",
              "    <tr>\n",
              "      <th>2</th>\n",
              "      <td>0</td>\n",
              "      <td>199902</td>\n",
              "      <td>N</td>\n",
              "      <td>202901</td>\n",
              "      <td>29940</td>\n",
              "      <td>0</td>\n",
              "      <td>1</td>\n",
              "      <td>O</td>\n",
              "      <td>75</td>\n",
              "      <td>16</td>\n",
              "      <td>...</td>\n",
              "      <td>66000</td>\n",
              "      <td>F199Q1266886</td>\n",
              "      <td>N</td>\n",
              "      <td>360</td>\n",
              "      <td>2</td>\n",
              "      <td>FL</td>\n",
              "      <td>WASHINGTONMUTUALBANK</td>\n",
              "      <td>0</td>\n",
              "      <td>0</td>\n",
              "      <td>67</td>\n",
              "    </tr>\n",
              "    <tr>\n",
              "      <th>3</th>\n",
              "      <td>0</td>\n",
              "      <td>199902</td>\n",
              "      <td>N</td>\n",
              "      <td>202901</td>\n",
              "      <td>31084</td>\n",
              "      <td>0</td>\n",
              "      <td>1</td>\n",
              "      <td>O</td>\n",
              "      <td>76</td>\n",
              "      <td>14</td>\n",
              "      <td>...</td>\n",
              "      <td>90700</td>\n",
              "      <td>F199Q1178167</td>\n",
              "      <td>N</td>\n",
              "      <td>360</td>\n",
              "      <td>2</td>\n",
              "      <td>GM</td>\n",
              "      <td>GMACMTGECORP</td>\n",
              "      <td>0</td>\n",
              "      <td>0</td>\n",
              "      <td>35</td>\n",
              "    </tr>\n",
              "    <tr>\n",
              "      <th>4</th>\n",
              "      <td>0</td>\n",
              "      <td>199902</td>\n",
              "      <td>N</td>\n",
              "      <td>202901</td>\n",
              "      <td>35644</td>\n",
              "      <td>0</td>\n",
              "      <td>1</td>\n",
              "      <td>O</td>\n",
              "      <td>78</td>\n",
              "      <td>18</td>\n",
              "      <td>...</td>\n",
              "      <td>7600</td>\n",
              "      <td>F199Q1178517</td>\n",
              "      <td>N</td>\n",
              "      <td>360</td>\n",
              "      <td>2</td>\n",
              "      <td>GM</td>\n",
              "      <td>GMACMTGECORP</td>\n",
              "      <td>0</td>\n",
              "      <td>0</td>\n",
              "      <td>54</td>\n",
              "    </tr>\n",
              "    <tr>\n",
              "      <th>5</th>\n",
              "      <td>0</td>\n",
              "      <td>199902</td>\n",
              "      <td>N</td>\n",
              "      <td>202901</td>\n",
              "      <td>X</td>\n",
              "      <td>25</td>\n",
              "      <td>1</td>\n",
              "      <td>O</td>\n",
              "      <td>89</td>\n",
              "      <td>40</td>\n",
              "      <td>...</td>\n",
              "      <td>80400</td>\n",
              "      <td>F199Q1224802</td>\n",
              "      <td>N</td>\n",
              "      <td>360</td>\n",
              "      <td>2</td>\n",
              "      <td>Ot</td>\n",
              "      <td>Other servicers</td>\n",
              "      <td>0</td>\n",
              "      <td>0</td>\n",
              "      <td>42</td>\n",
              "    </tr>\n",
              "    <tr>\n",
              "      <th>6</th>\n",
              "      <td>0</td>\n",
              "      <td>199902</td>\n",
              "      <td>N</td>\n",
              "      <td>202901</td>\n",
              "      <td>X</td>\n",
              "      <td>25</td>\n",
              "      <td>1</td>\n",
              "      <td>O</td>\n",
              "      <td>90</td>\n",
              "      <td>21</td>\n",
              "      <td>...</td>\n",
              "      <td>53100</td>\n",
              "      <td>F199Q1291436</td>\n",
              "      <td>P</td>\n",
              "      <td>360</td>\n",
              "      <td>1</td>\n",
              "      <td>RE</td>\n",
              "      <td>Other servicers</td>\n",
              "      <td>0</td>\n",
              "      <td>0</td>\n",
              "      <td>44</td>\n",
              "    </tr>\n",
              "    <tr>\n",
              "      <th>7</th>\n",
              "      <td>0</td>\n",
              "      <td>199902</td>\n",
              "      <td>X</td>\n",
              "      <td>202901</td>\n",
              "      <td>36740</td>\n",
              "      <td>0</td>\n",
              "      <td>1</td>\n",
              "      <td>O</td>\n",
              "      <td>72</td>\n",
              "      <td>20</td>\n",
              "      <td>...</td>\n",
              "      <td>32800</td>\n",
              "      <td>F199Q1001824</td>\n",
              "      <td>N</td>\n",
              "      <td>360</td>\n",
              "      <td>1</td>\n",
              "      <td>NO</td>\n",
              "      <td>WELLSFARGOBANKNA</td>\n",
              "      <td>1</td>\n",
              "      <td>3</td>\n",
              "      <td>145</td>\n",
              "    </tr>\n",
              "    <tr>\n",
              "      <th>8</th>\n",
              "      <td>0</td>\n",
              "      <td>199902</td>\n",
              "      <td>Y</td>\n",
              "      <td>202710</td>\n",
              "      <td>25540</td>\n",
              "      <td>30</td>\n",
              "      <td>1</td>\n",
              "      <td>O</td>\n",
              "      <td>95</td>\n",
              "      <td>38</td>\n",
              "      <td>...</td>\n",
              "      <td>6400</td>\n",
              "      <td>F199Q1079744</td>\n",
              "      <td>P</td>\n",
              "      <td>345</td>\n",
              "      <td>1</td>\n",
              "      <td>Ot</td>\n",
              "      <td>Other servicers</td>\n",
              "      <td>0</td>\n",
              "      <td>0</td>\n",
              "      <td>64</td>\n",
              "    </tr>\n",
              "    <tr>\n",
              "      <th>9</th>\n",
              "      <td>0</td>\n",
              "      <td>199902</td>\n",
              "      <td>Y</td>\n",
              "      <td>202901</td>\n",
              "      <td>48620</td>\n",
              "      <td>30</td>\n",
              "      <td>1</td>\n",
              "      <td>O</td>\n",
              "      <td>95</td>\n",
              "      <td>27</td>\n",
              "      <td>...</td>\n",
              "      <td>67000</td>\n",
              "      <td>F199Q1196318</td>\n",
              "      <td>P</td>\n",
              "      <td>360</td>\n",
              "      <td>1</td>\n",
              "      <td>Ot</td>\n",
              "      <td>WELLSFARGOBANKNA</td>\n",
              "      <td>1</td>\n",
              "      <td>104</td>\n",
              "      <td>212</td>\n",
              "    </tr>\n",
              "    <tr>\n",
              "      <th>10</th>\n",
              "      <td>0</td>\n",
              "      <td>199903</td>\n",
              "      <td>N</td>\n",
              "      <td>202902</td>\n",
              "      <td>12060</td>\n",
              "      <td>0</td>\n",
              "      <td>1</td>\n",
              "      <td>O</td>\n",
              "      <td>80</td>\n",
              "      <td>19</td>\n",
              "      <td>...</td>\n",
              "      <td>30100</td>\n",
              "      <td>F199Q1309144</td>\n",
              "      <td>P</td>\n",
              "      <td>360</td>\n",
              "      <td>2</td>\n",
              "      <td>Ot</td>\n",
              "      <td>Other servicers</td>\n",
              "      <td>0</td>\n",
              "      <td>0</td>\n",
              "      <td>37</td>\n",
              "    </tr>\n",
              "    <tr>\n",
              "      <th>11</th>\n",
              "      <td>0</td>\n",
              "      <td>199903</td>\n",
              "      <td>N</td>\n",
              "      <td>202902</td>\n",
              "      <td>12060</td>\n",
              "      <td>12</td>\n",
              "      <td>1</td>\n",
              "      <td>O</td>\n",
              "      <td>77</td>\n",
              "      <td>18</td>\n",
              "      <td>...</td>\n",
              "      <td>30000</td>\n",
              "      <td>F199Q1363208</td>\n",
              "      <td>C</td>\n",
              "      <td>360</td>\n",
              "      <td>1</td>\n",
              "      <td>ST</td>\n",
              "      <td>ABNAMROMTGEGROUPINC</td>\n",
              "      <td>0</td>\n",
              "      <td>0</td>\n",
              "      <td>47</td>\n",
              "    </tr>\n",
              "    <tr>\n",
              "      <th>12</th>\n",
              "      <td>0</td>\n",
              "      <td>199903</td>\n",
              "      <td>N</td>\n",
              "      <td>202902</td>\n",
              "      <td>12060</td>\n",
              "      <td>12</td>\n",
              "      <td>1</td>\n",
              "      <td>O</td>\n",
              "      <td>85</td>\n",
              "      <td>38</td>\n",
              "      <td>...</td>\n",
              "      <td>30100</td>\n",
              "      <td>F199Q1388109</td>\n",
              "      <td>P</td>\n",
              "      <td>360</td>\n",
              "      <td>1</td>\n",
              "      <td>Ot</td>\n",
              "      <td>BANKOFAMERICANA</td>\n",
              "      <td>0</td>\n",
              "      <td>0</td>\n",
              "      <td>53</td>\n",
              "    </tr>\n",
              "    <tr>\n",
              "      <th>13</th>\n",
              "      <td>0</td>\n",
              "      <td>199903</td>\n",
              "      <td>N</td>\n",
              "      <td>202902</td>\n",
              "      <td>12060</td>\n",
              "      <td>25</td>\n",
              "      <td>1</td>\n",
              "      <td>O</td>\n",
              "      <td>90</td>\n",
              "      <td>19</td>\n",
              "      <td>...</td>\n",
              "      <td>30600</td>\n",
              "      <td>F199Q1388083</td>\n",
              "      <td>N</td>\n",
              "      <td>360</td>\n",
              "      <td>2</td>\n",
              "      <td>Ot</td>\n",
              "      <td>BANKOFAMERICANA</td>\n",
              "      <td>0</td>\n",
              "      <td>0</td>\n",
              "      <td>55</td>\n",
              "    </tr>\n",
              "    <tr>\n",
              "      <th>14</th>\n",
              "      <td>0</td>\n",
              "      <td>199903</td>\n",
              "      <td>N</td>\n",
              "      <td>202902</td>\n",
              "      <td>12060</td>\n",
              "      <td>25</td>\n",
              "      <td>1</td>\n",
              "      <td>O</td>\n",
              "      <td>90</td>\n",
              "      <td>23</td>\n",
              "      <td>...</td>\n",
              "      <td>30200</td>\n",
              "      <td>F199Q1312860</td>\n",
              "      <td>P</td>\n",
              "      <td>360</td>\n",
              "      <td>2</td>\n",
              "      <td>ST</td>\n",
              "      <td>CHASEMANHATTANMTGECO</td>\n",
              "      <td>0</td>\n",
              "      <td>0</td>\n",
              "      <td>66</td>\n",
              "    </tr>\n",
              "    <tr>\n",
              "      <th>15</th>\n",
              "      <td>0</td>\n",
              "      <td>199903</td>\n",
              "      <td>N</td>\n",
              "      <td>202902</td>\n",
              "      <td>12060</td>\n",
              "      <td>25</td>\n",
              "      <td>1</td>\n",
              "      <td>O</td>\n",
              "      <td>90</td>\n",
              "      <td>45</td>\n",
              "      <td>...</td>\n",
              "      <td>30300</td>\n",
              "      <td>F199Q1271788</td>\n",
              "      <td>N</td>\n",
              "      <td>360</td>\n",
              "      <td>1</td>\n",
              "      <td>Ot</td>\n",
              "      <td>BANKOFAMERICANA</td>\n",
              "      <td>1</td>\n",
              "      <td>5</td>\n",
              "      <td>55</td>\n",
              "    </tr>\n",
              "    <tr>\n",
              "      <th>16</th>\n",
              "      <td>0</td>\n",
              "      <td>199903</td>\n",
              "      <td>N</td>\n",
              "      <td>202902</td>\n",
              "      <td>12060</td>\n",
              "      <td>30</td>\n",
              "      <td>1</td>\n",
              "      <td>O</td>\n",
              "      <td>95</td>\n",
              "      <td>28</td>\n",
              "      <td>...</td>\n",
              "      <td>30000</td>\n",
              "      <td>F199Q1311724</td>\n",
              "      <td>P</td>\n",
              "      <td>360</td>\n",
              "      <td>1</td>\n",
              "      <td>CR</td>\n",
              "      <td>CHASEMANHATTANMTGECO</td>\n",
              "      <td>1</td>\n",
              "      <td>23</td>\n",
              "      <td>55</td>\n",
              "    </tr>\n",
              "    <tr>\n",
              "      <th>17</th>\n",
              "      <td>0</td>\n",
              "      <td>199903</td>\n",
              "      <td>N</td>\n",
              "      <td>202902</td>\n",
              "      <td>12420</td>\n",
              "      <td>25</td>\n",
              "      <td>1</td>\n",
              "      <td>O</td>\n",
              "      <td>90</td>\n",
              "      <td>27</td>\n",
              "      <td>...</td>\n",
              "      <td>78700</td>\n",
              "      <td>F199Q1330011</td>\n",
              "      <td>P</td>\n",
              "      <td>360</td>\n",
              "      <td>2</td>\n",
              "      <td>Ot</td>\n",
              "      <td>HOMESIDELENDINGINC</td>\n",
              "      <td>0</td>\n",
              "      <td>0</td>\n",
              "      <td>26</td>\n",
              "    </tr>\n",
              "    <tr>\n",
              "      <th>18</th>\n",
              "      <td>0</td>\n",
              "      <td>199903</td>\n",
              "      <td>N</td>\n",
              "      <td>202902</td>\n",
              "      <td>13140</td>\n",
              "      <td>25</td>\n",
              "      <td>1</td>\n",
              "      <td>O</td>\n",
              "      <td>90</td>\n",
              "      <td>29</td>\n",
              "      <td>...</td>\n",
              "      <td>77700</td>\n",
              "      <td>F199Q1321742</td>\n",
              "      <td>P</td>\n",
              "      <td>360</td>\n",
              "      <td>2</td>\n",
              "      <td>CH</td>\n",
              "      <td>CHASEMTGECO</td>\n",
              "      <td>0</td>\n",
              "      <td>0</td>\n",
              "      <td>38</td>\n",
              "    </tr>\n",
              "    <tr>\n",
              "      <th>19</th>\n",
              "      <td>0</td>\n",
              "      <td>199903</td>\n",
              "      <td>N</td>\n",
              "      <td>202902</td>\n",
              "      <td>13644</td>\n",
              "      <td>25</td>\n",
              "      <td>1</td>\n",
              "      <td>O</td>\n",
              "      <td>90</td>\n",
              "      <td>15</td>\n",
              "      <td>...</td>\n",
              "      <td>20800</td>\n",
              "      <td>F199Q1245176</td>\n",
              "      <td>P</td>\n",
              "      <td>360</td>\n",
              "      <td>1</td>\n",
              "      <td>FI</td>\n",
              "      <td>WELLSFARGOHOMEMORTGA</td>\n",
              "      <td>0</td>\n",
              "      <td>0</td>\n",
              "      <td>36</td>\n",
              "    </tr>\n",
              "  </tbody>\n",
              "</table>\n",
              "<p>20 rows × 28 columns</p>\n",
              "</div>\n",
              "      <button class=\"colab-df-convert\" onclick=\"convertToInteractive('df-8660dac6-d4df-4a09-853e-b19305e6f7a7')\"\n",
              "              title=\"Convert this dataframe to an interactive table.\"\n",
              "              style=\"display:none;\">\n",
              "\n",
              "  <svg xmlns=\"http://www.w3.org/2000/svg\" height=\"24px\"viewBox=\"0 0 24 24\"\n",
              "       width=\"24px\">\n",
              "    <path d=\"M0 0h24v24H0V0z\" fill=\"none\"/>\n",
              "    <path d=\"M18.56 5.44l.94 2.06.94-2.06 2.06-.94-2.06-.94-.94-2.06-.94 2.06-2.06.94zm-11 1L8.5 8.5l.94-2.06 2.06-.94-2.06-.94L8.5 2.5l-.94 2.06-2.06.94zm10 10l.94 2.06.94-2.06 2.06-.94-2.06-.94-.94-2.06-.94 2.06-2.06.94z\"/><path d=\"M17.41 7.96l-1.37-1.37c-.4-.4-.92-.59-1.43-.59-.52 0-1.04.2-1.43.59L10.3 9.45l-7.72 7.72c-.78.78-.78 2.05 0 2.83L4 21.41c.39.39.9.59 1.41.59.51 0 1.02-.2 1.41-.59l7.78-7.78 2.81-2.81c.8-.78.8-2.07 0-2.86zM5.41 20L4 18.59l7.72-7.72 1.47 1.35L5.41 20z\"/>\n",
              "  </svg>\n",
              "      </button>\n",
              "\n",
              "\n",
              "\n",
              "    <div id=\"df-6946adf7-a068-4e30-bb11-5313327f0546\">\n",
              "      <button class=\"colab-df-quickchart\" onclick=\"quickchart('df-6946adf7-a068-4e30-bb11-5313327f0546')\"\n",
              "              title=\"Suggest charts.\"\n",
              "              style=\"display:none;\">\n",
              "\n",
              "<svg xmlns=\"http://www.w3.org/2000/svg\" height=\"24px\"viewBox=\"0 0 24 24\"\n",
              "     width=\"24px\">\n",
              "    <g>\n",
              "        <path d=\"M19 3H5c-1.1 0-2 .9-2 2v14c0 1.1.9 2 2 2h14c1.1 0 2-.9 2-2V5c0-1.1-.9-2-2-2zM9 17H7v-7h2v7zm4 0h-2V7h2v10zm4 0h-2v-4h2v4z\"/>\n",
              "    </g>\n",
              "</svg>\n",
              "      </button>\n",
              "    </div>\n",
              "\n",
              "<style>\n",
              "  .colab-df-quickchart {\n",
              "    background-color: #E8F0FE;\n",
              "    border: none;\n",
              "    border-radius: 50%;\n",
              "    cursor: pointer;\n",
              "    display: none;\n",
              "    fill: #1967D2;\n",
              "    height: 32px;\n",
              "    padding: 0 0 0 0;\n",
              "    width: 32px;\n",
              "  }\n",
              "\n",
              "  .colab-df-quickchart:hover {\n",
              "    background-color: #E2EBFA;\n",
              "    box-shadow: 0px 1px 2px rgba(60, 64, 67, 0.3), 0px 1px 3px 1px rgba(60, 64, 67, 0.15);\n",
              "    fill: #174EA6;\n",
              "  }\n",
              "\n",
              "  [theme=dark] .colab-df-quickchart {\n",
              "    background-color: #3B4455;\n",
              "    fill: #D2E3FC;\n",
              "  }\n",
              "\n",
              "  [theme=dark] .colab-df-quickchart:hover {\n",
              "    background-color: #434B5C;\n",
              "    box-shadow: 0px 1px 3px 1px rgba(0, 0, 0, 0.15);\n",
              "    filter: drop-shadow(0px 1px 2px rgba(0, 0, 0, 0.3));\n",
              "    fill: #FFFFFF;\n",
              "  }\n",
              "</style>\n",
              "\n",
              "    <script>\n",
              "      async function quickchart(key) {\n",
              "        const containerElement = document.querySelector('#' + key);\n",
              "        const charts = await google.colab.kernel.invokeFunction(\n",
              "            'suggestCharts', [key], {});\n",
              "      }\n",
              "    </script>\n",
              "\n",
              "\n",
              "      <script>\n",
              "\n",
              "function displayQuickchartButton(domScope) {\n",
              "  let quickchartButtonEl =\n",
              "    domScope.querySelector('#df-6946adf7-a068-4e30-bb11-5313327f0546 button.colab-df-quickchart');\n",
              "  quickchartButtonEl.style.display =\n",
              "    google.colab.kernel.accessAllowed ? 'block' : 'none';\n",
              "}\n",
              "\n",
              "        displayQuickchartButton(document);\n",
              "      </script>\n",
              "      <style>\n",
              "    .colab-df-container {\n",
              "      display:flex;\n",
              "      flex-wrap:wrap;\n",
              "      gap: 12px;\n",
              "    }\n",
              "\n",
              "    .colab-df-convert {\n",
              "      background-color: #E8F0FE;\n",
              "      border: none;\n",
              "      border-radius: 50%;\n",
              "      cursor: pointer;\n",
              "      display: none;\n",
              "      fill: #1967D2;\n",
              "      height: 32px;\n",
              "      padding: 0 0 0 0;\n",
              "      width: 32px;\n",
              "    }\n",
              "\n",
              "    .colab-df-convert:hover {\n",
              "      background-color: #E2EBFA;\n",
              "      box-shadow: 0px 1px 2px rgba(60, 64, 67, 0.3), 0px 1px 3px 1px rgba(60, 64, 67, 0.15);\n",
              "      fill: #174EA6;\n",
              "    }\n",
              "\n",
              "    [theme=dark] .colab-df-convert {\n",
              "      background-color: #3B4455;\n",
              "      fill: #D2E3FC;\n",
              "    }\n",
              "\n",
              "    [theme=dark] .colab-df-convert:hover {\n",
              "      background-color: #434B5C;\n",
              "      box-shadow: 0px 1px 3px 1px rgba(0, 0, 0, 0.15);\n",
              "      filter: drop-shadow(0px 1px 2px rgba(0, 0, 0, 0.3));\n",
              "      fill: #FFFFFF;\n",
              "    }\n",
              "  </style>\n",
              "\n",
              "      <script>\n",
              "        const buttonEl =\n",
              "          document.querySelector('#df-8660dac6-d4df-4a09-853e-b19305e6f7a7 button.colab-df-convert');\n",
              "        buttonEl.style.display =\n",
              "          google.colab.kernel.accessAllowed ? 'block' : 'none';\n",
              "\n",
              "        async function convertToInteractive(key) {\n",
              "          const element = document.querySelector('#df-8660dac6-d4df-4a09-853e-b19305e6f7a7');\n",
              "          const dataTable =\n",
              "            await google.colab.kernel.invokeFunction('convertToInteractive',\n",
              "                                                     [key], {});\n",
              "          if (!dataTable) return;\n",
              "\n",
              "          const docLinkHtml = 'Like what you see? Visit the ' +\n",
              "            '<a target=\"_blank\" href=https://colab.research.google.com/notebooks/data_table.ipynb>data table notebook</a>'\n",
              "            + ' to learn more about interactive tables.';\n",
              "          element.innerHTML = '';\n",
              "          dataTable['output_type'] = 'display_data';\n",
              "          await google.colab.output.renderOutput(dataTable, element);\n",
              "          const docLink = document.createElement('div');\n",
              "          docLink.innerHTML = docLinkHtml;\n",
              "          element.appendChild(docLink);\n",
              "        }\n",
              "      </script>\n",
              "    </div>\n",
              "  </div>\n"
            ]
          },
          "metadata": {},
          "execution_count": 63
        }
      ],
      "source": [
        "data = pd.read_csv('LoanExport.csv')\n",
        "data.head(20)"
      ]
    },
    {
      "cell_type": "markdown",
      "source": [
        "# **Exploratory Data Analysis(EDA)**"
      ],
      "metadata": {
        "id": "a1kLFeF1mGvX"
      }
    },
    {
      "cell_type": "code",
      "execution_count": null,
      "metadata": {
        "colab": {
          "base_uri": "https://localhost:8080/"
        },
        "id": "pOzbB2hb-shz",
        "outputId": "4c4ccdbb-d2b2-44de-9240-1396eb46e392"
      },
      "outputs": [
        {
          "output_type": "stream",
          "name": "stderr",
          "text": [
            "/usr/local/lib/python3.10/dist-packages/ipykernel/ipkernel.py:283: DeprecationWarning: `should_run_async` will not call `transform_cell` automatically in the future. Please pass the result to `transformed_cell` argument and any exception that happen during thetransform in `preprocessing_exc_tuple` in IPython 7.17 and above.\n",
            "  and should_run_async(code)\n"
          ]
        },
        {
          "output_type": "stream",
          "name": "stdout",
          "text": [
            "<class 'pandas.core.frame.DataFrame'>\n",
            "RangeIndex: 291451 entries, 0 to 291450\n",
            "Data columns (total 28 columns):\n",
            " #   Column              Non-Null Count   Dtype  \n",
            "---  ------              --------------   -----  \n",
            " 0   CreditScore         291451 non-null  int64  \n",
            " 1   FirstPaymentDate    291451 non-null  int64  \n",
            " 2   FirstTimeHomebuyer  291451 non-null  object \n",
            " 3   MaturityDate        291451 non-null  int64  \n",
            " 4   MSA                 291451 non-null  object \n",
            " 5   MIP                 291451 non-null  int64  \n",
            " 6   Units               291451 non-null  int64  \n",
            " 7   Occupancy           291451 non-null  object \n",
            " 8   OCLTV               291451 non-null  int64  \n",
            " 9   DTI                 291451 non-null  int64  \n",
            " 10  OrigUPB             291451 non-null  int64  \n",
            " 11  LTV                 291451 non-null  int64  \n",
            " 12  OrigInterestRate    291451 non-null  float64\n",
            " 13  Channel             291451 non-null  object \n",
            " 14  PPM                 291451 non-null  object \n",
            " 15  ProductType         291451 non-null  object \n",
            " 16  PropertyState       291451 non-null  object \n",
            " 17  PropertyType        291451 non-null  object \n",
            " 18  PostalCode          291451 non-null  object \n",
            " 19  LoanSeqNum          291451 non-null  object \n",
            " 20  LoanPurpose         291451 non-null  object \n",
            " 21  OrigLoanTerm        291451 non-null  int64  \n",
            " 22  NumBorrowers        291451 non-null  object \n",
            " 23  SellerName          266457 non-null  object \n",
            " 24  ServicerName        291451 non-null  object \n",
            " 25  EverDelinquent      291451 non-null  int64  \n",
            " 26  MonthsDelinquent    291451 non-null  int64  \n",
            " 27  MonthsInRepayment   291451 non-null  int64  \n",
            "dtypes: float64(1), int64(13), object(14)\n",
            "memory usage: 62.3+ MB\n"
          ]
        }
      ],
      "source": [
        "# Checking informations about our features\n",
        "data.info()"
      ]
    },
    {
      "cell_type": "markdown",
      "metadata": {
        "id": "dgOpkQX5p4WP"
      },
      "source": [
        "## Data Preprocessing & EDA"
      ]
    },
    {
      "cell_type": "code",
      "source": [
        "data.describe()"
      ],
      "metadata": {
        "id": "ybtrPA57V2vL"
      },
      "execution_count": null,
      "outputs": []
    },
    {
      "cell_type": "code",
      "execution_count": null,
      "metadata": {
        "colab": {
          "base_uri": "https://localhost:8080/"
        },
        "id": "f-yY0oDD-may",
        "outputId": "a10c4d53-fcda-4d7e-fb15-3bf97603a9d0"
      },
      "outputs": [
        {
          "output_type": "stream",
          "name": "stderr",
          "text": [
            "/usr/local/lib/python3.10/dist-packages/ipykernel/ipkernel.py:283: DeprecationWarning: `should_run_async` will not call `transform_cell` automatically in the future. Please pass the result to `transformed_cell` argument and any exception that happen during thetransform in `preprocessing_exc_tuple` in IPython 7.17 and above.\n",
            "  and should_run_async(code)\n"
          ]
        },
        {
          "output_type": "execute_result",
          "data": {
            "text/plain": [
              "(291451, 28)"
            ]
          },
          "metadata": {},
          "execution_count": 29
        }
      ],
      "source": [
        "data.shape"
      ]
    },
    {
      "cell_type": "code",
      "execution_count": null,
      "metadata": {
        "colab": {
          "base_uri": "https://localhost:8080/"
        },
        "outputId": "df8458f7-8325-4a5f-a22c-9e5c8cf6d47f",
        "id": "j9smiBQEvum5"
      },
      "outputs": [
        {
          "output_type": "stream",
          "name": "stderr",
          "text": [
            "/usr/local/lib/python3.10/dist-packages/ipykernel/ipkernel.py:283: DeprecationWarning: `should_run_async` will not call `transform_cell` automatically in the future. Please pass the result to `transformed_cell` argument and any exception that happen during thetransform in `preprocessing_exc_tuple` in IPython 7.17 and above.\n",
            "  and should_run_async(code)\n"
          ]
        },
        {
          "output_type": "stream",
          "name": "stdout",
          "text": [
            "<class 'pandas.core.frame.DataFrame'>\n",
            "RangeIndex: 291451 entries, 0 to 291450\n",
            "Data columns (total 28 columns):\n",
            " #   Column              Non-Null Count   Dtype  \n",
            "---  ------              --------------   -----  \n",
            " 0   CreditScore         291451 non-null  int64  \n",
            " 1   FirstPaymentDate    291451 non-null  int64  \n",
            " 2   FirstTimeHomebuyer  291451 non-null  object \n",
            " 3   MaturityDate        291451 non-null  int64  \n",
            " 4   MSA                 291451 non-null  object \n",
            " 5   MIP                 291451 non-null  int64  \n",
            " 6   Units               291451 non-null  int64  \n",
            " 7   Occupancy           291451 non-null  object \n",
            " 8   OCLTV               291451 non-null  int64  \n",
            " 9   DTI                 291451 non-null  int64  \n",
            " 10  OrigUPB             291451 non-null  int64  \n",
            " 11  LTV                 291451 non-null  int64  \n",
            " 12  OrigInterestRate    291451 non-null  float64\n",
            " 13  Channel             291451 non-null  object \n",
            " 14  PPM                 291451 non-null  object \n",
            " 15  ProductType         291451 non-null  object \n",
            " 16  PropertyState       291451 non-null  object \n",
            " 17  PropertyType        291451 non-null  object \n",
            " 18  PostalCode          291451 non-null  object \n",
            " 19  LoanSeqNum          291451 non-null  object \n",
            " 20  LoanPurpose         291451 non-null  object \n",
            " 21  OrigLoanTerm        291451 non-null  int64  \n",
            " 22  NumBorrowers        291451 non-null  object \n",
            " 23  SellerName          266457 non-null  object \n",
            " 24  ServicerName        291451 non-null  object \n",
            " 25  EverDelinquent      291451 non-null  int64  \n",
            " 26  MonthsDelinquent    291451 non-null  int64  \n",
            " 27  MonthsInRepayment   291451 non-null  int64  \n",
            "dtypes: float64(1), int64(13), object(14)\n",
            "memory usage: 62.3+ MB\n"
          ]
        }
      ],
      "source": [
        "# Checking informations about our features\n",
        "data.info()"
      ]
    },
    {
      "cell_type": "markdown",
      "source": [
        "# 1. Data Cleaning"
      ],
      "metadata": {
        "id": "szZEdq05hyoG"
      }
    },
    {
      "cell_type": "markdown",
      "source": [
        "## Missing values treatment"
      ],
      "metadata": {
        "id": "yLxqzfPkhsgu"
      }
    },
    {
      "cell_type": "code",
      "execution_count": null,
      "metadata": {
        "colab": {
          "base_uri": "https://localhost:8080/"
        },
        "id": "UzUbp1tDKtNz",
        "outputId": "a587f73b-5d52-456d-a71e-3c3b3107e60d"
      },
      "outputs": [
        {
          "output_type": "stream",
          "name": "stderr",
          "text": [
            "/usr/local/lib/python3.10/dist-packages/ipykernel/ipkernel.py:283: DeprecationWarning: `should_run_async` will not call `transform_cell` automatically in the future. Please pass the result to `transformed_cell` argument and any exception that happen during thetransform in `preprocessing_exc_tuple` in IPython 7.17 and above.\n",
            "  and should_run_async(code)\n"
          ]
        },
        {
          "output_type": "execute_result",
          "data": {
            "text/plain": [
              "CreditScore               0\n",
              "FirstPaymentDate          0\n",
              "FirstTimeHomebuyer        0\n",
              "MaturityDate              0\n",
              "MSA                       0\n",
              "MIP                       0\n",
              "Units                     0\n",
              "Occupancy                 0\n",
              "OCLTV                     0\n",
              "DTI                       0\n",
              "OrigUPB                   0\n",
              "LTV                       0\n",
              "OrigInterestRate          0\n",
              "Channel                   0\n",
              "PPM                       0\n",
              "ProductType               0\n",
              "PropertyState             0\n",
              "PropertyType              0\n",
              "PostalCode                0\n",
              "LoanSeqNum                0\n",
              "LoanPurpose               0\n",
              "OrigLoanTerm              0\n",
              "NumBorrowers              0\n",
              "SellerName            24994\n",
              "ServicerName              0\n",
              "EverDelinquent            0\n",
              "MonthsDelinquent          0\n",
              "MonthsInRepayment         0\n",
              "dtype: int64"
            ]
          },
          "metadata": {},
          "execution_count": 31
        }
      ],
      "source": [
        "# Checking for missing values\n",
        "data.isnull().sum()"
      ]
    },
    {
      "cell_type": "markdown",
      "source": [
        "We see that according to the isnull() function, only \"SellerName\" has missing values.\n",
        "However we'll look at the variable description to make sure that others columns don't have missing values."
      ],
      "metadata": {
        "id": "2AUabSsah8B3"
      }
    },
    {
      "cell_type": "code",
      "execution_count": null,
      "metadata": {
        "colab": {
          "base_uri": "https://localhost:8080/"
        },
        "id": "NGCefNIodEH3",
        "outputId": "81b6fba5-9d78-4b4c-e76f-3ce2f6affccc"
      },
      "outputs": [
        {
          "output_type": "stream",
          "name": "stderr",
          "text": [
            "/usr/local/lib/python3.10/dist-packages/ipykernel/ipkernel.py:283: DeprecationWarning: `should_run_async` will not call `transform_cell` automatically in the future. Please pass the result to `transformed_cell` argument and any exception that happen during thetransform in `preprocessing_exc_tuple` in IPython 7.17 and above.\n",
            "  and should_run_async(code)\n"
          ]
        },
        {
          "output_type": "execute_result",
          "data": {
            "text/plain": [
              "CreditScore             int64\n",
              "FirstPaymentDate        int64\n",
              "FirstTimeHomebuyer     object\n",
              "MaturityDate            int64\n",
              "MSA                    object\n",
              "MIP                     int64\n",
              "Units                   int64\n",
              "Occupancy              object\n",
              "OCLTV                   int64\n",
              "DTI                     int64\n",
              "OrigUPB                 int64\n",
              "LTV                     int64\n",
              "OrigInterestRate      float64\n",
              "Channel                object\n",
              "PPM                    object\n",
              "ProductType            object\n",
              "PropertyState          object\n",
              "PropertyType           object\n",
              "PostalCode             object\n",
              "LoanSeqNum             object\n",
              "LoanPurpose            object\n",
              "OrigLoanTerm            int64\n",
              "NumBorrowers           object\n",
              "SellerName             object\n",
              "ServicerName           object\n",
              "EverDelinquent          int64\n",
              "MonthsDelinquent        int64\n",
              "MonthsInRepayment       int64\n",
              "dtype: object"
            ]
          },
          "metadata": {},
          "execution_count": 32
        }
      ],
      "source": [
        "#Check if there's any categorical features in our data\n",
        "data.dtypes"
      ]
    },
    {
      "cell_type": "markdown",
      "source": [
        "###  MaturityDate:\n"
      ],
      "metadata": {
        "id": "BE7aLdZbjN11"
      }
    },
    {
      "cell_type": "code",
      "execution_count": null,
      "metadata": {
        "id": "sole8BO5_XPi",
        "colab": {
          "base_uri": "https://localhost:8080/"
        },
        "outputId": "0bf4da4e-d28d-4fe4-8d8c-15fef7088300"
      },
      "outputs": [
        {
          "output_type": "stream",
          "name": "stderr",
          "text": [
            "/usr/local/lib/python3.10/dist-packages/ipykernel/ipkernel.py:283: DeprecationWarning: `should_run_async` will not call `transform_cell` automatically in the future. Please pass the result to `transformed_cell` argument and any exception that happen during thetransform in `preprocessing_exc_tuple` in IPython 7.17 and above.\n",
            "  and should_run_async(code)\n"
          ]
        }
      ],
      "source": [
        "# Convert date feature to datetime format\n",
        "data['MaturityDate'] = data['MaturityDate'].apply(lambda x: pd.to_datetime(str(x), format='%Y%m'))"
      ]
    },
    {
      "cell_type": "markdown",
      "source": [
        "###  FirstPaymentDate :\n"
      ],
      "metadata": {
        "id": "NRzoDkLPjN1v"
      }
    },
    {
      "cell_type": "code",
      "execution_count": null,
      "metadata": {
        "id": "rnrnbhAE_6Em",
        "colab": {
          "base_uri": "https://localhost:8080/"
        },
        "outputId": "60d75ccb-c019-4a03-a800-73663e62252c"
      },
      "outputs": [
        {
          "output_type": "stream",
          "name": "stderr",
          "text": [
            "/usr/local/lib/python3.10/dist-packages/ipykernel/ipkernel.py:283: DeprecationWarning: `should_run_async` will not call `transform_cell` automatically in the future. Please pass the result to `transformed_cell` argument and any exception that happen during thetransform in `preprocessing_exc_tuple` in IPython 7.17 and above.\n",
            "  and should_run_async(code)\n"
          ]
        }
      ],
      "source": [
        "data['FirstPaymentDate'] = data['FirstPaymentDate'].apply(lambda x: pd.to_datetime(str(x), format='%Y%m'))"
      ]
    },
    {
      "cell_type": "code",
      "execution_count": null,
      "metadata": {
        "colab": {
          "base_uri": "https://localhost:8080/"
        },
        "id": "StqQy_Ka_pyT",
        "outputId": "a1c9d24d-756d-4207-a9d5-be3e02d9a2e2"
      },
      "outputs": [
        {
          "output_type": "stream",
          "name": "stderr",
          "text": [
            "/usr/local/lib/python3.10/dist-packages/ipykernel/ipkernel.py:283: DeprecationWarning: `should_run_async` will not call `transform_cell` automatically in the future. Please pass the result to `transformed_cell` argument and any exception that happen during thetransform in `preprocessing_exc_tuple` in IPython 7.17 and above.\n",
            "  and should_run_async(code)\n"
          ]
        },
        {
          "output_type": "stream",
          "name": "stdout",
          "text": [
            "<class 'pandas.core.frame.DataFrame'>\n",
            "RangeIndex: 291451 entries, 0 to 291450\n",
            "Data columns (total 28 columns):\n",
            " #   Column              Non-Null Count   Dtype         \n",
            "---  ------              --------------   -----         \n",
            " 0   CreditScore         291451 non-null  int64         \n",
            " 1   FirstPaymentDate    291451 non-null  datetime64[ns]\n",
            " 2   FirstTimeHomebuyer  291451 non-null  object        \n",
            " 3   MaturityDate        291451 non-null  datetime64[ns]\n",
            " 4   MSA                 291451 non-null  object        \n",
            " 5   MIP                 291451 non-null  int64         \n",
            " 6   Units               291451 non-null  int64         \n",
            " 7   Occupancy           291451 non-null  object        \n",
            " 8   OCLTV               291451 non-null  int64         \n",
            " 9   DTI                 291451 non-null  int64         \n",
            " 10  OrigUPB             291451 non-null  int64         \n",
            " 11  LTV                 291451 non-null  int64         \n",
            " 12  OrigInterestRate    291451 non-null  float64       \n",
            " 13  Channel             291451 non-null  object        \n",
            " 14  PPM                 291451 non-null  object        \n",
            " 15  ProductType         291451 non-null  object        \n",
            " 16  PropertyState       291451 non-null  object        \n",
            " 17  PropertyType        291451 non-null  object        \n",
            " 18  PostalCode          291451 non-null  object        \n",
            " 19  LoanSeqNum          291451 non-null  object        \n",
            " 20  LoanPurpose         291451 non-null  object        \n",
            " 21  OrigLoanTerm        291451 non-null  int64         \n",
            " 22  NumBorrowers        291451 non-null  object        \n",
            " 23  SellerName          266457 non-null  object        \n",
            " 24  ServicerName        291451 non-null  object        \n",
            " 25  EverDelinquent      291451 non-null  int64         \n",
            " 26  MonthsDelinquent    291451 non-null  int64         \n",
            " 27  MonthsInRepayment   291451 non-null  int64         \n",
            "dtypes: datetime64[ns](2), float64(1), int64(11), object(14)\n",
            "memory usage: 62.3+ MB\n"
          ]
        }
      ],
      "source": [
        "#Visualize the change on dtypes of features\n",
        "data.info()"
      ]
    },
    {
      "cell_type": "code",
      "execution_count": null,
      "metadata": {
        "colab": {
          "base_uri": "https://localhost:8080/",
          "height": 668
        },
        "id": "mD5vVjeMdMyK",
        "outputId": "aa575a4c-62bd-4bf6-badc-67eb2f87e288"
      },
      "outputs": [
        {
          "output_type": "stream",
          "name": "stderr",
          "text": [
            "/usr/local/lib/python3.10/dist-packages/ipykernel/ipkernel.py:283: DeprecationWarning: `should_run_async` will not call `transform_cell` automatically in the future. Please pass the result to `transformed_cell` argument and any exception that happen during thetransform in `preprocessing_exc_tuple` in IPython 7.17 and above.\n",
            "  and should_run_async(code)\n",
            "<ipython-input-36-8997d036efc4>:2: FutureWarning: Treating datetime data as categorical rather than numeric in `.describe` is deprecated and will be removed in a future version of pandas. Specify `datetime_is_numeric=True` to silence this warning and adopt the future behavior now.\n",
            "  num1_cols = data.describe(include='all')\n",
            "<ipython-input-36-8997d036efc4>:2: FutureWarning: Treating datetime data as categorical rather than numeric in `.describe` is deprecated and will be removed in a future version of pandas. Specify `datetime_is_numeric=True` to silence this warning and adopt the future behavior now.\n",
            "  num1_cols = data.describe(include='all')\n"
          ]
        },
        {
          "output_type": "execute_result",
          "data": {
            "text/plain": [
              "          CreditScore     FirstPaymentDate FirstTimeHomebuyer  \\\n",
              "count   291451.000000               291451             291451   \n",
              "unique            NaN                   66                  3   \n",
              "top               NaN  1999-05-01 00:00:00                  N   \n",
              "freq              NaN               104071             184154   \n",
              "first             NaN  1999-01-01 00:00:00                NaN   \n",
              "last              NaN  2013-03-01 00:00:00                NaN   \n",
              "mean       708.936991                  NaN                NaN   \n",
              "std         68.408791                  NaN                NaN   \n",
              "min          0.000000                  NaN                NaN   \n",
              "25%        675.000000                  NaN                NaN   \n",
              "50%        717.000000                  NaN                NaN   \n",
              "75%        753.000000                  NaN                NaN   \n",
              "max        849.000000                  NaN                NaN   \n",
              "\n",
              "               MaturityDate     MSA            MIP          Units Occupancy  \\\n",
              "count                291451  291451  291451.000000  291451.000000    291451   \n",
              "unique                   96     392            NaN            NaN         3   \n",
              "top     2029-04-01 00:00:00   X                NaN            NaN         O   \n",
              "freq                 104210   39100            NaN            NaN    276131   \n",
              "first   2024-02-01 00:00:00     NaN            NaN            NaN       NaN   \n",
              "last    2043-02-01 00:00:00     NaN            NaN            NaN       NaN   \n",
              "mean                    NaN     NaN       9.216685       1.026022       NaN   \n",
              "std                     NaN     NaN      12.648273       0.202986       NaN   \n",
              "min                     NaN     NaN       0.000000       0.000000       NaN   \n",
              "25%                     NaN     NaN       0.000000       1.000000       NaN   \n",
              "50%                     NaN     NaN       0.000000       1.000000       NaN   \n",
              "75%                     NaN     NaN      25.000000       1.000000       NaN   \n",
              "max                     NaN     NaN      55.000000       4.000000       NaN   \n",
              "\n",
              "                OCLTV            DTI  ...  PostalCode    LoanSeqNum  \\\n",
              "count   291451.000000  291451.000000  ...      291451        291451   \n",
              "unique            NaN            NaN  ...        1767        291451   \n",
              "top               NaN            NaN  ...       94500  F199Q1268030   \n",
              "freq              NaN            NaN  ...        2582             1   \n",
              "first             NaN            NaN  ...         NaN           NaN   \n",
              "last              NaN            NaN  ...         NaN           NaN   \n",
              "mean        76.960529      30.033453  ...         NaN           NaN   \n",
              "std         15.236154      13.203974  ...         NaN           NaN   \n",
              "min          0.000000       0.000000  ...         NaN           NaN   \n",
              "25%         70.000000      22.000000  ...         NaN           NaN   \n",
              "50%         80.000000      31.000000  ...         NaN           NaN   \n",
              "75%         90.000000      39.000000  ...         NaN           NaN   \n",
              "max        110.000000      65.000000  ...         NaN           NaN   \n",
              "\n",
              "        LoanPurpose   OrigLoanTerm NumBorrowers SellerName  \\\n",
              "count        291451  291451.000000       291451     266457   \n",
              "unique            3            NaN            3         20   \n",
              "top               P            NaN            2         Ot   \n",
              "freq         123404            NaN       187335      76943   \n",
              "first           NaN            NaN          NaN        NaN   \n",
              "last            NaN            NaN          NaN        NaN   \n",
              "mean            NaN     359.835375          NaN        NaN   \n",
              "std             NaN       2.286939          NaN        NaN   \n",
              "min             NaN     301.000000          NaN        NaN   \n",
              "25%             NaN     360.000000          NaN        NaN   \n",
              "50%             NaN     360.000000          NaN        NaN   \n",
              "75%             NaN     360.000000          NaN        NaN   \n",
              "max             NaN     361.000000          NaN        NaN   \n",
              "\n",
              "                ServicerName EverDelinquent MonthsDelinquent MonthsInRepayment  \n",
              "count                 291451  291451.000000    291451.000000     291451.000000  \n",
              "unique                    20            NaN              NaN               NaN  \n",
              "top     Other servicers                 NaN              NaN               NaN  \n",
              "freq                   64043            NaN              NaN               NaN  \n",
              "first                    NaN            NaN              NaN               NaN  \n",
              "last                     NaN            NaN              NaN               NaN  \n",
              "mean                     NaN       0.197848         1.837729         60.805291  \n",
              "std                      NaN       0.398378         8.809392         46.142599  \n",
              "min                      NaN       0.000000         0.000000          1.000000  \n",
              "25%                      NaN       0.000000         0.000000         34.000000  \n",
              "50%                      NaN       0.000000         0.000000         48.000000  \n",
              "75%                      NaN       0.000000         0.000000         63.000000  \n",
              "max                      NaN       1.000000       180.000000        212.000000  \n",
              "\n",
              "[13 rows x 28 columns]"
            ],
            "text/html": [
              "\n",
              "  <div id=\"df-4bbafe72-1a3c-44e8-b587-f0948c6eb6ed\" class=\"colab-df-container\">\n",
              "    <div>\n",
              "<style scoped>\n",
              "    .dataframe tbody tr th:only-of-type {\n",
              "        vertical-align: middle;\n",
              "    }\n",
              "\n",
              "    .dataframe tbody tr th {\n",
              "        vertical-align: top;\n",
              "    }\n",
              "\n",
              "    .dataframe thead th {\n",
              "        text-align: right;\n",
              "    }\n",
              "</style>\n",
              "<table border=\"1\" class=\"dataframe\">\n",
              "  <thead>\n",
              "    <tr style=\"text-align: right;\">\n",
              "      <th></th>\n",
              "      <th>CreditScore</th>\n",
              "      <th>FirstPaymentDate</th>\n",
              "      <th>FirstTimeHomebuyer</th>\n",
              "      <th>MaturityDate</th>\n",
              "      <th>MSA</th>\n",
              "      <th>MIP</th>\n",
              "      <th>Units</th>\n",
              "      <th>Occupancy</th>\n",
              "      <th>OCLTV</th>\n",
              "      <th>DTI</th>\n",
              "      <th>...</th>\n",
              "      <th>PostalCode</th>\n",
              "      <th>LoanSeqNum</th>\n",
              "      <th>LoanPurpose</th>\n",
              "      <th>OrigLoanTerm</th>\n",
              "      <th>NumBorrowers</th>\n",
              "      <th>SellerName</th>\n",
              "      <th>ServicerName</th>\n",
              "      <th>EverDelinquent</th>\n",
              "      <th>MonthsDelinquent</th>\n",
              "      <th>MonthsInRepayment</th>\n",
              "    </tr>\n",
              "  </thead>\n",
              "  <tbody>\n",
              "    <tr>\n",
              "      <th>count</th>\n",
              "      <td>291451.000000</td>\n",
              "      <td>291451</td>\n",
              "      <td>291451</td>\n",
              "      <td>291451</td>\n",
              "      <td>291451</td>\n",
              "      <td>291451.000000</td>\n",
              "      <td>291451.000000</td>\n",
              "      <td>291451</td>\n",
              "      <td>291451.000000</td>\n",
              "      <td>291451.000000</td>\n",
              "      <td>...</td>\n",
              "      <td>291451</td>\n",
              "      <td>291451</td>\n",
              "      <td>291451</td>\n",
              "      <td>291451.000000</td>\n",
              "      <td>291451</td>\n",
              "      <td>266457</td>\n",
              "      <td>291451</td>\n",
              "      <td>291451.000000</td>\n",
              "      <td>291451.000000</td>\n",
              "      <td>291451.000000</td>\n",
              "    </tr>\n",
              "    <tr>\n",
              "      <th>unique</th>\n",
              "      <td>NaN</td>\n",
              "      <td>66</td>\n",
              "      <td>3</td>\n",
              "      <td>96</td>\n",
              "      <td>392</td>\n",
              "      <td>NaN</td>\n",
              "      <td>NaN</td>\n",
              "      <td>3</td>\n",
              "      <td>NaN</td>\n",
              "      <td>NaN</td>\n",
              "      <td>...</td>\n",
              "      <td>1767</td>\n",
              "      <td>291451</td>\n",
              "      <td>3</td>\n",
              "      <td>NaN</td>\n",
              "      <td>3</td>\n",
              "      <td>20</td>\n",
              "      <td>20</td>\n",
              "      <td>NaN</td>\n",
              "      <td>NaN</td>\n",
              "      <td>NaN</td>\n",
              "    </tr>\n",
              "    <tr>\n",
              "      <th>top</th>\n",
              "      <td>NaN</td>\n",
              "      <td>1999-05-01 00:00:00</td>\n",
              "      <td>N</td>\n",
              "      <td>2029-04-01 00:00:00</td>\n",
              "      <td>X</td>\n",
              "      <td>NaN</td>\n",
              "      <td>NaN</td>\n",
              "      <td>O</td>\n",
              "      <td>NaN</td>\n",
              "      <td>NaN</td>\n",
              "      <td>...</td>\n",
              "      <td>94500</td>\n",
              "      <td>F199Q1268030</td>\n",
              "      <td>P</td>\n",
              "      <td>NaN</td>\n",
              "      <td>2</td>\n",
              "      <td>Ot</td>\n",
              "      <td>Other servicers</td>\n",
              "      <td>NaN</td>\n",
              "      <td>NaN</td>\n",
              "      <td>NaN</td>\n",
              "    </tr>\n",
              "    <tr>\n",
              "      <th>freq</th>\n",
              "      <td>NaN</td>\n",
              "      <td>104071</td>\n",
              "      <td>184154</td>\n",
              "      <td>104210</td>\n",
              "      <td>39100</td>\n",
              "      <td>NaN</td>\n",
              "      <td>NaN</td>\n",
              "      <td>276131</td>\n",
              "      <td>NaN</td>\n",
              "      <td>NaN</td>\n",
              "      <td>...</td>\n",
              "      <td>2582</td>\n",
              "      <td>1</td>\n",
              "      <td>123404</td>\n",
              "      <td>NaN</td>\n",
              "      <td>187335</td>\n",
              "      <td>76943</td>\n",
              "      <td>64043</td>\n",
              "      <td>NaN</td>\n",
              "      <td>NaN</td>\n",
              "      <td>NaN</td>\n",
              "    </tr>\n",
              "    <tr>\n",
              "      <th>first</th>\n",
              "      <td>NaN</td>\n",
              "      <td>1999-01-01 00:00:00</td>\n",
              "      <td>NaN</td>\n",
              "      <td>2024-02-01 00:00:00</td>\n",
              "      <td>NaN</td>\n",
              "      <td>NaN</td>\n",
              "      <td>NaN</td>\n",
              "      <td>NaN</td>\n",
              "      <td>NaN</td>\n",
              "      <td>NaN</td>\n",
              "      <td>...</td>\n",
              "      <td>NaN</td>\n",
              "      <td>NaN</td>\n",
              "      <td>NaN</td>\n",
              "      <td>NaN</td>\n",
              "      <td>NaN</td>\n",
              "      <td>NaN</td>\n",
              "      <td>NaN</td>\n",
              "      <td>NaN</td>\n",
              "      <td>NaN</td>\n",
              "      <td>NaN</td>\n",
              "    </tr>\n",
              "    <tr>\n",
              "      <th>last</th>\n",
              "      <td>NaN</td>\n",
              "      <td>2013-03-01 00:00:00</td>\n",
              "      <td>NaN</td>\n",
              "      <td>2043-02-01 00:00:00</td>\n",
              "      <td>NaN</td>\n",
              "      <td>NaN</td>\n",
              "      <td>NaN</td>\n",
              "      <td>NaN</td>\n",
              "      <td>NaN</td>\n",
              "      <td>NaN</td>\n",
              "      <td>...</td>\n",
              "      <td>NaN</td>\n",
              "      <td>NaN</td>\n",
              "      <td>NaN</td>\n",
              "      <td>NaN</td>\n",
              "      <td>NaN</td>\n",
              "      <td>NaN</td>\n",
              "      <td>NaN</td>\n",
              "      <td>NaN</td>\n",
              "      <td>NaN</td>\n",
              "      <td>NaN</td>\n",
              "    </tr>\n",
              "    <tr>\n",
              "      <th>mean</th>\n",
              "      <td>708.936991</td>\n",
              "      <td>NaN</td>\n",
              "      <td>NaN</td>\n",
              "      <td>NaN</td>\n",
              "      <td>NaN</td>\n",
              "      <td>9.216685</td>\n",
              "      <td>1.026022</td>\n",
              "      <td>NaN</td>\n",
              "      <td>76.960529</td>\n",
              "      <td>30.033453</td>\n",
              "      <td>...</td>\n",
              "      <td>NaN</td>\n",
              "      <td>NaN</td>\n",
              "      <td>NaN</td>\n",
              "      <td>359.835375</td>\n",
              "      <td>NaN</td>\n",
              "      <td>NaN</td>\n",
              "      <td>NaN</td>\n",
              "      <td>0.197848</td>\n",
              "      <td>1.837729</td>\n",
              "      <td>60.805291</td>\n",
              "    </tr>\n",
              "    <tr>\n",
              "      <th>std</th>\n",
              "      <td>68.408791</td>\n",
              "      <td>NaN</td>\n",
              "      <td>NaN</td>\n",
              "      <td>NaN</td>\n",
              "      <td>NaN</td>\n",
              "      <td>12.648273</td>\n",
              "      <td>0.202986</td>\n",
              "      <td>NaN</td>\n",
              "      <td>15.236154</td>\n",
              "      <td>13.203974</td>\n",
              "      <td>...</td>\n",
              "      <td>NaN</td>\n",
              "      <td>NaN</td>\n",
              "      <td>NaN</td>\n",
              "      <td>2.286939</td>\n",
              "      <td>NaN</td>\n",
              "      <td>NaN</td>\n",
              "      <td>NaN</td>\n",
              "      <td>0.398378</td>\n",
              "      <td>8.809392</td>\n",
              "      <td>46.142599</td>\n",
              "    </tr>\n",
              "    <tr>\n",
              "      <th>min</th>\n",
              "      <td>0.000000</td>\n",
              "      <td>NaN</td>\n",
              "      <td>NaN</td>\n",
              "      <td>NaN</td>\n",
              "      <td>NaN</td>\n",
              "      <td>0.000000</td>\n",
              "      <td>0.000000</td>\n",
              "      <td>NaN</td>\n",
              "      <td>0.000000</td>\n",
              "      <td>0.000000</td>\n",
              "      <td>...</td>\n",
              "      <td>NaN</td>\n",
              "      <td>NaN</td>\n",
              "      <td>NaN</td>\n",
              "      <td>301.000000</td>\n",
              "      <td>NaN</td>\n",
              "      <td>NaN</td>\n",
              "      <td>NaN</td>\n",
              "      <td>0.000000</td>\n",
              "      <td>0.000000</td>\n",
              "      <td>1.000000</td>\n",
              "    </tr>\n",
              "    <tr>\n",
              "      <th>25%</th>\n",
              "      <td>675.000000</td>\n",
              "      <td>NaN</td>\n",
              "      <td>NaN</td>\n",
              "      <td>NaN</td>\n",
              "      <td>NaN</td>\n",
              "      <td>0.000000</td>\n",
              "      <td>1.000000</td>\n",
              "      <td>NaN</td>\n",
              "      <td>70.000000</td>\n",
              "      <td>22.000000</td>\n",
              "      <td>...</td>\n",
              "      <td>NaN</td>\n",
              "      <td>NaN</td>\n",
              "      <td>NaN</td>\n",
              "      <td>360.000000</td>\n",
              "      <td>NaN</td>\n",
              "      <td>NaN</td>\n",
              "      <td>NaN</td>\n",
              "      <td>0.000000</td>\n",
              "      <td>0.000000</td>\n",
              "      <td>34.000000</td>\n",
              "    </tr>\n",
              "    <tr>\n",
              "      <th>50%</th>\n",
              "      <td>717.000000</td>\n",
              "      <td>NaN</td>\n",
              "      <td>NaN</td>\n",
              "      <td>NaN</td>\n",
              "      <td>NaN</td>\n",
              "      <td>0.000000</td>\n",
              "      <td>1.000000</td>\n",
              "      <td>NaN</td>\n",
              "      <td>80.000000</td>\n",
              "      <td>31.000000</td>\n",
              "      <td>...</td>\n",
              "      <td>NaN</td>\n",
              "      <td>NaN</td>\n",
              "      <td>NaN</td>\n",
              "      <td>360.000000</td>\n",
              "      <td>NaN</td>\n",
              "      <td>NaN</td>\n",
              "      <td>NaN</td>\n",
              "      <td>0.000000</td>\n",
              "      <td>0.000000</td>\n",
              "      <td>48.000000</td>\n",
              "    </tr>\n",
              "    <tr>\n",
              "      <th>75%</th>\n",
              "      <td>753.000000</td>\n",
              "      <td>NaN</td>\n",
              "      <td>NaN</td>\n",
              "      <td>NaN</td>\n",
              "      <td>NaN</td>\n",
              "      <td>25.000000</td>\n",
              "      <td>1.000000</td>\n",
              "      <td>NaN</td>\n",
              "      <td>90.000000</td>\n",
              "      <td>39.000000</td>\n",
              "      <td>...</td>\n",
              "      <td>NaN</td>\n",
              "      <td>NaN</td>\n",
              "      <td>NaN</td>\n",
              "      <td>360.000000</td>\n",
              "      <td>NaN</td>\n",
              "      <td>NaN</td>\n",
              "      <td>NaN</td>\n",
              "      <td>0.000000</td>\n",
              "      <td>0.000000</td>\n",
              "      <td>63.000000</td>\n",
              "    </tr>\n",
              "    <tr>\n",
              "      <th>max</th>\n",
              "      <td>849.000000</td>\n",
              "      <td>NaN</td>\n",
              "      <td>NaN</td>\n",
              "      <td>NaN</td>\n",
              "      <td>NaN</td>\n",
              "      <td>55.000000</td>\n",
              "      <td>4.000000</td>\n",
              "      <td>NaN</td>\n",
              "      <td>110.000000</td>\n",
              "      <td>65.000000</td>\n",
              "      <td>...</td>\n",
              "      <td>NaN</td>\n",
              "      <td>NaN</td>\n",
              "      <td>NaN</td>\n",
              "      <td>361.000000</td>\n",
              "      <td>NaN</td>\n",
              "      <td>NaN</td>\n",
              "      <td>NaN</td>\n",
              "      <td>1.000000</td>\n",
              "      <td>180.000000</td>\n",
              "      <td>212.000000</td>\n",
              "    </tr>\n",
              "  </tbody>\n",
              "</table>\n",
              "<p>13 rows × 28 columns</p>\n",
              "</div>\n",
              "    <div class=\"colab-df-buttons\">\n",
              "\n",
              "  <div class=\"colab-df-container\">\n",
              "    <button class=\"colab-df-convert\" onclick=\"convertToInteractive('df-4bbafe72-1a3c-44e8-b587-f0948c6eb6ed')\"\n",
              "            title=\"Convert this dataframe to an interactive table.\"\n",
              "            style=\"display:none;\">\n",
              "\n",
              "  <svg xmlns=\"http://www.w3.org/2000/svg\" height=\"24px\" viewBox=\"0 -960 960 960\">\n",
              "    <path d=\"M120-120v-720h720v720H120Zm60-500h600v-160H180v160Zm220 220h160v-160H400v160Zm0 220h160v-160H400v160ZM180-400h160v-160H180v160Zm440 0h160v-160H620v160ZM180-180h160v-160H180v160Zm440 0h160v-160H620v160Z\"/>\n",
              "  </svg>\n",
              "    </button>\n",
              "\n",
              "  <style>\n",
              "    .colab-df-container {\n",
              "      display:flex;\n",
              "      gap: 12px;\n",
              "    }\n",
              "\n",
              "    .colab-df-convert {\n",
              "      background-color: #E8F0FE;\n",
              "      border: none;\n",
              "      border-radius: 50%;\n",
              "      cursor: pointer;\n",
              "      display: none;\n",
              "      fill: #1967D2;\n",
              "      height: 32px;\n",
              "      padding: 0 0 0 0;\n",
              "      width: 32px;\n",
              "    }\n",
              "\n",
              "    .colab-df-convert:hover {\n",
              "      background-color: #E2EBFA;\n",
              "      box-shadow: 0px 1px 2px rgba(60, 64, 67, 0.3), 0px 1px 3px 1px rgba(60, 64, 67, 0.15);\n",
              "      fill: #174EA6;\n",
              "    }\n",
              "\n",
              "    .colab-df-buttons div {\n",
              "      margin-bottom: 4px;\n",
              "    }\n",
              "\n",
              "    [theme=dark] .colab-df-convert {\n",
              "      background-color: #3B4455;\n",
              "      fill: #D2E3FC;\n",
              "    }\n",
              "\n",
              "    [theme=dark] .colab-df-convert:hover {\n",
              "      background-color: #434B5C;\n",
              "      box-shadow: 0px 1px 3px 1px rgba(0, 0, 0, 0.15);\n",
              "      filter: drop-shadow(0px 1px 2px rgba(0, 0, 0, 0.3));\n",
              "      fill: #FFFFFF;\n",
              "    }\n",
              "  </style>\n",
              "\n",
              "    <script>\n",
              "      const buttonEl =\n",
              "        document.querySelector('#df-4bbafe72-1a3c-44e8-b587-f0948c6eb6ed button.colab-df-convert');\n",
              "      buttonEl.style.display =\n",
              "        google.colab.kernel.accessAllowed ? 'block' : 'none';\n",
              "\n",
              "      async function convertToInteractive(key) {\n",
              "        const element = document.querySelector('#df-4bbafe72-1a3c-44e8-b587-f0948c6eb6ed');\n",
              "        const dataTable =\n",
              "          await google.colab.kernel.invokeFunction('convertToInteractive',\n",
              "                                                    [key], {});\n",
              "        if (!dataTable) return;\n",
              "\n",
              "        const docLinkHtml = 'Like what you see? Visit the ' +\n",
              "          '<a target=\"_blank\" href=https://colab.research.google.com/notebooks/data_table.ipynb>data table notebook</a>'\n",
              "          + ' to learn more about interactive tables.';\n",
              "        element.innerHTML = '';\n",
              "        dataTable['output_type'] = 'display_data';\n",
              "        await google.colab.output.renderOutput(dataTable, element);\n",
              "        const docLink = document.createElement('div');\n",
              "        docLink.innerHTML = docLinkHtml;\n",
              "        element.appendChild(docLink);\n",
              "      }\n",
              "    </script>\n",
              "  </div>\n",
              "\n",
              "\n",
              "<div id=\"df-ee0b4d7c-77e9-4ca5-be2e-0c4a37507bbb\">\n",
              "  <button class=\"colab-df-quickchart\" onclick=\"quickchart('df-ee0b4d7c-77e9-4ca5-be2e-0c4a37507bbb')\"\n",
              "            title=\"Suggest charts.\"\n",
              "            style=\"display:none;\">\n",
              "\n",
              "<svg xmlns=\"http://www.w3.org/2000/svg\" height=\"24px\"viewBox=\"0 0 24 24\"\n",
              "     width=\"24px\">\n",
              "    <g>\n",
              "        <path d=\"M19 3H5c-1.1 0-2 .9-2 2v14c0 1.1.9 2 2 2h14c1.1 0 2-.9 2-2V5c0-1.1-.9-2-2-2zM9 17H7v-7h2v7zm4 0h-2V7h2v10zm4 0h-2v-4h2v4z\"/>\n",
              "    </g>\n",
              "</svg>\n",
              "  </button>\n",
              "\n",
              "<style>\n",
              "  .colab-df-quickchart {\n",
              "    background-color: #E8F0FE;\n",
              "    border: none;\n",
              "    border-radius: 50%;\n",
              "    cursor: pointer;\n",
              "    display: none;\n",
              "    fill: #1967D2;\n",
              "    height: 32px;\n",
              "    padding: 0 0 0 0;\n",
              "    width: 32px;\n",
              "  }\n",
              "\n",
              "  .colab-df-quickchart:hover {\n",
              "    background-color: #E2EBFA;\n",
              "    box-shadow: 0px 1px 2px rgba(60, 64, 67, 0.3), 0px 1px 3px 1px rgba(60, 64, 67, 0.15);\n",
              "    fill: #174EA6;\n",
              "  }\n",
              "\n",
              "  [theme=dark] .colab-df-quickchart {\n",
              "    background-color: #3B4455;\n",
              "    fill: #D2E3FC;\n",
              "  }\n",
              "\n",
              "  [theme=dark] .colab-df-quickchart:hover {\n",
              "    background-color: #434B5C;\n",
              "    box-shadow: 0px 1px 3px 1px rgba(0, 0, 0, 0.15);\n",
              "    filter: drop-shadow(0px 1px 2px rgba(0, 0, 0, 0.3));\n",
              "    fill: #FFFFFF;\n",
              "  }\n",
              "</style>\n",
              "\n",
              "  <script>\n",
              "    async function quickchart(key) {\n",
              "      const charts = await google.colab.kernel.invokeFunction(\n",
              "          'suggestCharts', [key], {});\n",
              "    }\n",
              "    (() => {\n",
              "      let quickchartButtonEl =\n",
              "        document.querySelector('#df-ee0b4d7c-77e9-4ca5-be2e-0c4a37507bbb button');\n",
              "      quickchartButtonEl.style.display =\n",
              "        google.colab.kernel.accessAllowed ? 'block' : 'none';\n",
              "    })();\n",
              "  </script>\n",
              "</div>\n",
              "    </div>\n",
              "  </div>\n"
            ]
          },
          "metadata": {},
          "execution_count": 36
        }
      ],
      "source": [
        "#View description of all of our features\n",
        "num1_cols = data.describe(include='all')\n",
        "num1_cols"
      ]
    },
    {
      "cell_type": "code",
      "execution_count": null,
      "metadata": {
        "colab": {
          "base_uri": "https://localhost:8080/"
        },
        "id": "RbmH5sF9SA8G",
        "outputId": "17f7fc77-5521-4c22-a2bd-e1c3d7152886"
      },
      "outputs": [
        {
          "output_type": "stream",
          "name": "stderr",
          "text": [
            "/usr/local/lib/python3.10/dist-packages/ipykernel/ipkernel.py:283: DeprecationWarning: `should_run_async` will not call `transform_cell` automatically in the future. Please pass the result to `transformed_cell` argument and any exception that happen during thetransform in `preprocessing_exc_tuple` in IPython 7.17 and above.\n",
            "  and should_run_async(code)\n"
          ]
        },
        {
          "output_type": "execute_result",
          "data": {
            "text/plain": [
              "CreditScore              370\n",
              "FirstPaymentDate          66\n",
              "FirstTimeHomebuyer         3\n",
              "MaturityDate              96\n",
              "MSA                      392\n",
              "MIP                       37\n",
              "Units                      5\n",
              "Occupancy                  3\n",
              "OCLTV                    102\n",
              "DTI                       66\n",
              "OrigUPB                  375\n",
              "LTV                       97\n",
              "OrigInterestRate         254\n",
              "Channel                    4\n",
              "PPM                        3\n",
              "ProductType                1\n",
              "PropertyState             53\n",
              "PropertyType               7\n",
              "PostalCode              1767\n",
              "LoanSeqNum            291451\n",
              "LoanPurpose                3\n",
              "OrigLoanTerm              61\n",
              "NumBorrowers               3\n",
              "SellerName                20\n",
              "ServicerName              20\n",
              "EverDelinquent             2\n",
              "MonthsDelinquent         174\n",
              "MonthsInRepayment        212\n",
              "dtype: int64"
            ]
          },
          "metadata": {},
          "execution_count": 37
        }
      ],
      "source": [
        "#Count number of distinct elements in axis 0.\n",
        "data.nunique()"
      ]
    },
    {
      "cell_type": "code",
      "execution_count": null,
      "metadata": {
        "colab": {
          "base_uri": "https://localhost:8080/"
        },
        "id": "L0ilqVZ0SNfT",
        "outputId": "b9992ae7-7542-43bf-fbf8-7e6ac01c5edd"
      },
      "outputs": [
        {
          "output_type": "stream",
          "name": "stderr",
          "text": [
            "/usr/local/lib/python3.10/dist-packages/ipykernel/ipkernel.py:283: DeprecationWarning: `should_run_async` will not call `transform_cell` automatically in the future. Please pass the result to `transformed_cell` argument and any exception that happen during thetransform in `preprocessing_exc_tuple` in IPython 7.17 and above.\n",
            "  and should_run_async(code)\n"
          ]
        },
        {
          "output_type": "execute_result",
          "data": {
            "text/plain": [
              "0    233788\n",
              "1     57663\n",
              "Name: EverDelinquent, dtype: int64"
            ]
          },
          "metadata": {},
          "execution_count": 38
        }
      ],
      "source": [
        "data[\"EverDelinquent\"].value_counts()"
      ]
    },
    {
      "cell_type": "code",
      "execution_count": null,
      "metadata": {
        "colab": {
          "base_uri": "https://localhost:8080/"
        },
        "id": "ruJYSsQ6SPyE",
        "outputId": "63b2651f-62b8-4b96-d5e7-80f418374e9e"
      },
      "outputs": [
        {
          "output_type": "stream",
          "name": "stdout",
          "text": [
            "Seller Name size: \n",
            " Ot    76943\n",
            "CO    34479\n",
            "FL    25573\n",
            "FI    24581\n",
            "ST    22243\n",
            "NO    16184\n",
            "OL     7776\n",
            "PR     7365\n",
            "BA     7093\n",
            "GM     6566\n",
            "BI     6407\n",
            "G      4734\n",
            "CH     4599\n",
            "CR     4459\n",
            "FT     4105\n",
            "WA     3139\n",
            "AC     3076\n",
            "HO     2970\n",
            "PN     2407\n",
            "RE     1758\n",
            "Name: SellerName, dtype: int64 \n",
            "\n",
            "\n"
          ]
        },
        {
          "output_type": "stream",
          "name": "stderr",
          "text": [
            "/usr/local/lib/python3.10/dist-packages/ipykernel/ipkernel.py:283: DeprecationWarning: `should_run_async` will not call `transform_cell` automatically in the future. Please pass the result to `transformed_cell` argument and any exception that happen during thetransform in `preprocessing_exc_tuple` in IPython 7.17 and above.\n",
            "  and should_run_async(code)\n"
          ]
        }
      ],
      "source": [
        "print(\"Seller Name size: \\n\",data.SellerName.value_counts(),\"\\n\\n\")"
      ]
    },
    {
      "cell_type": "code",
      "execution_count": null,
      "metadata": {
        "colab": {
          "base_uri": "https://localhost:8080/"
        },
        "id": "0K15FYsXA6F-",
        "outputId": "c9ad78fd-3d36-442b-aeb8-d9c8afda7396"
      },
      "outputs": [
        {
          "output_type": "stream",
          "name": "stderr",
          "text": [
            "/usr/local/lib/python3.10/dist-packages/ipykernel/ipkernel.py:283: DeprecationWarning: `should_run_async` will not call `transform_cell` automatically in the future. Please pass the result to `transformed_cell` argument and any exception that happen during thetransform in `preprocessing_exc_tuple` in IPython 7.17 and above.\n",
            "  and should_run_async(code)\n"
          ]
        },
        {
          "output_type": "execute_result",
          "data": {
            "text/plain": [
              "array(['N', 'X', 'Y'], dtype=object)"
            ]
          },
          "metadata": {},
          "execution_count": 40
        }
      ],
      "source": [
        "#Return unique values based on a hash table.\n",
        "data['FirstTimeHomebuyer'].unique()"
      ]
    },
    {
      "cell_type": "code",
      "execution_count": null,
      "metadata": {
        "id": "bPPdt4c2p4WV",
        "colab": {
          "base_uri": "https://localhost:8080/"
        },
        "outputId": "d46e8788-2bc1-409c-e6fe-58d56816fa36"
      },
      "outputs": [
        {
          "output_type": "stream",
          "name": "stderr",
          "text": [
            "/usr/local/lib/python3.10/dist-packages/ipykernel/ipkernel.py:283: DeprecationWarning: `should_run_async` will not call `transform_cell` automatically in the future. Please pass the result to `transformed_cell` argument and any exception that happen during thetransform in `preprocessing_exc_tuple` in IPython 7.17 and above.\n",
            "  and should_run_async(code)\n"
          ]
        }
      ],
      "source": [
        "# X means No\n",
        "# Y means Yes\n",
        "# X means Unknown value"
      ]
    },
    {
      "cell_type": "markdown",
      "source": [
        "#PPM (Prepayment Penalty Indicator):"
      ],
      "metadata": {
        "id": "XV18wPn_gJOz"
      }
    },
    {
      "cell_type": "code",
      "execution_count": null,
      "metadata": {
        "colab": {
          "base_uri": "https://localhost:8080/"
        },
        "id": "wMgHszorEcm1",
        "outputId": "56e8340b-88b0-400c-ad24-8e485205899e"
      },
      "outputs": [
        {
          "output_type": "stream",
          "name": "stderr",
          "text": [
            "/usr/local/lib/python3.10/dist-packages/ipykernel/ipkernel.py:283: DeprecationWarning: `should_run_async` will not call `transform_cell` automatically in the future. Please pass the result to `transformed_cell` argument and any exception that happen during thetransform in `preprocessing_exc_tuple` in IPython 7.17 and above.\n",
            "  and should_run_async(code)\n"
          ]
        },
        {
          "output_type": "execute_result",
          "data": {
            "text/plain": [
              "array(['N', 'X', 'Y'], dtype=object)"
            ]
          },
          "metadata": {},
          "execution_count": 42
        }
      ],
      "source": [
        "data['PPM'].unique()"
      ]
    },
    {
      "cell_type": "code",
      "execution_count": null,
      "metadata": {
        "colab": {
          "base_uri": "https://localhost:8080/"
        },
        "id": "DemQQBuEE2ly",
        "outputId": "25c5a3d6-caa3-4378-b0b6-662cb598a341"
      },
      "outputs": [
        {
          "output_type": "stream",
          "name": "stderr",
          "text": [
            "/usr/local/lib/python3.10/dist-packages/ipykernel/ipkernel.py:283: DeprecationWarning: `should_run_async` will not call `transform_cell` automatically in the future. Please pass the result to `transformed_cell` argument and any exception that happen during thetransform in `preprocessing_exc_tuple` in IPython 7.17 and above.\n",
            "  and should_run_async(code)\n"
          ]
        },
        {
          "output_type": "execute_result",
          "data": {
            "text/plain": [
              "array(['2', '1', 'X '], dtype=object)"
            ]
          },
          "metadata": {},
          "execution_count": 43
        }
      ],
      "source": [
        "data['NumBorrowers'].unique()\n",
        "# X  means unknown value"
      ]
    },
    {
      "cell_type": "code",
      "execution_count": null,
      "metadata": {
        "colab": {
          "base_uri": "https://localhost:8080/",
          "height": 1000
        },
        "id": "9bfZP-ZrT2gZ",
        "outputId": "167db80d-94bf-44ef-cd1a-64d36b1ec15f"
      },
      "outputs": [
        {
          "output_type": "stream",
          "name": "stderr",
          "text": [
            "/usr/local/lib/python3.10/dist-packages/ipykernel/ipkernel.py:283: DeprecationWarning: `should_run_async` will not call `transform_cell` automatically in the future. Please pass the result to `transformed_cell` argument and any exception that happen during thetransform in `preprocessing_exc_tuple` in IPython 7.17 and above.\n",
            "  and should_run_async(code)\n",
            "<frozen importlib._bootstrap>:914: ImportWarning: APICoreClientInfoImportHook.find_spec() not found; falling back to find_module()\n",
            "<frozen importlib._bootstrap>:914: ImportWarning: _PyDriveImportHook.find_spec() not found; falling back to find_module()\n",
            "<frozen importlib._bootstrap>:914: ImportWarning: _OpenCVImportHook.find_spec() not found; falling back to find_module()\n",
            "<frozen importlib._bootstrap>:914: ImportWarning: _BokehImportHook.find_spec() not found; falling back to find_module()\n",
            "<frozen importlib._bootstrap>:914: ImportWarning: _AltairImportHook.find_spec() not found; falling back to find_module()\n",
            "<frozen importlib._bootstrap>:914: ImportWarning: APICoreClientInfoImportHook.find_spec() not found; falling back to find_module()\n",
            "<frozen importlib._bootstrap>:914: ImportWarning: _PyDriveImportHook.find_spec() not found; falling back to find_module()\n",
            "<frozen importlib._bootstrap>:914: ImportWarning: _OpenCVImportHook.find_spec() not found; falling back to find_module()\n",
            "<frozen importlib._bootstrap>:914: ImportWarning: _BokehImportHook.find_spec() not found; falling back to find_module()\n",
            "<frozen importlib._bootstrap>:914: ImportWarning: _AltairImportHook.find_spec() not found; falling back to find_module()\n",
            "<frozen importlib._bootstrap>:914: ImportWarning: APICoreClientInfoImportHook.find_spec() not found; falling back to find_module()\n",
            "<frozen importlib._bootstrap>:914: ImportWarning: _PyDriveImportHook.find_spec() not found; falling back to find_module()\n",
            "<frozen importlib._bootstrap>:914: ImportWarning: _OpenCVImportHook.find_spec() not found; falling back to find_module()\n",
            "<frozen importlib._bootstrap>:914: ImportWarning: _BokehImportHook.find_spec() not found; falling back to find_module()\n",
            "<frozen importlib._bootstrap>:914: ImportWarning: _AltairImportHook.find_spec() not found; falling back to find_module()\n",
            "<frozen importlib._bootstrap>:914: ImportWarning: APICoreClientInfoImportHook.find_spec() not found; falling back to find_module()\n",
            "<frozen importlib._bootstrap>:914: ImportWarning: _PyDriveImportHook.find_spec() not found; falling back to find_module()\n",
            "<frozen importlib._bootstrap>:914: ImportWarning: _OpenCVImportHook.find_spec() not found; falling back to find_module()\n",
            "<frozen importlib._bootstrap>:914: ImportWarning: _BokehImportHook.find_spec() not found; falling back to find_module()\n",
            "<frozen importlib._bootstrap>:914: ImportWarning: _AltairImportHook.find_spec() not found; falling back to find_module()\n",
            "<frozen importlib._bootstrap>:914: ImportWarning: APICoreClientInfoImportHook.find_spec() not found; falling back to find_module()\n",
            "<frozen importlib._bootstrap>:914: ImportWarning: _PyDriveImportHook.find_spec() not found; falling back to find_module()\n",
            "<frozen importlib._bootstrap>:914: ImportWarning: _OpenCVImportHook.find_spec() not found; falling back to find_module()\n",
            "<frozen importlib._bootstrap>:914: ImportWarning: _BokehImportHook.find_spec() not found; falling back to find_module()\n",
            "<frozen importlib._bootstrap>:914: ImportWarning: _AltairImportHook.find_spec() not found; falling back to find_module()\n",
            "<frozen importlib._bootstrap>:914: ImportWarning: APICoreClientInfoImportHook.find_spec() not found; falling back to find_module()\n",
            "<frozen importlib._bootstrap>:914: ImportWarning: _PyDriveImportHook.find_spec() not found; falling back to find_module()\n",
            "<frozen importlib._bootstrap>:914: ImportWarning: _OpenCVImportHook.find_spec() not found; falling back to find_module()\n",
            "<frozen importlib._bootstrap>:914: ImportWarning: _BokehImportHook.find_spec() not found; falling back to find_module()\n",
            "<frozen importlib._bootstrap>:914: ImportWarning: _AltairImportHook.find_spec() not found; falling back to find_module()\n",
            "<frozen importlib._bootstrap>:914: ImportWarning: APICoreClientInfoImportHook.find_spec() not found; falling back to find_module()\n",
            "<frozen importlib._bootstrap>:914: ImportWarning: _PyDriveImportHook.find_spec() not found; falling back to find_module()\n",
            "<frozen importlib._bootstrap>:914: ImportWarning: _OpenCVImportHook.find_spec() not found; falling back to find_module()\n",
            "<frozen importlib._bootstrap>:914: ImportWarning: _BokehImportHook.find_spec() not found; falling back to find_module()\n",
            "<frozen importlib._bootstrap>:914: ImportWarning: _AltairImportHook.find_spec() not found; falling back to find_module()\n",
            "<frozen importlib._bootstrap>:914: ImportWarning: APICoreClientInfoImportHook.find_spec() not found; falling back to find_module()\n",
            "<frozen importlib._bootstrap>:914: ImportWarning: _PyDriveImportHook.find_spec() not found; falling back to find_module()\n",
            "<frozen importlib._bootstrap>:914: ImportWarning: _OpenCVImportHook.find_spec() not found; falling back to find_module()\n",
            "<frozen importlib._bootstrap>:914: ImportWarning: _BokehImportHook.find_spec() not found; falling back to find_module()\n",
            "<frozen importlib._bootstrap>:914: ImportWarning: _AltairImportHook.find_spec() not found; falling back to find_module()\n"
          ]
        },
        {
          "output_type": "display_data",
          "data": {
            "text/plain": [
              "<Figure size 1000x1000 with 1 Axes>"
            ],
            "image/png": "[encoded data removed]"
          },
          "metadata": {}
        }
      ],
      "source": [
        "#draw piechart of NumBorrowers to see the distribution of its values\n",
        "label_arr=['2','1','x']\n",
        "draw_piechart('NumBorrowers',label_arr)"
      ]
    },
    {
      "cell_type": "markdown",
      "source": [
        "# Data Encoding"
      ],
      "metadata": {
        "id": "19_l1GPOjsro"
      }
    },
    {
      "cell_type": "code",
      "execution_count": null,
      "metadata": {
        "colab": {
          "base_uri": "https://localhost:8080/",
          "height": 863
        },
        "id": "-wMeRTQaS5zP",
        "outputId": "36c17ec9-b35c-4e14-f616-83f3faae0a33"
      },
      "outputs": [
        {
          "output_type": "stream",
          "name": "stderr",
          "text": [
            "/usr/local/lib/python3.10/dist-packages/ipykernel/ipkernel.py:283: DeprecationWarning: `should_run_async` will not call `transform_cell` automatically in the future. Please pass the result to `transformed_cell` argument and any exception that happen during thetransform in `preprocessing_exc_tuple` in IPython 7.17 and above.\n",
            "  and should_run_async(code)\n"
          ]
        },
        {
          "output_type": "display_data",
          "data": {
            "text/plain": [
              "<Figure size 1000x1000 with 1 Axes>"
            ],
            "image/png": "[encoded data removed]"
          },
          "metadata": {}
        }
      ],
      "source": [
        "#draw piechart of FirstTimeHomebuyer to see the distribution of its values\n",
        "\n",
        "label_arr=['NO','YES','x']\n",
        "draw_piechart('FirstTimeHomebuyer',label_arr)"
      ]
    },
    {
      "cell_type": "code",
      "execution_count": null,
      "metadata": {
        "colab": {
          "base_uri": "https://localhost:8080/",
          "height": 863
        },
        "id": "LqAeaKOWSm3A",
        "outputId": "9638a926-d363-41f5-8866-be7c1fd2085e"
      },
      "outputs": [
        {
          "output_type": "stream",
          "name": "stderr",
          "text": [
            "/usr/local/lib/python3.10/dist-packages/ipykernel/ipkernel.py:283: DeprecationWarning: `should_run_async` will not call `transform_cell` automatically in the future. Please pass the result to `transformed_cell` argument and any exception that happen during thetransform in `preprocessing_exc_tuple` in IPython 7.17 and above.\n",
            "  and should_run_async(code)\n"
          ]
        },
        {
          "output_type": "display_data",
          "data": {
            "text/plain": [
              "<Figure size 1000x1000 with 1 Axes>"
            ],
            "image/png": "[encoded data removed]"
          },
          "metadata": {}
        }
      ],
      "source": [
        "#draw piechart of PPM to see the distribution of its values\n",
        "label_arr=['NO','YES','x']\n",
        "draw_piechart('PPM',label_arr)"
      ]
    },
    {
      "cell_type": "markdown",
      "source": [
        "#Occupacy"
      ],
      "metadata": {
        "id": "NHcIWEFGw1Xl"
      }
    },
    {
      "cell_type": "code",
      "execution_count": null,
      "metadata": {
        "colab": {
          "base_uri": "https://localhost:8080/"
        },
        "id": "meHBoopHD7gr",
        "outputId": "31b4db53-3f6c-4c20-8532-072cf3edbc70"
      },
      "outputs": [
        {
          "output_type": "stream",
          "name": "stderr",
          "text": [
            "/usr/local/lib/python3.10/dist-packages/ipykernel/ipkernel.py:283: DeprecationWarning: `should_run_async` will not call `transform_cell` automatically in the future. Please pass the result to `transformed_cell` argument and any exception that happen during thetransform in `preprocessing_exc_tuple` in IPython 7.17 and above.\n",
            "  and should_run_async(code)\n"
          ]
        },
        {
          "output_type": "execute_result",
          "data": {
            "text/plain": [
              "array(['O', 'I', 'S'], dtype=object)"
            ]
          },
          "metadata": {},
          "execution_count": 47
        }
      ],
      "source": [
        "data['Occupancy'].unique()"
      ]
    },
    {
      "cell_type": "code",
      "execution_count": null,
      "metadata": {
        "colab": {
          "base_uri": "https://localhost:8080/",
          "height": 863
        },
        "id": "IWSparV0Q6p1",
        "outputId": "51c15eba-56a3-403c-fa11-f2cf098a4137"
      },
      "outputs": [
        {
          "output_type": "stream",
          "name": "stderr",
          "text": [
            "/usr/local/lib/python3.10/dist-packages/ipykernel/ipkernel.py:283: DeprecationWarning: `should_run_async` will not call `transform_cell` automatically in the future. Please pass the result to `transformed_cell` argument and any exception that happen during thetransform in `preprocessing_exc_tuple` in IPython 7.17 and above.\n",
            "  and should_run_async(code)\n"
          ]
        },
        {
          "output_type": "display_data",
          "data": {
            "text/plain": [
              "<Figure size 1000x1000 with 1 Axes>"
            ],
            "image/png": "[encoded data removed]"
          },
          "metadata": {}
        }
      ],
      "source": [
        "#draw piechart of Occupancy to see the distribution of its values\n",
        "label_arr=['O','I','S']\n",
        "draw_piechart('Occupancy',label_arr)"
      ]
    },
    {
      "cell_type": "code",
      "execution_count": null,
      "metadata": {
        "colab": {
          "base_uri": "https://localhost:8080/"
        },
        "id": "jOuG85VxdtYq",
        "outputId": "3ff4b5a4-9949-4875-9a83-cf3e71a62f99"
      },
      "outputs": [
        {
          "output_type": "stream",
          "name": "stderr",
          "text": [
            "/usr/local/lib/python3.10/dist-packages/ipykernel/ipkernel.py:283: DeprecationWarning: `should_run_async` will not call `transform_cell` automatically in the future. Please pass the result to `transformed_cell` argument and any exception that happen during thetransform in `preprocessing_exc_tuple` in IPython 7.17 and above.\n",
            "  and should_run_async(code)\n"
          ]
        },
        {
          "output_type": "execute_result",
          "data": {
            "text/plain": [
              "94500    2582\n",
              "30000    2374\n",
              "48100    2166\n",
              "85200    2155\n",
              "48000    1976\n",
              "         ... \n",
              "79500       1\n",
              "26600       1\n",
              "41400       1\n",
              "36900       1\n",
              "41300       1\n",
              "Name: PostalCode, Length: 1767, dtype: int64"
            ]
          },
          "metadata": {},
          "execution_count": 49
        }
      ],
      "source": [
        "data['PostalCode'].value_counts()"
      ]
    },
    {
      "cell_type": "code",
      "execution_count": null,
      "metadata": {
        "colab": {
          "base_uri": "https://localhost:8080/"
        },
        "id": "ECIrd-mrEQoZ",
        "outputId": "8ed350d8-2cff-4dca-9980-7fd46d86f36d"
      },
      "outputs": [
        {
          "output_type": "stream",
          "name": "stderr",
          "text": [
            "/usr/local/lib/python3.10/dist-packages/ipykernel/ipkernel.py:283: DeprecationWarning: `should_run_async` will not call `transform_cell` automatically in the future. Please pass the result to `transformed_cell` argument and any exception that happen during thetransform in `preprocessing_exc_tuple` in IPython 7.17 and above.\n",
            "  and should_run_async(code)\n"
          ]
        },
        {
          "output_type": "execute_result",
          "data": {
            "text/plain": [
              "array(['P', 'N', 'C'], dtype=object)"
            ]
          },
          "metadata": {},
          "execution_count": 50
        }
      ],
      "source": [
        "data['LoanPurpose'].unique()"
      ]
    },
    {
      "cell_type": "code",
      "execution_count": null,
      "metadata": {
        "colab": {
          "base_uri": "https://localhost:8080/"
        },
        "id": "gsngYf0kdZAx",
        "outputId": "984acee3-65da-432f-a606-1ee34ea9bf08"
      },
      "outputs": [
        {
          "output_type": "stream",
          "name": "stderr",
          "text": [
            "/usr/local/lib/python3.10/dist-packages/ipykernel/ipkernel.py:283: DeprecationWarning: `should_run_async` will not call `transform_cell` automatically in the future. Please pass the result to `transformed_cell` argument and any exception that happen during thetransform in `preprocessing_exc_tuple` in IPython 7.17 and above.\n",
            "  and should_run_async(code)\n"
          ]
        },
        {
          "output_type": "execute_result",
          "data": {
            "text/plain": [
              "P    123404\n",
              "N    110036\n",
              "C     58011\n",
              "Name: LoanPurpose, dtype: int64"
            ]
          },
          "metadata": {},
          "execution_count": 51
        }
      ],
      "source": [
        "data['LoanPurpose'].value_counts()"
      ]
    },
    {
      "cell_type": "code",
      "execution_count": null,
      "metadata": {
        "colab": {
          "base_uri": "https://localhost:8080/",
          "height": 863
        },
        "id": "4WRxqBduSKaS",
        "outputId": "ef370dde-033f-465e-dbc4-f0ecda87d15c"
      },
      "outputs": [
        {
          "output_type": "stream",
          "name": "stderr",
          "text": [
            "/usr/local/lib/python3.10/dist-packages/ipykernel/ipkernel.py:283: DeprecationWarning: `should_run_async` will not call `transform_cell` automatically in the future. Please pass the result to `transformed_cell` argument and any exception that happen during thetransform in `preprocessing_exc_tuple` in IPython 7.17 and above.\n",
            "  and should_run_async(code)\n"
          ]
        },
        {
          "output_type": "display_data",
          "data": {
            "text/plain": [
              "<Figure size 1000x1000 with 1 Axes>"
            ],
            "image/png": "[encoded data removed]"
          },
          "metadata": {}
        }
      ],
      "source": [
        "#draw piechart of LoanPurpose to see the distribution of its values\n",
        "\n",
        "label_arr=['P','N','C']\n",
        "draw_piechart('LoanPurpose',label_arr)"
      ]
    },
    {
      "cell_type": "code",
      "execution_count": null,
      "metadata": {
        "colab": {
          "base_uri": "https://localhost:8080/"
        },
        "id": "d_wNELxlEWte",
        "outputId": "d6d3f88d-c0d7-43e9-8afd-b835aa676e32"
      },
      "outputs": [
        {
          "output_type": "stream",
          "name": "stderr",
          "text": [
            "/usr/local/lib/python3.10/dist-packages/ipykernel/ipkernel.py:283: DeprecationWarning: `should_run_async` will not call `transform_cell` automatically in the future. Please pass the result to `transformed_cell` argument and any exception that happen during thetransform in `preprocessing_exc_tuple` in IPython 7.17 and above.\n",
            "  and should_run_async(code)\n"
          ]
        },
        {
          "output_type": "execute_result",
          "data": {
            "text/plain": [
              "array(['T', 'R', 'C', 'B'], dtype=object)"
            ]
          },
          "metadata": {},
          "execution_count": 53
        }
      ],
      "source": [
        "data['Channel'].unique()"
      ]
    },
    {
      "cell_type": "markdown",
      "source": [
        "#Data Encoding (Label Encoding)"
      ],
      "metadata": {
        "id": "EZ0dBq2mjgDc"
      }
    },
    {
      "cell_type": "code",
      "execution_count": null,
      "metadata": {
        "id": "NJZnxNqXHyfD",
        "colab": {
          "base_uri": "https://localhost:8080/"
        },
        "outputId": "4f0f6b1f-03bc-4add-9fb7-335206ce2aca"
      },
      "outputs": [
        {
          "output_type": "stream",
          "name": "stderr",
          "text": [
            "/usr/local/lib/python3.10/dist-packages/ipykernel/ipkernel.py:283: DeprecationWarning: `should_run_async` will not call `transform_cell` automatically in the future. Please pass the result to `transformed_cell` argument and any exception that happen during thetransform in `preprocessing_exc_tuple` in IPython 7.17 and above.\n",
            "  and should_run_async(code)\n"
          ]
        }
      ],
      "source": [
        "#Convert categorial feature to numerical one by label_encoding function defined earlier\n",
        "label_encoding('Channel')"
      ]
    },
    {
      "cell_type": "markdown",
      "source": [
        "#Property State"
      ],
      "metadata": {
        "id": "Ti74G8D61hpF"
      }
    },
    {
      "cell_type": "code",
      "execution_count": null,
      "metadata": {
        "colab": {
          "base_uri": "https://localhost:8080/"
        },
        "id": "7n-ZLN_dEkWW",
        "outputId": "415632fe-98e2-49d4-b9e7-4f723dbee57d"
      },
      "outputs": [
        {
          "output_type": "stream",
          "name": "stderr",
          "text": [
            "/usr/local/lib/python3.10/dist-packages/ipykernel/ipkernel.py:283: DeprecationWarning: `should_run_async` will not call `transform_cell` automatically in the future. Please pass the result to `transformed_cell` argument and any exception that happen during thetransform in `preprocessing_exc_tuple` in IPython 7.17 and above.\n",
            "  and should_run_async(code)\n"
          ]
        },
        {
          "output_type": "execute_result",
          "data": {
            "text/plain": [
              "array(['IL', 'CO', 'KS', 'CA', 'NJ', 'WI', 'FL', 'CT', 'GA', 'TX', 'MD',\n",
              "       'MA', 'SC', 'WY', 'NC', 'AZ', 'IN', 'MS', 'NY', 'WA', 'AR', 'VA',\n",
              "       'MN', 'LA', 'PA', 'OR', 'RI', 'UT', 'MI', 'TN', 'AL', 'MO', 'IA',\n",
              "       'NM', 'NV', 'VT', 'OH', 'NE', 'HI', 'ID', 'PR', 'DC', 'GU', 'KY',\n",
              "       'NH', 'SD', 'ME', 'MT', 'OK', 'WV', 'DE', 'ND', 'AK'], dtype=object)"
            ]
          },
          "metadata": {},
          "execution_count": 56
        }
      ],
      "source": [
        "data['PropertyState'].unique()"
      ]
    },
    {
      "cell_type": "code",
      "execution_count": null,
      "metadata": {
        "id": "c-_6nRtvIHa1",
        "colab": {
          "base_uri": "https://localhost:8080/"
        },
        "outputId": "9d34fa0d-aafe-4395-9f60-c240aaa104fd"
      },
      "outputs": [
        {
          "output_type": "stream",
          "name": "stderr",
          "text": [
            "/usr/local/lib/python3.10/dist-packages/ipykernel/ipkernel.py:283: DeprecationWarning: `should_run_async` will not call `transform_cell` automatically in the future. Please pass the result to `transformed_cell` argument and any exception that happen during thetransform in `preprocessing_exc_tuple` in IPython 7.17 and above.\n",
            "  and should_run_async(code)\n"
          ]
        }
      ],
      "source": [
        "#Convert it to numerical\n",
        "label_encoding('PropertyState')"
      ]
    },
    {
      "cell_type": "markdown",
      "source": [
        "#Property  Type"
      ],
      "metadata": {
        "id": "_SImvsvt1VWU"
      }
    },
    {
      "cell_type": "code",
      "execution_count": null,
      "metadata": {
        "colab": {
          "base_uri": "https://localhost:8080/"
        },
        "id": "6F_Nt-c2EqnJ",
        "outputId": "09dfd185-02c7-4ba5-f65b-ce12af5d0767"
      },
      "outputs": [
        {
          "output_type": "stream",
          "name": "stderr",
          "text": [
            "/usr/local/lib/python3.10/dist-packages/ipykernel/ipkernel.py:283: DeprecationWarning: `should_run_async` will not call `transform_cell` automatically in the future. Please pass the result to `transformed_cell` argument and any exception that happen during thetransform in `preprocessing_exc_tuple` in IPython 7.17 and above.\n",
            "  and should_run_async(code)\n"
          ]
        },
        {
          "output_type": "execute_result",
          "data": {
            "text/plain": [
              "array(['SF', 'PU', 'CO', 'MH', 'CP', 'LH', 'X '], dtype=object)"
            ]
          },
          "metadata": {},
          "execution_count": 59
        }
      ],
      "source": [
        "data['PropertyType'].unique()"
      ]
    },
    {
      "cell_type": "code",
      "execution_count": null,
      "metadata": {
        "id": "W6pno1ZBIKZu",
        "colab": {
          "base_uri": "https://localhost:8080/"
        },
        "outputId": "cec31074-0dfc-4f0b-8d7e-7b56d3f09c03"
      },
      "outputs": [
        {
          "output_type": "stream",
          "name": "stderr",
          "text": [
            "/usr/local/lib/python3.10/dist-packages/ipykernel/ipkernel.py:283: DeprecationWarning: `should_run_async` will not call `transform_cell` automatically in the future. Please pass the result to `transformed_cell` argument and any exception that happen during thetransform in `preprocessing_exc_tuple` in IPython 7.17 and above.\n",
            "  and should_run_async(code)\n"
          ]
        }
      ],
      "source": [
        "#Convert it to numerical\n",
        "label_encoding('PropertyType')"
      ]
    },
    {
      "cell_type": "markdown",
      "metadata": {
        "id": "ZLJSY8BGp4Wg"
      },
      "source": [
        "#Outliers"
      ]
    },
    {
      "cell_type": "code",
      "execution_count": null,
      "metadata": {
        "id": "er2hovxtI0bu",
        "scrolled": true,
        "colab": {
          "base_uri": "https://localhost:8080/",
          "height": 505
        },
        "outputId": "da04ae3b-9357-4902-f91a-2ef2a3bc7445"
      },
      "outputs": [
        {
          "output_type": "stream",
          "name": "stderr",
          "text": [
            "/usr/local/lib/python3.10/dist-packages/ipykernel/ipkernel.py:283: DeprecationWarning: `should_run_async` will not call `transform_cell` automatically in the future. Please pass the result to `transformed_cell` argument and any exception that happen during thetransform in `preprocessing_exc_tuple` in IPython 7.17 and above.\n",
            "  and should_run_async(code)\n"
          ]
        },
        {
          "output_type": "execute_result",
          "data": {
            "text/plain": [
              "<Axes: >"
            ]
          },
          "metadata": {},
          "execution_count": 66
        },
        {
          "output_type": "display_data",
          "data": {
            "text/plain": [
              "<Figure size 640x480 with 1 Axes>"
            ],
            "image/png": "[encoded data removed]"
          },
          "metadata": {}
        }
      ],
      "source": [
        "sns.boxplot(data=data,palette='rainbow',orient='h')\n",
        "#box plot to all features to show outliers"
      ]
    },
    {
      "cell_type": "code",
      "execution_count": null,
      "metadata": {
        "id": "7RzR4WlrJHiv",
        "colab": {
          "base_uri": "https://localhost:8080/",
          "height": 486
        },
        "outputId": "9bb56ced-1c29-4cc1-954c-60fd94a933fc"
      },
      "outputs": [
        {
          "output_type": "stream",
          "name": "stderr",
          "text": [
            "/usr/local/lib/python3.10/dist-packages/ipykernel/ipkernel.py:283: DeprecationWarning: `should_run_async` will not call `transform_cell` automatically in the future. Please pass the result to `transformed_cell` argument and any exception that happen during thetransform in `preprocessing_exc_tuple` in IPython 7.17 and above.\n",
            "  and should_run_async(code)\n"
          ]
        },
        {
          "output_type": "display_data",
          "data": {
            "text/plain": [
              "<Figure size 640x480 with 1 Axes>"
            ],
            "image/png": "[encoded data removed]"
          },
          "metadata": {}
        }
      ],
      "source": [
        "draw_boxplot('OrigUPB')"
      ]
    },
    {
      "cell_type": "code",
      "execution_count": null,
      "metadata": {
        "id": "-3vLyuAmJQqe",
        "colab": {
          "base_uri": "https://localhost:8080/"
        },
        "outputId": "779fb2ff-6bb2-4a83-d927-6f9fca10f3e8"
      },
      "outputs": [
        {
          "output_type": "stream",
          "name": "stderr",
          "text": [
            "/usr/local/lib/python3.10/dist-packages/ipykernel/ipkernel.py:283: DeprecationWarning: `should_run_async` will not call `transform_cell` automatically in the future. Please pass the result to `transformed_cell` argument and any exception that happen during thetransform in `preprocessing_exc_tuple` in IPython 7.17 and above.\n",
            "  and should_run_async(code)\n"
          ]
        }
      ],
      "source": [
        "#drop outliers\n",
        "upp,low=handle_outlier(data['OrigUPB'])"
      ]
    },
    {
      "cell_type": "code",
      "execution_count": null,
      "metadata": {
        "id": "VSIbeOHzO1fV",
        "colab": {
          "base_uri": "https://localhost:8080/"
        },
        "outputId": "5e1aeef9-88a6-433c-9fc3-73069d757c8d"
      },
      "outputs": [
        {
          "output_type": "stream",
          "name": "stderr",
          "text": [
            "/usr/local/lib/python3.10/dist-packages/ipykernel/ipkernel.py:283: DeprecationWarning: `should_run_async` will not call `transform_cell` automatically in the future. Please pass the result to `transformed_cell` argument and any exception that happen during thetransform in `preprocessing_exc_tuple` in IPython 7.17 and above.\n",
            "  and should_run_async(code)\n"
          ]
        }
      ],
      "source": [
        "data['OrigUPB']=np.where(data['OrigUPB']>upp,upp,data['OrigUPB'])\n",
        "data['OrigUPB']=np.where(data['OrigUPB']<low,low,data['OrigUPB'])"
      ]
    },
    {
      "cell_type": "code",
      "execution_count": null,
      "metadata": {
        "id": "QDaqK24HwURv",
        "colab": {
          "base_uri": "https://localhost:8080/",
          "height": 486
        },
        "outputId": "9b7d6905-0227-41bd-f6d0-9a7c9120cc74"
      },
      "outputs": [
        {
          "output_type": "stream",
          "name": "stderr",
          "text": [
            "/usr/local/lib/python3.10/dist-packages/ipykernel/ipkernel.py:283: DeprecationWarning: `should_run_async` will not call `transform_cell` automatically in the future. Please pass the result to `transformed_cell` argument and any exception that happen during thetransform in `preprocessing_exc_tuple` in IPython 7.17 and above.\n",
            "  and should_run_async(code)\n"
          ]
        },
        {
          "output_type": "display_data",
          "data": {
            "text/plain": [
              "<Figure size 640x480 with 1 Axes>"
            ],
            "image/png": "[encoded data removed]"
          },
          "metadata": {}
        }
      ],
      "source": [
        "draw_boxplot('Units')"
      ]
    },
    {
      "cell_type": "code",
      "execution_count": null,
      "metadata": {
        "id": "5HSmZHSVwZoP",
        "colab": {
          "base_uri": "https://localhost:8080/"
        },
        "outputId": "b50d563e-8f48-4915-af2d-af7211e56784"
      },
      "outputs": [
        {
          "output_type": "stream",
          "name": "stderr",
          "text": [
            "/usr/local/lib/python3.10/dist-packages/ipykernel/ipkernel.py:283: DeprecationWarning: `should_run_async` will not call `transform_cell` automatically in the future. Please pass the result to `transformed_cell` argument and any exception that happen during thetransform in `preprocessing_exc_tuple` in IPython 7.17 and above.\n",
            "  and should_run_async(code)\n"
          ]
        }
      ],
      "source": [
        "upper,lower=handle_outlier(data['Units'])"
      ]
    },
    {
      "cell_type": "code",
      "execution_count": null,
      "metadata": {
        "id": "Ii_tlqYmwggo",
        "colab": {
          "base_uri": "https://localhost:8080/"
        },
        "outputId": "791d7895-3359-4df4-fa86-43c6152e799f"
      },
      "outputs": [
        {
          "output_type": "stream",
          "name": "stderr",
          "text": [
            "/usr/local/lib/python3.10/dist-packages/ipykernel/ipkernel.py:283: DeprecationWarning: `should_run_async` will not call `transform_cell` automatically in the future. Please pass the result to `transformed_cell` argument and any exception that happen during thetransform in `preprocessing_exc_tuple` in IPython 7.17 and above.\n",
            "  and should_run_async(code)\n"
          ]
        }
      ],
      "source": [
        "data['Units']=np.where(data['Units']>upper,upper,data['Units'])\n",
        "data['Units']=np.where(data['Units']<lower,lower,data['Units'])"
      ]
    },
    {
      "cell_type": "code",
      "execution_count": null,
      "metadata": {
        "id": "weZz79GgwsRw",
        "colab": {
          "base_uri": "https://localhost:8080/",
          "height": 486
        },
        "outputId": "01a17165-7f59-4f6f-f836-b8c75c0894ee"
      },
      "outputs": [
        {
          "output_type": "stream",
          "name": "stderr",
          "text": [
            "/usr/local/lib/python3.10/dist-packages/ipykernel/ipkernel.py:283: DeprecationWarning: `should_run_async` will not call `transform_cell` automatically in the future. Please pass the result to `transformed_cell` argument and any exception that happen during thetransform in `preprocessing_exc_tuple` in IPython 7.17 and above.\n",
            "  and should_run_async(code)\n"
          ]
        },
        {
          "output_type": "display_data",
          "data": {
            "text/plain": [
              "<Figure size 640x480 with 1 Axes>"
            ],
            "image/png": "[encoded data removed]"
          },
          "metadata": {}
        }
      ],
      "source": [
        "draw_boxplot('OrigInterestRate')"
      ]
    },
    {
      "cell_type": "code",
      "execution_count": null,
      "metadata": {
        "id": "dlBmik5Mw3iW",
        "colab": {
          "base_uri": "https://localhost:8080/"
        },
        "outputId": "ab790f80-89e4-49fe-fcb7-6e830f0ba683"
      },
      "outputs": [
        {
          "output_type": "stream",
          "name": "stderr",
          "text": [
            "/usr/local/lib/python3.10/dist-packages/ipykernel/ipkernel.py:283: DeprecationWarning: `should_run_async` will not call `transform_cell` automatically in the future. Please pass the result to `transformed_cell` argument and any exception that happen during thetransform in `preprocessing_exc_tuple` in IPython 7.17 and above.\n",
            "  and should_run_async(code)\n"
          ]
        }
      ],
      "source": [
        "uppero,lowero=handle_outlier(data['OrigInterestRate'])"
      ]
    },
    {
      "cell_type": "code",
      "execution_count": null,
      "metadata": {
        "id": "PxPRR1ycw5Se",
        "colab": {
          "base_uri": "https://localhost:8080/"
        },
        "outputId": "cade2495-6a0d-4d0c-d4a9-3b54013a43ab"
      },
      "outputs": [
        {
          "output_type": "stream",
          "name": "stderr",
          "text": [
            "/usr/local/lib/python3.10/dist-packages/ipykernel/ipkernel.py:283: DeprecationWarning: `should_run_async` will not call `transform_cell` automatically in the future. Please pass the result to `transformed_cell` argument and any exception that happen during thetransform in `preprocessing_exc_tuple` in IPython 7.17 and above.\n",
            "  and should_run_async(code)\n"
          ]
        }
      ],
      "source": [
        "data['OrigInterestRate']=np.where(data['OrigInterestRate']>uppero,uppero,data['OrigInterestRate'])\n",
        "data['OrigInterestRate']=np.where(data['OrigInterestRate']<lowero,lowero,data['OrigInterestRate'])"
      ]
    },
    {
      "cell_type": "code",
      "execution_count": null,
      "metadata": {
        "id": "b7JcgmsCUmgA",
        "colab": {
          "base_uri": "https://localhost:8080/"
        },
        "outputId": "adfacc87-d2e1-4d60-9170-a029cf9457a2"
      },
      "outputs": [
        {
          "output_type": "stream",
          "name": "stderr",
          "text": [
            "/usr/local/lib/python3.10/dist-packages/ipykernel/ipkernel.py:283: DeprecationWarning: `should_run_async` will not call `transform_cell` automatically in the future. Please pass the result to `transformed_cell` argument and any exception that happen during thetransform in `preprocessing_exc_tuple` in IPython 7.17 and above.\n",
            "  and should_run_async(code)\n"
          ]
        },
        {
          "output_type": "stream",
          "name": "stdout",
          "text": [
            "0\n"
          ]
        }
      ],
      "source": [
        "#checking for duplicates values to drop them\n",
        "duplicate=data.duplicated()\n",
        "print(duplicate.sum())"
      ]
    },
    {
      "cell_type": "code",
      "execution_count": null,
      "metadata": {
        "id": "VSHYE1ClUS_Q",
        "colab": {
          "base_uri": "https://localhost:8080/"
        },
        "outputId": "4b419ed6-960a-490b-9cf2-b7ee6b45c9e8"
      },
      "outputs": [
        {
          "output_type": "stream",
          "name": "stderr",
          "text": [
            "/usr/local/lib/python3.10/dist-packages/ipykernel/ipkernel.py:283: DeprecationWarning: `should_run_async` will not call `transform_cell` automatically in the future. Please pass the result to `transformed_cell` argument and any exception that happen during thetransform in `preprocessing_exc_tuple` in IPython 7.17 and above.\n",
            "  and should_run_async(code)\n"
          ]
        }
      ],
      "source": [
        "data=data.drop_duplicates()"
      ]
    },
    {
      "cell_type": "code",
      "execution_count": null,
      "metadata": {
        "id": "R3zBXsw-Uh-3",
        "colab": {
          "base_uri": "https://localhost:8080/"
        },
        "outputId": "65e21e77-2d5f-420a-8278-ae31cb43fe1d"
      },
      "outputs": [
        {
          "output_type": "stream",
          "name": "stderr",
          "text": [
            "/usr/local/lib/python3.10/dist-packages/ipykernel/ipkernel.py:283: DeprecationWarning: `should_run_async` will not call `transform_cell` automatically in the future. Please pass the result to `transformed_cell` argument and any exception that happen during thetransform in `preprocessing_exc_tuple` in IPython 7.17 and above.\n",
            "  and should_run_async(code)\n"
          ]
        },
        {
          "output_type": "stream",
          "name": "stdout",
          "text": [
            "0\n"
          ]
        }
      ],
      "source": [
        "duplicate=data.duplicated()\n",
        "print(duplicate.sum())"
      ]
    },
    {
      "cell_type": "markdown",
      "source": [
        "# Data"
      ],
      "metadata": {
        "id": "M8M_DnIw2xKC"
      }
    },
    {
      "cell_type": "code",
      "execution_count": null,
      "metadata": {
        "id": "NSyQxbX1IxoX",
        "colab": {
          "base_uri": "https://localhost:8080/",
          "height": 343
        },
        "outputId": "956a7160-fb5b-4748-a087-e80fd669c9b8"
      },
      "outputs": [
        {
          "output_type": "stream",
          "name": "stderr",
          "text": [
            "/usr/local/lib/python3.10/dist-packages/ipykernel/ipkernel.py:283: DeprecationWarning:\n",
            "\n",
            "`should_run_async` will not call `transform_cell` automatically in the future. Please pass the result to `transformed_cell` argument and any exception that happen during thetransform in `preprocessing_exc_tuple` in IPython 7.17 and above.\n",
            "\n"
          ]
        },
        {
          "output_type": "execute_result",
          "data": {
            "text/plain": [
              "   CreditScore  MIP  Units  OCLTV  DTI   OrigUPB  LTV  OrigInterestRate  \\\n",
              "0            0   25    1.0     89   27  275500.0   89            7.6875   \n",
              "1            0    0    1.0     73   17  275500.0   73            7.6875   \n",
              "2            0    0    1.0     75   16  275500.0   75            7.6875   \n",
              "3            0    0    1.0     76   14  275500.0   76            7.6875   \n",
              "4            0    0    1.0     78   18  275500.0   78            7.6875   \n",
              "\n",
              "   OrigLoanTerm  EverDelinquent  MonthsDelinquent  MonthsInRepayment  \\\n",
              "0           360               0                 0                 52   \n",
              "1           360               0                 0                144   \n",
              "2           360               0                 0                 67   \n",
              "3           360               0                 0                 35   \n",
              "4           360               0                 0                 54   \n",
              "\n",
              "   LoanPurpose_C  LoanPurpose_N  LoanPurpose_P  FirstTimeHomebuyer_Y  \\\n",
              "0              0              0              1                     0   \n",
              "1              0              1              0                     0   \n",
              "2              0              1              0                     0   \n",
              "3              0              1              0                     0   \n",
              "4              0              1              0                     0   \n",
              "\n",
              "  CreditRange  LTVRange RepayRange  \n",
              "0        poor         0       high  \n",
              "1        poor         1       high  \n",
              "2        poor         2       high  \n",
              "3        poor         2       high  \n",
              "4        poor         2       high  "
            ],
            "text/html": [
              "\n",
              "\n",
              "  <div id=\"df-0b9b0131-c329-4516-bb5f-2fe86fce7885\">\n",
              "    <div class=\"colab-df-container\">\n",
              "      <div>\n",
              "<style scoped>\n",
              "    .dataframe tbody tr th:only-of-type {\n",
              "        vertical-align: middle;\n",
              "    }\n",
              "\n",
              "    .dataframe tbody tr th {\n",
              "        vertical-align: top;\n",
              "    }\n",
              "\n",
              "    .dataframe thead th {\n",
              "        text-align: right;\n",
              "    }\n",
              "</style>\n",
              "<table border=\"1\" class=\"dataframe\">\n",
              "  <thead>\n",
              "    <tr style=\"text-align: right;\">\n",
              "      <th></th>\n",
              "      <th>CreditScore</th>\n",
              "      <th>MIP</th>\n",
              "      <th>Units</th>\n",
              "      <th>OCLTV</th>\n",
              "      <th>DTI</th>\n",
              "      <th>OrigUPB</th>\n",
              "      <th>LTV</th>\n",
              "      <th>OrigInterestRate</th>\n",
              "      <th>OrigLoanTerm</th>\n",
              "      <th>EverDelinquent</th>\n",
              "      <th>MonthsDelinquent</th>\n",
              "      <th>MonthsInRepayment</th>\n",
              "      <th>LoanPurpose_C</th>\n",
              "      <th>LoanPurpose_N</th>\n",
              "      <th>LoanPurpose_P</th>\n",
              "      <th>FirstTimeHomebuyer_Y</th>\n",
              "      <th>CreditRange</th>\n",
              "      <th>LTVRange</th>\n",
              "      <th>RepayRange</th>\n",
              "    </tr>\n",
              "  </thead>\n",
              "  <tbody>\n",
              "    <tr>\n",
              "      <th>0</th>\n",
              "      <td>0</td>\n",
              "      <td>25</td>\n",
              "      <td>1.0</td>\n",
              "      <td>89</td>\n",
              "      <td>27</td>\n",
              "      <td>275500.0</td>\n",
              "      <td>89</td>\n",
              "      <td>7.6875</td>\n",
              "      <td>360</td>\n",
              "      <td>0</td>\n",
              "      <td>0</td>\n",
              "      <td>52</td>\n",
              "      <td>0</td>\n",
              "      <td>0</td>\n",
              "      <td>1</td>\n",
              "      <td>0</td>\n",
              "      <td>poor</td>\n",
              "      <td>0</td>\n",
              "      <td>high</td>\n",
              "    </tr>\n",
              "    <tr>\n",
              "      <th>1</th>\n",
              "      <td>0</td>\n",
              "      <td>0</td>\n",
              "      <td>1.0</td>\n",
              "      <td>73</td>\n",
              "      <td>17</td>\n",
              "      <td>275500.0</td>\n",
              "      <td>73</td>\n",
              "      <td>7.6875</td>\n",
              "      <td>360</td>\n",
              "      <td>0</td>\n",
              "      <td>0</td>\n",
              "      <td>144</td>\n",
              "      <td>0</td>\n",
              "      <td>1</td>\n",
              "      <td>0</td>\n",
              "      <td>0</td>\n",
              "      <td>poor</td>\n",
              "      <td>1</td>\n",
              "      <td>high</td>\n",
              "    </tr>\n",
              "    <tr>\n",
              "      <th>2</th>\n",
              "      <td>0</td>\n",
              "      <td>0</td>\n",
              "      <td>1.0</td>\n",
              "      <td>75</td>\n",
              "      <td>16</td>\n",
              "      <td>275500.0</td>\n",
              "      <td>75</td>\n",
              "      <td>7.6875</td>\n",
              "      <td>360</td>\n",
              "      <td>0</td>\n",
              "      <td>0</td>\n",
              "      <td>67</td>\n",
              "      <td>0</td>\n",
              "      <td>1</td>\n",
              "      <td>0</td>\n",
              "      <td>0</td>\n",
              "      <td>poor</td>\n",
              "      <td>2</td>\n",
              "      <td>high</td>\n",
              "    </tr>\n",
              "    <tr>\n",
              "      <th>3</th>\n",
              "      <td>0</td>\n",
              "      <td>0</td>\n",
              "      <td>1.0</td>\n",
              "      <td>76</td>\n",
              "      <td>14</td>\n",
              "      <td>275500.0</td>\n",
              "      <td>76</td>\n",
              "      <td>7.6875</td>\n",
              "      <td>360</td>\n",
              "      <td>0</td>\n",
              "      <td>0</td>\n",
              "      <td>35</td>\n",
              "      <td>0</td>\n",
              "      <td>1</td>\n",
              "      <td>0</td>\n",
              "      <td>0</td>\n",
              "      <td>poor</td>\n",
              "      <td>2</td>\n",
              "      <td>high</td>\n",
              "    </tr>\n",
              "    <tr>\n",
              "      <th>4</th>\n",
              "      <td>0</td>\n",
              "      <td>0</td>\n",
              "      <td>1.0</td>\n",
              "      <td>78</td>\n",
              "      <td>18</td>\n",
              "      <td>275500.0</td>\n",
              "      <td>78</td>\n",
              "      <td>7.6875</td>\n",
              "      <td>360</td>\n",
              "      <td>0</td>\n",
              "      <td>0</td>\n",
              "      <td>54</td>\n",
              "      <td>0</td>\n",
              "      <td>1</td>\n",
              "      <td>0</td>\n",
              "      <td>0</td>\n",
              "      <td>poor</td>\n",
              "      <td>2</td>\n",
              "      <td>high</td>\n",
              "    </tr>\n",
              "  </tbody>\n",
              "</table>\n",
              "</div>\n",
              "      <button class=\"colab-df-convert\" onclick=\"convertToInteractive('df-0b9b0131-c329-4516-bb5f-2fe86fce7885')\"\n",
              "              title=\"Convert this dataframe to an interactive table.\"\n",
              "              style=\"display:none;\">\n",
              "\n",
              "  <svg xmlns=\"http://www.w3.org/2000/svg\" height=\"24px\"viewBox=\"0 0 24 24\"\n",
              "       width=\"24px\">\n",
              "    <path d=\"M0 0h24v24H0V0z\" fill=\"none\"/>\n",
              "    <path d=\"M18.56 5.44l.94 2.06.94-2.06 2.06-.94-2.06-.94-.94-2.06-.94 2.06-2.06.94zm-11 1L8.5 8.5l.94-2.06 2.06-.94-2.06-.94L8.5 2.5l-.94 2.06-2.06.94zm10 10l.94 2.06.94-2.06 2.06-.94-2.06-.94-.94-2.06-.94 2.06-2.06.94z\"/><path d=\"M17.41 7.96l-1.37-1.37c-.4-.4-.92-.59-1.43-.59-.52 0-1.04.2-1.43.59L10.3 9.45l-7.72 7.72c-.78.78-.78 2.05 0 2.83L4 21.41c.39.39.9.59 1.41.59.51 0 1.02-.2 1.41-.59l7.78-7.78 2.81-2.81c.8-.78.8-2.07 0-2.86zM5.41 20L4 18.59l7.72-7.72 1.47 1.35L5.41 20z\"/>\n",
              "  </svg>\n",
              "      </button>\n",
              "\n",
              "\n",
              "\n",
              "    <div id=\"df-03cad691-4af6-4c9b-907f-b4a180910740\">\n",
              "      <button class=\"colab-df-quickchart\" onclick=\"quickchart('df-03cad691-4af6-4c9b-907f-b4a180910740')\"\n",
              "              title=\"Suggest charts.\"\n",
              "              style=\"display:none;\">\n",
              "\n",
              "<svg xmlns=\"http://www.w3.org/2000/svg\" height=\"24px\"viewBox=\"0 0 24 24\"\n",
              "     width=\"24px\">\n",
              "    <g>\n",
              "        <path d=\"M19 3H5c-1.1 0-2 .9-2 2v14c0 1.1.9 2 2 2h14c1.1 0 2-.9 2-2V5c0-1.1-.9-2-2-2zM9 17H7v-7h2v7zm4 0h-2V7h2v10zm4 0h-2v-4h2v4z\"/>\n",
              "    </g>\n",
              "</svg>\n",
              "      </button>\n",
              "    </div>\n",
              "\n",
              "<style>\n",
              "  .colab-df-quickchart {\n",
              "    background-color: #E8F0FE;\n",
              "    border: none;\n",
              "    border-radius: 50%;\n",
              "    cursor: pointer;\n",
              "    display: none;\n",
              "    fill: #1967D2;\n",
              "    height: 32px;\n",
              "    padding: 0 0 0 0;\n",
              "    width: 32px;\n",
              "  }\n",
              "\n",
              "  .colab-df-quickchart:hover {\n",
              "    background-color: #E2EBFA;\n",
              "    box-shadow: 0px 1px 2px rgba(60, 64, 67, 0.3), 0px 1px 3px 1px rgba(60, 64, 67, 0.15);\n",
              "    fill: #174EA6;\n",
              "  }\n",
              "\n",
              "  [theme=dark] .colab-df-quickchart {\n",
              "    background-color: #3B4455;\n",
              "    fill: #D2E3FC;\n",
              "  }\n",
              "\n",
              "  [theme=dark] .colab-df-quickchart:hover {\n",
              "    background-color: #434B5C;\n",
              "    box-shadow: 0px 1px 3px 1px rgba(0, 0, 0, 0.15);\n",
              "    filter: drop-shadow(0px 1px 2px rgba(0, 0, 0, 0.3));\n",
              "    fill: #FFFFFF;\n",
              "  }\n",
              "</style>\n",
              "\n",
              "    <script>\n",
              "      async function quickchart(key) {\n",
              "        const containerElement = document.querySelector('#' + key);\n",
              "        const charts = await google.colab.kernel.invokeFunction(\n",
              "            'suggestCharts', [key], {});\n",
              "      }\n",
              "    </script>\n",
              "\n",
              "\n",
              "      <script>\n",
              "\n",
              "function displayQuickchartButton(domScope) {\n",
              "  let quickchartButtonEl =\n",
              "    domScope.querySelector('#df-03cad691-4af6-4c9b-907f-b4a180910740 button.colab-df-quickchart');\n",
              "  quickchartButtonEl.style.display =\n",
              "    google.colab.kernel.accessAllowed ? 'block' : 'none';\n",
              "}\n",
              "\n",
              "        displayQuickchartButton(document);\n",
              "      </script>\n",
              "      <style>\n",
              "    .colab-df-container {\n",
              "      display:flex;\n",
              "      flex-wrap:wrap;\n",
              "      gap: 12px;\n",
              "    }\n",
              "\n",
              "    .colab-df-convert {\n",
              "      background-color: #E8F0FE;\n",
              "      border: none;\n",
              "      border-radius: 50%;\n",
              "      cursor: pointer;\n",
              "      display: none;\n",
              "      fill: #1967D2;\n",
              "      height: 32px;\n",
              "      padding: 0 0 0 0;\n",
              "      width: 32px;\n",
              "    }\n",
              "\n",
              "    .colab-df-convert:hover {\n",
              "      background-color: #E2EBFA;\n",
              "      box-shadow: 0px 1px 2px rgba(60, 64, 67, 0.3), 0px 1px 3px 1px rgba(60, 64, 67, 0.15);\n",
              "      fill: #174EA6;\n",
              "    }\n",
              "\n",
              "    [theme=dark] .colab-df-convert {\n",
              "      background-color: #3B4455;\n",
              "      fill: #D2E3FC;\n",
              "    }\n",
              "\n",
              "    [theme=dark] .colab-df-convert:hover {\n",
              "      background-color: #434B5C;\n",
              "      box-shadow: 0px 1px 3px 1px rgba(0, 0, 0, 0.15);\n",
              "      filter: drop-shadow(0px 1px 2px rgba(0, 0, 0, 0.3));\n",
              "      fill: #FFFFFF;\n",
              "    }\n",
              "  </style>\n",
              "\n",
              "      <script>\n",
              "        const buttonEl =\n",
              "          document.querySelector('#df-0b9b0131-c329-4516-bb5f-2fe86fce7885 button.colab-df-convert');\n",
              "        buttonEl.style.display =\n",
              "          google.colab.kernel.accessAllowed ? 'block' : 'none';\n",
              "\n",
              "        async function convertToInteractive(key) {\n",
              "          const element = document.querySelector('#df-0b9b0131-c329-4516-bb5f-2fe86fce7885');\n",
              "          const dataTable =\n",
              "            await google.colab.kernel.invokeFunction('convertToInteractive',\n",
              "                                                     [key], {});\n",
              "          if (!dataTable) return;\n",
              "\n",
              "          const docLinkHtml = 'Like what you see? Visit the ' +\n",
              "            '<a target=\"_blank\" href=https://colab.research.google.com/notebooks/data_table.ipynb>data table notebook</a>'\n",
              "            + ' to learn more about interactive tables.';\n",
              "          element.innerHTML = '';\n",
              "          dataTable['output_type'] = 'display_data';\n",
              "          await google.colab.output.renderOutput(dataTable, element);\n",
              "          const docLink = document.createElement('div');\n",
              "          docLink.innerHTML = docLinkHtml;\n",
              "          element.appendChild(docLink);\n",
              "        }\n",
              "      </script>\n",
              "    </div>\n",
              "  </div>\n"
            ]
          },
          "metadata": {},
          "execution_count": 107
        }
      ],
      "source": [
        "data.head()"
      ]
    },
    {
      "cell_type": "code",
      "execution_count": null,
      "metadata": {
        "id": "JS8n4UXCAJp-",
        "colab": {
          "base_uri": "https://localhost:8080/"
        },
        "outputId": "79246b1b-b1fd-4573-e587-3b77acf89472"
      },
      "outputs": [
        {
          "output_type": "stream",
          "name": "stderr",
          "text": [
            "/usr/local/lib/python3.10/dist-packages/ipykernel/ipkernel.py:283: DeprecationWarning:\n",
            "\n",
            "`should_run_async` will not call `transform_cell` automatically in the future. Please pass the result to `transformed_cell` argument and any exception that happen during thetransform in `preprocessing_exc_tuple` in IPython 7.17 and above.\n",
            "\n"
          ]
        }
      ],
      "source": [
        "import pandas as pd\n",
        "\n",
        "def calculate_credit_range(row):\n",
        "    if row['CreditScore'] >= 750:\n",
        "        return 'excellent'\n",
        "    elif row['CreditScore'] >= 700:\n",
        "        return 'good'\n",
        "    elif row['CreditScore'] >= 650:\n",
        "        return 'fair'\n",
        "    else:\n",
        "        return 'poor'\n",
        "\n",
        "def calculate_ltv_range(row):\n",
        "    if row['LTV'] < 75:\n",
        "        return 'low'\n",
        "    elif row['LTV'] >= 75 and row['LTV'] < 80:\n",
        "        return 'medium'\n",
        "    elif row['LTV'] >= 80 and row['LTV'] < 90:\n",
        "        return 'high'\n",
        "    else:\n",
        "        return 'very high'\n",
        "\n",
        "def calculate_repay_range(row):\n",
        "    if row['OrigInterestRate'] < 4:\n",
        "        return 'low'\n",
        "    elif row['OrigInterestRate'] >= 4 and row['OrigInterestRate'] < 6:\n",
        "        return 'medium'\n",
        "    else:\n",
        "        return 'high'\n",
        "\n",
        "data['CreditRange'] = data.apply(calculate_credit_range, axis=1)\n",
        "data['LTVRange'] = data.apply(calculate_ltv_range, axis=1)\n",
        "data['RepayRange'] = data.apply(calculate_repay_range, axis=1)\n",
        "\n",
        "\n",
        "# convert categorical ranges to numerical features\n",
        "credit_range_dummies = pd.get_dummies(data['CreditRange'], prefix='CreditRange')\n",
        "label_encoding('LTVRange')\n",
        "repay_range_dummies = pd.get_dummies(data['RepayRange'], prefix='RepayRange')\n",
        "\n",
        "# concatenate the newly created numerical features to the original data\n",
        "raw_data = pd.concat([data, credit_range_dummies, repay_range_dummies], axis=1)\n",
        "\n",
        "# drop the original categorical ranges\n",
        "raw_data = raw_data.drop(['CreditRange', 'RepayRange'], axis=1)\n"
      ]
    },
    {
      "cell_type": "code",
      "execution_count": null,
      "metadata": {
        "id": "xDfnbmood8wF",
        "colab": {
          "base_uri": "https://localhost:8080/"
        },
        "outputId": "f44e378e-129d-4713-9a12-06add0af3bdc"
      },
      "outputs": [
        {
          "output_type": "stream",
          "name": "stderr",
          "text": [
            "/usr/local/lib/python3.10/dist-packages/ipykernel/ipkernel.py:283: DeprecationWarning:\n",
            "\n",
            "`should_run_async` will not call `transform_cell` automatically in the future. Please pass the result to `transformed_cell` argument and any exception that happen during thetransform in `preprocessing_exc_tuple` in IPython 7.17 and above.\n",
            "\n"
          ]
        },
        {
          "output_type": "execute_result",
          "data": {
            "text/plain": [
              "CreditScore              0\n",
              "MIP                      0\n",
              "Units                    0\n",
              "OCLTV                    0\n",
              "DTI                      0\n",
              "OrigUPB                  0\n",
              "LTV                      0\n",
              "OrigInterestRate         0\n",
              "OrigLoanTerm             0\n",
              "EverDelinquent           0\n",
              "MonthsDelinquent         0\n",
              "MonthsInRepayment        0\n",
              "LoanPurpose_C            0\n",
              "LoanPurpose_N            0\n",
              "LoanPurpose_P            0\n",
              "FirstTimeHomebuyer_Y     0\n",
              "LTVRange                 0\n",
              "CreditRange_excellent    0\n",
              "CreditRange_fair         0\n",
              "CreditRange_good         0\n",
              "CreditRange_poor         0\n",
              "RepayRange_high          0\n",
              "dtype: int64"
            ]
          },
          "metadata": {},
          "execution_count": 110
        }
      ],
      "source": [
        "raw_data.isnull().sum()"
      ]
    },
    {
      "cell_type": "markdown",
      "source": [
        "#MonthsDelinquent"
      ],
      "metadata": {
        "id": "9tM6wnGU24Vp"
      }
    },
    {
      "cell_type": "code",
      "execution_count": null,
      "metadata": {
        "id": "KDEmZNlGzZhP",
        "colab": {
          "base_uri": "https://localhost:8080/"
        },
        "outputId": "64761ad5-f4e0-4431-9be0-32c5ddc506fe"
      },
      "outputs": [
        {
          "output_type": "stream",
          "name": "stderr",
          "text": [
            "/usr/local/lib/python3.10/dist-packages/ipykernel/ipkernel.py:283: DeprecationWarning:\n",
            "\n",
            "`should_run_async` will not call `transform_cell` automatically in the future. Please pass the result to `transformed_cell` argument and any exception that happen during thetransform in `preprocessing_exc_tuple` in IPython 7.17 and above.\n",
            "\n"
          ]
        }
      ],
      "source": [
        "data.drop([\"MonthsInRepayment\",'MonthsDelinquent'],axis=1,inplace=True)\n",
        "raw_data.drop([\"MonthsInRepayment\",'MonthsDelinquent'],axis=1,inplace=True)\n",
        "#because they are strongly corrolated with the target and causes data leakage (over fitting)"
      ]
    },
    {
      "cell_type": "markdown",
      "source": [
        "#EverDelinquent"
      ],
      "metadata": {
        "id": "tgV3vxm53eD-"
      }
    },
    {
      "cell_type": "code",
      "execution_count": null,
      "metadata": {
        "id": "Tngw2esbfvQ1",
        "colab": {
          "base_uri": "https://localhost:8080/"
        },
        "outputId": "d14a6d42-b7d8-4b06-d3ee-6e61608369d5"
      },
      "outputs": [
        {
          "output_type": "stream",
          "name": "stderr",
          "text": [
            "/usr/local/lib/python3.10/dist-packages/ipykernel/ipkernel.py:283: DeprecationWarning:\n",
            "\n",
            "`should_run_async` will not call `transform_cell` automatically in the future. Please pass the result to `transformed_cell` argument and any exception that happen during thetransform in `preprocessing_exc_tuple` in IPython 7.17 and above.\n",
            "\n"
          ]
        }
      ],
      "source": [
        "x=raw_data.drop(['EverDelinquent'], axis=1)\n",
        "y=raw_data['EverDelinquent']"
      ]
    },
    {
      "cell_type": "code",
      "execution_count": null,
      "metadata": {
        "id": "KIbFVdN-ZFm0",
        "colab": {
          "base_uri": "https://localhost:8080/"
        },
        "outputId": "4daab6de-5d3f-49b5-a39f-22d3bd678ecd"
      },
      "outputs": [
        {
          "output_type": "stream",
          "name": "stdout",
          "text": [
            "        CreditScore       MIP  Units     OCLTV       DTI  OrigUPB       LTV  \\\n",
            "0         10.362576  1.251897    NaN  0.793001  0.231585      NaN  0.795063   \n",
            "1         10.362576  0.727358    NaN  0.255700  0.989403      NaN  0.254395   \n",
            "2         10.362576  0.727358    NaN  0.124612  1.065184      NaN  0.123213   \n",
            "3         10.362576  0.727358    NaN  0.059069  1.216748      NaN  0.057622   \n",
            "4         10.362576  0.727358    NaN  0.072019  0.913621      NaN  0.073561   \n",
            "...             ...       ...    ...       ...       ...      ...       ...   \n",
            "291446     1.902391  0.727358    NaN  1.107769  0.147323      NaN  1.107079   \n",
            "291447     1.917010  0.727358    NaN  0.255700  2.277692      NaN  0.254395   \n",
            "291448     1.917010  0.727358    NaN  0.255700  0.071541      NaN  0.254395   \n",
            "291449     1.990103  0.727358    NaN  0.203107  1.814521      NaN  0.204743   \n",
            "291450     2.048577  0.727358    NaN  1.959838  0.080022      NaN  1.959764   \n",
            "\n",
            "        OrigInterestRate  OrigLoanTerm  EverDelinquent  MonthsDelinquent  \\\n",
            "0                    NaN      0.072226         0.49876          0.209398   \n",
            "1                    NaN      0.072226         0.49876          0.209398   \n",
            "2                    NaN      0.072226         0.49876          0.209398   \n",
            "3                    NaN      0.072226         0.49876          0.209398   \n",
            "4                    NaN      0.072226         0.49876          0.209398   \n",
            "...                  ...           ...             ...               ...   \n",
            "291446               NaN      0.072226         0.49876          0.209398   \n",
            "291447               NaN     17.790767         0.49876          0.209398   \n",
            "291448               NaN     20.404864         0.49876          0.209398   \n",
            "291449               NaN      0.072226         0.49876          0.209398   \n",
            "291450               NaN      0.072226         0.49876          0.209398   \n",
            "\n",
            "        MonthsInRepayment  LoanPurpose_C  LoanPurpose_N  LoanPurpose_P  \\\n",
            "0                0.192921       0.499835        0.78089       1.171997   \n",
            "1                1.795818       0.499835        1.28059       0.853244   \n",
            "2                0.131330       0.499835        1.28059       0.853244   \n",
            "3                0.560405       0.499835        1.28059       0.853244   \n",
            "4                0.149687       0.499835        1.28059       0.853244   \n",
            "...                   ...            ...            ...            ...   \n",
            "291446           1.057590       0.499835        1.28059       0.853244   \n",
            "291447           0.171304       0.499835        0.78089       1.171997   \n",
            "291448           0.495555       0.499835        1.28059       0.853244   \n",
            "291449           0.625255       0.499835        0.78089       1.171997   \n",
            "291450           0.690105       0.499835        0.78089       1.171997   \n",
            "\n",
            "        FirstTimeHomebuyer_Y  \n",
            "0                    0.33445  \n",
            "1                    0.33445  \n",
            "2                    0.33445  \n",
            "3                    0.33445  \n",
            "4                    0.33445  \n",
            "...                      ...  \n",
            "291446               0.33445  \n",
            "291447               0.33445  \n",
            "291448               0.33445  \n",
            "291449               0.33445  \n",
            "291450               0.33445  \n",
            "\n",
            "[289313 rows x 16 columns]\n"
          ]
        },
        {
          "output_type": "stream",
          "name": "stderr",
          "text": [
            "/usr/local/lib/python3.10/dist-packages/ipykernel/ipkernel.py:283: DeprecationWarning: `should_run_async` will not call `transform_cell` automatically in the future. Please pass the result to `transformed_cell` argument and any exception that happen during thetransform in `preprocessing_exc_tuple` in IPython 7.17 and above.\n",
            "  and should_run_async(code)\n"
          ]
        }
      ],
      "source": [
        "#calculating z score to know how far from mean value (by calculating standard deviation)\n",
        "#help you to know more about data\n",
        "from scipy import stats\n",
        "z_score=np.abs(stats.zscore(data))\n",
        "print (z_score)"
      ]
    },
    {
      "cell_type": "code",
      "execution_count": null,
      "metadata": {
        "id": "M2N3Mmkz_P4x"
      },
      "outputs": [],
      "source": [
        "x.columns"
      ]
    },
    {
      "cell_type": "code",
      "execution_count": null,
      "metadata": {
        "id": "FQGkn08igyT-",
        "colab": {
          "base_uri": "https://localhost:8080/",
          "height": 542
        },
        "outputId": "90d49892-74b4-450d-f68a-20b0926ebbe5"
      },
      "outputs": [
        {
          "output_type": "stream",
          "name": "stderr",
          "text": [
            "/usr/local/lib/python3.10/dist-packages/ipykernel/ipkernel.py:283: DeprecationWarning:\n",
            "\n",
            "`should_run_async` will not call `transform_cell` automatically in the future. Please pass the result to `transformed_cell` argument and any exception that happen during thetransform in `preprocessing_exc_tuple` in IPython 7.17 and above.\n",
            "\n"
          ]
        },
        {
          "output_type": "display_data",
          "data": {
            "text/plain": [
              "<Figure size 640x480 with 1 Axes>"
            ],
            "image/png": "[encoded data removed]"
          },
          "metadata": {}
        }
      ],
      "source": [
        "from sklearn.decomposition import PCA\n",
        "pca = PCA().fit(x)\n",
        "plt.plot(np.cumsum(pca.explained_variance_ratio_))\n",
        "plt.xlabel('number of components')\n",
        "plt.ylabel('cumulative explained variance')\n",
        "plt.show()\n"
      ]
    },
    {
      "cell_type": "code",
      "execution_count": null,
      "metadata": {
        "id": "H_Y59OwZfRue",
        "colab": {
          "base_uri": "https://localhost:8080/"
        },
        "outputId": "f10860d1-444b-4fd6-cb47-97305420dcb7"
      },
      "outputs": [
        {
          "output_type": "stream",
          "name": "stderr",
          "text": [
            "/usr/local/lib/python3.10/dist-packages/ipykernel/ipkernel.py:283: DeprecationWarning:\n",
            "\n",
            "`should_run_async` will not call `transform_cell` automatically in the future. Please pass the result to `transformed_cell` argument and any exception that happen during thetransform in `preprocessing_exc_tuple` in IPython 7.17 and above.\n",
            "\n"
          ]
        }
      ],
      "source": [
        "from sklearn.preprocessing import StandardScaler\n",
        "\n",
        "scaler = StandardScaler()\n",
        "stat_data = scaler.fit_transform(x)\n"
      ]
    },
    {
      "cell_type": "code",
      "execution_count": null,
      "metadata": {
        "id": "olhx3DIleddO"
      },
      "outputs": [],
      "source": [
        "x.isnull().sum()"
      ]
    },
    {
      "cell_type": "code",
      "execution_count": null,
      "metadata": {
        "id": "Z69ySyzXdt_l",
        "colab": {
          "base_uri": "https://localhost:8080/",
          "height": 782
        },
        "outputId": "4bcb2128-9025-48ed-a376-7858a384f675"
      },
      "outputs": [
        {
          "output_type": "stream",
          "name": "stderr",
          "text": [
            "/usr/local/lib/python3.10/dist-packages/ipykernel/ipkernel.py:283: DeprecationWarning:\n",
            "\n",
            "`should_run_async` will not call `transform_cell` automatically in the future. Please pass the result to `transformed_cell` argument and any exception that happen during thetransform in `preprocessing_exc_tuple` in IPython 7.17 and above.\n",
            "\n"
          ]
        },
        {
          "output_type": "execute_result",
          "data": {
            "text/plain": [
              "                       CreditScore       MIP  Units     OCLTV       DTI  \\\n",
              "CreditScore               1.000000 -0.164231    NaN -0.191703 -0.097953   \n",
              "MIP                      -0.164231  1.000000    NaN  0.694339  0.110530   \n",
              "Units                          NaN       NaN    NaN       NaN       NaN   \n",
              "OCLTV                    -0.191703  0.694339    NaN  1.000000  0.115357   \n",
              "DTI                      -0.097953  0.110530    NaN  0.115357  1.000000   \n",
              "OrigUPB                        NaN       NaN    NaN       NaN       NaN   \n",
              "LTV                      -0.191939  0.695445    NaN  0.999468  0.114973   \n",
              "OrigInterestRate               NaN       NaN    NaN       NaN       NaN   \n",
              "OrigLoanTerm             -0.008218  0.014721    NaN  0.018321  0.028304   \n",
              "LoanPurpose_C             0.013017 -0.326472    NaN -0.309954 -0.003822   \n",
              "LoanPurpose_N            -0.004887 -0.154936    NaN -0.140204 -0.063931   \n",
              "LoanPurpose_P            -0.005742  0.416634    NaN  0.388782  0.065903   \n",
              "FirstTimeHomebuyer_Y     -0.049522  0.264519    NaN  0.243288  0.056466   \n",
              "LTVRange                 -0.090964  0.610330    NaN  0.394348  0.060414   \n",
              "CreditRange_excellent     0.553040 -0.178515    NaN -0.232267 -0.143619   \n",
              "CreditRange_fair         -0.277644  0.103281    NaN  0.128816  0.092863   \n",
              "CreditRange_good          0.173184 -0.007442    NaN  0.018069  0.014413   \n",
              "CreditRange_poor         -0.605578  0.111063    NaN  0.113190  0.048705   \n",
              "RepayRange_high                NaN       NaN    NaN       NaN       NaN   \n",
              "\n",
              "                       OrigUPB       LTV  OrigInterestRate  OrigLoanTerm  \\\n",
              "CreditScore                NaN -0.191939               NaN     -0.008218   \n",
              "MIP                        NaN  0.695445               NaN      0.014721   \n",
              "Units                      NaN       NaN               NaN           NaN   \n",
              "OCLTV                      NaN  0.999468               NaN      0.018321   \n",
              "DTI                        NaN  0.114973               NaN      0.028304   \n",
              "OrigUPB                    NaN       NaN               NaN           NaN   \n",
              "LTV                        NaN  1.000000               NaN      0.018237   \n",
              "OrigInterestRate           NaN       NaN               NaN           NaN   \n",
              "OrigLoanTerm               NaN  0.018237               NaN      1.000000   \n",
              "LoanPurpose_C              NaN -0.310022               NaN      0.016196   \n",
              "LoanPurpose_N              NaN -0.140010               NaN     -0.032079   \n",
              "LoanPurpose_P              NaN  0.388647               NaN      0.018397   \n",
              "FirstTimeHomebuyer_Y       NaN  0.243452               NaN      0.014984   \n",
              "LTVRange                   NaN  0.395537               NaN      0.009831   \n",
              "CreditRange_excellent      NaN -0.232337               NaN     -0.017640   \n",
              "CreditRange_fair           NaN  0.128951               NaN      0.007298   \n",
              "CreditRange_good           NaN  0.017811               NaN      0.008531   \n",
              "CreditRange_poor           NaN  0.113466               NaN      0.001854   \n",
              "RepayRange_high            NaN       NaN               NaN           NaN   \n",
              "\n",
              "                       LoanPurpose_C  LoanPurpose_N  LoanPurpose_P  \\\n",
              "CreditScore                 0.013017      -0.004887      -0.005742   \n",
              "MIP                        -0.326472      -0.154936       0.416634   \n",
              "Units                            NaN            NaN            NaN   \n",
              "OCLTV                      -0.309954      -0.140204       0.388782   \n",
              "DTI                        -0.003822      -0.063931       0.065903   \n",
              "OrigUPB                          NaN            NaN            NaN   \n",
              "LTV                        -0.310022      -0.140010       0.388647   \n",
              "OrigInterestRate                 NaN            NaN            NaN   \n",
              "OrigLoanTerm                0.016196      -0.032079       0.018397   \n",
              "LoanPurpose_C               1.000000      -0.390316      -0.426481   \n",
              "LoanPurpose_N              -0.390316       1.000000      -0.666290   \n",
              "LoanPurpose_P              -0.426481      -0.666290       1.000000   \n",
              "FirstTimeHomebuyer_Y       -0.166940      -0.261027       0.391649   \n",
              "LTVRange                   -0.155517      -0.198174       0.320649   \n",
              "CreditRange_excellent      -0.009031      -0.002740       0.010006   \n",
              "CreditRange_fair            0.012560       0.001891      -0.012030   \n",
              "CreditRange_good            0.007734      -0.015980       0.009436   \n",
              "CreditRange_poor           -0.014929       0.023264      -0.010764   \n",
              "RepayRange_high                  NaN            NaN            NaN   \n",
              "\n",
              "                       FirstTimeHomebuyer_Y  LTVRange  CreditRange_excellent  \\\n",
              "CreditScore                       -0.049522 -0.090964               0.553040   \n",
              "MIP                                0.264519  0.610330              -0.178515   \n",
              "Units                                   NaN       NaN                    NaN   \n",
              "OCLTV                              0.243288  0.394348              -0.232267   \n",
              "DTI                                0.056466  0.060414              -0.143619   \n",
              "OrigUPB                                 NaN       NaN                    NaN   \n",
              "LTV                                0.243452  0.395537              -0.232337   \n",
              "OrigInterestRate                        NaN       NaN                    NaN   \n",
              "OrigLoanTerm                       0.014984  0.009831              -0.017640   \n",
              "LoanPurpose_C                     -0.166940 -0.155517              -0.009031   \n",
              "LoanPurpose_N                     -0.261027 -0.198174              -0.002740   \n",
              "LoanPurpose_P                      0.391649  0.320649               0.010006   \n",
              "FirstTimeHomebuyer_Y               1.000000  0.214994              -0.039685   \n",
              "LTVRange                           0.214994  1.000000              -0.096351   \n",
              "CreditRange_excellent             -0.039685 -0.096351               1.000000   \n",
              "CreditRange_fair                   0.018312  0.054512              -0.356300   \n",
              "CreditRange_good                   0.000798 -0.002572              -0.437553   \n",
              "CreditRange_poor                   0.027209  0.059515              -0.241831   \n",
              "RepayRange_high                         NaN       NaN                    NaN   \n",
              "\n",
              "                       CreditRange_fair  CreditRange_good  CreditRange_poor  \\\n",
              "CreditScore                   -0.277644          0.173184         -0.605578   \n",
              "MIP                            0.103281         -0.007442          0.111063   \n",
              "Units                               NaN               NaN               NaN   \n",
              "OCLTV                          0.128816          0.018069          0.113190   \n",
              "DTI                            0.092863          0.014413          0.048705   \n",
              "OrigUPB                             NaN               NaN               NaN   \n",
              "LTV                            0.128951          0.017811          0.113466   \n",
              "OrigInterestRate                    NaN               NaN               NaN   \n",
              "OrigLoanTerm                   0.007298          0.008531          0.001854   \n",
              "LoanPurpose_C                  0.012560          0.007734         -0.014929   \n",
              "LoanPurpose_N                  0.001891         -0.015980          0.023264   \n",
              "LoanPurpose_P                 -0.012030          0.009436         -0.010764   \n",
              "FirstTimeHomebuyer_Y           0.018312          0.000798          0.027209   \n",
              "LTVRange                       0.054512         -0.002572          0.059515   \n",
              "CreditRange_excellent         -0.356300         -0.437553         -0.241831   \n",
              "CreditRange_fair               1.000000         -0.417569         -0.230786   \n",
              "CreditRange_good              -0.417569          1.000000         -0.283416   \n",
              "CreditRange_poor              -0.230786         -0.283416          1.000000   \n",
              "RepayRange_high                     NaN               NaN               NaN   \n",
              "\n",
              "                       RepayRange_high  \n",
              "CreditScore                        NaN  \n",
              "MIP                                NaN  \n",
              "Units                              NaN  \n",
              "OCLTV                              NaN  \n",
              "DTI                                NaN  \n",
              "OrigUPB                            NaN  \n",
              "LTV                                NaN  \n",
              "OrigInterestRate                   NaN  \n",
              "OrigLoanTerm                       NaN  \n",
              "LoanPurpose_C                      NaN  \n",
              "LoanPurpose_N                      NaN  \n",
              "LoanPurpose_P                      NaN  \n",
              "FirstTimeHomebuyer_Y               NaN  \n",
              "LTVRange                           NaN  \n",
              "CreditRange_excellent              NaN  \n",
              "CreditRange_fair                   NaN  \n",
              "CreditRange_good                   NaN  \n",
              "CreditRange_poor                   NaN  \n",
              "RepayRange_high                    NaN  "
            ],
            "text/html": [
              "\n",
              "\n",
              "  <div id=\"df-e4d58a4c-e229-4fa2-aa1d-de81f64f1976\">\n",
              "    <div class=\"colab-df-container\">\n",
              "      <div>\n",
              "<style scoped>\n",
              "    .dataframe tbody tr th:only-of-type {\n",
              "        vertical-align: middle;\n",
              "    }\n",
              "\n",
              "    .dataframe tbody tr th {\n",
              "        vertical-align: top;\n",
              "    }\n",
              "\n",
              "    .dataframe thead th {\n",
              "        text-align: right;\n",
              "    }\n",
              "</style>\n",
              "<table border=\"1\" class=\"dataframe\">\n",
              "  <thead>\n",
              "    <tr style=\"text-align: right;\">\n",
              "      <th></th>\n",
              "      <th>CreditScore</th>\n",
              "      <th>MIP</th>\n",
              "      <th>Units</th>\n",
              "      <th>OCLTV</th>\n",
              "      <th>DTI</th>\n",
              "      <th>OrigUPB</th>\n",
              "      <th>LTV</th>\n",
              "      <th>OrigInterestRate</th>\n",
              "      <th>OrigLoanTerm</th>\n",
              "      <th>LoanPurpose_C</th>\n",
              "      <th>LoanPurpose_N</th>\n",
              "      <th>LoanPurpose_P</th>\n",
              "      <th>FirstTimeHomebuyer_Y</th>\n",
              "      <th>LTVRange</th>\n",
              "      <th>CreditRange_excellent</th>\n",
              "      <th>CreditRange_fair</th>\n",
              "      <th>CreditRange_good</th>\n",
              "      <th>CreditRange_poor</th>\n",
              "      <th>RepayRange_high</th>\n",
              "    </tr>\n",
              "  </thead>\n",
              "  <tbody>\n",
              "    <tr>\n",
              "      <th>CreditScore</th>\n",
              "      <td>1.000000</td>\n",
              "      <td>-0.164231</td>\n",
              "      <td>NaN</td>\n",
              "      <td>-0.191703</td>\n",
              "      <td>-0.097953</td>\n",
              "      <td>NaN</td>\n",
              "      <td>-0.191939</td>\n",
              "      <td>NaN</td>\n",
              "      <td>-0.008218</td>\n",
              "      <td>0.013017</td>\n",
              "      <td>-0.004887</td>\n",
              "      <td>-0.005742</td>\n",
              "      <td>-0.049522</td>\n",
              "      <td>-0.090964</td>\n",
              "      <td>0.553040</td>\n",
              "      <td>-0.277644</td>\n",
              "      <td>0.173184</td>\n",
              "      <td>-0.605578</td>\n",
              "      <td>NaN</td>\n",
              "    </tr>\n",
              "    <tr>\n",
              "      <th>MIP</th>\n",
              "      <td>-0.164231</td>\n",
              "      <td>1.000000</td>\n",
              "      <td>NaN</td>\n",
              "      <td>0.694339</td>\n",
              "      <td>0.110530</td>\n",
              "      <td>NaN</td>\n",
              "      <td>0.695445</td>\n",
              "      <td>NaN</td>\n",
              "      <td>0.014721</td>\n",
              "      <td>-0.326472</td>\n",
              "      <td>-0.154936</td>\n",
              "      <td>0.416634</td>\n",
              "      <td>0.264519</td>\n",
              "      <td>0.610330</td>\n",
              "      <td>-0.178515</td>\n",
              "      <td>0.103281</td>\n",
              "      <td>-0.007442</td>\n",
              "      <td>0.111063</td>\n",
              "      <td>NaN</td>\n",
              "    </tr>\n",
              "    <tr>\n",
              "      <th>Units</th>\n",
              "      <td>NaN</td>\n",
              "      <td>NaN</td>\n",
              "      <td>NaN</td>\n",
              "      <td>NaN</td>\n",
              "      <td>NaN</td>\n",
              "      <td>NaN</td>\n",
              "      <td>NaN</td>\n",
              "      <td>NaN</td>\n",
              "      <td>NaN</td>\n",
              "      <td>NaN</td>\n",
              "      <td>NaN</td>\n",
              "      <td>NaN</td>\n",
              "      <td>NaN</td>\n",
              "      <td>NaN</td>\n",
              "      <td>NaN</td>\n",
              "      <td>NaN</td>\n",
              "      <td>NaN</td>\n",
              "      <td>NaN</td>\n",
              "      <td>NaN</td>\n",
              "    </tr>\n",
              "    <tr>\n",
              "      <th>OCLTV</th>\n",
              "      <td>-0.191703</td>\n",
              "      <td>0.694339</td>\n",
              "      <td>NaN</td>\n",
              "      <td>1.000000</td>\n",
              "      <td>0.115357</td>\n",
              "      <td>NaN</td>\n",
              "      <td>0.999468</td>\n",
              "      <td>NaN</td>\n",
              "      <td>0.018321</td>\n",
              "      <td>-0.309954</td>\n",
              "      <td>-0.140204</td>\n",
              "      <td>0.388782</td>\n",
              "      <td>0.243288</td>\n",
              "      <td>0.394348</td>\n",
              "      <td>-0.232267</td>\n",
              "      <td>0.128816</td>\n",
              "      <td>0.018069</td>\n",
              "      <td>0.113190</td>\n",
              "      <td>NaN</td>\n",
              "    </tr>\n",
              "    <tr>\n",
              "      <th>DTI</th>\n",
              "      <td>-0.097953</td>\n",
              "      <td>0.110530</td>\n",
              "      <td>NaN</td>\n",
              "      <td>0.115357</td>\n",
              "      <td>1.000000</td>\n",
              "      <td>NaN</td>\n",
              "      <td>0.114973</td>\n",
              "      <td>NaN</td>\n",
              "      <td>0.028304</td>\n",
              "      <td>-0.003822</td>\n",
              "      <td>-0.063931</td>\n",
              "      <td>0.065903</td>\n",
              "      <td>0.056466</td>\n",
              "      <td>0.060414</td>\n",
              "      <td>-0.143619</td>\n",
              "      <td>0.092863</td>\n",
              "      <td>0.014413</td>\n",
              "      <td>0.048705</td>\n",
              "      <td>NaN</td>\n",
              "    </tr>\n",
              "    <tr>\n",
              "      <th>OrigUPB</th>\n",
              "      <td>NaN</td>\n",
              "      <td>NaN</td>\n",
              "      <td>NaN</td>\n",
              "      <td>NaN</td>\n",
              "      <td>NaN</td>\n",
              "      <td>NaN</td>\n",
              "      <td>NaN</td>\n",
              "      <td>NaN</td>\n",
              "      <td>NaN</td>\n",
              "      <td>NaN</td>\n",
              "      <td>NaN</td>\n",
              "      <td>NaN</td>\n",
              "      <td>NaN</td>\n",
              "      <td>NaN</td>\n",
              "      <td>NaN</td>\n",
              "      <td>NaN</td>\n",
              "      <td>NaN</td>\n",
              "      <td>NaN</td>\n",
              "      <td>NaN</td>\n",
              "    </tr>\n",
              "    <tr>\n",
              "      <th>LTV</th>\n",
              "      <td>-0.191939</td>\n",
              "      <td>0.695445</td>\n",
              "      <td>NaN</td>\n",
              "      <td>0.999468</td>\n",
              "      <td>0.114973</td>\n",
              "      <td>NaN</td>\n",
              "      <td>1.000000</td>\n",
              "      <td>NaN</td>\n",
              "      <td>0.018237</td>\n",
              "      <td>-0.310022</td>\n",
              "      <td>-0.140010</td>\n",
              "      <td>0.388647</td>\n",
              "      <td>0.243452</td>\n",
              "      <td>0.395537</td>\n",
              "      <td>-0.232337</td>\n",
              "      <td>0.128951</td>\n",
              "      <td>0.017811</td>\n",
              "      <td>0.113466</td>\n",
              "      <td>NaN</td>\n",
              "    </tr>\n",
              "    <tr>\n",
              "      <th>OrigInterestRate</th>\n",
              "      <td>NaN</td>\n",
              "      <td>NaN</td>\n",
              "      <td>NaN</td>\n",
              "      <td>NaN</td>\n",
              "      <td>NaN</td>\n",
              "      <td>NaN</td>\n",
              "      <td>NaN</td>\n",
              "      <td>NaN</td>\n",
              "      <td>NaN</td>\n",
              "      <td>NaN</td>\n",
              "      <td>NaN</td>\n",
              "      <td>NaN</td>\n",
              "      <td>NaN</td>\n",
              "      <td>NaN</td>\n",
              "      <td>NaN</td>\n",
              "      <td>NaN</td>\n",
              "      <td>NaN</td>\n",
              "      <td>NaN</td>\n",
              "      <td>NaN</td>\n",
              "    </tr>\n",
              "    <tr>\n",
              "      <th>OrigLoanTerm</th>\n",
              "      <td>-0.008218</td>\n",
              "      <td>0.014721</td>\n",
              "      <td>NaN</td>\n",
              "      <td>0.018321</td>\n",
              "      <td>0.028304</td>\n",
              "      <td>NaN</td>\n",
              "      <td>0.018237</td>\n",
              "      <td>NaN</td>\n",
              "      <td>1.000000</td>\n",
              "      <td>0.016196</td>\n",
              "      <td>-0.032079</td>\n",
              "      <td>0.018397</td>\n",
              "      <td>0.014984</td>\n",
              "      <td>0.009831</td>\n",
              "      <td>-0.017640</td>\n",
              "      <td>0.007298</td>\n",
              "      <td>0.008531</td>\n",
              "      <td>0.001854</td>\n",
              "      <td>NaN</td>\n",
              "    </tr>\n",
              "    <tr>\n",
              "      <th>LoanPurpose_C</th>\n",
              "      <td>0.013017</td>\n",
              "      <td>-0.326472</td>\n",
              "      <td>NaN</td>\n",
              "      <td>-0.309954</td>\n",
              "      <td>-0.003822</td>\n",
              "      <td>NaN</td>\n",
              "      <td>-0.310022</td>\n",
              "      <td>NaN</td>\n",
              "      <td>0.016196</td>\n",
              "      <td>1.000000</td>\n",
              "      <td>-0.390316</td>\n",
              "      <td>-0.426481</td>\n",
              "      <td>-0.166940</td>\n",
              "      <td>-0.155517</td>\n",
              "      <td>-0.009031</td>\n",
              "      <td>0.012560</td>\n",
              "      <td>0.007734</td>\n",
              "      <td>-0.014929</td>\n",
              "      <td>NaN</td>\n",
              "    </tr>\n",
              "    <tr>\n",
              "      <th>LoanPurpose_N</th>\n",
              "      <td>-0.004887</td>\n",
              "      <td>-0.154936</td>\n",
              "      <td>NaN</td>\n",
              "      <td>-0.140204</td>\n",
              "      <td>-0.063931</td>\n",
              "      <td>NaN</td>\n",
              "      <td>-0.140010</td>\n",
              "      <td>NaN</td>\n",
              "      <td>-0.032079</td>\n",
              "      <td>-0.390316</td>\n",
              "      <td>1.000000</td>\n",
              "      <td>-0.666290</td>\n",
              "      <td>-0.261027</td>\n",
              "      <td>-0.198174</td>\n",
              "      <td>-0.002740</td>\n",
              "      <td>0.001891</td>\n",
              "      <td>-0.015980</td>\n",
              "      <td>0.023264</td>\n",
              "      <td>NaN</td>\n",
              "    </tr>\n",
              "    <tr>\n",
              "      <th>LoanPurpose_P</th>\n",
              "      <td>-0.005742</td>\n",
              "      <td>0.416634</td>\n",
              "      <td>NaN</td>\n",
              "      <td>0.388782</td>\n",
              "      <td>0.065903</td>\n",
              "      <td>NaN</td>\n",
              "      <td>0.388647</td>\n",
              "      <td>NaN</td>\n",
              "      <td>0.018397</td>\n",
              "      <td>-0.426481</td>\n",
              "      <td>-0.666290</td>\n",
              "      <td>1.000000</td>\n",
              "      <td>0.391649</td>\n",
              "      <td>0.320649</td>\n",
              "      <td>0.010006</td>\n",
              "      <td>-0.012030</td>\n",
              "      <td>0.009436</td>\n",
              "      <td>-0.010764</td>\n",
              "      <td>NaN</td>\n",
              "    </tr>\n",
              "    <tr>\n",
              "      <th>FirstTimeHomebuyer_Y</th>\n",
              "      <td>-0.049522</td>\n",
              "      <td>0.264519</td>\n",
              "      <td>NaN</td>\n",
              "      <td>0.243288</td>\n",
              "      <td>0.056466</td>\n",
              "      <td>NaN</td>\n",
              "      <td>0.243452</td>\n",
              "      <td>NaN</td>\n",
              "      <td>0.014984</td>\n",
              "      <td>-0.166940</td>\n",
              "      <td>-0.261027</td>\n",
              "      <td>0.391649</td>\n",
              "      <td>1.000000</td>\n",
              "      <td>0.214994</td>\n",
              "      <td>-0.039685</td>\n",
              "      <td>0.018312</td>\n",
              "      <td>0.000798</td>\n",
              "      <td>0.027209</td>\n",
              "      <td>NaN</td>\n",
              "    </tr>\n",
              "    <tr>\n",
              "      <th>LTVRange</th>\n",
              "      <td>-0.090964</td>\n",
              "      <td>0.610330</td>\n",
              "      <td>NaN</td>\n",
              "      <td>0.394348</td>\n",
              "      <td>0.060414</td>\n",
              "      <td>NaN</td>\n",
              "      <td>0.395537</td>\n",
              "      <td>NaN</td>\n",
              "      <td>0.009831</td>\n",
              "      <td>-0.155517</td>\n",
              "      <td>-0.198174</td>\n",
              "      <td>0.320649</td>\n",
              "      <td>0.214994</td>\n",
              "      <td>1.000000</td>\n",
              "      <td>-0.096351</td>\n",
              "      <td>0.054512</td>\n",
              "      <td>-0.002572</td>\n",
              "      <td>0.059515</td>\n",
              "      <td>NaN</td>\n",
              "    </tr>\n",
              "    <tr>\n",
              "      <th>CreditRange_excellent</th>\n",
              "      <td>0.553040</td>\n",
              "      <td>-0.178515</td>\n",
              "      <td>NaN</td>\n",
              "      <td>-0.232267</td>\n",
              "      <td>-0.143619</td>\n",
              "      <td>NaN</td>\n",
              "      <td>-0.232337</td>\n",
              "      <td>NaN</td>\n",
              "      <td>-0.017640</td>\n",
              "      <td>-0.009031</td>\n",
              "      <td>-0.002740</td>\n",
              "      <td>0.010006</td>\n",
              "      <td>-0.039685</td>\n",
              "      <td>-0.096351</td>\n",
              "      <td>1.000000</td>\n",
              "      <td>-0.356300</td>\n",
              "      <td>-0.437553</td>\n",
              "      <td>-0.241831</td>\n",
              "      <td>NaN</td>\n",
              "    </tr>\n",
              "    <tr>\n",
              "      <th>CreditRange_fair</th>\n",
              "      <td>-0.277644</td>\n",
              "      <td>0.103281</td>\n",
              "      <td>NaN</td>\n",
              "      <td>0.128816</td>\n",
              "      <td>0.092863</td>\n",
              "      <td>NaN</td>\n",
              "      <td>0.128951</td>\n",
              "      <td>NaN</td>\n",
              "      <td>0.007298</td>\n",
              "      <td>0.012560</td>\n",
              "      <td>0.001891</td>\n",
              "      <td>-0.012030</td>\n",
              "      <td>0.018312</td>\n",
              "      <td>0.054512</td>\n",
              "      <td>-0.356300</td>\n",
              "      <td>1.000000</td>\n",
              "      <td>-0.417569</td>\n",
              "      <td>-0.230786</td>\n",
              "      <td>NaN</td>\n",
              "    </tr>\n",
              "    <tr>\n",
              "      <th>CreditRange_good</th>\n",
              "      <td>0.173184</td>\n",
              "      <td>-0.007442</td>\n",
              "      <td>NaN</td>\n",
              "      <td>0.018069</td>\n",
              "      <td>0.014413</td>\n",
              "      <td>NaN</td>\n",
              "      <td>0.017811</td>\n",
              "      <td>NaN</td>\n",
              "      <td>0.008531</td>\n",
              "      <td>0.007734</td>\n",
              "      <td>-0.015980</td>\n",
              "      <td>0.009436</td>\n",
              "      <td>0.000798</td>\n",
              "      <td>-0.002572</td>\n",
              "      <td>-0.437553</td>\n",
              "      <td>-0.417569</td>\n",
              "      <td>1.000000</td>\n",
              "      <td>-0.283416</td>\n",
              "      <td>NaN</td>\n",
              "    </tr>\n",
              "    <tr>\n",
              "      <th>CreditRange_poor</th>\n",
              "      <td>-0.605578</td>\n",
              "      <td>0.111063</td>\n",
              "      <td>NaN</td>\n",
              "      <td>0.113190</td>\n",
              "      <td>0.048705</td>\n",
              "      <td>NaN</td>\n",
              "      <td>0.113466</td>\n",
              "      <td>NaN</td>\n",
              "      <td>0.001854</td>\n",
              "      <td>-0.014929</td>\n",
              "      <td>0.023264</td>\n",
              "      <td>-0.010764</td>\n",
              "      <td>0.027209</td>\n",
              "      <td>0.059515</td>\n",
              "      <td>-0.241831</td>\n",
              "      <td>-0.230786</td>\n",
              "      <td>-0.283416</td>\n",
              "      <td>1.000000</td>\n",
              "      <td>NaN</td>\n",
              "    </tr>\n",
              "    <tr>\n",
              "      <th>RepayRange_high</th>\n",
              "      <td>NaN</td>\n",
              "      <td>NaN</td>\n",
              "      <td>NaN</td>\n",
              "      <td>NaN</td>\n",
              "      <td>NaN</td>\n",
              "      <td>NaN</td>\n",
              "      <td>NaN</td>\n",
              "      <td>NaN</td>\n",
              "      <td>NaN</td>\n",
              "      <td>NaN</td>\n",
              "      <td>NaN</td>\n",
              "      <td>NaN</td>\n",
              "      <td>NaN</td>\n",
              "      <td>NaN</td>\n",
              "      <td>NaN</td>\n",
              "      <td>NaN</td>\n",
              "      <td>NaN</td>\n",
              "      <td>NaN</td>\n",
              "      <td>NaN</td>\n",
              "    </tr>\n",
              "  </tbody>\n",
              "</table>\n",
              "</div>\n",
              "      <button class=\"colab-df-convert\" onclick=\"convertToInteractive('df-e4d58a4c-e229-4fa2-aa1d-de81f64f1976')\"\n",
              "              title=\"Convert this dataframe to an interactive table.\"\n",
              "              style=\"display:none;\">\n",
              "\n",
              "  <svg xmlns=\"http://www.w3.org/2000/svg\" height=\"24px\"viewBox=\"0 0 24 24\"\n",
              "       width=\"24px\">\n",
              "    <path d=\"M0 0h24v24H0V0z\" fill=\"none\"/>\n",
              "    <path d=\"M18.56 5.44l.94 2.06.94-2.06 2.06-.94-2.06-.94-.94-2.06-.94 2.06-2.06.94zm-11 1L8.5 8.5l.94-2.06 2.06-.94-2.06-.94L8.5 2.5l-.94 2.06-2.06.94zm10 10l.94 2.06.94-2.06 2.06-.94-2.06-.94-.94-2.06-.94 2.06-2.06.94z\"/><path d=\"M17.41 7.96l-1.37-1.37c-.4-.4-.92-.59-1.43-.59-.52 0-1.04.2-1.43.59L10.3 9.45l-7.72 7.72c-.78.78-.78 2.05 0 2.83L4 21.41c.39.39.9.59 1.41.59.51 0 1.02-.2 1.41-.59l7.78-7.78 2.81-2.81c.8-.78.8-2.07 0-2.86zM5.41 20L4 18.59l7.72-7.72 1.47 1.35L5.41 20z\"/>\n",
              "  </svg>\n",
              "      </button>\n",
              "\n",
              "\n",
              "\n",
              "    <div id=\"df-a325cb63-172c-4ed5-9e5b-4157622c06ca\">\n",
              "      <button class=\"colab-df-quickchart\" onclick=\"quickchart('df-a325cb63-172c-4ed5-9e5b-4157622c06ca')\"\n",
              "              title=\"Suggest charts.\"\n",
              "              style=\"display:none;\">\n",
              "\n",
              "<svg xmlns=\"http://www.w3.org/2000/svg\" height=\"24px\"viewBox=\"0 0 24 24\"\n",
              "     width=\"24px\">\n",
              "    <g>\n",
              "        <path d=\"M19 3H5c-1.1 0-2 .9-2 2v14c0 1.1.9 2 2 2h14c1.1 0 2-.9 2-2V5c0-1.1-.9-2-2-2zM9 17H7v-7h2v7zm4 0h-2V7h2v10zm4 0h-2v-4h2v4z\"/>\n",
              "    </g>\n",
              "</svg>\n",
              "      </button>\n",
              "    </div>\n",
              "\n",
              "<style>\n",
              "  .colab-df-quickchart {\n",
              "    background-color: #E8F0FE;\n",
              "    border: none;\n",
              "    border-radius: 50%;\n",
              "    cursor: pointer;\n",
              "    display: none;\n",
              "    fill: #1967D2;\n",
              "    height: 32px;\n",
              "    padding: 0 0 0 0;\n",
              "    width: 32px;\n",
              "  }\n",
              "\n",
              "  .colab-df-quickchart:hover {\n",
              "    background-color: #E2EBFA;\n",
              "    box-shadow: 0px 1px 2px rgba(60, 64, 67, 0.3), 0px 1px 3px 1px rgba(60, 64, 67, 0.15);\n",
              "    fill: #174EA6;\n",
              "  }\n",
              "\n",
              "  [theme=dark] .colab-df-quickchart {\n",
              "    background-color: #3B4455;\n",
              "    fill: #D2E3FC;\n",
              "  }\n",
              "\n",
              "  [theme=dark] .colab-df-quickchart:hover {\n",
              "    background-color: #434B5C;\n",
              "    box-shadow: 0px 1px 3px 1px rgba(0, 0, 0, 0.15);\n",
              "    filter: drop-shadow(0px 1px 2px rgba(0, 0, 0, 0.3));\n",
              "    fill: #FFFFFF;\n",
              "  }\n",
              "</style>\n",
              "\n",
              "    <script>\n",
              "      async function quickchart(key) {\n",
              "        const containerElement = document.querySelector('#' + key);\n",
              "        const charts = await google.colab.kernel.invokeFunction(\n",
              "            'suggestCharts', [key], {});\n",
              "      }\n",
              "    </script>\n",
              "\n",
              "\n",
              "      <script>\n",
              "\n",
              "function displayQuickchartButton(domScope) {\n",
              "  let quickchartButtonEl =\n",
              "    domScope.querySelector('#df-a325cb63-172c-4ed5-9e5b-4157622c06ca button.colab-df-quickchart');\n",
              "  quickchartButtonEl.style.display =\n",
              "    google.colab.kernel.accessAllowed ? 'block' : 'none';\n",
              "}\n",
              "\n",
              "        displayQuickchartButton(document);\n",
              "      </script>\n",
              "      <style>\n",
              "    .colab-df-container {\n",
              "      display:flex;\n",
              "      flex-wrap:wrap;\n",
              "      gap: 12px;\n",
              "    }\n",
              "\n",
              "    .colab-df-convert {\n",
              "      background-color: #E8F0FE;\n",
              "      border: none;\n",
              "      border-radius: 50%;\n",
              "      cursor: pointer;\n",
              "      display: none;\n",
              "      fill: #1967D2;\n",
              "      height: 32px;\n",
              "      padding: 0 0 0 0;\n",
              "      width: 32px;\n",
              "    }\n",
              "\n",
              "    .colab-df-convert:hover {\n",
              "      background-color: #E2EBFA;\n",
              "      box-shadow: 0px 1px 2px rgba(60, 64, 67, 0.3), 0px 1px 3px 1px rgba(60, 64, 67, 0.15);\n",
              "      fill: #174EA6;\n",
              "    }\n",
              "\n",
              "    [theme=dark] .colab-df-convert {\n",
              "      background-color: #3B4455;\n",
              "      fill: #D2E3FC;\n",
              "    }\n",
              "\n",
              "    [theme=dark] .colab-df-convert:hover {\n",
              "      background-color: #434B5C;\n",
              "      box-shadow: 0px 1px 3px 1px rgba(0, 0, 0, 0.15);\n",
              "      filter: drop-shadow(0px 1px 2px rgba(0, 0, 0, 0.3));\n",
              "      fill: #FFFFFF;\n",
              "    }\n",
              "  </style>\n",
              "\n",
              "      <script>\n",
              "        const buttonEl =\n",
              "          document.querySelector('#df-e4d58a4c-e229-4fa2-aa1d-de81f64f1976 button.colab-df-convert');\n",
              "        buttonEl.style.display =\n",
              "          google.colab.kernel.accessAllowed ? 'block' : 'none';\n",
              "\n",
              "        async function convertToInteractive(key) {\n",
              "          const element = document.querySelector('#df-e4d58a4c-e229-4fa2-aa1d-de81f64f1976');\n",
              "          const dataTable =\n",
              "            await google.colab.kernel.invokeFunction('convertToInteractive',\n",
              "                                                     [key], {});\n",
              "          if (!dataTable) return;\n",
              "\n",
              "          const docLinkHtml = 'Like what you see? Visit the ' +\n",
              "            '<a target=\"_blank\" href=https://colab.research.google.com/notebooks/data_table.ipynb>data table notebook</a>'\n",
              "            + ' to learn more about interactive tables.';\n",
              "          element.innerHTML = '';\n",
              "          dataTable['output_type'] = 'display_data';\n",
              "          await google.colab.output.renderOutput(dataTable, element);\n",
              "          const docLink = document.createElement('div');\n",
              "          docLink.innerHTML = docLinkHtml;\n",
              "          element.appendChild(docLink);\n",
              "        }\n",
              "      </script>\n",
              "    </div>\n",
              "  </div>\n"
            ]
          },
          "metadata": {},
          "execution_count": 124
        }
      ],
      "source": [
        "x.corr()"
      ]
    },
    {
      "cell_type": "code",
      "execution_count": null,
      "metadata": {
        "id": "WGqQfw3VeEyT",
        "scrolled": true,
        "colab": {
          "base_uri": "https://localhost:8080/"
        },
        "outputId": "49544878-2fd2-478f-f9a0-f769377c6a0e"
      },
      "outputs": [
        {
          "output_type": "stream",
          "name": "stderr",
          "text": [
            "/usr/local/lib/python3.10/dist-packages/ipykernel/ipkernel.py:283: DeprecationWarning:\n",
            "\n",
            "`should_run_async` will not call `transform_cell` automatically in the future. Please pass the result to `transformed_cell` argument and any exception that happen during thetransform in `preprocessing_exc_tuple` in IPython 7.17 and above.\n",
            "\n"
          ]
        },
        {
          "output_type": "execute_result",
          "data": {
            "text/plain": [
              "CreditScore              0\n",
              "MIP                      0\n",
              "Units                    0\n",
              "OCLTV                    0\n",
              "DTI                      0\n",
              "OrigUPB                  0\n",
              "LTV                      0\n",
              "OrigInterestRate         0\n",
              "OrigLoanTerm             0\n",
              "LoanPurpose_C            0\n",
              "LoanPurpose_N            0\n",
              "LoanPurpose_P            0\n",
              "FirstTimeHomebuyer_Y     0\n",
              "LTVRange                 0\n",
              "CreditRange_excellent    0\n",
              "CreditRange_fair         0\n",
              "CreditRange_good         0\n",
              "CreditRange_poor         0\n",
              "RepayRange_high          0\n",
              "dtype: int64"
            ]
          },
          "metadata": {},
          "execution_count": 125
        }
      ],
      "source": [
        "x.isnull().sum()"
      ]
    },
    {
      "cell_type": "markdown",
      "source": [
        "#Data Frame"
      ],
      "metadata": {
        "id": "-vbv3YDf5gf7"
      }
    },
    {
      "cell_type": "code",
      "execution_count": null,
      "metadata": {
        "id": "rCp2lOI7MBbI",
        "colab": {
          "base_uri": "https://localhost:8080/"
        },
        "outputId": "01c4e414-4beb-4bfd-fbe9-0f9219883406"
      },
      "outputs": [
        {
          "output_type": "stream",
          "name": "stderr",
          "text": [
            "/usr/local/lib/python3.10/dist-packages/ipykernel/ipkernel.py:283: DeprecationWarning:\n",
            "\n",
            "`should_run_async` will not call `transform_cell` automatically in the future. Please pass the result to `transformed_cell` argument and any exception that happen during thetransform in `preprocessing_exc_tuple` in IPython 7.17 and above.\n",
            "\n"
          ]
        },
        {
          "output_type": "stream",
          "name": "stdout",
          "text": [
            "[0.03544527 0.00674717 0.04846482 0.00727582 0.00452166 0.06179659\n",
            " 0.00691259 0.03351629 0.05402412 0.00559748 0.01904744 0.02428682\n",
            " 0.00103658 0.01180514 0.0259171  0.01206402 0.02132452 0.01987189\n",
            " 0.04939934]\n"
          ]
        }
      ],
      "source": [
        "from sklearn.feature_selection import mutual_info_classif as MIC\n",
        "mi_score = MIC(x,y)\n",
        "print(mi_score)"
      ]
    },
    {
      "cell_type": "code",
      "execution_count": null,
      "metadata": {
        "id": "7bZQs9JhDC0n",
        "colab": {
          "base_uri": "https://localhost:8080/",
          "height": 738
        },
        "outputId": "add00e64-2095-4ded-c8ef-07d95cef8b22"
      },
      "outputs": [
        {
          "output_type": "stream",
          "name": "stderr",
          "text": [
            "/usr/local/lib/python3.10/dist-packages/ipykernel/ipkernel.py:283: DeprecationWarning:\n",
            "\n",
            "`should_run_async` will not call `transform_cell` automatically in the future. Please pass the result to `transformed_cell` argument and any exception that happen during thetransform in `preprocessing_exc_tuple` in IPython 7.17 and above.\n",
            "\n"
          ]
        },
        {
          "output_type": "execute_result",
          "data": {
            "text/plain": [
              "                  feature         score\n",
              "0             CreditScore  82313.364214\n",
              "1                     MIP  18965.503893\n",
              "17       CreditRange_poor  10713.083319\n",
              "4                     DTI   6351.661197\n",
              "14  CreditRange_excellent   5646.301434\n",
              "6                     LTV   4025.526627\n",
              "3                   OCLTV   4004.643940\n",
              "15       CreditRange_fair   2039.242517\n",
              "16       CreditRange_good   1383.901767\n",
              "13               LTVRange    297.554751\n",
              "9           LoanPurpose_C     64.852055\n",
              "11          LoanPurpose_P     47.502907\n",
              "10          LoanPurpose_N      2.012502\n",
              "12   FirstTimeHomebuyer_Y      0.992923\n",
              "8            OrigLoanTerm      0.475173\n",
              "7        OrigInterestRate      0.000000\n",
              "5                 OrigUPB      0.000000\n",
              "2                   Units      0.000000\n",
              "18        RepayRange_high      0.000000"
            ],
            "text/html": [
              "\n",
              "\n",
              "  <div id=\"df-4339c3d0-822f-4eba-a0bf-6803a17be07f\">\n",
              "    <div class=\"colab-df-container\">\n",
              "      <div>\n",
              "<style scoped>\n",
              "    .dataframe tbody tr th:only-of-type {\n",
              "        vertical-align: middle;\n",
              "    }\n",
              "\n",
              "    .dataframe tbody tr th {\n",
              "        vertical-align: top;\n",
              "    }\n",
              "\n",
              "    .dataframe thead th {\n",
              "        text-align: right;\n",
              "    }\n",
              "</style>\n",
              "<table border=\"1\" class=\"dataframe\">\n",
              "  <thead>\n",
              "    <tr style=\"text-align: right;\">\n",
              "      <th></th>\n",
              "      <th>feature</th>\n",
              "      <th>score</th>\n",
              "    </tr>\n",
              "  </thead>\n",
              "  <tbody>\n",
              "    <tr>\n",
              "      <th>0</th>\n",
              "      <td>CreditScore</td>\n",
              "      <td>82313.364214</td>\n",
              "    </tr>\n",
              "    <tr>\n",
              "      <th>1</th>\n",
              "      <td>MIP</td>\n",
              "      <td>18965.503893</td>\n",
              "    </tr>\n",
              "    <tr>\n",
              "      <th>17</th>\n",
              "      <td>CreditRange_poor</td>\n",
              "      <td>10713.083319</td>\n",
              "    </tr>\n",
              "    <tr>\n",
              "      <th>4</th>\n",
              "      <td>DTI</td>\n",
              "      <td>6351.661197</td>\n",
              "    </tr>\n",
              "    <tr>\n",
              "      <th>14</th>\n",
              "      <td>CreditRange_excellent</td>\n",
              "      <td>5646.301434</td>\n",
              "    </tr>\n",
              "    <tr>\n",
              "      <th>6</th>\n",
              "      <td>LTV</td>\n",
              "      <td>4025.526627</td>\n",
              "    </tr>\n",
              "    <tr>\n",
              "      <th>3</th>\n",
              "      <td>OCLTV</td>\n",
              "      <td>4004.643940</td>\n",
              "    </tr>\n",
              "    <tr>\n",
              "      <th>15</th>\n",
              "      <td>CreditRange_fair</td>\n",
              "      <td>2039.242517</td>\n",
              "    </tr>\n",
              "    <tr>\n",
              "      <th>16</th>\n",
              "      <td>CreditRange_good</td>\n",
              "      <td>1383.901767</td>\n",
              "    </tr>\n",
              "    <tr>\n",
              "      <th>13</th>\n",
              "      <td>LTVRange</td>\n",
              "      <td>297.554751</td>\n",
              "    </tr>\n",
              "    <tr>\n",
              "      <th>9</th>\n",
              "      <td>LoanPurpose_C</td>\n",
              "      <td>64.852055</td>\n",
              "    </tr>\n",
              "    <tr>\n",
              "      <th>11</th>\n",
              "      <td>LoanPurpose_P</td>\n",
              "      <td>47.502907</td>\n",
              "    </tr>\n",
              "    <tr>\n",
              "      <th>10</th>\n",
              "      <td>LoanPurpose_N</td>\n",
              "      <td>2.012502</td>\n",
              "    </tr>\n",
              "    <tr>\n",
              "      <th>12</th>\n",
              "      <td>FirstTimeHomebuyer_Y</td>\n",
              "      <td>0.992923</td>\n",
              "    </tr>\n",
              "    <tr>\n",
              "      <th>8</th>\n",
              "      <td>OrigLoanTerm</td>\n",
              "      <td>0.475173</td>\n",
              "    </tr>\n",
              "    <tr>\n",
              "      <th>7</th>\n",
              "      <td>OrigInterestRate</td>\n",
              "      <td>0.000000</td>\n",
              "    </tr>\n",
              "    <tr>\n",
              "      <th>5</th>\n",
              "      <td>OrigUPB</td>\n",
              "      <td>0.000000</td>\n",
              "    </tr>\n",
              "    <tr>\n",
              "      <th>2</th>\n",
              "      <td>Units</td>\n",
              "      <td>0.000000</td>\n",
              "    </tr>\n",
              "    <tr>\n",
              "      <th>18</th>\n",
              "      <td>RepayRange_high</td>\n",
              "      <td>0.000000</td>\n",
              "    </tr>\n",
              "  </tbody>\n",
              "</table>\n",
              "</div>\n",
              "      <button class=\"colab-df-convert\" onclick=\"convertToInteractive('df-4339c3d0-822f-4eba-a0bf-6803a17be07f')\"\n",
              "              title=\"Convert this dataframe to an interactive table.\"\n",
              "              style=\"display:none;\">\n",
              "\n",
              "  <svg xmlns=\"http://www.w3.org/2000/svg\" height=\"24px\"viewBox=\"0 0 24 24\"\n",
              "       width=\"24px\">\n",
              "    <path d=\"M0 0h24v24H0V0z\" fill=\"none\"/>\n",
              "    <path d=\"M18.56 5.44l.94 2.06.94-2.06 2.06-.94-2.06-.94-.94-2.06-.94 2.06-2.06.94zm-11 1L8.5 8.5l.94-2.06 2.06-.94-2.06-.94L8.5 2.5l-.94 2.06-2.06.94zm10 10l.94 2.06.94-2.06 2.06-.94-2.06-.94-.94-2.06-.94 2.06-2.06.94z\"/><path d=\"M17.41 7.96l-1.37-1.37c-.4-.4-.92-.59-1.43-.59-.52 0-1.04.2-1.43.59L10.3 9.45l-7.72 7.72c-.78.78-.78 2.05 0 2.83L4 21.41c.39.39.9.59 1.41.59.51 0 1.02-.2 1.41-.59l7.78-7.78 2.81-2.81c.8-.78.8-2.07 0-2.86zM5.41 20L4 18.59l7.72-7.72 1.47 1.35L5.41 20z\"/>\n",
              "  </svg>\n",
              "      </button>\n",
              "\n",
              "\n",
              "\n",
              "    <div id=\"df-3033f991-f90f-4244-a784-712af3790d7e\">\n",
              "      <button class=\"colab-df-quickchart\" onclick=\"quickchart('df-3033f991-f90f-4244-a784-712af3790d7e')\"\n",
              "              title=\"Suggest charts.\"\n",
              "              style=\"display:none;\">\n",
              "\n",
              "<svg xmlns=\"http://www.w3.org/2000/svg\" height=\"24px\"viewBox=\"0 0 24 24\"\n",
              "     width=\"24px\">\n",
              "    <g>\n",
              "        <path d=\"M19 3H5c-1.1 0-2 .9-2 2v14c0 1.1.9 2 2 2h14c1.1 0 2-.9 2-2V5c0-1.1-.9-2-2-2zM9 17H7v-7h2v7zm4 0h-2V7h2v10zm4 0h-2v-4h2v4z\"/>\n",
              "    </g>\n",
              "</svg>\n",
              "      </button>\n",
              "    </div>\n",
              "\n",
              "<style>\n",
              "  .colab-df-quickchart {\n",
              "    background-color: #E8F0FE;\n",
              "    border: none;\n",
              "    border-radius: 50%;\n",
              "    cursor: pointer;\n",
              "    display: none;\n",
              "    fill: #1967D2;\n",
              "    height: 32px;\n",
              "    padding: 0 0 0 0;\n",
              "    width: 32px;\n",
              "  }\n",
              "\n",
              "  .colab-df-quickchart:hover {\n",
              "    background-color: #E2EBFA;\n",
              "    box-shadow: 0px 1px 2px rgba(60, 64, 67, 0.3), 0px 1px 3px 1px rgba(60, 64, 67, 0.15);\n",
              "    fill: #174EA6;\n",
              "  }\n",
              "\n",
              "  [theme=dark] .colab-df-quickchart {\n",
              "    background-color: #3B4455;\n",
              "    fill: #D2E3FC;\n",
              "  }\n",
              "\n",
              "  [theme=dark] .colab-df-quickchart:hover {\n",
              "    background-color: #434B5C;\n",
              "    box-shadow: 0px 1px 3px 1px rgba(0, 0, 0, 0.15);\n",
              "    filter: drop-shadow(0px 1px 2px rgba(0, 0, 0, 0.3));\n",
              "    fill: #FFFFFF;\n",
              "  }\n",
              "</style>\n",
              "\n",
              "    <script>\n",
              "      async function quickchart(key) {\n",
              "        const containerElement = document.querySelector('#' + key);\n",
              "        const charts = await google.colab.kernel.invokeFunction(\n",
              "            'suggestCharts', [key], {});\n",
              "      }\n",
              "    </script>\n",
              "\n",
              "\n",
              "      <script>\n",
              "\n",
              "function displayQuickchartButton(domScope) {\n",
              "  let quickchartButtonEl =\n",
              "    domScope.querySelector('#df-3033f991-f90f-4244-a784-712af3790d7e button.colab-df-quickchart');\n",
              "  quickchartButtonEl.style.display =\n",
              "    google.colab.kernel.accessAllowed ? 'block' : 'none';\n",
              "}\n",
              "\n",
              "        displayQuickchartButton(document);\n",
              "      </script>\n",
              "      <style>\n",
              "    .colab-df-container {\n",
              "      display:flex;\n",
              "      flex-wrap:wrap;\n",
              "      gap: 12px;\n",
              "    }\n",
              "\n",
              "    .colab-df-convert {\n",
              "      background-color: #E8F0FE;\n",
              "      border: none;\n",
              "      border-radius: 50%;\n",
              "      cursor: pointer;\n",
              "      display: none;\n",
              "      fill: #1967D2;\n",
              "      height: 32px;\n",
              "      padding: 0 0 0 0;\n",
              "      width: 32px;\n",
              "    }\n",
              "\n",
              "    .colab-df-convert:hover {\n",
              "      background-color: #E2EBFA;\n",
              "      box-shadow: 0px 1px 2px rgba(60, 64, 67, 0.3), 0px 1px 3px 1px rgba(60, 64, 67, 0.15);\n",
              "      fill: #174EA6;\n",
              "    }\n",
              "\n",
              "    [theme=dark] .colab-df-convert {\n",
              "      background-color: #3B4455;\n",
              "      fill: #D2E3FC;\n",
              "    }\n",
              "\n",
              "    [theme=dark] .colab-df-convert:hover {\n",
              "      background-color: #434B5C;\n",
              "      box-shadow: 0px 1px 3px 1px rgba(0, 0, 0, 0.15);\n",
              "      filter: drop-shadow(0px 1px 2px rgba(0, 0, 0, 0.3));\n",
              "      fill: #FFFFFF;\n",
              "    }\n",
              "  </style>\n",
              "\n",
              "      <script>\n",
              "        const buttonEl =\n",
              "          document.querySelector('#df-4339c3d0-822f-4eba-a0bf-6803a17be07f button.colab-df-convert');\n",
              "        buttonEl.style.display =\n",
              "          google.colab.kernel.accessAllowed ? 'block' : 'none';\n",
              "\n",
              "        async function convertToInteractive(key) {\n",
              "          const element = document.querySelector('#df-4339c3d0-822f-4eba-a0bf-6803a17be07f');\n",
              "          const dataTable =\n",
              "            await google.colab.kernel.invokeFunction('convertToInteractive',\n",
              "                                                     [key], {});\n",
              "          if (!dataTable) return;\n",
              "\n",
              "          const docLinkHtml = 'Like what you see? Visit the ' +\n",
              "            '<a target=\"_blank\" href=https://colab.research.google.com/notebooks/data_table.ipynb>data table notebook</a>'\n",
              "            + ' to learn more about interactive tables.';\n",
              "          element.innerHTML = '';\n",
              "          dataTable['output_type'] = 'display_data';\n",
              "          await google.colab.output.renderOutput(dataTable, element);\n",
              "          const docLink = document.createElement('div');\n",
              "          docLink.innerHTML = docLinkHtml;\n",
              "          element.appendChild(docLink);\n",
              "        }\n",
              "      </script>\n",
              "    </div>\n",
              "  </div>\n"
            ]
          },
          "metadata": {},
          "execution_count": 129
        }
      ],
      "source": [
        "from sklearn.feature_selection import chi2\n",
        "best_features=SelectKBest(score_func=chi2,k=10)\n",
        "fit=best_features.fit(x,y)\n",
        "df_scores= pd.DataFrame(fit.scores_)\n",
        "df_col=pd.DataFrame(x.columns)\n",
        "features_score =pd.concat([df_col,df_scores], axis=1)\n",
        "features_score.columns=['feature','score']\n",
        "features_score.sort_values(by=['score'],ascending=False)"
      ]
    },
    {
      "cell_type": "code",
      "execution_count": null,
      "metadata": {
        "id": "3brE6ISOldsa",
        "colab": {
          "base_uri": "https://localhost:8080/"
        },
        "outputId": "e2253118-c195-4983-c634-d0b1b83d1231"
      },
      "outputs": [
        {
          "output_type": "stream",
          "name": "stderr",
          "text": [
            "/usr/local/lib/python3.10/dist-packages/ipykernel/ipkernel.py:283: DeprecationWarning:\n",
            "\n",
            "`should_run_async` will not call `transform_cell` automatically in the future. Please pass the result to `transformed_cell` argument and any exception that happen during thetransform in `preprocessing_exc_tuple` in IPython 7.17 and above.\n",
            "\n"
          ]
        },
        {
          "output_type": "execute_result",
          "data": {
            "text/plain": [
              "['CreditScore',\n",
              " 'MIP',\n",
              " 'Units',\n",
              " 'OCLTV',\n",
              " 'OrigUPB',\n",
              " 'OrigInterestRate',\n",
              " 'OrigLoanTerm',\n",
              " 'LoanPurpose_N',\n",
              " 'LoanPurpose_P',\n",
              " 'LTVRange',\n",
              " 'CreditRange_excellent',\n",
              " 'CreditRange_fair',\n",
              " 'CreditRange_good',\n",
              " 'CreditRange_poor',\n",
              " 'RepayRange_high']"
            ]
          },
          "metadata": {},
          "execution_count": 130
        }
      ],
      "source": [
        "selector=SelectKBest(mutual_info_classif,k=15)\n",
        "x_selected=selector.fit_transform(x,y)\n",
        "cols=selector.get_support(indices=True)\n",
        "selected_features = x.iloc[:,cols].columns.tolist()\n",
        "selected_features"
      ]
    },
    {
      "cell_type": "code",
      "execution_count": null,
      "metadata": {
        "id": "HYRLJOU2IbNC",
        "colab": {
          "base_uri": "https://localhost:8080/",
          "height": 523
        },
        "outputId": "b3f8118b-6c1d-4cc7-88bd-b8ca2b00848d"
      },
      "outputs": [
        {
          "output_type": "stream",
          "name": "stderr",
          "text": [
            "/usr/local/lib/python3.10/dist-packages/ipykernel/ipkernel.py:283: DeprecationWarning:\n",
            "\n",
            "`should_run_async` will not call `transform_cell` automatically in the future. Please pass the result to `transformed_cell` argument and any exception that happen during thetransform in `preprocessing_exc_tuple` in IPython 7.17 and above.\n",
            "\n"
          ]
        },
        {
          "output_type": "display_data",
          "data": {
            "text/plain": [
              "<Figure size 640x480 with 1 Axes>"
            ],
            "image/png": "[encoded data removed]"
          },
          "metadata": {}
        }
      ],
      "source": [
        "feat_imp=pd.Series(model.feature_importances_,index=x.columns)\n",
        "feat_imp.nlargest(20).plot(kind='barh')\n",
        "plt.show()"
      ]
    },
    {
      "cell_type": "markdown",
      "source": [
        "#Modelling"
      ],
      "metadata": {
        "id": "5RnG8hPf65y-"
      }
    },
    {
      "cell_type": "code",
      "execution_count": null,
      "metadata": {
        "id": "h3miyH2zgJox",
        "colab": {
          "base_uri": "https://localhost:8080/"
        },
        "outputId": "8da54286-3b36-4041-cc77-e00bb445ffc9"
      },
      "outputs": [
        {
          "output_type": "stream",
          "name": "stderr",
          "text": [
            "/usr/local/lib/python3.10/dist-packages/ipykernel/ipkernel.py:283: DeprecationWarning:\n",
            "\n",
            "`should_run_async` will not call `transform_cell` automatically in the future. Please pass the result to `transformed_cell` argument and any exception that happen during thetransform in `preprocessing_exc_tuple` in IPython 7.17 and above.\n",
            "\n"
          ]
        },
        {
          "output_type": "stream",
          "name": "stdout",
          "text": [
            "X_train shape: (173587, 6)\n",
            "X_test shape: (57863, 6)\n",
            "y_train shape: (173587,)\n",
            "y_test shape: (57863,)\n",
            "X_val shape: (173587,)\n",
            "y val shape: (57863,)\n"
          ]
        }
      ],
      "source": [
        "from sklearn.model_selection import train_test_split\n",
        "\n",
        "\n",
        "# separate features and labels\n",
        "import pandas as pd\n",
        "df_selected = pd.DataFrame(X_selected)\n",
        "# features = df_selected\n",
        "\n",
        "df_labels = pd.DataFrame(y)\n",
        "labels = df_labels[\"EverDelinquent\"]\n",
        "\n",
        "\n",
        "# Split the data into training and test sets\n",
        "X_train, X_test, y_train, y_test = train_test_split(features, labels, test_size=0.2, random_state=42)\n",
        "X_train, X_val, y_train, y_val = train_test_split(X_train, y_train,\n",
        "    test_size=0.25, random_state= 8)\n",
        "\n",
        "\n",
        "print(\"X_train shape: {}\".format(X_train.shape))\n",
        "print(\"X_test shape: {}\".format(X_test.shape))\n",
        "print(\"y_train shape: {}\".format(y_train.shape))\n",
        "print(\"y_test shape: {}\".format(y_test.shape))\n",
        "print(\"X_val shape: {}\".format(y_train.shape))\n",
        "print(\"y val shape: {}\".format(y_test.shape))\n"
      ]
    },
    {
      "cell_type": "code",
      "execution_count": null,
      "metadata": {
        "id": "zR0jSg64gcxE",
        "colab": {
          "base_uri": "https://localhost:8080/"
        },
        "outputId": "54c93349-c8d3-48ab-a961-a176a4d56637"
      },
      "outputs": [
        {
          "output_type": "stream",
          "name": "stderr",
          "text": [
            "/usr/local/lib/python3.10/dist-packages/ipykernel/ipkernel.py:283: DeprecationWarning:\n",
            "\n",
            "`should_run_async` will not call `transform_cell` automatically in the future. Please pass the result to `transformed_cell` argument and any exception that happen during thetransform in `preprocessing_exc_tuple` in IPython 7.17 and above.\n",
            "\n"
          ]
        },
        {
          "output_type": "execute_result",
          "data": {
            "text/plain": [
              "(289313, 6)"
            ]
          },
          "metadata": {},
          "execution_count": 142
        }
      ],
      "source": [
        "features.shape"
      ]
    },
    {
      "cell_type": "code",
      "execution_count": null,
      "metadata": {
        "id": "UJvIKqz3ge20",
        "colab": {
          "base_uri": "https://localhost:8080/"
        },
        "outputId": "e1ca5b79-4d9a-4333-9410-e09ceee7bc9e"
      },
      "outputs": [
        {
          "output_type": "stream",
          "name": "stderr",
          "text": [
            "/usr/local/lib/python3.10/dist-packages/ipykernel/ipkernel.py:283: DeprecationWarning:\n",
            "\n",
            "`should_run_async` will not call `transform_cell` automatically in the future. Please pass the result to `transformed_cell` argument and any exception that happen during thetransform in `preprocessing_exc_tuple` in IPython 7.17 and above.\n",
            "\n"
          ]
        },
        {
          "output_type": "execute_result",
          "data": {
            "text/plain": [
              "(289313,)"
            ]
          },
          "metadata": {},
          "execution_count": 143
        }
      ],
      "source": [
        "labels.shape"
      ]
    },
    {
      "cell_type": "code",
      "execution_count": null,
      "metadata": {
        "id": "i__cvxRHglXR",
        "colab": {
          "base_uri": "https://localhost:8080/"
        },
        "outputId": "bfc41283-521a-425b-b9b9-4ac6b8588db0"
      },
      "outputs": [
        {
          "output_type": "stream",
          "name": "stderr",
          "text": [
            "/usr/local/lib/python3.10/dist-packages/ipykernel/ipkernel.py:283: DeprecationWarning:\n",
            "\n",
            "`should_run_async` will not call `transform_cell` automatically in the future. Please pass the result to `transformed_cell` argument and any exception that happen during thetransform in `preprocessing_exc_tuple` in IPython 7.17 and above.\n",
            "\n"
          ]
        },
        {
          "output_type": "execute_result",
          "data": {
            "text/plain": [
              "0    231680\n",
              "1     57633\n",
              "Name: EverDelinquent, dtype: int64"
            ]
          },
          "metadata": {},
          "execution_count": 144
        }
      ],
      "source": [
        "labels.value_counts()"
      ]
    },
    {
      "cell_type": "code",
      "execution_count": null,
      "metadata": {
        "id": "4idOBSKTWkZc",
        "colab": {
          "base_uri": "https://localhost:8080/"
        },
        "outputId": "98b09ddd-b7ec-4e19-ba53-4264408f62d2"
      },
      "outputs": [
        {
          "output_type": "stream",
          "name": "stderr",
          "text": [
            "/usr/local/lib/python3.10/dist-packages/ipykernel/ipkernel.py:283: DeprecationWarning:\n",
            "\n",
            "`should_run_async` will not call `transform_cell` automatically in the future. Please pass the result to `transformed_cell` argument and any exception that happen during thetransform in `preprocessing_exc_tuple` in IPython 7.17 and above.\n",
            "\n",
            "<frozen importlib._bootstrap>:914: ImportWarning:\n",
            "\n",
            "APICoreClientInfoImportHook.find_spec() not found; falling back to find_module()\n",
            "\n",
            "<frozen importlib._bootstrap>:914: ImportWarning:\n",
            "\n",
            "_PyDriveImportHook.find_spec() not found; falling back to find_module()\n",
            "\n",
            "<frozen importlib._bootstrap>:914: ImportWarning:\n",
            "\n",
            "_OpenCVImportHook.find_spec() not found; falling back to find_module()\n",
            "\n",
            "<frozen importlib._bootstrap>:914: ImportWarning:\n",
            "\n",
            "_BokehImportHook.find_spec() not found; falling back to find_module()\n",
            "\n",
            "<frozen importlib._bootstrap>:914: ImportWarning:\n",
            "\n",
            "_AltairImportHook.find_spec() not found; falling back to find_module()\n",
            "\n",
            "<frozen importlib._bootstrap>:914: ImportWarning:\n",
            "\n",
            "APICoreClientInfoImportHook.find_spec() not found; falling back to find_module()\n",
            "\n",
            "<frozen importlib._bootstrap>:914: ImportWarning:\n",
            "\n",
            "_PyDriveImportHook.find_spec() not found; falling back to find_module()\n",
            "\n",
            "<frozen importlib._bootstrap>:914: ImportWarning:\n",
            "\n",
            "_OpenCVImportHook.find_spec() not found; falling back to find_module()\n",
            "\n",
            "<frozen importlib._bootstrap>:914: ImportWarning:\n",
            "\n",
            "_BokehImportHook.find_spec() not found; falling back to find_module()\n",
            "\n",
            "<frozen importlib._bootstrap>:914: ImportWarning:\n",
            "\n",
            "_AltairImportHook.find_spec() not found; falling back to find_module()\n",
            "\n",
            "<frozen importlib._bootstrap>:914: ImportWarning:\n",
            "\n",
            "APICoreClientInfoImportHook.find_spec() not found; falling back to find_module()\n",
            "\n",
            "<frozen importlib._bootstrap>:914: ImportWarning:\n",
            "\n",
            "_PyDriveImportHook.find_spec() not found; falling back to find_module()\n",
            "\n",
            "<frozen importlib._bootstrap>:914: ImportWarning:\n",
            "\n",
            "_OpenCVImportHook.find_spec() not found; falling back to find_module()\n",
            "\n",
            "<frozen importlib._bootstrap>:914: ImportWarning:\n",
            "\n",
            "_BokehImportHook.find_spec() not found; falling back to find_module()\n",
            "\n",
            "<frozen importlib._bootstrap>:914: ImportWarning:\n",
            "\n",
            "_AltairImportHook.find_spec() not found; falling back to find_module()\n",
            "\n",
            "<frozen importlib._bootstrap>:914: ImportWarning:\n",
            "\n",
            "APICoreClientInfoImportHook.find_spec() not found; falling back to find_module()\n",
            "\n",
            "<frozen importlib._bootstrap>:914: ImportWarning:\n",
            "\n",
            "_PyDriveImportHook.find_spec() not found; falling back to find_module()\n",
            "\n",
            "<frozen importlib._bootstrap>:914: ImportWarning:\n",
            "\n",
            "_OpenCVImportHook.find_spec() not found; falling back to find_module()\n",
            "\n",
            "<frozen importlib._bootstrap>:914: ImportWarning:\n",
            "\n",
            "_BokehImportHook.find_spec() not found; falling back to find_module()\n",
            "\n",
            "<frozen importlib._bootstrap>:914: ImportWarning:\n",
            "\n",
            "_AltairImportHook.find_spec() not found; falling back to find_module()\n",
            "\n",
            "<frozen importlib._bootstrap>:914: ImportWarning:\n",
            "\n",
            "APICoreClientInfoImportHook.find_spec() not found; falling back to find_module()\n",
            "\n",
            "<frozen importlib._bootstrap>:914: ImportWarning:\n",
            "\n",
            "_PyDriveImportHook.find_spec() not found; falling back to find_module()\n",
            "\n",
            "<frozen importlib._bootstrap>:914: ImportWarning:\n",
            "\n",
            "_OpenCVImportHook.find_spec() not found; falling back to find_module()\n",
            "\n",
            "<frozen importlib._bootstrap>:914: ImportWarning:\n",
            "\n",
            "_BokehImportHook.find_spec() not found; falling back to find_module()\n",
            "\n",
            "<frozen importlib._bootstrap>:914: ImportWarning:\n",
            "\n",
            "_AltairImportHook.find_spec() not found; falling back to find_module()\n",
            "\n",
            "<frozen importlib._bootstrap>:914: ImportWarning:\n",
            "\n",
            "APICoreClientInfoImportHook.find_spec() not found; falling back to find_module()\n",
            "\n",
            "<frozen importlib._bootstrap>:914: ImportWarning:\n",
            "\n",
            "_PyDriveImportHook.find_spec() not found; falling back to find_module()\n",
            "\n",
            "<frozen importlib._bootstrap>:914: ImportWarning:\n",
            "\n",
            "_OpenCVImportHook.find_spec() not found; falling back to find_module()\n",
            "\n",
            "<frozen importlib._bootstrap>:914: ImportWarning:\n",
            "\n",
            "_BokehImportHook.find_spec() not found; falling back to find_module()\n",
            "\n",
            "<frozen importlib._bootstrap>:914: ImportWarning:\n",
            "\n",
            "_AltairImportHook.find_spec() not found; falling back to find_module()\n",
            "\n",
            "<frozen importlib._bootstrap>:914: ImportWarning:\n",
            "\n",
            "APICoreClientInfoImportHook.find_spec() not found; falling back to find_module()\n",
            "\n",
            "<frozen importlib._bootstrap>:914: ImportWarning:\n",
            "\n",
            "_PyDriveImportHook.find_spec() not found; falling back to find_module()\n",
            "\n",
            "<frozen importlib._bootstrap>:914: ImportWarning:\n",
            "\n",
            "_OpenCVImportHook.find_spec() not found; falling back to find_module()\n",
            "\n",
            "<frozen importlib._bootstrap>:914: ImportWarning:\n",
            "\n",
            "_BokehImportHook.find_spec() not found; falling back to find_module()\n",
            "\n",
            "<frozen importlib._bootstrap>:914: ImportWarning:\n",
            "\n",
            "_AltairImportHook.find_spec() not found; falling back to find_module()\n",
            "\n",
            "<frozen importlib._bootstrap>:914: ImportWarning:\n",
            "\n",
            "APICoreClientInfoImportHook.find_spec() not found; falling back to find_module()\n",
            "\n",
            "<frozen importlib._bootstrap>:914: ImportWarning:\n",
            "\n",
            "_PyDriveImportHook.find_spec() not found; falling back to find_module()\n",
            "\n",
            "<frozen importlib._bootstrap>:914: ImportWarning:\n",
            "\n",
            "_OpenCVImportHook.find_spec() not found; falling back to find_module()\n",
            "\n",
            "<frozen importlib._bootstrap>:914: ImportWarning:\n",
            "\n",
            "_BokehImportHook.find_spec() not found; falling back to find_module()\n",
            "\n",
            "<frozen importlib._bootstrap>:914: ImportWarning:\n",
            "\n",
            "_AltairImportHook.find_spec() not found; falling back to find_module()\n",
            "\n",
            "<frozen importlib._bootstrap>:914: ImportWarning:\n",
            "\n",
            "APICoreClientInfoImportHook.find_spec() not found; falling back to find_module()\n",
            "\n",
            "<frozen importlib._bootstrap>:914: ImportWarning:\n",
            "\n",
            "_PyDriveImportHook.find_spec() not found; falling back to find_module()\n",
            "\n",
            "<frozen importlib._bootstrap>:914: ImportWarning:\n",
            "\n",
            "_OpenCVImportHook.find_spec() not found; falling back to find_module()\n",
            "\n",
            "<frozen importlib._bootstrap>:914: ImportWarning:\n",
            "\n",
            "_BokehImportHook.find_spec() not found; falling back to find_module()\n",
            "\n",
            "<frozen importlib._bootstrap>:914: ImportWarning:\n",
            "\n",
            "_AltairImportHook.find_spec() not found; falling back to find_module()\n",
            "\n",
            "<frozen importlib._bootstrap>:914: ImportWarning:\n",
            "\n",
            "APICoreClientInfoImportHook.find_spec() not found; falling back to find_module()\n",
            "\n",
            "<frozen importlib._bootstrap>:914: ImportWarning:\n",
            "\n",
            "_PyDriveImportHook.find_spec() not found; falling back to find_module()\n",
            "\n",
            "<frozen importlib._bootstrap>:914: ImportWarning:\n",
            "\n",
            "_OpenCVImportHook.find_spec() not found; falling back to find_module()\n",
            "\n",
            "<frozen importlib._bootstrap>:914: ImportWarning:\n",
            "\n",
            "_BokehImportHook.find_spec() not found; falling back to find_module()\n",
            "\n",
            "<frozen importlib._bootstrap>:914: ImportWarning:\n",
            "\n",
            "_AltairImportHook.find_spec() not found; falling back to find_module()\n",
            "\n",
            "<frozen importlib._bootstrap>:914: ImportWarning:\n",
            "\n",
            "APICoreClientInfoImportHook.find_spec() not found; falling back to find_module()\n",
            "\n",
            "<frozen importlib._bootstrap>:914: ImportWarning:\n",
            "\n",
            "_PyDriveImportHook.find_spec() not found; falling back to find_module()\n",
            "\n",
            "<frozen importlib._bootstrap>:914: ImportWarning:\n",
            "\n",
            "_OpenCVImportHook.find_spec() not found; falling back to find_module()\n",
            "\n",
            "<frozen importlib._bootstrap>:914: ImportWarning:\n",
            "\n",
            "_BokehImportHook.find_spec() not found; falling back to find_module()\n",
            "\n",
            "<frozen importlib._bootstrap>:914: ImportWarning:\n",
            "\n",
            "_AltairImportHook.find_spec() not found; falling back to find_module()\n",
            "\n",
            "<frozen importlib._bootstrap>:914: ImportWarning:\n",
            "\n",
            "APICoreClientInfoImportHook.find_spec() not found; falling back to find_module()\n",
            "\n",
            "<frozen importlib._bootstrap>:914: ImportWarning:\n",
            "\n",
            "_PyDriveImportHook.find_spec() not found; falling back to find_module()\n",
            "\n",
            "<frozen importlib._bootstrap>:914: ImportWarning:\n",
            "\n",
            "_OpenCVImportHook.find_spec() not found; falling back to find_module()\n",
            "\n",
            "<frozen importlib._bootstrap>:914: ImportWarning:\n",
            "\n",
            "_BokehImportHook.find_spec() not found; falling back to find_module()\n",
            "\n",
            "<frozen importlib._bootstrap>:914: ImportWarning:\n",
            "\n",
            "_AltairImportHook.find_spec() not found; falling back to find_module()\n",
            "\n",
            "<frozen importlib._bootstrap>:914: ImportWarning:\n",
            "\n",
            "APICoreClientInfoImportHook.find_spec() not found; falling back to find_module()\n",
            "\n",
            "<frozen importlib._bootstrap>:914: ImportWarning:\n",
            "\n",
            "_PyDriveImportHook.find_spec() not found; falling back to find_module()\n",
            "\n",
            "<frozen importlib._bootstrap>:914: ImportWarning:\n",
            "\n",
            "_OpenCVImportHook.find_spec() not found; falling back to find_module()\n",
            "\n",
            "<frozen importlib._bootstrap>:914: ImportWarning:\n",
            "\n",
            "_BokehImportHook.find_spec() not found; falling back to find_module()\n",
            "\n",
            "<frozen importlib._bootstrap>:914: ImportWarning:\n",
            "\n",
            "_AltairImportHook.find_spec() not found; falling back to find_module()\n",
            "\n",
            "<frozen importlib._bootstrap>:914: ImportWarning:\n",
            "\n",
            "APICoreClientInfoImportHook.find_spec() not found; falling back to find_module()\n",
            "\n",
            "<frozen importlib._bootstrap>:914: ImportWarning:\n",
            "\n",
            "_PyDriveImportHook.find_spec() not found; falling back to find_module()\n",
            "\n",
            "<frozen importlib._bootstrap>:914: ImportWarning:\n",
            "\n",
            "_OpenCVImportHook.find_spec() not found; falling back to find_module()\n",
            "\n",
            "<frozen importlib._bootstrap>:914: ImportWarning:\n",
            "\n",
            "_BokehImportHook.find_spec() not found; falling back to find_module()\n",
            "\n",
            "<frozen importlib._bootstrap>:914: ImportWarning:\n",
            "\n",
            "_AltairImportHook.find_spec() not found; falling back to find_module()\n",
            "\n",
            "<frozen importlib._bootstrap>:914: ImportWarning:\n",
            "\n",
            "APICoreClientInfoImportHook.find_spec() not found; falling back to find_module()\n",
            "\n",
            "<frozen importlib._bootstrap>:914: ImportWarning:\n",
            "\n",
            "_PyDriveImportHook.find_spec() not found; falling back to find_module()\n",
            "\n",
            "<frozen importlib._bootstrap>:914: ImportWarning:\n",
            "\n",
            "_OpenCVImportHook.find_spec() not found; falling back to find_module()\n",
            "\n",
            "<frozen importlib._bootstrap>:914: ImportWarning:\n",
            "\n",
            "_BokehImportHook.find_spec() not found; falling back to find_module()\n",
            "\n",
            "<frozen importlib._bootstrap>:914: ImportWarning:\n",
            "\n",
            "_AltairImportHook.find_spec() not found; falling back to find_module()\n",
            "\n",
            "<frozen importlib._bootstrap>:914: ImportWarning:\n",
            "\n",
            "APICoreClientInfoImportHook.find_spec() not found; falling back to find_module()\n",
            "\n",
            "<frozen importlib._bootstrap>:914: ImportWarning:\n",
            "\n",
            "_PyDriveImportHook.find_spec() not found; falling back to find_module()\n",
            "\n",
            "<frozen importlib._bootstrap>:914: ImportWarning:\n",
            "\n",
            "_OpenCVImportHook.find_spec() not found; falling back to find_module()\n",
            "\n",
            "<frozen importlib._bootstrap>:914: ImportWarning:\n",
            "\n",
            "_BokehImportHook.find_spec() not found; falling back to find_module()\n",
            "\n",
            "<frozen importlib._bootstrap>:914: ImportWarning:\n",
            "\n",
            "_AltairImportHook.find_spec() not found; falling back to find_module()\n",
            "\n",
            "<frozen importlib._bootstrap>:914: ImportWarning:\n",
            "\n",
            "APICoreClientInfoImportHook.find_spec() not found; falling back to find_module()\n",
            "\n",
            "<frozen importlib._bootstrap>:914: ImportWarning:\n",
            "\n",
            "_PyDriveImportHook.find_spec() not found; falling back to find_module()\n",
            "\n",
            "<frozen importlib._bootstrap>:914: ImportWarning:\n",
            "\n",
            "_OpenCVImportHook.find_spec() not found; falling back to find_module()\n",
            "\n",
            "<frozen importlib._bootstrap>:914: ImportWarning:\n",
            "\n",
            "_BokehImportHook.find_spec() not found; falling back to find_module()\n",
            "\n",
            "<frozen importlib._bootstrap>:914: ImportWarning:\n",
            "\n",
            "_AltairImportHook.find_spec() not found; falling back to find_module()\n",
            "\n",
            "<frozen importlib._bootstrap>:914: ImportWarning:\n",
            "\n",
            "APICoreClientInfoImportHook.find_spec() not found; falling back to find_module()\n",
            "\n",
            "<frozen importlib._bootstrap>:914: ImportWarning:\n",
            "\n",
            "_PyDriveImportHook.find_spec() not found; falling back to find_module()\n",
            "\n",
            "<frozen importlib._bootstrap>:914: ImportWarning:\n",
            "\n",
            "_OpenCVImportHook.find_spec() not found; falling back to find_module()\n",
            "\n",
            "<frozen importlib._bootstrap>:914: ImportWarning:\n",
            "\n",
            "_BokehImportHook.find_spec() not found; falling back to find_module()\n",
            "\n",
            "<frozen importlib._bootstrap>:914: ImportWarning:\n",
            "\n",
            "_AltairImportHook.find_spec() not found; falling back to find_module()\n",
            "\n",
            "<frozen importlib._bootstrap>:914: ImportWarning:\n",
            "\n",
            "APICoreClientInfoImportHook.find_spec() not found; falling back to find_module()\n",
            "\n",
            "<frozen importlib._bootstrap>:914: ImportWarning:\n",
            "\n",
            "_PyDriveImportHook.find_spec() not found; falling back to find_module()\n",
            "\n",
            "<frozen importlib._bootstrap>:914: ImportWarning:\n",
            "\n",
            "_OpenCVImportHook.find_spec() not found; falling back to find_module()\n",
            "\n",
            "<frozen importlib._bootstrap>:914: ImportWarning:\n",
            "\n",
            "_BokehImportHook.find_spec() not found; falling back to find_module()\n",
            "\n",
            "<frozen importlib._bootstrap>:914: ImportWarning:\n",
            "\n",
            "_AltairImportHook.find_spec() not found; falling back to find_module()\n",
            "\n",
            "<frozen importlib._bootstrap>:914: ImportWarning:\n",
            "\n",
            "APICoreClientInfoImportHook.find_spec() not found; falling back to find_module()\n",
            "\n",
            "<frozen importlib._bootstrap>:914: ImportWarning:\n",
            "\n",
            "_PyDriveImportHook.find_spec() not found; falling back to find_module()\n",
            "\n",
            "<frozen importlib._bootstrap>:914: ImportWarning:\n",
            "\n",
            "_OpenCVImportHook.find_spec() not found; falling back to find_module()\n",
            "\n",
            "<frozen importlib._bootstrap>:914: ImportWarning:\n",
            "\n",
            "_BokehImportHook.find_spec() not found; falling back to find_module()\n",
            "\n",
            "<frozen importlib._bootstrap>:914: ImportWarning:\n",
            "\n",
            "_AltairImportHook.find_spec() not found; falling back to find_module()\n",
            "\n",
            "<frozen importlib._bootstrap>:914: ImportWarning:\n",
            "\n",
            "APICoreClientInfoImportHook.find_spec() not found; falling back to find_module()\n",
            "\n",
            "<frozen importlib._bootstrap>:914: ImportWarning:\n",
            "\n",
            "_PyDriveImportHook.find_spec() not found; falling back to find_module()\n",
            "\n",
            "<frozen importlib._bootstrap>:914: ImportWarning:\n",
            "\n",
            "_OpenCVImportHook.find_spec() not found; falling back to find_module()\n",
            "\n",
            "<frozen importlib._bootstrap>:914: ImportWarning:\n",
            "\n",
            "_BokehImportHook.find_spec() not found; falling back to find_module()\n",
            "\n",
            "<frozen importlib._bootstrap>:914: ImportWarning:\n",
            "\n",
            "_AltairImportHook.find_spec() not found; falling back to find_module()\n",
            "\n",
            "<frozen importlib._bootstrap>:914: ImportWarning:\n",
            "\n",
            "APICoreClientInfoImportHook.find_spec() not found; falling back to find_module()\n",
            "\n",
            "<frozen importlib._bootstrap>:914: ImportWarning:\n",
            "\n",
            "_PyDriveImportHook.find_spec() not found; falling back to find_module()\n",
            "\n",
            "<frozen importlib._bootstrap>:914: ImportWarning:\n",
            "\n",
            "_OpenCVImportHook.find_spec() not found; falling back to find_module()\n",
            "\n",
            "<frozen importlib._bootstrap>:914: ImportWarning:\n",
            "\n",
            "_BokehImportHook.find_spec() not found; falling back to find_module()\n",
            "\n",
            "<frozen importlib._bootstrap>:914: ImportWarning:\n",
            "\n",
            "_AltairImportHook.find_spec() not found; falling back to find_module()\n",
            "\n",
            "<frozen importlib._bootstrap>:914: ImportWarning:\n",
            "\n",
            "APICoreClientInfoImportHook.find_spec() not found; falling back to find_module()\n",
            "\n",
            "<frozen importlib._bootstrap>:914: ImportWarning:\n",
            "\n",
            "_PyDriveImportHook.find_spec() not found; falling back to find_module()\n",
            "\n",
            "<frozen importlib._bootstrap>:914: ImportWarning:\n",
            "\n",
            "_OpenCVImportHook.find_spec() not found; falling back to find_module()\n",
            "\n",
            "<frozen importlib._bootstrap>:914: ImportWarning:\n",
            "\n",
            "_BokehImportHook.find_spec() not found; falling back to find_module()\n",
            "\n",
            "<frozen importlib._bootstrap>:914: ImportWarning:\n",
            "\n",
            "_AltairImportHook.find_spec() not found; falling back to find_module()\n",
            "\n",
            "<frozen importlib._bootstrap>:914: ImportWarning:\n",
            "\n",
            "APICoreClientInfoImportHook.find_spec() not found; falling back to find_module()\n",
            "\n",
            "<frozen importlib._bootstrap>:914: ImportWarning:\n",
            "\n",
            "_PyDriveImportHook.find_spec() not found; falling back to find_module()\n",
            "\n",
            "<frozen importlib._bootstrap>:914: ImportWarning:\n",
            "\n",
            "_OpenCVImportHook.find_spec() not found; falling back to find_module()\n",
            "\n",
            "<frozen importlib._bootstrap>:914: ImportWarning:\n",
            "\n",
            "_BokehImportHook.find_spec() not found; falling back to find_module()\n",
            "\n",
            "<frozen importlib._bootstrap>:914: ImportWarning:\n",
            "\n",
            "_AltairImportHook.find_spec() not found; falling back to find_module()\n",
            "\n",
            "<frozen importlib._bootstrap>:914: ImportWarning:\n",
            "\n",
            "APICoreClientInfoImportHook.find_spec() not found; falling back to find_module()\n",
            "\n",
            "<frozen importlib._bootstrap>:914: ImportWarning:\n",
            "\n",
            "_PyDriveImportHook.find_spec() not found; falling back to find_module()\n",
            "\n",
            "<frozen importlib._bootstrap>:914: ImportWarning:\n",
            "\n",
            "_OpenCVImportHook.find_spec() not found; falling back to find_module()\n",
            "\n",
            "<frozen importlib._bootstrap>:914: ImportWarning:\n",
            "\n",
            "_BokehImportHook.find_spec() not found; falling back to find_module()\n",
            "\n",
            "<frozen importlib._bootstrap>:914: ImportWarning:\n",
            "\n",
            "_AltairImportHook.find_spec() not found; falling back to find_module()\n",
            "\n",
            "<frozen importlib._bootstrap>:914: ImportWarning:\n",
            "\n",
            "APICoreClientInfoImportHook.find_spec() not found; falling back to find_module()\n",
            "\n",
            "<frozen importlib._bootstrap>:914: ImportWarning:\n",
            "\n",
            "_PyDriveImportHook.find_spec() not found; falling back to find_module()\n",
            "\n",
            "<frozen importlib._bootstrap>:914: ImportWarning:\n",
            "\n",
            "_OpenCVImportHook.find_spec() not found; falling back to find_module()\n",
            "\n",
            "<frozen importlib._bootstrap>:914: ImportWarning:\n",
            "\n",
            "_BokehImportHook.find_spec() not found; falling back to find_module()\n",
            "\n",
            "<frozen importlib._bootstrap>:914: ImportWarning:\n",
            "\n",
            "_AltairImportHook.find_spec() not found; falling back to find_module()\n",
            "\n",
            "<frozen importlib._bootstrap>:914: ImportWarning:\n",
            "\n",
            "APICoreClientInfoImportHook.find_spec() not found; falling back to find_module()\n",
            "\n",
            "<frozen importlib._bootstrap>:914: ImportWarning:\n",
            "\n",
            "_PyDriveImportHook.find_spec() not found; falling back to find_module()\n",
            "\n",
            "<frozen importlib._bootstrap>:914: ImportWarning:\n",
            "\n",
            "_OpenCVImportHook.find_spec() not found; falling back to find_module()\n",
            "\n",
            "<frozen importlib._bootstrap>:914: ImportWarning:\n",
            "\n",
            "_BokehImportHook.find_spec() not found; falling back to find_module()\n",
            "\n",
            "<frozen importlib._bootstrap>:914: ImportWarning:\n",
            "\n",
            "_AltairImportHook.find_spec() not found; falling back to find_module()\n",
            "\n",
            "<frozen importlib._bootstrap>:914: ImportWarning:\n",
            "\n",
            "APICoreClientInfoImportHook.find_spec() not found; falling back to find_module()\n",
            "\n",
            "<frozen importlib._bootstrap>:914: ImportWarning:\n",
            "\n",
            "_PyDriveImportHook.find_spec() not found; falling back to find_module()\n",
            "\n",
            "<frozen importlib._bootstrap>:914: ImportWarning:\n",
            "\n",
            "_OpenCVImportHook.find_spec() not found; falling back to find_module()\n",
            "\n",
            "<frozen importlib._bootstrap>:914: ImportWarning:\n",
            "\n",
            "_BokehImportHook.find_spec() not found; falling back to find_module()\n",
            "\n",
            "<frozen importlib._bootstrap>:914: ImportWarning:\n",
            "\n",
            "_AltairImportHook.find_spec() not found; falling back to find_module()\n",
            "\n",
            "<frozen importlib._bootstrap>:914: ImportWarning:\n",
            "\n",
            "APICoreClientInfoImportHook.find_spec() not found; falling back to find_module()\n",
            "\n",
            "<frozen importlib._bootstrap>:914: ImportWarning:\n",
            "\n",
            "_PyDriveImportHook.find_spec() not found; falling back to find_module()\n",
            "\n",
            "<frozen importlib._bootstrap>:914: ImportWarning:\n",
            "\n",
            "_OpenCVImportHook.find_spec() not found; falling back to find_module()\n",
            "\n",
            "<frozen importlib._bootstrap>:914: ImportWarning:\n",
            "\n",
            "_BokehImportHook.find_spec() not found; falling back to find_module()\n",
            "\n",
            "<frozen importlib._bootstrap>:914: ImportWarning:\n",
            "\n",
            "_AltairImportHook.find_spec() not found; falling back to find_module()\n",
            "\n",
            "<frozen importlib._bootstrap>:914: ImportWarning:\n",
            "\n",
            "APICoreClientInfoImportHook.find_spec() not found; falling back to find_module()\n",
            "\n",
            "<frozen importlib._bootstrap>:914: ImportWarning:\n",
            "\n",
            "_PyDriveImportHook.find_spec() not found; falling back to find_module()\n",
            "\n",
            "<frozen importlib._bootstrap>:914: ImportWarning:\n",
            "\n",
            "_OpenCVImportHook.find_spec() not found; falling back to find_module()\n",
            "\n",
            "<frozen importlib._bootstrap>:914: ImportWarning:\n",
            "\n",
            "_BokehImportHook.find_spec() not found; falling back to find_module()\n",
            "\n",
            "<frozen importlib._bootstrap>:914: ImportWarning:\n",
            "\n",
            "_AltairImportHook.find_spec() not found; falling back to find_module()\n",
            "\n",
            "<frozen importlib._bootstrap>:914: ImportWarning:\n",
            "\n",
            "APICoreClientInfoImportHook.find_spec() not found; falling back to find_module()\n",
            "\n",
            "<frozen importlib._bootstrap>:914: ImportWarning:\n",
            "\n",
            "_PyDriveImportHook.find_spec() not found; falling back to find_module()\n",
            "\n",
            "<frozen importlib._bootstrap>:914: ImportWarning:\n",
            "\n",
            "_OpenCVImportHook.find_spec() not found; falling back to find_module()\n",
            "\n",
            "<frozen importlib._bootstrap>:914: ImportWarning:\n",
            "\n",
            "_BokehImportHook.find_spec() not found; falling back to find_module()\n",
            "\n",
            "<frozen importlib._bootstrap>:914: ImportWarning:\n",
            "\n",
            "_AltairImportHook.find_spec() not found; falling back to find_module()\n",
            "\n",
            "<frozen importlib._bootstrap>:914: ImportWarning:\n",
            "\n",
            "APICoreClientInfoImportHook.find_spec() not found; falling back to find_module()\n",
            "\n",
            "<frozen importlib._bootstrap>:914: ImportWarning:\n",
            "\n",
            "_PyDriveImportHook.find_spec() not found; falling back to find_module()\n",
            "\n",
            "<frozen importlib._bootstrap>:914: ImportWarning:\n",
            "\n",
            "_OpenCVImportHook.find_spec() not found; falling back to find_module()\n",
            "\n",
            "<frozen importlib._bootstrap>:914: ImportWarning:\n",
            "\n",
            "_BokehImportHook.find_spec() not found; falling back to find_module()\n",
            "\n",
            "<frozen importlib._bootstrap>:914: ImportWarning:\n",
            "\n",
            "_AltairImportHook.find_spec() not found; falling back to find_module()\n",
            "\n",
            "<frozen importlib._bootstrap>:914: ImportWarning:\n",
            "\n",
            "APICoreClientInfoImportHook.find_spec() not found; falling back to find_module()\n",
            "\n",
            "<frozen importlib._bootstrap>:914: ImportWarning:\n",
            "\n",
            "_PyDriveImportHook.find_spec() not found; falling back to find_module()\n",
            "\n",
            "<frozen importlib._bootstrap>:914: ImportWarning:\n",
            "\n",
            "_OpenCVImportHook.find_spec() not found; falling back to find_module()\n",
            "\n",
            "<frozen importlib._bootstrap>:914: ImportWarning:\n",
            "\n",
            "_BokehImportHook.find_spec() not found; falling back to find_module()\n",
            "\n",
            "<frozen importlib._bootstrap>:914: ImportWarning:\n",
            "\n",
            "_AltairImportHook.find_spec() not found; falling back to find_module()\n",
            "\n",
            "<frozen importlib._bootstrap>:914: ImportWarning:\n",
            "\n",
            "APICoreClientInfoImportHook.find_spec() not found; falling back to find_module()\n",
            "\n",
            "<frozen importlib._bootstrap>:914: ImportWarning:\n",
            "\n",
            "_PyDriveImportHook.find_spec() not found; falling back to find_module()\n",
            "\n",
            "<frozen importlib._bootstrap>:914: ImportWarning:\n",
            "\n",
            "_OpenCVImportHook.find_spec() not found; falling back to find_module()\n",
            "\n",
            "<frozen importlib._bootstrap>:914: ImportWarning:\n",
            "\n",
            "_BokehImportHook.find_spec() not found; falling back to find_module()\n",
            "\n",
            "<frozen importlib._bootstrap>:914: ImportWarning:\n",
            "\n",
            "_AltairImportHook.find_spec() not found; falling back to find_module()\n",
            "\n",
            "<frozen importlib._bootstrap>:914: ImportWarning:\n",
            "\n",
            "APICoreClientInfoImportHook.find_spec() not found; falling back to find_module()\n",
            "\n",
            "<frozen importlib._bootstrap>:914: ImportWarning:\n",
            "\n",
            "_PyDriveImportHook.find_spec() not found; falling back to find_module()\n",
            "\n",
            "<frozen importlib._bootstrap>:914: ImportWarning:\n",
            "\n",
            "_OpenCVImportHook.find_spec() not found; falling back to find_module()\n",
            "\n",
            "<frozen importlib._bootstrap>:914: ImportWarning:\n",
            "\n",
            "_BokehImportHook.find_spec() not found; falling back to find_module()\n",
            "\n",
            "<frozen importlib._bootstrap>:914: ImportWarning:\n",
            "\n",
            "_AltairImportHook.find_spec() not found; falling back to find_module()\n",
            "\n",
            "<frozen importlib._bootstrap>:914: ImportWarning:\n",
            "\n",
            "APICoreClientInfoImportHook.find_spec() not found; falling back to find_module()\n",
            "\n",
            "<frozen importlib._bootstrap>:914: ImportWarning:\n",
            "\n",
            "_PyDriveImportHook.find_spec() not found; falling back to find_module()\n",
            "\n",
            "<frozen importlib._bootstrap>:914: ImportWarning:\n",
            "\n",
            "_OpenCVImportHook.find_spec() not found; falling back to find_module()\n",
            "\n",
            "<frozen importlib._bootstrap>:914: ImportWarning:\n",
            "\n",
            "_BokehImportHook.find_spec() not found; falling back to find_module()\n",
            "\n",
            "<frozen importlib._bootstrap>:914: ImportWarning:\n",
            "\n",
            "_AltairImportHook.find_spec() not found; falling back to find_module()\n",
            "\n",
            "<frozen importlib._bootstrap>:914: ImportWarning:\n",
            "\n",
            "APICoreClientInfoImportHook.find_spec() not found; falling back to find_module()\n",
            "\n",
            "<frozen importlib._bootstrap>:914: ImportWarning:\n",
            "\n",
            "_PyDriveImportHook.find_spec() not found; falling back to find_module()\n",
            "\n",
            "<frozen importlib._bootstrap>:914: ImportWarning:\n",
            "\n",
            "_OpenCVImportHook.find_spec() not found; falling back to find_module()\n",
            "\n",
            "<frozen importlib._bootstrap>:914: ImportWarning:\n",
            "\n",
            "_BokehImportHook.find_spec() not found; falling back to find_module()\n",
            "\n",
            "<frozen importlib._bootstrap>:914: ImportWarning:\n",
            "\n",
            "_AltairImportHook.find_spec() not found; falling back to find_module()\n",
            "\n",
            "<frozen importlib._bootstrap>:914: ImportWarning:\n",
            "\n",
            "APICoreClientInfoImportHook.find_spec() not found; falling back to find_module()\n",
            "\n",
            "<frozen importlib._bootstrap>:914: ImportWarning:\n",
            "\n",
            "_PyDriveImportHook.find_spec() not found; falling back to find_module()\n",
            "\n",
            "<frozen importlib._bootstrap>:914: ImportWarning:\n",
            "\n",
            "_OpenCVImportHook.find_spec() not found; falling back to find_module()\n",
            "\n",
            "<frozen importlib._bootstrap>:914: ImportWarning:\n",
            "\n",
            "_BokehImportHook.find_spec() not found; falling back to find_module()\n",
            "\n",
            "<frozen importlib._bootstrap>:914: ImportWarning:\n",
            "\n",
            "_AltairImportHook.find_spec() not found; falling back to find_module()\n",
            "\n",
            "<frozen importlib._bootstrap>:914: ImportWarning:\n",
            "\n",
            "APICoreClientInfoImportHook.find_spec() not found; falling back to find_module()\n",
            "\n",
            "<frozen importlib._bootstrap>:914: ImportWarning:\n",
            "\n",
            "_PyDriveImportHook.find_spec() not found; falling back to find_module()\n",
            "\n",
            "<frozen importlib._bootstrap>:914: ImportWarning:\n",
            "\n",
            "_OpenCVImportHook.find_spec() not found; falling back to find_module()\n",
            "\n",
            "<frozen importlib._bootstrap>:914: ImportWarning:\n",
            "\n",
            "_BokehImportHook.find_spec() not found; falling back to find_module()\n",
            "\n",
            "<frozen importlib._bootstrap>:914: ImportWarning:\n",
            "\n",
            "_AltairImportHook.find_spec() not found; falling back to find_module()\n",
            "\n",
            "<frozen importlib._bootstrap>:914: ImportWarning:\n",
            "\n",
            "APICoreClientInfoImportHook.find_spec() not found; falling back to find_module()\n",
            "\n",
            "<frozen importlib._bootstrap>:914: ImportWarning:\n",
            "\n",
            "_PyDriveImportHook.find_spec() not found; falling back to find_module()\n",
            "\n",
            "<frozen importlib._bootstrap>:914: ImportWarning:\n",
            "\n",
            "_OpenCVImportHook.find_spec() not found; falling back to find_module()\n",
            "\n",
            "<frozen importlib._bootstrap>:914: ImportWarning:\n",
            "\n",
            "_BokehImportHook.find_spec() not found; falling back to find_module()\n",
            "\n",
            "<frozen importlib._bootstrap>:914: ImportWarning:\n",
            "\n",
            "_AltairImportHook.find_spec() not found; falling back to find_module()\n",
            "\n",
            "<frozen importlib._bootstrap>:914: ImportWarning:\n",
            "\n",
            "APICoreClientInfoImportHook.find_spec() not found; falling back to find_module()\n",
            "\n",
            "<frozen importlib._bootstrap>:914: ImportWarning:\n",
            "\n",
            "_PyDriveImportHook.find_spec() not found; falling back to find_module()\n",
            "\n",
            "<frozen importlib._bootstrap>:914: ImportWarning:\n",
            "\n",
            "_OpenCVImportHook.find_spec() not found; falling back to find_module()\n",
            "\n",
            "<frozen importlib._bootstrap>:914: ImportWarning:\n",
            "\n",
            "_BokehImportHook.find_spec() not found; falling back to find_module()\n",
            "\n",
            "<frozen importlib._bootstrap>:914: ImportWarning:\n",
            "\n",
            "_AltairImportHook.find_spec() not found; falling back to find_module()\n",
            "\n",
            "<frozen importlib._bootstrap>:914: ImportWarning:\n",
            "\n",
            "APICoreClientInfoImportHook.find_spec() not found; falling back to find_module()\n",
            "\n",
            "<frozen importlib._bootstrap>:914: ImportWarning:\n",
            "\n",
            "_PyDriveImportHook.find_spec() not found; falling back to find_module()\n",
            "\n",
            "<frozen importlib._bootstrap>:914: ImportWarning:\n",
            "\n",
            "_OpenCVImportHook.find_spec() not found; falling back to find_module()\n",
            "\n",
            "<frozen importlib._bootstrap>:914: ImportWarning:\n",
            "\n",
            "_BokehImportHook.find_spec() not found; falling back to find_module()\n",
            "\n",
            "<frozen importlib._bootstrap>:914: ImportWarning:\n",
            "\n",
            "_AltairImportHook.find_spec() not found; falling back to find_module()\n",
            "\n",
            "<frozen importlib._bootstrap>:914: ImportWarning:\n",
            "\n",
            "APICoreClientInfoImportHook.find_spec() not found; falling back to find_module()\n",
            "\n",
            "<frozen importlib._bootstrap>:914: ImportWarning:\n",
            "\n",
            "_PyDriveImportHook.find_spec() not found; falling back to find_module()\n",
            "\n",
            "<frozen importlib._bootstrap>:914: ImportWarning:\n",
            "\n",
            "_OpenCVImportHook.find_spec() not found; falling back to find_module()\n",
            "\n",
            "<frozen importlib._bootstrap>:914: ImportWarning:\n",
            "\n",
            "_BokehImportHook.find_spec() not found; falling back to find_module()\n",
            "\n",
            "<frozen importlib._bootstrap>:914: ImportWarning:\n",
            "\n",
            "_AltairImportHook.find_spec() not found; falling back to find_module()\n",
            "\n",
            "<frozen importlib._bootstrap>:914: ImportWarning:\n",
            "\n",
            "APICoreClientInfoImportHook.find_spec() not found; falling back to find_module()\n",
            "\n",
            "<frozen importlib._bootstrap>:914: ImportWarning:\n",
            "\n",
            "_PyDriveImportHook.find_spec() not found; falling back to find_module()\n",
            "\n",
            "<frozen importlib._bootstrap>:914: ImportWarning:\n",
            "\n",
            "_OpenCVImportHook.find_spec() not found; falling back to find_module()\n",
            "\n",
            "<frozen importlib._bootstrap>:914: ImportWarning:\n",
            "\n",
            "_BokehImportHook.find_spec() not found; falling back to find_module()\n",
            "\n",
            "<frozen importlib._bootstrap>:914: ImportWarning:\n",
            "\n",
            "_AltairImportHook.find_spec() not found; falling back to find_module()\n",
            "\n",
            "<frozen importlib._bootstrap>:914: ImportWarning:\n",
            "\n",
            "APICoreClientInfoImportHook.find_spec() not found; falling back to find_module()\n",
            "\n",
            "<frozen importlib._bootstrap>:914: ImportWarning:\n",
            "\n",
            "_PyDriveImportHook.find_spec() not found; falling back to find_module()\n",
            "\n",
            "<frozen importlib._bootstrap>:914: ImportWarning:\n",
            "\n",
            "_OpenCVImportHook.find_spec() not found; falling back to find_module()\n",
            "\n",
            "<frozen importlib._bootstrap>:914: ImportWarning:\n",
            "\n",
            "_BokehImportHook.find_spec() not found; falling back to find_module()\n",
            "\n",
            "<frozen importlib._bootstrap>:914: ImportWarning:\n",
            "\n",
            "_AltairImportHook.find_spec() not found; falling back to find_module()\n",
            "\n",
            "<frozen importlib._bootstrap>:914: ImportWarning:\n",
            "\n",
            "APICoreClientInfoImportHook.find_spec() not found; falling back to find_module()\n",
            "\n",
            "<frozen importlib._bootstrap>:914: ImportWarning:\n",
            "\n",
            "_PyDriveImportHook.find_spec() not found; falling back to find_module()\n",
            "\n",
            "<frozen importlib._bootstrap>:914: ImportWarning:\n",
            "\n",
            "_OpenCVImportHook.find_spec() not found; falling back to find_module()\n",
            "\n",
            "<frozen importlib._bootstrap>:914: ImportWarning:\n",
            "\n",
            "_BokehImportHook.find_spec() not found; falling back to find_module()\n",
            "\n",
            "<frozen importlib._bootstrap>:914: ImportWarning:\n",
            "\n",
            "_AltairImportHook.find_spec() not found; falling back to find_module()\n",
            "\n",
            "<frozen importlib._bootstrap>:914: ImportWarning:\n",
            "\n",
            "APICoreClientInfoImportHook.find_spec() not found; falling back to find_module()\n",
            "\n",
            "<frozen importlib._bootstrap>:914: ImportWarning:\n",
            "\n",
            "_PyDriveImportHook.find_spec() not found; falling back to find_module()\n",
            "\n",
            "<frozen importlib._bootstrap>:914: ImportWarning:\n",
            "\n",
            "_OpenCVImportHook.find_spec() not found; falling back to find_module()\n",
            "\n",
            "<frozen importlib._bootstrap>:914: ImportWarning:\n",
            "\n",
            "_BokehImportHook.find_spec() not found; falling back to find_module()\n",
            "\n",
            "<frozen importlib._bootstrap>:914: ImportWarning:\n",
            "\n",
            "_AltairImportHook.find_spec() not found; falling back to find_module()\n",
            "\n",
            "<frozen importlib._bootstrap>:914: ImportWarning:\n",
            "\n",
            "APICoreClientInfoImportHook.find_spec() not found; falling back to find_module()\n",
            "\n",
            "<frozen importlib._bootstrap>:914: ImportWarning:\n",
            "\n",
            "_PyDriveImportHook.find_spec() not found; falling back to find_module()\n",
            "\n",
            "<frozen importlib._bootstrap>:914: ImportWarning:\n",
            "\n",
            "_OpenCVImportHook.find_spec() not found; falling back to find_module()\n",
            "\n",
            "<frozen importlib._bootstrap>:914: ImportWarning:\n",
            "\n",
            "_BokehImportHook.find_spec() not found; falling back to find_module()\n",
            "\n",
            "<frozen importlib._bootstrap>:914: ImportWarning:\n",
            "\n",
            "_AltairImportHook.find_spec() not found; falling back to find_module()\n",
            "\n",
            "<frozen importlib._bootstrap>:914: ImportWarning:\n",
            "\n",
            "APICoreClientInfoImportHook.find_spec() not found; falling back to find_module()\n",
            "\n",
            "<frozen importlib._bootstrap>:914: ImportWarning:\n",
            "\n",
            "_PyDriveImportHook.find_spec() not found; falling back to find_module()\n",
            "\n",
            "<frozen importlib._bootstrap>:914: ImportWarning:\n",
            "\n",
            "_OpenCVImportHook.find_spec() not found; falling back to find_module()\n",
            "\n",
            "<frozen importlib._bootstrap>:914: ImportWarning:\n",
            "\n",
            "_BokehImportHook.find_spec() not found; falling back to find_module()\n",
            "\n",
            "<frozen importlib._bootstrap>:914: ImportWarning:\n",
            "\n",
            "_AltairImportHook.find_spec() not found; falling back to find_module()\n",
            "\n",
            "<frozen importlib._bootstrap>:914: ImportWarning:\n",
            "\n",
            "APICoreClientInfoImportHook.find_spec() not found; falling back to find_module()\n",
            "\n",
            "<frozen importlib._bootstrap>:914: ImportWarning:\n",
            "\n",
            "_PyDriveImportHook.find_spec() not found; falling back to find_module()\n",
            "\n",
            "<frozen importlib._bootstrap>:914: ImportWarning:\n",
            "\n",
            "_OpenCVImportHook.find_spec() not found; falling back to find_module()\n",
            "\n",
            "<frozen importlib._bootstrap>:914: ImportWarning:\n",
            "\n",
            "_BokehImportHook.find_spec() not found; falling back to find_module()\n",
            "\n",
            "<frozen importlib._bootstrap>:914: ImportWarning:\n",
            "\n",
            "_AltairImportHook.find_spec() not found; falling back to find_module()\n",
            "\n",
            "<frozen importlib._bootstrap>:914: ImportWarning:\n",
            "\n",
            "APICoreClientInfoImportHook.find_spec() not found; falling back to find_module()\n",
            "\n",
            "<frozen importlib._bootstrap>:914: ImportWarning:\n",
            "\n",
            "_PyDriveImportHook.find_spec() not found; falling back to find_module()\n",
            "\n",
            "<frozen importlib._bootstrap>:914: ImportWarning:\n",
            "\n",
            "_OpenCVImportHook.find_spec() not found; falling back to find_module()\n",
            "\n",
            "<frozen importlib._bootstrap>:914: ImportWarning:\n",
            "\n",
            "_BokehImportHook.find_spec() not found; falling back to find_module()\n",
            "\n",
            "<frozen importlib._bootstrap>:914: ImportWarning:\n",
            "\n",
            "_AltairImportHook.find_spec() not found; falling back to find_module()\n",
            "\n",
            "<frozen importlib._bootstrap>:914: ImportWarning:\n",
            "\n",
            "APICoreClientInfoImportHook.find_spec() not found; falling back to find_module()\n",
            "\n",
            "<frozen importlib._bootstrap>:914: ImportWarning:\n",
            "\n",
            "_PyDriveImportHook.find_spec() not found; falling back to find_module()\n",
            "\n",
            "<frozen importlib._bootstrap>:914: ImportWarning:\n",
            "\n",
            "_OpenCVImportHook.find_spec() not found; falling back to find_module()\n",
            "\n",
            "<frozen importlib._bootstrap>:914: ImportWarning:\n",
            "\n",
            "_BokehImportHook.find_spec() not found; falling back to find_module()\n",
            "\n",
            "<frozen importlib._bootstrap>:914: ImportWarning:\n",
            "\n",
            "_AltairImportHook.find_spec() not found; falling back to find_module()\n",
            "\n",
            "<frozen importlib._bootstrap>:914: ImportWarning:\n",
            "\n",
            "APICoreClientInfoImportHook.find_spec() not found; falling back to find_module()\n",
            "\n",
            "<frozen importlib._bootstrap>:914: ImportWarning:\n",
            "\n",
            "_PyDriveImportHook.find_spec() not found; falling back to find_module()\n",
            "\n",
            "<frozen importlib._bootstrap>:914: ImportWarning:\n",
            "\n",
            "_OpenCVImportHook.find_spec() not found; falling back to find_module()\n",
            "\n",
            "<frozen importlib._bootstrap>:914: ImportWarning:\n",
            "\n",
            "_BokehImportHook.find_spec() not found; falling back to find_module()\n",
            "\n",
            "<frozen importlib._bootstrap>:914: ImportWarning:\n",
            "\n",
            "_AltairImportHook.find_spec() not found; falling back to find_module()\n",
            "\n",
            "<frozen importlib._bootstrap>:914: ImportWarning:\n",
            "\n",
            "APICoreClientInfoImportHook.find_spec() not found; falling back to find_module()\n",
            "\n",
            "<frozen importlib._bootstrap>:914: ImportWarning:\n",
            "\n",
            "_PyDriveImportHook.find_spec() not found; falling back to find_module()\n",
            "\n",
            "<frozen importlib._bootstrap>:914: ImportWarning:\n",
            "\n",
            "_OpenCVImportHook.find_spec() not found; falling back to find_module()\n",
            "\n",
            "<frozen importlib._bootstrap>:914: ImportWarning:\n",
            "\n",
            "_BokehImportHook.find_spec() not found; falling back to find_module()\n",
            "\n",
            "<frozen importlib._bootstrap>:914: ImportWarning:\n",
            "\n",
            "_AltairImportHook.find_spec() not found; falling back to find_module()\n",
            "\n",
            "<frozen importlib._bootstrap>:914: ImportWarning:\n",
            "\n",
            "APICoreClientInfoImportHook.find_spec() not found; falling back to find_module()\n",
            "\n",
            "<frozen importlib._bootstrap>:914: ImportWarning:\n",
            "\n",
            "_PyDriveImportHook.find_spec() not found; falling back to find_module()\n",
            "\n",
            "<frozen importlib._bootstrap>:914: ImportWarning:\n",
            "\n",
            "_OpenCVImportHook.find_spec() not found; falling back to find_module()\n",
            "\n",
            "<frozen importlib._bootstrap>:914: ImportWarning:\n",
            "\n",
            "_BokehImportHook.find_spec() not found; falling back to find_module()\n",
            "\n",
            "<frozen importlib._bootstrap>:914: ImportWarning:\n",
            "\n",
            "_AltairImportHook.find_spec() not found; falling back to find_module()\n",
            "\n",
            "<frozen importlib._bootstrap>:914: ImportWarning:\n",
            "\n",
            "APICoreClientInfoImportHook.find_spec() not found; falling back to find_module()\n",
            "\n",
            "<frozen importlib._bootstrap>:914: ImportWarning:\n",
            "\n",
            "_PyDriveImportHook.find_spec() not found; falling back to find_module()\n",
            "\n",
            "<frozen importlib._bootstrap>:914: ImportWarning:\n",
            "\n",
            "_OpenCVImportHook.find_spec() not found; falling back to find_module()\n",
            "\n",
            "<frozen importlib._bootstrap>:914: ImportWarning:\n",
            "\n",
            "_BokehImportHook.find_spec() not found; falling back to find_module()\n",
            "\n",
            "<frozen importlib._bootstrap>:914: ImportWarning:\n",
            "\n",
            "_AltairImportHook.find_spec() not found; falling back to find_module()\n",
            "\n",
            "<frozen importlib._bootstrap>:914: ImportWarning:\n",
            "\n",
            "APICoreClientInfoImportHook.find_spec() not found; falling back to find_module()\n",
            "\n",
            "<frozen importlib._bootstrap>:914: ImportWarning:\n",
            "\n",
            "_PyDriveImportHook.find_spec() not found; falling back to find_module()\n",
            "\n",
            "<frozen importlib._bootstrap>:914: ImportWarning:\n",
            "\n",
            "_OpenCVImportHook.find_spec() not found; falling back to find_module()\n",
            "\n",
            "<frozen importlib._bootstrap>:914: ImportWarning:\n",
            "\n",
            "_BokehImportHook.find_spec() not found; falling back to find_module()\n",
            "\n",
            "<frozen importlib._bootstrap>:914: ImportWarning:\n",
            "\n",
            "_AltairImportHook.find_spec() not found; falling back to find_module()\n",
            "\n",
            "<frozen importlib._bootstrap>:914: ImportWarning:\n",
            "\n",
            "APICoreClientInfoImportHook.find_spec() not found; falling back to find_module()\n",
            "\n",
            "<frozen importlib._bootstrap>:914: ImportWarning:\n",
            "\n",
            "_PyDriveImportHook.find_spec() not found; falling back to find_module()\n",
            "\n",
            "<frozen importlib._bootstrap>:914: ImportWarning:\n",
            "\n",
            "_OpenCVImportHook.find_spec() not found; falling back to find_module()\n",
            "\n",
            "<frozen importlib._bootstrap>:914: ImportWarning:\n",
            "\n",
            "_BokehImportHook.find_spec() not found; falling back to find_module()\n",
            "\n",
            "<frozen importlib._bootstrap>:914: ImportWarning:\n",
            "\n",
            "_AltairImportHook.find_spec() not found; falling back to find_module()\n",
            "\n",
            "<frozen importlib._bootstrap>:914: ImportWarning:\n",
            "\n",
            "APICoreClientInfoImportHook.find_spec() not found; falling back to find_module()\n",
            "\n",
            "<frozen importlib._bootstrap>:914: ImportWarning:\n",
            "\n",
            "_PyDriveImportHook.find_spec() not found; falling back to find_module()\n",
            "\n",
            "<frozen importlib._bootstrap>:914: ImportWarning:\n",
            "\n",
            "_OpenCVImportHook.find_spec() not found; falling back to find_module()\n",
            "\n",
            "<frozen importlib._bootstrap>:914: ImportWarning:\n",
            "\n",
            "_BokehImportHook.find_spec() not found; falling back to find_module()\n",
            "\n",
            "<frozen importlib._bootstrap>:914: ImportWarning:\n",
            "\n",
            "_AltairImportHook.find_spec() not found; falling back to find_module()\n",
            "\n",
            "<frozen importlib._bootstrap>:914: ImportWarning:\n",
            "\n",
            "APICoreClientInfoImportHook.find_spec() not found; falling back to find_module()\n",
            "\n",
            "<frozen importlib._bootstrap>:914: ImportWarning:\n",
            "\n",
            "_PyDriveImportHook.find_spec() not found; falling back to find_module()\n",
            "\n",
            "<frozen importlib._bootstrap>:914: ImportWarning:\n",
            "\n",
            "_OpenCVImportHook.find_spec() not found; falling back to find_module()\n",
            "\n",
            "<frozen importlib._bootstrap>:914: ImportWarning:\n",
            "\n",
            "_BokehImportHook.find_spec() not found; falling back to find_module()\n",
            "\n",
            "<frozen importlib._bootstrap>:914: ImportWarning:\n",
            "\n",
            "_AltairImportHook.find_spec() not found; falling back to find_module()\n",
            "\n",
            "<frozen importlib._bootstrap>:914: ImportWarning:\n",
            "\n",
            "APICoreClientInfoImportHook.find_spec() not found; falling back to find_module()\n",
            "\n",
            "<frozen importlib._bootstrap>:914: ImportWarning:\n",
            "\n",
            "_PyDriveImportHook.find_spec() not found; falling back to find_module()\n",
            "\n",
            "<frozen importlib._bootstrap>:914: ImportWarning:\n",
            "\n",
            "_OpenCVImportHook.find_spec() not found; falling back to find_module()\n",
            "\n",
            "<frozen importlib._bootstrap>:914: ImportWarning:\n",
            "\n",
            "_BokehImportHook.find_spec() not found; falling back to find_module()\n",
            "\n",
            "<frozen importlib._bootstrap>:914: ImportWarning:\n",
            "\n",
            "_AltairImportHook.find_spec() not found; falling back to find_module()\n",
            "\n",
            "<frozen importlib._bootstrap>:914: ImportWarning:\n",
            "\n",
            "APICoreClientInfoImportHook.find_spec() not found; falling back to find_module()\n",
            "\n",
            "<frozen importlib._bootstrap>:914: ImportWarning:\n",
            "\n",
            "_PyDriveImportHook.find_spec() not found; falling back to find_module()\n",
            "\n",
            "<frozen importlib._bootstrap>:914: ImportWarning:\n",
            "\n",
            "_OpenCVImportHook.find_spec() not found; falling back to find_module()\n",
            "\n",
            "<frozen importlib._bootstrap>:914: ImportWarning:\n",
            "\n",
            "_BokehImportHook.find_spec() not found; falling back to find_module()\n",
            "\n",
            "<frozen importlib._bootstrap>:914: ImportWarning:\n",
            "\n",
            "_AltairImportHook.find_spec() not found; falling back to find_module()\n",
            "\n",
            "<frozen importlib._bootstrap>:914: ImportWarning:\n",
            "\n",
            "APICoreClientInfoImportHook.find_spec() not found; falling back to find_module()\n",
            "\n",
            "<frozen importlib._bootstrap>:914: ImportWarning:\n",
            "\n",
            "_PyDriveImportHook.find_spec() not found; falling back to find_module()\n",
            "\n",
            "<frozen importlib._bootstrap>:914: ImportWarning:\n",
            "\n",
            "_OpenCVImportHook.find_spec() not found; falling back to find_module()\n",
            "\n",
            "<frozen importlib._bootstrap>:914: ImportWarning:\n",
            "\n",
            "_BokehImportHook.find_spec() not found; falling back to find_module()\n",
            "\n",
            "<frozen importlib._bootstrap>:914: ImportWarning:\n",
            "\n",
            "_AltairImportHook.find_spec() not found; falling back to find_module()\n",
            "\n",
            "<frozen importlib._bootstrap>:914: ImportWarning:\n",
            "\n",
            "APICoreClientInfoImportHook.find_spec() not found; falling back to find_module()\n",
            "\n",
            "<frozen importlib._bootstrap>:914: ImportWarning:\n",
            "\n",
            "_PyDriveImportHook.find_spec() not found; falling back to find_module()\n",
            "\n",
            "<frozen importlib._bootstrap>:914: ImportWarning:\n",
            "\n",
            "_OpenCVImportHook.find_spec() not found; falling back to find_module()\n",
            "\n",
            "<frozen importlib._bootstrap>:914: ImportWarning:\n",
            "\n",
            "_BokehImportHook.find_spec() not found; falling back to find_module()\n",
            "\n",
            "<frozen importlib._bootstrap>:914: ImportWarning:\n",
            "\n",
            "_AltairImportHook.find_spec() not found; falling back to find_module()\n",
            "\n",
            "<frozen importlib._bootstrap>:914: ImportWarning:\n",
            "\n",
            "APICoreClientInfoImportHook.find_spec() not found; falling back to find_module()\n",
            "\n",
            "<frozen importlib._bootstrap>:914: ImportWarning:\n",
            "\n",
            "_PyDriveImportHook.find_spec() not found; falling back to find_module()\n",
            "\n",
            "<frozen importlib._bootstrap>:914: ImportWarning:\n",
            "\n",
            "_OpenCVImportHook.find_spec() not found; falling back to find_module()\n",
            "\n",
            "<frozen importlib._bootstrap>:914: ImportWarning:\n",
            "\n",
            "_BokehImportHook.find_spec() not found; falling back to find_module()\n",
            "\n",
            "<frozen importlib._bootstrap>:914: ImportWarning:\n",
            "\n",
            "_AltairImportHook.find_spec() not found; falling back to find_module()\n",
            "\n",
            "<frozen importlib._bootstrap>:914: ImportWarning:\n",
            "\n",
            "APICoreClientInfoImportHook.find_spec() not found; falling back to find_module()\n",
            "\n",
            "<frozen importlib._bootstrap>:914: ImportWarning:\n",
            "\n",
            "_PyDriveImportHook.find_spec() not found; falling back to find_module()\n",
            "\n",
            "<frozen importlib._bootstrap>:914: ImportWarning:\n",
            "\n",
            "_OpenCVImportHook.find_spec() not found; falling back to find_module()\n",
            "\n",
            "<frozen importlib._bootstrap>:914: ImportWarning:\n",
            "\n",
            "_BokehImportHook.find_spec() not found; falling back to find_module()\n",
            "\n",
            "<frozen importlib._bootstrap>:914: ImportWarning:\n",
            "\n",
            "_AltairImportHook.find_spec() not found; falling back to find_module()\n",
            "\n",
            "<frozen importlib._bootstrap>:914: ImportWarning:\n",
            "\n",
            "APICoreClientInfoImportHook.find_spec() not found; falling back to find_module()\n",
            "\n",
            "<frozen importlib._bootstrap>:914: ImportWarning:\n",
            "\n",
            "_PyDriveImportHook.find_spec() not found; falling back to find_module()\n",
            "\n",
            "<frozen importlib._bootstrap>:914: ImportWarning:\n",
            "\n",
            "_OpenCVImportHook.find_spec() not found; falling back to find_module()\n",
            "\n",
            "<frozen importlib._bootstrap>:914: ImportWarning:\n",
            "\n",
            "_BokehImportHook.find_spec() not found; falling back to find_module()\n",
            "\n",
            "<frozen importlib._bootstrap>:914: ImportWarning:\n",
            "\n",
            "_AltairImportHook.find_spec() not found; falling back to find_module()\n",
            "\n",
            "<frozen importlib._bootstrap>:914: ImportWarning:\n",
            "\n",
            "APICoreClientInfoImportHook.find_spec() not found; falling back to find_module()\n",
            "\n",
            "<frozen importlib._bootstrap>:914: ImportWarning:\n",
            "\n",
            "_PyDriveImportHook.find_spec() not found; falling back to find_module()\n",
            "\n",
            "<frozen importlib._bootstrap>:914: ImportWarning:\n",
            "\n",
            "_OpenCVImportHook.find_spec() not found; falling back to find_module()\n",
            "\n",
            "<frozen importlib._bootstrap>:914: ImportWarning:\n",
            "\n",
            "_BokehImportHook.find_spec() not found; falling back to find_module()\n",
            "\n",
            "<frozen importlib._bootstrap>:914: ImportWarning:\n",
            "\n",
            "_AltairImportHook.find_spec() not found; falling back to find_module()\n",
            "\n",
            "<frozen importlib._bootstrap>:914: ImportWarning:\n",
            "\n",
            "APICoreClientInfoImportHook.find_spec() not found; falling back to find_module()\n",
            "\n",
            "<frozen importlib._bootstrap>:914: ImportWarning:\n",
            "\n",
            "_PyDriveImportHook.find_spec() not found; falling back to find_module()\n",
            "\n",
            "<frozen importlib._bootstrap>:914: ImportWarning:\n",
            "\n",
            "_OpenCVImportHook.find_spec() not found; falling back to find_module()\n",
            "\n",
            "<frozen importlib._bootstrap>:914: ImportWarning:\n",
            "\n",
            "_BokehImportHook.find_spec() not found; falling back to find_module()\n",
            "\n",
            "<frozen importlib._bootstrap>:914: ImportWarning:\n",
            "\n",
            "_AltairImportHook.find_spec() not found; falling back to find_module()\n",
            "\n",
            "<frozen importlib._bootstrap>:914: ImportWarning:\n",
            "\n",
            "APICoreClientInfoImportHook.find_spec() not found; falling back to find_module()\n",
            "\n",
            "<frozen importlib._bootstrap>:914: ImportWarning:\n",
            "\n",
            "_PyDriveImportHook.find_spec() not found; falling back to find_module()\n",
            "\n",
            "<frozen importlib._bootstrap>:914: ImportWarning:\n",
            "\n",
            "_OpenCVImportHook.find_spec() not found; falling back to find_module()\n",
            "\n",
            "<frozen importlib._bootstrap>:914: ImportWarning:\n",
            "\n",
            "_BokehImportHook.find_spec() not found; falling back to find_module()\n",
            "\n",
            "<frozen importlib._bootstrap>:914: ImportWarning:\n",
            "\n",
            "_AltairImportHook.find_spec() not found; falling back to find_module()\n",
            "\n",
            "<frozen importlib._bootstrap>:914: ImportWarning:\n",
            "\n",
            "APICoreClientInfoImportHook.find_spec() not found; falling back to find_module()\n",
            "\n",
            "<frozen importlib._bootstrap>:914: ImportWarning:\n",
            "\n",
            "_PyDriveImportHook.find_spec() not found; falling back to find_module()\n",
            "\n",
            "<frozen importlib._bootstrap>:914: ImportWarning:\n",
            "\n",
            "_OpenCVImportHook.find_spec() not found; falling back to find_module()\n",
            "\n",
            "<frozen importlib._bootstrap>:914: ImportWarning:\n",
            "\n",
            "_BokehImportHook.find_spec() not found; falling back to find_module()\n",
            "\n",
            "<frozen importlib._bootstrap>:914: ImportWarning:\n",
            "\n",
            "_AltairImportHook.find_spec() not found; falling back to find_module()\n",
            "\n",
            "<frozen importlib._bootstrap>:914: ImportWarning:\n",
            "\n",
            "APICoreClientInfoImportHook.find_spec() not found; falling back to find_module()\n",
            "\n",
            "<frozen importlib._bootstrap>:914: ImportWarning:\n",
            "\n",
            "_PyDriveImportHook.find_spec() not found; falling back to find_module()\n",
            "\n",
            "<frozen importlib._bootstrap>:914: ImportWarning:\n",
            "\n",
            "_OpenCVImportHook.find_spec() not found; falling back to find_module()\n",
            "\n",
            "<frozen importlib._bootstrap>:914: ImportWarning:\n",
            "\n",
            "_BokehImportHook.find_spec() not found; falling back to find_module()\n",
            "\n",
            "<frozen importlib._bootstrap>:914: ImportWarning:\n",
            "\n",
            "_AltairImportHook.find_spec() not found; falling back to find_module()\n",
            "\n",
            "<frozen importlib._bootstrap>:914: ImportWarning:\n",
            "\n",
            "APICoreClientInfoImportHook.find_spec() not found; falling back to find_module()\n",
            "\n",
            "<frozen importlib._bootstrap>:914: ImportWarning:\n",
            "\n",
            "_PyDriveImportHook.find_spec() not found; falling back to find_module()\n",
            "\n",
            "<frozen importlib._bootstrap>:914: ImportWarning:\n",
            "\n",
            "_OpenCVImportHook.find_spec() not found; falling back to find_module()\n",
            "\n",
            "<frozen importlib._bootstrap>:914: ImportWarning:\n",
            "\n",
            "_BokehImportHook.find_spec() not found; falling back to find_module()\n",
            "\n",
            "<frozen importlib._bootstrap>:914: ImportWarning:\n",
            "\n",
            "_AltairImportHook.find_spec() not found; falling back to find_module()\n",
            "\n",
            "<frozen importlib._bootstrap>:914: ImportWarning:\n",
            "\n",
            "APICoreClientInfoImportHook.find_spec() not found; falling back to find_module()\n",
            "\n",
            "<frozen importlib._bootstrap>:914: ImportWarning:\n",
            "\n",
            "_PyDriveImportHook.find_spec() not found; falling back to find_module()\n",
            "\n",
            "<frozen importlib._bootstrap>:914: ImportWarning:\n",
            "\n",
            "_OpenCVImportHook.find_spec() not found; falling back to find_module()\n",
            "\n",
            "<frozen importlib._bootstrap>:914: ImportWarning:\n",
            "\n",
            "_BokehImportHook.find_spec() not found; falling back to find_module()\n",
            "\n",
            "<frozen importlib._bootstrap>:914: ImportWarning:\n",
            "\n",
            "_AltairImportHook.find_spec() not found; falling back to find_module()\n",
            "\n",
            "<frozen importlib._bootstrap>:914: ImportWarning:\n",
            "\n",
            "APICoreClientInfoImportHook.find_spec() not found; falling back to find_module()\n",
            "\n",
            "<frozen importlib._bootstrap>:914: ImportWarning:\n",
            "\n",
            "_PyDriveImportHook.find_spec() not found; falling back to find_module()\n",
            "\n",
            "<frozen importlib._bootstrap>:914: ImportWarning:\n",
            "\n",
            "_OpenCVImportHook.find_spec() not found; falling back to find_module()\n",
            "\n",
            "<frozen importlib._bootstrap>:914: ImportWarning:\n",
            "\n",
            "_BokehImportHook.find_spec() not found; falling back to find_module()\n",
            "\n",
            "<frozen importlib._bootstrap>:914: ImportWarning:\n",
            "\n",
            "_AltairImportHook.find_spec() not found; falling back to find_module()\n",
            "\n",
            "<frozen importlib._bootstrap>:914: ImportWarning:\n",
            "\n",
            "APICoreClientInfoImportHook.find_spec() not found; falling back to find_module()\n",
            "\n",
            "<frozen importlib._bootstrap>:914: ImportWarning:\n",
            "\n",
            "_PyDriveImportHook.find_spec() not found; falling back to find_module()\n",
            "\n",
            "<frozen importlib._bootstrap>:914: ImportWarning:\n",
            "\n",
            "_OpenCVImportHook.find_spec() not found; falling back to find_module()\n",
            "\n",
            "<frozen importlib._bootstrap>:914: ImportWarning:\n",
            "\n",
            "_BokehImportHook.find_spec() not found; falling back to find_module()\n",
            "\n",
            "<frozen importlib._bootstrap>:914: ImportWarning:\n",
            "\n",
            "_AltairImportHook.find_spec() not found; falling back to find_module()\n",
            "\n",
            "<frozen importlib._bootstrap>:914: ImportWarning:\n",
            "\n",
            "APICoreClientInfoImportHook.find_spec() not found; falling back to find_module()\n",
            "\n",
            "<frozen importlib._bootstrap>:914: ImportWarning:\n",
            "\n",
            "_PyDriveImportHook.find_spec() not found; falling back to find_module()\n",
            "\n",
            "<frozen importlib._bootstrap>:914: ImportWarning:\n",
            "\n",
            "_OpenCVImportHook.find_spec() not found; falling back to find_module()\n",
            "\n",
            "<frozen importlib._bootstrap>:914: ImportWarning:\n",
            "\n",
            "_BokehImportHook.find_spec() not found; falling back to find_module()\n",
            "\n",
            "<frozen importlib._bootstrap>:914: ImportWarning:\n",
            "\n",
            "_AltairImportHook.find_spec() not found; falling back to find_module()\n",
            "\n",
            "<frozen importlib._bootstrap>:914: ImportWarning:\n",
            "\n",
            "APICoreClientInfoImportHook.find_spec() not found; falling back to find_module()\n",
            "\n",
            "<frozen importlib._bootstrap>:914: ImportWarning:\n",
            "\n",
            "_PyDriveImportHook.find_spec() not found; falling back to find_module()\n",
            "\n",
            "<frozen importlib._bootstrap>:914: ImportWarning:\n",
            "\n",
            "_OpenCVImportHook.find_spec() not found; falling back to find_module()\n",
            "\n",
            "<frozen importlib._bootstrap>:914: ImportWarning:\n",
            "\n",
            "_BokehImportHook.find_spec() not found; falling back to find_module()\n",
            "\n",
            "<frozen importlib._bootstrap>:914: ImportWarning:\n",
            "\n",
            "_AltairImportHook.find_spec() not found; falling back to find_module()\n",
            "\n",
            "<frozen importlib._bootstrap>:914: ImportWarning:\n",
            "\n",
            "APICoreClientInfoImportHook.find_spec() not found; falling back to find_module()\n",
            "\n",
            "<frozen importlib._bootstrap>:914: ImportWarning:\n",
            "\n",
            "_PyDriveImportHook.find_spec() not found; falling back to find_module()\n",
            "\n",
            "<frozen importlib._bootstrap>:914: ImportWarning:\n",
            "\n",
            "_OpenCVImportHook.find_spec() not found; falling back to find_module()\n",
            "\n",
            "<frozen importlib._bootstrap>:914: ImportWarning:\n",
            "\n",
            "_BokehImportHook.find_spec() not found; falling back to find_module()\n",
            "\n",
            "<frozen importlib._bootstrap>:914: ImportWarning:\n",
            "\n",
            "_AltairImportHook.find_spec() not found; falling back to find_module()\n",
            "\n"
          ]
        }
      ],
      "source": [
        "from imblearn.over_sampling import SMOTE\n",
        "oversampled = SMOTE(random_state=0)\n",
        "X_train_smote, y_train_smote = oversampled.fit_resample(X_train, y_train)"
      ]
    },
    {
      "cell_type": "code",
      "execution_count": null,
      "metadata": {
        "id": "nUClmrx9WyYr",
        "scrolled": true,
        "colab": {
          "base_uri": "https://localhost:8080/"
        },
        "outputId": "1f5dd1a0-624f-48e3-c84e-928a924ab42b"
      },
      "outputs": [
        {
          "output_type": "stream",
          "name": "stderr",
          "text": [
            "/usr/local/lib/python3.10/dist-packages/ipykernel/ipkernel.py:283: DeprecationWarning:\n",
            "\n",
            "`should_run_async` will not call `transform_cell` automatically in the future. Please pass the result to `transformed_cell` argument and any exception that happen during thetransform in `preprocessing_exc_tuple` in IPython 7.17 and above.\n",
            "\n"
          ]
        },
        {
          "output_type": "execute_result",
          "data": {
            "text/plain": [
              "0    139060\n",
              "1    139060\n",
              "Name: EverDelinquent, dtype: int64"
            ]
          },
          "metadata": {},
          "execution_count": 146
        }
      ],
      "source": [
        "y_train_smote.value_counts()"
      ]
    },
    {
      "cell_type": "markdown",
      "source": [
        "#Regression"
      ],
      "metadata": {
        "id": "_Lb2p9Fu5Lps"
      }
    },
    {
      "cell_type": "code",
      "execution_count": null,
      "metadata": {
        "id": "czMdX7R1fQcU",
        "colab": {
          "base_uri": "https://localhost:8080/"
        },
        "outputId": "1c22c9b6-cca6-4423-e0b0-3e25eab2044d"
      },
      "outputs": [
        {
          "output_type": "stream",
          "name": "stderr",
          "text": [
            "/usr/local/lib/python3.10/dist-packages/ipykernel/ipkernel.py:283: DeprecationWarning:\n",
            "\n",
            "`should_run_async` will not call `transform_cell` automatically in the future. Please pass the result to `transformed_cell` argument and any exception that happen during thetransform in `preprocessing_exc_tuple` in IPython 7.17 and above.\n",
            "\n"
          ]
        },
        {
          "output_type": "execute_result",
          "data": {
            "text/plain": [
              "OrigUPB                  0.048225\n",
              "CreditScore              0.034692\n",
              "CreditRange_poor         0.019272\n",
              "CreditRange_excellent    0.016287\n",
              "OrigLoanTerm             0.007627\n",
              "MIP                      0.005890\n",
              "CreditRange_good         0.005343\n",
              "LTVRange                 0.005115\n",
              "LTV                      0.005066\n",
              "OCLTV                    0.005044\n",
              "CreditRange_fair         0.002760\n",
              "DTI                      0.002340\n",
              "LoanPurpose_P            0.001450\n",
              "FirstTimeHomebuyer_Y     0.001238\n",
              "RepayRange_high          0.000933\n",
              "OrigInterestRate         0.000832\n",
              "LoanPurpose_C            0.000697\n",
              "LoanPurpose_N            0.000159\n",
              "Units                    0.000000\n",
              "Name: MI Scores, dtype: float64"
            ]
          },
          "metadata": {},
          "execution_count": 134
        }
      ],
      "source": [
        "from sklearn.feature_selection import mutual_info_regression\n",
        "discrete_features = x.dtypes == int\n",
        "def make_mi_scores(X, y):\n",
        "    mi_scores = mutual_info_regression(X, y, discrete_features=discrete_features)\n",
        "    mi_scores = pd.Series(mi_scores, name=\"MI Scores\", index=X.columns)\n",
        "    mi_scores = mi_scores.sort_values(ascending=False)\n",
        "    return mi_scores\n",
        "\n",
        "mi_scores = make_mi_scores(x, y)\n",
        "mi_scores[::]"
      ]
    },
    {
      "cell_type": "code",
      "execution_count": null,
      "metadata": {
        "id": "nyeUrX6-rv1_",
        "colab": {
          "base_uri": "https://localhost:8080/"
        },
        "outputId": "36d03b11-31e4-4597-cf00-c79f58169efa"
      },
      "outputs": [
        {
          "output_type": "stream",
          "name": "stderr",
          "text": [
            "/usr/local/lib/python3.10/dist-packages/ipykernel/ipkernel.py:283: DeprecationWarning:\n",
            "\n",
            "`should_run_async` will not call `transform_cell` automatically in the future. Please pass the result to `transformed_cell` argument and any exception that happen during thetransform in `preprocessing_exc_tuple` in IPython 7.17 and above.\n",
            "\n"
          ]
        },
        {
          "output_type": "execute_result",
          "data": {
            "text/plain": [
              "Index(['CreditScore', 'MIP', 'Units', 'OCLTV', 'DTI', 'OrigUPB', 'LTV',\n",
              "       'OrigInterestRate', 'OrigLoanTerm', 'EverDelinquent', 'LoanPurpose_C',\n",
              "       'LoanPurpose_N', 'LoanPurpose_P', 'FirstTimeHomebuyer_Y', 'LTVRange',\n",
              "       'CreditRange_excellent', 'CreditRange_fair', 'CreditRange_good',\n",
              "       'CreditRange_poor', 'RepayRange_high'],\n",
              "      dtype='object')"
            ]
          },
          "metadata": {},
          "execution_count": 135
        }
      ],
      "source": [
        "raw_data.columns"
      ]
    },
    {
      "cell_type": "code",
      "execution_count": null,
      "metadata": {
        "id": "1Bt-RC-lgA4L",
        "colab": {
          "base_uri": "https://localhost:8080/"
        },
        "outputId": "40c2a3d8-399a-4c1a-9210-140a1cb38b25"
      },
      "outputs": [
        {
          "output_type": "stream",
          "name": "stderr",
          "text": [
            "/usr/local/lib/python3.10/dist-packages/ipykernel/ipkernel.py:283: DeprecationWarning:\n",
            "\n",
            "`should_run_async` will not call `transform_cell` automatically in the future. Please pass the result to `transformed_cell` argument and any exception that happen during thetransform in `preprocessing_exc_tuple` in IPython 7.17 and above.\n",
            "\n"
          ]
        }
      ],
      "source": [
        "import pandas as pd\n",
        "from sklearn.feature_selection import SelectKBest\n",
        "from sklearn.feature_selection import mutual_info_regression\n",
        "\n",
        "\n",
        "# Define the number of top features to select\n",
        "N = 11\n",
        "\n",
        "# Select top N features based on mutual information\n",
        "selector = SelectKBest(score_func=mutual_info_regression, k=N)\n",
        "X_selected = selector.fit_transform(x, y)\n",
        "\n",
        "# Get the indices of the selected features\n",
        "selected_feature_indices = selector.get_support(indices=True)\n",
        "\n",
        "# Get the names of the selected features\n",
        "selected_features = x.columns[selected_feature_indices].tolist()\n",
        "\n"
      ]
    },
    {
      "cell_type": "code",
      "execution_count": null,
      "metadata": {
        "id": "8blsOuWogFk9",
        "colab": {
          "base_uri": "https://localhost:8080/"
        },
        "outputId": "dd9e5596-e8b8-494f-d558-3a33ab8991ec"
      },
      "outputs": [
        {
          "output_type": "stream",
          "name": "stderr",
          "text": [
            "/usr/local/lib/python3.10/dist-packages/ipykernel/ipkernel.py:283: DeprecationWarning:\n",
            "\n",
            "`should_run_async` will not call `transform_cell` automatically in the future. Please pass the result to `transformed_cell` argument and any exception that happen during thetransform in `preprocessing_exc_tuple` in IPython 7.17 and above.\n",
            "\n"
          ]
        },
        {
          "output_type": "execute_result",
          "data": {
            "text/plain": [
              "0     float64\n",
              "1     float64\n",
              "2     float64\n",
              "3     float64\n",
              "4     float64\n",
              "5     float64\n",
              "6     float64\n",
              "7     float64\n",
              "8     float64\n",
              "9     float64\n",
              "10    float64\n",
              "dtype: object"
            ]
          },
          "metadata": {},
          "execution_count": 138
        }
      ],
      "source": [
        "df_selected = pd.DataFrame(X_selected)\n",
        "\n",
        "df_selected.dtypes"
      ]
    },
    {
      "cell_type": "code",
      "execution_count": null,
      "metadata": {
        "id": "0h0tzs2Id9yA",
        "colab": {
          "base_uri": "https://localhost:8080/"
        },
        "outputId": "7032ed7d-aa14-4758-d20b-6d6cae4b0366"
      },
      "outputs": [
        {
          "output_type": "stream",
          "name": "stderr",
          "text": [
            "/usr/local/lib/python3.10/dist-packages/ipykernel/ipkernel.py:283: DeprecationWarning:\n",
            "\n",
            "`should_run_async` will not call `transform_cell` automatically in the future. Please pass the result to `transformed_cell` argument and any exception that happen during thetransform in `preprocessing_exc_tuple` in IPython 7.17 and above.\n",
            "\n"
          ]
        }
      ],
      "source": [
        "from sklearn.preprocessing import StandardScaler\n",
        "\n",
        "scaler = StandardScaler()\n",
        "x= scaler.fit_transform(x)\n"
      ]
    },
    {
      "cell_type": "code",
      "execution_count": null,
      "metadata": {
        "id": "wE3K1U3DY_en",
        "colab": {
          "base_uri": "https://localhost:8080/"
        },
        "outputId": "228cc4b3-8473-4b27-ba5d-fead56b9f29f"
      },
      "outputs": [
        {
          "output_type": "stream",
          "name": "stderr",
          "text": [
            "/usr/local/lib/python3.10/dist-packages/ipykernel/ipkernel.py:283: DeprecationWarning:\n",
            "\n",
            "`should_run_async` will not call `transform_cell` automatically in the future. Please pass the result to `transformed_cell` argument and any exception that happen during thetransform in `preprocessing_exc_tuple` in IPython 7.17 and above.\n",
            "\n"
          ]
        }
      ],
      "source": [
        "pca=PCA(n_components=6)\n",
        "pca.fit(x)\n",
        "features=pca.transform(x)"
      ]
    },
    {
      "cell_type": "markdown",
      "metadata": {
        "id": "Hp6awPTsp4W3"
      },
      "source": [
        "## SVC Model (Support Vector Machine)"
      ]
    },
    {
      "cell_type": "code",
      "execution_count": null,
      "metadata": {
        "id": "Rz5BGdUFoJhb",
        "colab": {
          "base_uri": "https://localhost:8080/"
        },
        "outputId": "0664e21d-c2b4-4294-f1f6-860f63e18a8f"
      },
      "outputs": [
        {
          "output_type": "stream",
          "name": "stderr",
          "text": [
            "/usr/local/lib/python3.10/dist-packages/ipykernel/ipkernel.py:283: DeprecationWarning:\n",
            "\n",
            "`should_run_async` will not call `transform_cell` automatically in the future. Please pass the result to `transformed_cell` argument and any exception that happen during thetransform in `preprocessing_exc_tuple` in IPython 7.17 and above.\n",
            "\n"
          ]
        }
      ],
      "source": [
        "from sklearn import metrics\n",
        "from sklearn.svm import LinearSVC\n",
        "from sklearn.metrics import accuracy_score, confusion_matrix, classification_report"
      ]
    },
    {
      "cell_type": "code",
      "execution_count": null,
      "metadata": {
        "id": "tRhy7Vmpn8pP",
        "colab": {
          "base_uri": "https://localhost:8080/"
        },
        "outputId": "7974fcc7-b76f-405d-a0df-7c233ac464e2"
      },
      "outputs": [
        {
          "output_type": "stream",
          "name": "stderr",
          "text": [
            "/usr/local/lib/python3.10/dist-packages/ipykernel/ipkernel.py:283: DeprecationWarning:\n",
            "\n",
            "`should_run_async` will not call `transform_cell` automatically in the future. Please pass the result to `transformed_cell` argument and any exception that happen during thetransform in `preprocessing_exc_tuple` in IPython 7.17 and above.\n",
            "\n"
          ]
        },
        {
          "output_type": "stream",
          "name": "stdout",
          "text": [
            "Training score = 0.6575319580383323\n",
            "Testing score = 0.6578124189896826\n"
          ]
        },
        {
          "output_type": "stream",
          "name": "stderr",
          "text": [
            "/usr/local/lib/python3.10/dist-packages/sklearn/svm/_base.py:1244: ConvergenceWarning:\n",
            "\n",
            "Liblinear failed to converge, increase the number of iterations.\n",
            "\n"
          ]
        }
      ],
      "source": [
        "model=LinearSVC()\n",
        "model.fit(X_train_smote, y_train_smote)\n",
        "train_pred=model.predict(X_train)\n",
        "y_preds=model.predict(X_test)\n",
        "\n",
        "print(f\"Training score = {metrics.accuracy_score(y_train,train_pred)}\")\n",
        "print(f\"Testing score = {metrics.accuracy_score(y_test,y_preds)}\")\n"
      ]
    },
    {
      "cell_type": "code",
      "execution_count": null,
      "metadata": {
        "id": "Mx7RWVZcJtQc",
        "colab": {
          "base_uri": "https://localhost:8080/"
        },
        "outputId": "4201b679-5582-4cbf-e54f-a0de89a40624"
      },
      "outputs": [
        {
          "output_type": "stream",
          "name": "stderr",
          "text": [
            "/usr/local/lib/python3.10/dist-packages/ipykernel/ipkernel.py:283: DeprecationWarning:\n",
            "\n",
            "`should_run_async` will not call `transform_cell` automatically in the future. Please pass the result to `transformed_cell` argument and any exception that happen during thetransform in `preprocessing_exc_tuple` in IPython 7.17 and above.\n",
            "\n"
          ]
        },
        {
          "output_type": "stream",
          "name": "stdout",
          "text": [
            "training data accuracy is: 65.75319580383324\n",
            "\n",
            "Classification report:\n",
            "               precision    recall  f1-score   support\n",
            "\n",
            "           0       0.88      0.67      0.76    139060\n",
            "           1       0.32      0.62      0.42     34527\n",
            "\n",
            "    accuracy                           0.66    173587\n",
            "   macro avg       0.60      0.64      0.59    173587\n",
            "weighted avg       0.76      0.66      0.69    173587\n",
            "\n",
            "\n"
          ]
        },
        {
          "output_type": "execute_result",
          "data": {
            "text/plain": [
              "array([[92864, 46196],\n",
              "       [13252, 21275]])"
            ]
          },
          "metadata": {},
          "execution_count": 155
        }
      ],
      "source": [
        "\n",
        "\n",
        "training_accuracy = accuracy_score(y_train,train_pred)*100\n",
        "print('training data accuracy is:', training_accuracy)\n",
        "print()\n",
        "\n",
        "clf_report = classification_report(y_train,train_pred)\n",
        "print('Classification report:\\n', clf_report)\n",
        "print()\n",
        "\n",
        "confusion_matrix(y_train,train_pred)"
      ]
    },
    {
      "cell_type": "code",
      "execution_count": null,
      "metadata": {
        "id": "fqhWLBGMVJwG",
        "colab": {
          "base_uri": "https://localhost:8080/"
        },
        "outputId": "b1704f79-2b54-48b6-b391-c13ac3008419"
      },
      "outputs": [
        {
          "output_type": "stream",
          "name": "stderr",
          "text": [
            "/usr/local/lib/python3.10/dist-packages/ipykernel/ipkernel.py:283: DeprecationWarning:\n",
            "\n",
            "`should_run_async` will not call `transform_cell` automatically in the future. Please pass the result to `transformed_cell` argument and any exception that happen during thetransform in `preprocessing_exc_tuple` in IPython 7.17 and above.\n",
            "\n"
          ]
        },
        {
          "output_type": "execute_result",
          "data": {
            "text/plain": [
              "array([[30899, 15374],\n",
              "       [ 4426,  7164]])"
            ]
          },
          "metadata": {},
          "execution_count": 156
        }
      ],
      "source": [
        "confusion_matrix(y_test,y_preds)"
      ]
    },
    {
      "cell_type": "code",
      "execution_count": null,
      "metadata": {
        "id": "7y5d-24pVLYa",
        "scrolled": true,
        "colab": {
          "base_uri": "https://localhost:8080/"
        },
        "outputId": "dc972c12-e0c1-4fee-abc6-cd171bfe5edf"
      },
      "outputs": [
        {
          "output_type": "stream",
          "name": "stderr",
          "text": [
            "/usr/local/lib/python3.10/dist-packages/ipykernel/ipkernel.py:283: DeprecationWarning:\n",
            "\n",
            "`should_run_async` will not call `transform_cell` automatically in the future. Please pass the result to `transformed_cell` argument and any exception that happen during thetransform in `preprocessing_exc_tuple` in IPython 7.17 and above.\n",
            "\n"
          ]
        },
        {
          "output_type": "execute_result",
          "data": {
            "text/plain": [
              "0.6578124189896826"
            ]
          },
          "metadata": {},
          "execution_count": 157
        }
      ],
      "source": [
        "accuracy_score(y_test,y_preds)"
      ]
    },
    {
      "cell_type": "code",
      "execution_count": null,
      "metadata": {
        "id": "2CH3Ns-z1Ay5",
        "colab": {
          "base_uri": "https://localhost:8080/"
        },
        "outputId": "14a50257-cc2d-4aaf-cbff-aa794f9b5c82"
      },
      "outputs": [
        {
          "output_type": "stream",
          "name": "stderr",
          "text": [
            "/usr/local/lib/python3.10/dist-packages/ipykernel/ipkernel.py:283: DeprecationWarning:\n",
            "\n",
            "`should_run_async` will not call `transform_cell` automatically in the future. Please pass the result to `transformed_cell` argument and any exception that happen during thetransform in `preprocessing_exc_tuple` in IPython 7.17 and above.\n",
            "\n"
          ]
        },
        {
          "output_type": "execute_result",
          "data": {
            "text/plain": [
              "0.6429367410916721"
            ]
          },
          "metadata": {},
          "execution_count": 158
        }
      ],
      "source": [
        "from sklearn.metrics import roc_auc_score\n",
        "roc_auc_score(y_test,y_preds)"
      ]
    },
    {
      "cell_type": "markdown",
      "metadata": {
        "id": "uFhfgi_U7xF6"
      },
      "source": [
        "SVC works well with the data but this is not the best accuracy"
      ]
    },
    {
      "cell_type": "markdown",
      "metadata": {
        "id": "pzilFQmZEWG-"
      },
      "source": [
        "#Deployment\n"
      ]
    },
    {
      "cell_type": "code",
      "execution_count": null,
      "metadata": {
        "id": "1Wod9NofD-HZ",
        "colab": {
          "base_uri": "https://localhost:8080/"
        },
        "outputId": "04c324a0-6588-4847-df3b-8bb01193b906"
      },
      "outputs": [
        {
          "output_type": "stream",
          "name": "stderr",
          "text": [
            "/usr/local/lib/python3.10/dist-packages/ipykernel/ipkernel.py:283: DeprecationWarning: `should_run_async` will not call `transform_cell` automatically in the future. Please pass the result to `transformed_cell` argument and any exception that happen during thetransform in `preprocessing_exc_tuple` in IPython 7.17 and above.\n",
            "  and should_run_async(code)\n"
          ]
        },
        {
          "output_type": "execute_result",
          "data": {
            "text/plain": [
              "['model.joblib']"
            ]
          },
          "metadata": {},
          "execution_count": 90
        }
      ],
      "source": [
        "import joblib\n",
        "joblib.dump(rf,'model.joblib')"
      ]
    },
    {
      "cell_type": "code",
      "execution_count": null,
      "metadata": {
        "id": "cazHWWgCEms1",
        "colab": {
          "base_uri": "https://localhost:8080/"
        },
        "outputId": "2fdde8e5-6fe5-485c-b2a0-d419d5f87153"
      },
      "outputs": [
        {
          "output_type": "stream",
          "name": "stderr",
          "text": [
            "/usr/local/lib/python3.10/dist-packages/ipykernel/ipkernel.py:283: DeprecationWarning: `should_run_async` will not call `transform_cell` automatically in the future. Please pass the result to `transformed_cell` argument and any exception that happen during thetransform in `preprocessing_exc_tuple` in IPython 7.17 and above.\n",
            "  and should_run_async(code)\n"
          ]
        },
        {
          "output_type": "execute_result",
          "data": {
            "text/plain": [
              "['pca.joblib']"
            ]
          },
          "metadata": {},
          "execution_count": 91
        }
      ],
      "source": [
        "# save the pca using joblib\n",
        "joblib.dump(pca,'pca.joblib')"
      ]
    }
  ]
}