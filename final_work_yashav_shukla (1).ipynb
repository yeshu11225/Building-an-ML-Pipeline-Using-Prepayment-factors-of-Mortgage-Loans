{
  "cells": [
    {
      "cell_type": "code",
      "execution_count": null,
      "metadata": {
        "id": "DYfr8adWsNbL"
      },
      "outputs": [],
      "source": [
        "import pandas as pd\n",
        "import numpy as np\n",
        "import warnings\n",
        "import matplotlib.pyplot as plt\n",
        "from datetime import datetime\n",
        "import seaborn as sns\n",
        "import pickle\n",
        "sns.set()\n",
        "warnings.filterwarnings('ignore')\n",
        "from sklearn.preprocessing import LabelEncoder\n",
        "from sklearn.feature_selection import SelectKBest\n",
        "from sklearn.feature_selection import chi2\n",
        "from sklearn.model_selection import train_test_split\n",
        "from imblearn.over_sampling import SMOTE\n",
        "from sklearn.preprocessing import MinMaxScaler\n",
        "from sklearn.ensemble import RandomForestClassifier\n",
        "from sklearn.metrics import confusion_matrix, r2_score\n",
        "from sklearn.linear_model import LinearRegression\n",
        "from sklearn.metrics import roc_curve, auc\n",
        "from sklearn.metrics import classification_report\n",
        "from sklearn.model_selection import RandomizedSearchCV\n",
        "from sklearn import preprocessing\n",
        "from sklearn import metrics\n",
        "from sklearn.model_selection import GridSearchCV\n",
        "from sklearn.metrics import accuracy_score\n",
        "from sklearn.pipeline import Pipeline"
      ]
    },
    {
      "cell_type": "markdown",
      "metadata": {
        "id": "xvKo5nNlsNbN"
      },
      "source": [
        "Importing Packages and Dataset"
      ]
    },
    {
      "cell_type": "code",
      "execution_count": null,
      "metadata": {
        "id": "wKuIdpMHsNbO"
      },
      "outputs": [],
      "source": [
        "pd.set_option('display.max_columns', None)"
      ]
    },
    {
      "cell_type": "code",
      "execution_count": null,
      "metadata": {
        "id": "_gI4Z-QmsNbP",
        "outputId": "5d7a4531-406e-40b6-d8a2-92754de9f809"
      },
      "outputs": [
        {
          "name": "stdout",
          "output_type": "stream",
          "text": [
            "24994\n",
            "(291451, 28)\n",
            "Index(['CreditScore', 'FirstPaymentDate', 'FirstTimeHomebuyer', 'MaturityDate',\n",
            "       'MSA', 'MIP', 'Units', 'Occupancy', 'OCLTV', 'DTI', 'OrigUPB', 'LTV',\n",
            "       'OrigInterestRate', 'Channel', 'PPM', 'ProductType', 'PropertyState',\n",
            "       'PropertyType', 'PostalCode', 'LoanSeqNum', 'LoanPurpose',\n",
            "       'OrigLoanTerm', 'NumBorrowers', 'SellerName', 'ServicerName',\n",
            "       'EverDelinquent', 'MonthsDelinquent', 'MonthsInRepayment'],\n",
            "      dtype='object')\n"
          ]
        }
      ],
      "source": [
        "dfloan=pd.read_csv('LoanExport.csv')\n",
        "print(dfloan.isnull().sum().sum())\n",
        "print(dfloan.shape)\n",
        "print(dfloan.columns)"
      ]
    },
    {
      "cell_type": "markdown",
      "metadata": {
        "id": "diUgNRsZsNbP"
      },
      "source": [
        "1. EDA & Feature Engineering"
      ]
    },
    {
      "cell_type": "markdown",
      "metadata": {
        "id": "qopzYZOksNbQ"
      },
      "source": [
        "a.Creating Target Variables"
      ]
    },
    {
      "cell_type": "code",
      "execution_count": null,
      "metadata": {
        "id": "sJd8M2BysNbQ"
      },
      "outputs": [],
      "source": [
        "# Changing  FirstPaymentDate and MaturityDate into date format\n",
        "dfloan['FirstPaymentDate'] = pd.to_datetime(dfloan['FirstPaymentDate'], format='%Y%m')\n",
        "dfloan['MaturityDate'] = pd.to_datetime(dfloan['MaturityDate'], format='%Y%m')"
      ]
    },
    {
      "cell_type": "markdown",
      "metadata": {
        "id": "zLKtw40AsNbQ"
      },
      "source": [
        "b. creating New Columns for Target"
      ]
    },
    {
      "cell_type": "code",
      "execution_count": null,
      "metadata": {
        "id": "Eev7xU7OsNbQ",
        "outputId": "e9048f3d-1603-49fa-eda9-ed6d0cd358c3"
      },
      "outputs": [
        {
          "name": "stdout",
          "output_type": "stream",
          "text": [
            "count of zeros in the column of CreditScore: 1189\n",
            "Mean of the CreditScore : 708.9369911237224\n"
          ]
        }
      ],
      "source": [
        "# Arranging Credit Score into range values and assigning labels\n",
        "\n",
        "count=(dfloan['CreditScore'] == 0).sum()\n",
        "print('count of zeros in the column of CreditScore:', count)\n",
        "print('Mean of the CreditScore :', (dfloan['CreditScore'].mean()))\n",
        "# replacing the record '0'  with '850'\n",
        "dfloan['CreditScore'] = dfloan['CreditScore'].replace(0,708)\n",
        "\n",
        "# creating a new column 'creditrange'\n",
        "dfloan['CreditRange'] = pd.cut(dfloan['CreditScore'], bins = [ 0, 650, 700, 750, 900 ], labels = ['poor', 'fair', 'good', 'excellent'])\n",
        "\n",
        "# Creating a new column 'LTVRange'\n",
        "dfloan['LTVRange'] = pd.cut(dfloan['LTV'], bins = [ 0, 25, 50, 100 ], labels = ['low', 'medium', 'high'])\n",
        "\n",
        "# Creating a new column 'LoanTenure'\n",
        "dfloan['RepayRange'] = pd.cut(dfloan['MonthsInRepayment'], bins = [ 0, 48, 96, 144, 192, 240 ], labels = ['0-4yrs', '4-8yrs', '8-12yrs', '12-16yrs', '16-20yrs'])\n",
        "dfloan['LoanTenure'] = (dfloan['MaturityDate'] - dfloan['FirstPaymentDate']).dt.days\n",
        "dfloan = dfloan.astype({\"LoanTenure\": float})\n",
        "dfloan['LoanTenure'] = dfloan['LoanTenure'].div(365)"
      ]
    },
    {
      "cell_type": "markdown",
      "metadata": {
        "id": "-U5HZpqIsNbQ"
      },
      "source": [
        "c.calculating MonthlyEMI, TotalLoanAmount, TotalLoanInterest"
      ]
    },
    {
      "cell_type": "code",
      "execution_count": null,
      "metadata": {
        "id": "BVp8419zsNbR"
      },
      "outputs": [],
      "source": [
        "# calculating monthly EMI\n",
        "def emi(p, r, t):\n",
        "    # for one month interest\n",
        "    r = r/(12*100)\n",
        "    emi = (p*r) * (1+r)**t/(((1+r)**t)-1)\n",
        "    return (emi)\n",
        "\n",
        "# Calculating monthly EMI\n",
        "dfloan['Monthy_EMI'] = dfloan.apply(lambda row: emi(row['OrigUPB'],row['OrigInterestRate'],row['OrigLoanTerm']),axis=1)\n",
        "\n",
        "# Total Accured amount(principal + Interest)\n",
        "dfloan['Total_Loan_Amt'] = round(dfloan.Monthy_EMI * dfloan.OrigLoanTerm)\n",
        "\n",
        "# Total interest payable\n",
        "dfloan['Total_loan_Int'] = dfloan.Total_Loan_Amt - dfloan.OrigUPB"
      ]
    },
    {
      "cell_type": "markdown",
      "metadata": {
        "id": "nOSIVJB9sNbR"
      },
      "source": [
        "d. Calculating Monthly and Annual income"
      ]
    },
    {
      "cell_type": "code",
      "execution_count": null,
      "metadata": {
        "id": "-H16I_RmsNbR"
      },
      "outputs": [],
      "source": [
        "# calculating monthly income from Dti ratio\n",
        "dfloan['monthly_income'] = round(dfloan.Monthy_EMI / (dfloan.DTI/100))\n",
        "\n",
        "# calculating Annual income from Dti ratio\n",
        "dfloan['Annual_income'] = round(dfloan.monthly_income * 12)"
      ]
    },
    {
      "cell_type": "markdown",
      "metadata": {
        "id": "xL9ja0hRsNbR"
      },
      "source": [
        "e. Calculating prepayment Amount"
      ]
    },
    {
      "cell_type": "code",
      "execution_count": null,
      "metadata": {
        "id": "DKd1-3L9sNbR"
      },
      "outputs": [],
      "source": [
        "# prepayexpected amount\n",
        "dfloan_dti=dfloan[dfloan[\"DTI\"]!=0]\n",
        "\n",
        "# defining DTI ratio for prepayment\n",
        "def dti(ratio,income):\n",
        "  if ratio < 40:\n",
        "    return (income/2)\n",
        "  else:\n",
        "    return (income*0.75)\n",
        "\n",
        "dfloan['Prepayment_amt'] = dfloan_dti.apply(lambda row: dti(row['DTI'], row['monthly_income']*24), axis=1)\n",
        "dfloan['Prepayment_amt'] = round(dfloan['Prepayment_amt']-(dfloan['Monthy_EMI'])*24)"
      ]
    },
    {
      "cell_type": "markdown",
      "metadata": {
        "id": "3gMaQ7vmsNbR"
      },
      "source": [
        "f.Calculating Change in Payment"
      ]
    },
    {
      "cell_type": "code",
      "execution_count": null,
      "metadata": {
        "id": "wR9sxHGfsNbS",
        "outputId": "8a7dd45b-4890-4523-96c6-c82c235fce57"
      },
      "outputs": [
        {
          "name": "stdout",
          "output_type": "stream",
          "text": [
            "18744.219502658456\n",
            "97844.52504796186\n"
          ]
        }
      ],
      "source": [
        "# Caluculating current unpaid balance\n",
        "dfloan['mon_int_rate'] = dfloan['OrigInterestRate']/(12*100)\n",
        "\n",
        "def ubp(mon_int_rate,loanamt,emi,month):\n",
        "  for i in range(month):\n",
        "    month_int = loanamt * mon_int_rate\n",
        "    prin_amt= emi - month_int\n",
        "    loanamt-= prin_amt\n",
        "  return loanamt\n",
        "\n",
        "# creating a column for Current Balance\n",
        "dfloan['current_UBP'] = round(dfloan.apply(lambda row: ubp(row['mon_int_rate'],row['OrigUPB'],row['Monthy_EMI'],row['MonthsInRepayment']),axis=1))\n",
        "\n",
        "dfloan[\"new_principal\"]= round(dfloan[\"current_UBP\"]-dfloan[\"Prepayment_amt\"])\n",
        "print(dfloan['Prepayment_amt'].mean())\n",
        "print(dfloan['new_principal'].mean())"
      ]
    },
    {
      "cell_type": "code",
      "execution_count": null,
      "metadata": {
        "id": "3PrgvCMLsNbS"
      },
      "outputs": [],
      "source": [
        "dfloan['Prepayment_amt']= dfloan['Prepayment_amt'].fillna(18744.009)\n",
        "dfloan['new_principal'] = dfloan['new_principal'].fillna(97844.734)"
      ]
    },
    {
      "cell_type": "markdown",
      "metadata": {
        "id": "hXhAie1XsNbS"
      },
      "source": [
        "g.Caluculating Tenure Before Prepayment and After Prepayment"
      ]
    },
    {
      "cell_type": "code",
      "execution_count": null,
      "metadata": {
        "id": "SLQOWtyYsNbS"
      },
      "outputs": [],
      "source": [
        "import cmath\n",
        "from math import log\n",
        "\n",
        "def tenure(mon_int_rate,amount,emi):\n",
        "  try:\n",
        "    tenure = (log(emi) - log(emi-(amount*mon_int_rate))) / (log(1+mon_int_rate))\n",
        "    return tenure\n",
        "  except ValueError:\n",
        "    return None\n",
        "\n",
        "dfloan['pres_tenure']= round(dfloan.apply(lambda row: tenure(row['mon_int_rate'], row['new_principal'], row['Monthy_EMI']),axis=1))\n",
        "\n",
        "#replace all NaN values with zeros\n",
        "dfloan['pres_tenure'] = dfloan['pres_tenure'].fillna(0)\n",
        "#convert 'rebounds' column from float to integer\n",
        "dfloan['pres_tenure'] = dfloan['pres_tenure'].astype(int)\n",
        "\n",
        "# Creating new tunure for months in repayment\n",
        "dfloan['new_tenure']=dfloan['pres_tenure']+dfloan['MonthsInRepayment']\n",
        "\n",
        "# Defining a function to create new interest with change in tenure\n",
        "def new_int1(mon_int_rate,amount,emi,month):\n",
        "  t1=0\n",
        "  for i in range(month):\n",
        "    interest=mon_int_rate*amount\n",
        "    p=emi-interest\n",
        "    amount-=p\n",
        "    t1+=interest\n",
        "  return t1\n",
        "def new_int2(mon_int_rate,amount,emi,month):\n",
        "  t1=0\n",
        "  month= int(month)\n",
        "  for i in range(month-1):\n",
        "    interest=mon_int_rate*amount\n",
        "    p=emi-interest\n",
        "    amount-=p\n",
        "    t1+=interest\n",
        "  return t1\n",
        "\n",
        "# creating interst amount before prepayment and After prepayment\n",
        "dfloan['int_B_pre']= round(dfloan.apply(lambda row: new_int1(row['mon_int_rate'], row['OrigUPB'], row['Monthy_EMI'],row['MonthsInRepayment']),axis=1))\n",
        "dfloan['int_A_pre']= round(dfloan.apply(lambda row: new_int2(row['mon_int_rate'], row['new_principal'],row['Monthy_EMI'], row['pres_tenure']),axis=1))\n",
        "\n",
        "# Caluculating the total interest interest\n",
        "dfloan['new_tot_int']=dfloan['int_B_pre']+dfloan['int_A_pre']\n"
      ]
    },
    {
      "cell_type": "markdown",
      "metadata": {
        "id": "ypEdCoaksNbT"
      },
      "source": [
        "h.Calculating ROI and PROI"
      ]
    },
    {
      "cell_type": "code",
      "execution_count": null,
      "metadata": {
        "id": "91CWOLwKsNbT"
      },
      "outputs": [],
      "source": [
        "# caluculating return of interest based on the initial interest and loan amount\n",
        "dfloan['ROI']= (dfloan['Total_loan_Int']/ dfloan['Total_Loan_Amt'])*100\n",
        "\n",
        "# caluculating the loss with change of new interest\n",
        "dfloan[\"loss_amt\"]=dfloan['Total_loan_Int']-dfloan['new_tot_int']\n",
        "\n",
        "# calculating Prefered ROI based on prepayment and new tenure\n",
        "dfloan['Prefered_ROI']=((dfloan['new_tot_int']+(dfloan['loss_amt']/2))/(dfloan['new_tot_int']+(dfloan['loss_amt']/2)+dfloan['OrigUPB']))*100"
      ]
    },
    {
      "cell_type": "markdown",
      "metadata": {
        "id": "8UAw2Bc8sNbT"
      },
      "source": [
        "2. X , y split"
      ]
    },
    {
      "cell_type": "code",
      "execution_count": null,
      "metadata": {
        "id": "FqnpBWLesNbT"
      },
      "outputs": [],
      "source": [
        "# Dropping the features\n",
        "dfloan = dfloan.drop(['FirstPaymentDate','FirstTimeHomebuyer','LoanPurpose','MaturityDate','MIP','Units','LoanTenure','MSA','NumBorrowers','Occupancy','Channel','PPM','OCLTV','PropertyState','PropertyType','PostalCode','ProductType','LoanSeqNum','SellerName','ServicerName','MonthsDelinquent'],axis = 1)"
      ]
    },
    {
      "cell_type": "code",
      "execution_count": null,
      "metadata": {
        "id": "5rWGgRQtsNbT"
      },
      "outputs": [],
      "source": [
        "X=dfloan.drop(['EverDelinquent','Prefered_ROI','Prepayment_amt'],axis=1)\n",
        "y=dfloan[['EverDelinquent','Prefered_ROI','Prepayment_amt']]\n",
        "\n",
        "for colname in X.select_dtypes('float64'):\n",
        "    X[colname], _ = X[colname].factorize()\n",
        "discrete_features = X.dtypes == np.int64"
      ]
    },
    {
      "cell_type": "code",
      "execution_count": null,
      "metadata": {
        "id": "3vUHIP8ZsNbT"
      },
      "outputs": [],
      "source": [
        "# Label encoding\n",
        "le=LabelEncoder()\n",
        "dfloan['CreditRange'] = le.fit_transform(dfloan['CreditRange'])\n",
        "dfloan['RepayRange'] = le.fit_transform(dfloan['RepayRange'])\n",
        "dfloan['LTVRange'] = le.fit_transform(dfloan['LTVRange'])"
      ]
    },
    {
      "cell_type": "markdown",
      "metadata": {
        "id": "7iU5pL_zsNbT"
      },
      "source": [
        "3. Feature Selection"
      ]
    },
    {
      "cell_type": "code",
      "execution_count": null,
      "metadata": {
        "id": "vapDee4HsNbT"
      },
      "outputs": [],
      "source": [
        "# Calculating MI scores for data set Features\n",
        "xx=dfloan.drop(['EverDelinquent'],axis=1)\n",
        "yy=dfloan['EverDelinquent']\n",
        "\n",
        "for colname in xx.select_dtypes('float64'):\n",
        "    xx[colname], _ = xx[colname].factorize()\n",
        "discrete_features = xx.dtypes == np.int64\n",
        "\n",
        "\n",
        "from sklearn.feature_selection import mutual_info_classif\n",
        "\n",
        "mi_scores = mutual_info_classif(xx, yy)\n",
        "mi_scores = pd.Series(mi_scores,name=\"MI Scores\", index=xx.columns)\n",
        "mi_scores = mi_scores.sort_values(ascending=False)\n",
        "mi_scores"
      ]
    },
    {
      "cell_type": "code",
      "execution_count": null,
      "metadata": {
        "id": "kLaghhctsNbU",
        "outputId": "a8c91615-8494-4ab8-d630-f37a6a1b761f"
      },
      "outputs": [
        {
          "data": {
            "text/plain": [
              "{'Annual_income', 'ROI', 'Total_Loan_Amt', 'Total_loan_Int', 'mon_int_rate'}"
            ]
          },
          "execution_count": 16,
          "metadata": {},
          "output_type": "execute_result"
        }
      ],
      "source": [
        "# A function to select highly correlated features.\n",
        "def Correlation(dataset, threshold):\n",
        "    correltated_features = set() # as a container of highly correlated features\n",
        "    correlation_matrix = dataset.corr()\n",
        "    for i in range(len(correlation_matrix.columns)):\n",
        "        for j in range(i):\n",
        "            if abs(correlation_matrix.iloc[i, j]) > threshold:\n",
        "                column_name = correlation_matrix.columns[i]\n",
        "                correltated_features.add(column_name)\n",
        "    return correltated_features\n",
        "\n",
        "Correlation(X,0.8)"
      ]
    },
    {
      "cell_type": "code",
      "execution_count": null,
      "metadata": {
        "id": "7VKDWOTpsNbU"
      },
      "outputs": [],
      "source": [
        "# Droping these features from dataset\n",
        "df_loan = dfloan.drop(['mon_int_rate','monthly_income','current_UBP','LTV','LTVRange', 'RepayRange','new_principal', 'pres_tenure','int_B_pre','Annual_income',\n",
        "       'int_A_pre','loss_amt','new_tot_int'],axis=1)"
      ]
    },
    {
      "cell_type": "code",
      "execution_count": null,
      "metadata": {
        "id": "OWR8WQHesNbU",
        "outputId": "9662ea4a-a743-4972-81f4-a5dcc5339c67"
      },
      "outputs": [
        {
          "data": {
            "text/plain": [
              "Index(['CreditScore', 'DTI', 'OrigUPB', 'OrigInterestRate', 'OrigLoanTerm',\n",
              "       'EverDelinquent', 'MonthsInRepayment', 'CreditRange', 'Monthy_EMI',\n",
              "       'Total_Loan_Amt', 'Total_loan_Int', 'Prepayment_amt', 'new_tenure',\n",
              "       'ROI', 'Prefered_ROI'],\n",
              "      dtype='object')"
            ]
          },
          "execution_count": 18,
          "metadata": {},
          "output_type": "execute_result"
        }
      ],
      "source": [
        "df_loan.columns"
      ]
    },
    {
      "cell_type": "code",
      "execution_count": null,
      "metadata": {
        "id": "IRenugd9sNbU",
        "outputId": "63adbf5f-48b2-4559-d0d5-bf802cba6815"
      },
      "outputs": [
        {
          "data": {
            "text/html": [
              "<div>\n",
              "<style scoped>\n",
              "    .dataframe tbody tr th:only-of-type {\n",
              "        vertical-align: middle;\n",
              "    }\n",
              "\n",
              "    .dataframe tbody tr th {\n",
              "        vertical-align: top;\n",
              "    }\n",
              "\n",
              "    .dataframe thead th {\n",
              "        text-align: right;\n",
              "    }\n",
              "</style>\n",
              "<table border=\"1\" class=\"dataframe\">\n",
              "  <thead>\n",
              "    <tr style=\"text-align: right;\">\n",
              "      <th></th>\n",
              "      <th>CreditScore</th>\n",
              "      <th>DTI</th>\n",
              "      <th>OrigUPB</th>\n",
              "      <th>OrigInterestRate</th>\n",
              "      <th>OrigLoanTerm</th>\n",
              "      <th>EverDelinquent</th>\n",
              "      <th>MonthsInRepayment</th>\n",
              "      <th>CreditRange</th>\n",
              "      <th>Monthy_EMI</th>\n",
              "      <th>Total_Loan_Amt</th>\n",
              "      <th>Total_loan_Int</th>\n",
              "      <th>Prepayment_amt</th>\n",
              "      <th>new_tenure</th>\n",
              "      <th>ROI</th>\n",
              "      <th>Prefered_ROI</th>\n",
              "    </tr>\n",
              "  </thead>\n",
              "  <tbody>\n",
              "    <tr>\n",
              "      <th>0</th>\n",
              "      <td>708</td>\n",
              "      <td>27</td>\n",
              "      <td>117000</td>\n",
              "      <td>6.75</td>\n",
              "      <td>360</td>\n",
              "      <td>0</td>\n",
              "      <td>52</td>\n",
              "      <td>2</td>\n",
              "      <td>758.859773</td>\n",
              "      <td>273190.0</td>\n",
              "      <td>156190.0</td>\n",
              "      <td>15519.0</td>\n",
              "      <td>271</td>\n",
              "      <td>57.172664</td>\n",
              "      <td>52.666552</td>\n",
              "    </tr>\n",
              "    <tr>\n",
              "      <th>1</th>\n",
              "      <td>708</td>\n",
              "      <td>17</td>\n",
              "      <td>109000</td>\n",
              "      <td>6.50</td>\n",
              "      <td>360</td>\n",
              "      <td>0</td>\n",
              "      <td>144</td>\n",
              "      <td>2</td>\n",
              "      <td>688.954146</td>\n",
              "      <td>248023.0</td>\n",
              "      <td>139023.0</td>\n",
              "      <td>32101.0</td>\n",
              "      <td>250</td>\n",
              "      <td>56.052463</td>\n",
              "      <td>51.815751</td>\n",
              "    </tr>\n",
              "  </tbody>\n",
              "</table>\n",
              "</div>"
            ],
            "text/plain": [
              "   CreditScore  DTI  OrigUPB  OrigInterestRate  OrigLoanTerm  EverDelinquent  \\\n",
              "0          708   27   117000              6.75           360               0   \n",
              "1          708   17   109000              6.50           360               0   \n",
              "\n",
              "   MonthsInRepayment  CreditRange  Monthy_EMI  Total_Loan_Amt  Total_loan_Int  \\\n",
              "0                 52            2  758.859773        273190.0        156190.0   \n",
              "1                144            2  688.954146        248023.0        139023.0   \n",
              "\n",
              "   Prepayment_amt  new_tenure        ROI  Prefered_ROI  \n",
              "0         15519.0         271  57.172664     52.666552  \n",
              "1         32101.0         250  56.052463     51.815751  "
            ]
          },
          "execution_count": 19,
          "metadata": {},
          "output_type": "execute_result"
        }
      ],
      "source": [
        "df_loan.head(2)"
      ]
    },
    {
      "cell_type": "markdown",
      "metadata": {
        "id": "jUWTj2LvsNbU"
      },
      "source": [
        "4. Train, Test Split"
      ]
    },
    {
      "cell_type": "code",
      "execution_count": null,
      "metadata": {
        "id": "e-DO7JlOsNbV"
      },
      "outputs": [],
      "source": [
        "#Dividing Data in test and train\n",
        "X=df_loan.drop(['EverDelinquent','Prefered_ROI','Prepayment_amt'],axis=1)\n",
        "y=df_loan[['EverDelinquent','Prefered_ROI','Prepayment_amt']]\n",
        "\n",
        "X_train,X_test,y_train,y_test=train_test_split(X,y, test_size=0.2, random_state=56)\n",
        "\n",
        "# Separating Target values for classifications and regression problems\n",
        "y_class_train = y_train.iloc[:,0]\n",
        "y_class_test = y_test.iloc[:,0]\n",
        "\n",
        "y_reg_test = y_test.iloc[:,1:]\n",
        "y_reg_train = y_train.iloc[:,1:]"
      ]
    },
    {
      "cell_type": "code",
      "execution_count": null,
      "metadata": {
        "id": "uzG01rzasNbV",
        "outputId": "4e289393-81ef-4129-aa30-32058883b770"
      },
      "outputs": [
        {
          "data": {
            "text/plain": [
              "Index(['CreditScore', 'DTI', 'OrigUPB', 'OrigInterestRate', 'OrigLoanTerm',\n",
              "       'MonthsInRepayment', 'CreditRange', 'Monthy_EMI', 'Total_Loan_Amt',\n",
              "       'Total_loan_Int', 'new_tenure', 'ROI'],\n",
              "      dtype='object')"
            ]
          },
          "execution_count": 21,
          "metadata": {},
          "output_type": "execute_result"
        }
      ],
      "source": [
        "X_train.columns"
      ]
    },
    {
      "cell_type": "markdown",
      "metadata": {
        "id": "FmOSjqWBsNbV"
      },
      "source": [
        "5. Data Preprocessing"
      ]
    },
    {
      "cell_type": "code",
      "execution_count": null,
      "metadata": {
        "id": "AKmIL5dDsNbV"
      },
      "outputs": [],
      "source": [
        "#Applying SMOTE for handling imbalance data\n",
        "from imblearn.over_sampling import SMOTE\n",
        "from imblearn.pipeline import Pipeline as imbPipeline\n",
        "smote= SMOTE()\n",
        "scaler = MinMaxScaler()"
      ]
    },
    {
      "cell_type": "markdown",
      "metadata": {
        "id": "1RNotPpbsNbW"
      },
      "source": [
        "6. Classification Pipeline"
      ]
    },
    {
      "cell_type": "code",
      "execution_count": null,
      "metadata": {
        "id": "nnyz6kzOsNbW"
      },
      "outputs": [],
      "source": [
        "## Creating pipelines for Random Forest Classifeir\n",
        "#Random Forest Pipeline\n",
        "#from imblearn.ensemble import RandomForestClassifier\n",
        "\n",
        "classifier_Pipe = Pipeline([\n",
        "    ('scaler',scaler),\n",
        "    ('randomforest',RandomForestClassifier(class_weight=\"balanced\", max_depth=9))\n",
        "     ])\n"
      ]
    },
    {
      "cell_type": "code",
      "execution_count": null,
      "metadata": {
        "id": "HV1dn4kxsNbd",
        "outputId": "ada45246-089a-4633-ecfa-09159e4954c3"
      },
      "outputs": [
        {
          "data": {
            "text/html": [
              "<style>#sk-container-id-1 {color: black;background-color: white;}#sk-container-id-1 pre{padding: 0;}#sk-container-id-1 div.sk-toggleable {background-color: white;}#sk-container-id-1 label.sk-toggleable__label {cursor: pointer;display: block;width: 100%;margin-bottom: 0;padding: 0.3em;box-sizing: border-box;text-align: center;}#sk-container-id-1 label.sk-toggleable__label-arrow:before {content: \"▸\";float: left;margin-right: 0.25em;color: #696969;}#sk-container-id-1 label.sk-toggleable__label-arrow:hover:before {color: black;}#sk-container-id-1 div.sk-estimator:hover label.sk-toggleable__label-arrow:before {color: black;}#sk-container-id-1 div.sk-toggleable__content {max-height: 0;max-width: 0;overflow: hidden;text-align: left;background-color: #f0f8ff;}#sk-container-id-1 div.sk-toggleable__content pre {margin: 0.2em;color: black;border-radius: 0.25em;background-color: #f0f8ff;}#sk-container-id-1 input.sk-toggleable__control:checked~div.sk-toggleable__content {max-height: 200px;max-width: 100%;overflow: auto;}#sk-container-id-1 input.sk-toggleable__control:checked~label.sk-toggleable__label-arrow:before {content: \"▾\";}#sk-container-id-1 div.sk-estimator input.sk-toggleable__control:checked~label.sk-toggleable__label {background-color: #d4ebff;}#sk-container-id-1 div.sk-label input.sk-toggleable__control:checked~label.sk-toggleable__label {background-color: #d4ebff;}#sk-container-id-1 input.sk-hidden--visually {border: 0;clip: rect(1px 1px 1px 1px);clip: rect(1px, 1px, 1px, 1px);height: 1px;margin: -1px;overflow: hidden;padding: 0;position: absolute;width: 1px;}#sk-container-id-1 div.sk-estimator {font-family: monospace;background-color: #f0f8ff;border: 1px dotted black;border-radius: 0.25em;box-sizing: border-box;margin-bottom: 0.5em;}#sk-container-id-1 div.sk-estimator:hover {background-color: #d4ebff;}#sk-container-id-1 div.sk-parallel-item::after {content: \"\";width: 100%;border-bottom: 1px solid gray;flex-grow: 1;}#sk-container-id-1 div.sk-label:hover label.sk-toggleable__label {background-color: #d4ebff;}#sk-container-id-1 div.sk-serial::before {content: \"\";position: absolute;border-left: 1px solid gray;box-sizing: border-box;top: 0;bottom: 0;left: 50%;z-index: 0;}#sk-container-id-1 div.sk-serial {display: flex;flex-direction: column;align-items: center;background-color: white;padding-right: 0.2em;padding-left: 0.2em;position: relative;}#sk-container-id-1 div.sk-item {position: relative;z-index: 1;}#sk-container-id-1 div.sk-parallel {display: flex;align-items: stretch;justify-content: center;background-color: white;position: relative;}#sk-container-id-1 div.sk-item::before, #sk-container-id-1 div.sk-parallel-item::before {content: \"\";position: absolute;border-left: 1px solid gray;box-sizing: border-box;top: 0;bottom: 0;left: 50%;z-index: -1;}#sk-container-id-1 div.sk-parallel-item {display: flex;flex-direction: column;z-index: 1;position: relative;background-color: white;}#sk-container-id-1 div.sk-parallel-item:first-child::after {align-self: flex-end;width: 50%;}#sk-container-id-1 div.sk-parallel-item:last-child::after {align-self: flex-start;width: 50%;}#sk-container-id-1 div.sk-parallel-item:only-child::after {width: 0;}#sk-container-id-1 div.sk-dashed-wrapped {border: 1px dashed gray;margin: 0 0.4em 0.5em 0.4em;box-sizing: border-box;padding-bottom: 0.4em;background-color: white;}#sk-container-id-1 div.sk-label label {font-family: monospace;font-weight: bold;display: inline-block;line-height: 1.2em;}#sk-container-id-1 div.sk-label-container {text-align: center;}#sk-container-id-1 div.sk-container {/* jupyter's `normalize.less` sets `[hidden] { display: none; }` but bootstrap.min.css set `[hidden] { display: none !important; }` so we also need the `!important` here to be able to override the default hidden behavior on the sphinx rendered scikit-learn.org. See: https://github.com/scikit-learn/scikit-learn/issues/21755 */display: inline-block !important;position: relative;}#sk-container-id-1 div.sk-text-repr-fallback {display: none;}</style><div id=\"sk-container-id-1\" class=\"sk-top-container\"><div class=\"sk-text-repr-fallback\"><pre>Pipeline(steps=[(&#x27;scaler&#x27;, MinMaxScaler()),\n",
              "                (&#x27;randomforest&#x27;,\n",
              "                 RandomForestClassifier(class_weight=&#x27;balanced&#x27;, max_depth=9))])</pre><b>In a Jupyter environment, please rerun this cell to show the HTML representation or trust the notebook. <br />On GitHub, the HTML representation is unable to render, please try loading this page with nbviewer.org.</b></div><div class=\"sk-container\" hidden><div class=\"sk-item sk-dashed-wrapped\"><div class=\"sk-label-container\"><div class=\"sk-label sk-toggleable\"><input class=\"sk-toggleable__control sk-hidden--visually\" id=\"sk-estimator-id-1\" type=\"checkbox\" ><label for=\"sk-estimator-id-1\" class=\"sk-toggleable__label sk-toggleable__label-arrow\">Pipeline</label><div class=\"sk-toggleable__content\"><pre>Pipeline(steps=[(&#x27;scaler&#x27;, MinMaxScaler()),\n",
              "                (&#x27;randomforest&#x27;,\n",
              "                 RandomForestClassifier(class_weight=&#x27;balanced&#x27;, max_depth=9))])</pre></div></div></div><div class=\"sk-serial\"><div class=\"sk-item\"><div class=\"sk-estimator sk-toggleable\"><input class=\"sk-toggleable__control sk-hidden--visually\" id=\"sk-estimator-id-2\" type=\"checkbox\" ><label for=\"sk-estimator-id-2\" class=\"sk-toggleable__label sk-toggleable__label-arrow\">MinMaxScaler</label><div class=\"sk-toggleable__content\"><pre>MinMaxScaler()</pre></div></div></div><div class=\"sk-item\"><div class=\"sk-estimator sk-toggleable\"><input class=\"sk-toggleable__control sk-hidden--visually\" id=\"sk-estimator-id-3\" type=\"checkbox\" ><label for=\"sk-estimator-id-3\" class=\"sk-toggleable__label sk-toggleable__label-arrow\">RandomForestClassifier</label><div class=\"sk-toggleable__content\"><pre>RandomForestClassifier(class_weight=&#x27;balanced&#x27;, max_depth=9)</pre></div></div></div></div></div></div></div>"
            ],
            "text/plain": [
              "Pipeline(steps=[('scaler', MinMaxScaler()),\n",
              "                ('randomforest',\n",
              "                 RandomForestClassifier(class_weight='balanced', max_depth=9))])"
            ]
          },
          "execution_count": 24,
          "metadata": {},
          "output_type": "execute_result"
        }
      ],
      "source": [
        "classifier_Pipe.fit(X_train, y_class_train)"
      ]
    },
    {
      "cell_type": "code",
      "execution_count": null,
      "metadata": {
        "id": "_a2RZv0asNbd",
        "outputId": "3d005fd0-6abe-4f19-ad7a-6462b3c4b3e7"
      },
      "outputs": [
        {
          "name": "stdout",
          "output_type": "stream",
          "text": [
            "test accuracy =  69.94 %\n"
          ]
        }
      ],
      "source": [
        "pred_class = classifier_Pipe.predict(X_test)\n",
        "print('test accuracy = ', round(accuracy_score(y_class_test, pred_class)*100, 2), '%')"
      ]
    },
    {
      "cell_type": "code",
      "execution_count": null,
      "metadata": {
        "id": "-sMtIS5osNbd",
        "outputId": "fb55da5e-1e47-4426-e22a-681b21c5c333"
      },
      "outputs": [
        {
          "name": "stdout",
          "output_type": "stream",
          "text": [
            "Classification Report:\n",
            "\n",
            "Accuracy score:\n",
            " 69.94 %\n",
            "****************************************\n",
            "\n",
            "Confusion Matrix:\n",
            " [[33177 13571]\n",
            " [ 3952  7591]]\n",
            "****************************************\n",
            "\n",
            "Classification Report:\n",
            "               precision    recall  f1-score   support\n",
            "\n",
            "           0       0.89      0.71      0.79     46748\n",
            "           1       0.36      0.66      0.46     11543\n",
            "\n",
            "    accuracy                           0.70     58291\n",
            "   macro avg       0.63      0.68      0.63     58291\n",
            "weighted avg       0.79      0.70      0.73     58291\n",
            "\n"
          ]
        }
      ],
      "source": [
        "print(\"Classification Report:\")\n",
        "\n",
        "print(\"\\nAccuracy score:\\n\", round(accuracy_score(y_class_test, pred_class)*100,2), '%')\n",
        "print('*'*40)\n",
        "print(\"\\nConfusion Matrix:\\n\", confusion_matrix(y_class_test, pred_class))\n",
        "print('*'*40)\n",
        "print(\"\\nClassification Report:\\n\", classification_report(y_class_test, pred_class))"
      ]
    },
    {
      "cell_type": "markdown",
      "metadata": {
        "id": "AN_ViNpssNbd"
      },
      "source": [
        "7. Regression Pipeline"
      ]
    },
    {
      "cell_type": "code",
      "execution_count": null,
      "metadata": {
        "id": "7rRiO33-sNbe"
      },
      "outputs": [],
      "source": [
        "from sklearn.linear_model import LinearRegression\n",
        "Regression_pipe = Pipeline([\n",
        "     ('scaler',scaler),\n",
        "     ('Regressor',LinearRegression())\n",
        "    ])"
      ]
    },
    {
      "cell_type": "code",
      "execution_count": null,
      "metadata": {
        "id": "2S6p21g0sNbe",
        "outputId": "38716a8e-e2f0-4044-b8fe-137b90fe5422"
      },
      "outputs": [
        {
          "name": "stdout",
          "output_type": "stream",
          "text": [
            "R squared test set 67.63\n"
          ]
        }
      ],
      "source": [
        "from sklearn.metrics import mean_squared_error\n",
        "\n",
        "# fit and transform the pipeline\n",
        "Regression_pipe.fit(X_train, y_reg_train)\n",
        "\n",
        "# predict using the pipeline\n",
        "pred_test_lass = Regression_pipe.predict(X_test)\n",
        "\n",
        "#print('R squared training set', round(Lasso.score(y_reg_train,pred_train_lass)*100, 2))\n",
        "print('R squared test set', round(r2_score(y_reg_test,pred_test_lass)*100, 2))"
      ]
    },
    {
      "cell_type": "code",
      "execution_count": null,
      "metadata": {
        "id": "RJ5ruwSVsNbe",
        "outputId": "85ce5fc7-76cc-4bf9-e6c7-62d995a083f4"
      },
      "outputs": [
        {
          "name": "stdout",
          "output_type": "stream",
          "text": [
            "12733.57781385281\n",
            "67.6295473276995 2\n"
          ]
        }
      ],
      "source": [
        "print(np.sqrt(mean_squared_error(y_reg_test,pred_test_lass)))\n",
        "print(r2_score(y_reg_test, pred_test_lass)*100,2)"
      ]
    },
    {
      "cell_type": "markdown",
      "metadata": {
        "id": "SlESnzYvsNbe"
      },
      "source": [
        "8. Saving Model"
      ]
    },
    {
      "cell_type": "code",
      "execution_count": null,
      "metadata": {
        "id": "-D7Reuw_sNbe"
      },
      "outputs": [],
      "source": [
        "pip install mgzip"
      ]
    },
    {
      "cell_type": "code",
      "execution_count": null,
      "metadata": {
        "id": "RHG5eS9usNbe"
      },
      "outputs": [],
      "source": [
        "import mgzip\n",
        "with mgzip.open(r'C:\\Users\\lenovo\\prepaymentrisk\\classifierPipe', 'wb') as f:\n",
        "    pickle.dump(classifier_Pipe, f)"
      ]
    },
    {
      "cell_type": "code",
      "execution_count": null,
      "metadata": {
        "id": "oWHBdS5nsNbf"
      },
      "outputs": [],
      "source": [
        "pickle.dump(Regression_pipe, open('Regression_pipe.pkl','wb'))"
      ]
    },
    {
      "cell_type": "code",
      "execution_count": null,
      "metadata": {
        "id": "_EXacAxBsNbf"
      },
      "outputs": [],
      "source": []
    },
    {
      "cell_type": "code",
      "execution_count": null,
      "metadata": {
        "id": "smVzLDH8sNbf"
      },
      "outputs": [],
      "source": []
    },
    {
      "cell_type": "code",
      "execution_count": null,
      "metadata": {
        "id": "Rp-yoGN4sNbf"
      },
      "outputs": [],
      "source": []
    }
  ],
  "metadata": {
    "kernelspec": {
      "display_name": "venv",
      "language": "python",
      "name": "python3"
    },
    "language_info": {
      "codemirror_mode": {
        "name": "ipython",
        "version": 3
      },
      "file_extension": ".py",
      "mimetype": "text/x-python",
      "name": "python",
      "nbconvert_exporter": "python",
      "pygments_lexer": "ipython3",
      "version": "3.8.5"
    },
    "orig_nbformat": 4,
    "colab": {
      "provenance": []
    }
  },
  "nbformat": 4,
  "nbformat_minor": 0
}