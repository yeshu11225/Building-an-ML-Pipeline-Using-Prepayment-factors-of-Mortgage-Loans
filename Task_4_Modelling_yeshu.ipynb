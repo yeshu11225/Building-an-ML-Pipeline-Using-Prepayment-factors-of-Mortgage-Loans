{
  "nbformat": 4,
  "nbformat_minor": 0,
  "metadata": {
    "colab": {
      "provenance": []
    },
    "kernelspec": {
      "name": "python3",
      "display_name": "Python 3"
    },
    "language_info": {
      "name": "python"
    }
  },
  "cells": [
    {
      "cell_type": "markdown",
      "metadata": {
        "id": "8CZmc2uGp4WD"
      },
      "source": [
        "# Predicting Mortgage Backed Securities Prepayment Risk Prediction"
      ]
    },
    {
      "cell_type": "markdown",
      "source": [
        "# **Third Task : Modelling.**\n",
        "\n",
        "*  Confusion matrix\n",
        "*  Precision and Recall\n",
        "*  Area under the ROC Curve (AUC)\n",
        "*  Accuracy & F1 score\n",
        "\n",
        "Higher the area under the ROC curve, the better the classifier.\n",
        "Min 0.5 AUC for tuned models. Aim for AUC > 0.5.\n",
        "Overall performance of the model (validation checks)\n",
        "\n",
        "\n",
        "\n",
        "\n",
        "\n",
        "\n",
        "\n"
      ],
      "metadata": {
        "id": "8g7faQ0gjN1m"
      }
    },
    {
      "cell_type": "markdown",
      "metadata": {
        "id": "83e4a37b"
      },
      "source": [
        "## The LoanExport data consists of 291451 rows and 28 columns. The columns of the dataset are explained below:\n",
        "\n",
        "### 0   CreditScore :                     Credit score of the client\n",
        "###  1   FirstPaymentDate  :         First payment date of the customer\n",
        "###  2   FirstTimeHomebuyer :     If the customer is first time home buyer\n",
        "###  3   MaturityDate   :                 Maturity date of the customer\n",
        "###  4   MSA  :                                Mortgage security amount\n",
        "###  5   MIP   :                                Mortgage insurance percentage  \n",
        "###  6   Units  :            Number of units  \n",
        "###  7   Occupancy  :        Occupancy status at the time the loan\n",
        "###  8   OCLTV  :            Original Combined Loan-to-Value\n",
        "###  9   DTI  :              Debt to income ratio\n",
        "###  10  OrigUPB  :          Original unpaid principal balance\n",
        "###  11  LTV   :          Loan-to-Value\n",
        "###  12  OrigInterestRate :   Original interest rate\n",
        "###  13  Channel  :           The origination channel used by the party\n",
        "###  14  PPM  :               Prepayment penalty mortgage\n",
        "###  15  ProductType  :       Type of product\n",
        "###  16  PropertyState  :     State in which the property is located\n",
        "###  17  PropertyType :       Property type\n",
        "###  18  PostalCode  :        Postal code of the property\n",
        "###  19  LoanSeqNum  :        Loan number\n",
        "###  20  LoanPurpose   :      Purpose of the loan\n",
        "###  21  OrigLoanTerm  :      Original term of the loan\n",
        "###  22  NumBorrowers :       Number of borrowers\n",
        "###  23  SellerName  :        Name of seller\n",
        "###  24  ServicerName  :      Name of the service used\n",
        "###  25  EverDelinquent  :    If the loan was ever delinquent  \n",
        "###  26  MonthsDelinquent  :  Months of delinquent  \n",
        "###  27  MonthsInRepayment :  Months in repayment"
      ]
    },
    {
      "cell_type": "markdown",
      "metadata": {
        "id": "HdZk8iLvp4WH"
      },
      "source": [
        "## Importing Data & Needed Libraries"
      ]
    },
    {
      "cell_type": "code",
      "execution_count": null,
      "metadata": {
        "id": "YgW8ER9R6G7_",
        "colab": {
          "base_uri": "https://localhost:8080/"
        },
        "outputId": "ff8d1fb8-828c-4d17-d4a0-f4c0cf66f76c"
      },
      "outputs": [
        {
          "output_type": "stream",
          "name": "stderr",
          "text": [
            "/usr/local/lib/python3.10/dist-packages/ipykernel/ipkernel.py:283: DeprecationWarning: `should_run_async` will not call `transform_cell` automatically in the future. Please pass the result to `transformed_cell` argument and any exception that happen during thetransform in `preprocessing_exc_tuple` in IPython 7.17 and above.\n",
            "  and should_run_async(code)\n"
          ]
        }
      ],
      "source": [
        "import pandas as pd\n",
        "import numpy as np\n",
        "import matplotlib.pyplot as plt\n",
        "import seaborn as sns\n",
        "import networkx as nx\n",
        "import statsmodels.api as sm\n",
        "from sklearn import preprocessing\n",
        "from sklearn.preprocessing import OneHotEncoder\n",
        "import warnings\n",
        "warnings.filterwarnings(\"ignore\")\n",
        "import matplotlib\n",
        "warnings.filterwarnings(\"always\")\n",
        "\n",
        "%matplotlib inline"
      ]
    },
    {
      "cell_type": "markdown",
      "source": [
        "# First Look at the data\n"
      ],
      "metadata": {
        "id": "ZQ_b31alhYwL"
      }
    },
    {
      "cell_type": "code",
      "execution_count": null,
      "metadata": {
        "colab": {
          "base_uri": "https://localhost:8080/",
          "height": 842
        },
        "id": "wzEw2aAp7_hD",
        "outputId": "f0def372-a55a-4f40-ca9c-40736876a503"
      },
      "outputs": [
        {
          "output_type": "stream",
          "name": "stderr",
          "text": [
            "/usr/local/lib/python3.10/dist-packages/ipykernel/ipkernel.py:283: DeprecationWarning: `should_run_async` will not call `transform_cell` automatically in the future. Please pass the result to `transformed_cell` argument and any exception that happen during thetransform in `preprocessing_exc_tuple` in IPython 7.17 and above.\n",
            "  and should_run_async(code)\n",
            "<ipython-input-63-674adbca6759>:1: DtypeWarning: Columns (18) have mixed types. Specify dtype option on import or set low_memory=False.\n",
            "  data = pd.read_csv('LoanExport.csv')\n"
          ]
        },
        {
          "output_type": "execute_result",
          "data": {
            "text/plain": [
              "    CreditScore  FirstPaymentDate FirstTimeHomebuyer  MaturityDate    MSA  \\\n",
              "0             0            199902                  N        202901  16974   \n",
              "1             0            199902                  N        202901  19740   \n",
              "2             0            199902                  N        202901  29940   \n",
              "3             0            199902                  N        202901  31084   \n",
              "4             0            199902                  N        202901  35644   \n",
              "5             0            199902                  N        202901  X       \n",
              "6             0            199902                  N        202901  X       \n",
              "7             0            199902                  X        202901  36740   \n",
              "8             0            199902                  Y        202710  25540   \n",
              "9             0            199902                  Y        202901  48620   \n",
              "10            0            199903                  N        202902  12060   \n",
              "11            0            199903                  N        202902  12060   \n",
              "12            0            199903                  N        202902  12060   \n",
              "13            0            199903                  N        202902  12060   \n",
              "14            0            199903                  N        202902  12060   \n",
              "15            0            199903                  N        202902  12060   \n",
              "16            0            199903                  N        202902  12060   \n",
              "17            0            199903                  N        202902  12420   \n",
              "18            0            199903                  N        202902  13140   \n",
              "19            0            199903                  N        202902  13644   \n",
              "\n",
              "    MIP  Units Occupancy  OCLTV  DTI  ...  PostalCode    LoanSeqNum  \\\n",
              "0    25      1         O     89   27  ...       60400  F199Q1268030   \n",
              "1     0      1         O     73   17  ...       80200  F199Q1015092   \n",
              "2     0      1         O     75   16  ...       66000  F199Q1266886   \n",
              "3     0      1         O     76   14  ...       90700  F199Q1178167   \n",
              "4     0      1         O     78   18  ...        7600  F199Q1178517   \n",
              "5    25      1         O     89   40  ...       80400  F199Q1224802   \n",
              "6    25      1         O     90   21  ...       53100  F199Q1291436   \n",
              "7     0      1         O     72   20  ...       32800  F199Q1001824   \n",
              "8    30      1         O     95   38  ...        6400  F199Q1079744   \n",
              "9    30      1         O     95   27  ...       67000  F199Q1196318   \n",
              "10    0      1         O     80   19  ...       30100  F199Q1309144   \n",
              "11   12      1         O     77   18  ...       30000  F199Q1363208   \n",
              "12   12      1         O     85   38  ...       30100  F199Q1388109   \n",
              "13   25      1         O     90   19  ...       30600  F199Q1388083   \n",
              "14   25      1         O     90   23  ...       30200  F199Q1312860   \n",
              "15   25      1         O     90   45  ...       30300  F199Q1271788   \n",
              "16   30      1         O     95   28  ...       30000  F199Q1311724   \n",
              "17   25      1         O     90   27  ...       78700  F199Q1330011   \n",
              "18   25      1         O     90   29  ...       77700  F199Q1321742   \n",
              "19   25      1         O     90   15  ...       20800  F199Q1245176   \n",
              "\n",
              "    LoanPurpose OrigLoanTerm NumBorrowers SellerName          ServicerName  \\\n",
              "0             P          360            2         FL  WASHINGTONMUTUALBANK   \n",
              "1             N          360            1         FT  CHASEHOMEFINANCELLC    \n",
              "2             N          360            2         FL  WASHINGTONMUTUALBANK   \n",
              "3             N          360            2         GM  GMACMTGECORP           \n",
              "4             N          360            2         GM  GMACMTGECORP           \n",
              "5             N          360            2         Ot  Other servicers        \n",
              "6             P          360            1         RE  Other servicers        \n",
              "7             N          360            1         NO   WELLSFARGOBANKNA      \n",
              "8             P          345            1         Ot  Other servicers        \n",
              "9             P          360            1         Ot   WELLSFARGOBANKNA      \n",
              "10            P          360            2         Ot  Other servicers        \n",
              "11            C          360            1         ST   ABNAMROMTGEGROUPINC   \n",
              "12            P          360            1         Ot   BANKOFAMERICANA       \n",
              "13            N          360            2         Ot   BANKOFAMERICANA       \n",
              "14            P          360            2         ST  CHASEMANHATTANMTGECO   \n",
              "15            N          360            1         Ot   BANKOFAMERICANA       \n",
              "16            P          360            1         CR  CHASEMANHATTANMTGECO   \n",
              "17            P          360            2         Ot   HOMESIDELENDINGINC    \n",
              "18            P          360            2         CH  CHASEMTGECO            \n",
              "19            P          360            1         FI  WELLSFARGOHOMEMORTGA   \n",
              "\n",
              "   EverDelinquent MonthsDelinquent MonthsInRepayment  \n",
              "0               0                0                52  \n",
              "1               0                0               144  \n",
              "2               0                0                67  \n",
              "3               0                0                35  \n",
              "4               0                0                54  \n",
              "5               0                0                42  \n",
              "6               0                0                44  \n",
              "7               1                3               145  \n",
              "8               0                0                64  \n",
              "9               1              104               212  \n",
              "10              0                0                37  \n",
              "11              0                0                47  \n",
              "12              0                0                53  \n",
              "13              0                0                55  \n",
              "14              0                0                66  \n",
              "15              1                5                55  \n",
              "16              1               23                55  \n",
              "17              0                0                26  \n",
              "18              0                0                38  \n",
              "19              0                0                36  \n",
              "\n",
              "[20 rows x 28 columns]"
            ],
            "text/html": [
              "\n",
              "\n",
              "  <div id=\"df-8660dac6-d4df-4a09-853e-b19305e6f7a7\">\n",
              "    <div class=\"colab-df-container\">\n",
              "      <div>\n",
              "<style scoped>\n",
              "    .dataframe tbody tr th:only-of-type {\n",
              "        vertical-align: middle;\n",
              "    }\n",
              "\n",
              "    .dataframe tbody tr th {\n",
              "        vertical-align: top;\n",
              "    }\n",
              "\n",
              "    .dataframe thead th {\n",
              "        text-align: right;\n",
              "    }\n",
              "</style>\n",
              "<table border=\"1\" class=\"dataframe\">\n",
              "  <thead>\n",
              "    <tr style=\"text-align: right;\">\n",
              "      <th></th>\n",
              "      <th>CreditScore</th>\n",
              "      <th>FirstPaymentDate</th>\n",
              "      <th>FirstTimeHomebuyer</th>\n",
              "      <th>MaturityDate</th>\n",
              "      <th>MSA</th>\n",
              "      <th>MIP</th>\n",
              "      <th>Units</th>\n",
              "      <th>Occupancy</th>\n",
              "      <th>OCLTV</th>\n",
              "      <th>DTI</th>\n",
              "      <th>...</th>\n",
              "      <th>PostalCode</th>\n",
              "      <th>LoanSeqNum</th>\n",
              "      <th>LoanPurpose</th>\n",
              "      <th>OrigLoanTerm</th>\n",
              "      <th>NumBorrowers</th>\n",
              "      <th>SellerName</th>\n",
              "      <th>ServicerName</th>\n",
              "      <th>EverDelinquent</th>\n",
              "      <th>MonthsDelinquent</th>\n",
              "      <th>MonthsInRepayment</th>\n",
              "    </tr>\n",
              "  </thead>\n",
              "  <tbody>\n",
              "    <tr>\n",
              "      <th>0</th>\n",
              "      <td>0</td>\n",
              "      <td>199902</td>\n",
              "      <td>N</td>\n",
              "      <td>202901</td>\n",
              "      <td>16974</td>\n",
              "      <td>25</td>\n",
              "      <td>1</td>\n",
              "      <td>O</td>\n",
              "      <td>89</td>\n",
              "      <td>27</td>\n",
              "      <td>...</td>\n",
              "      <td>60400</td>\n",
              "      <td>F199Q1268030</td>\n",
              "      <td>P</td>\n",
              "      <td>360</td>\n",
              "      <td>2</td>\n",
              "      <td>FL</td>\n",
              "      <td>WASHINGTONMUTUALBANK</td>\n",
              "      <td>0</td>\n",
              "      <td>0</td>\n",
              "      <td>52</td>\n",
              "    </tr>\n",
              "    <tr>\n",
              "      <th>1</th>\n",
              "      <td>0</td>\n",
              "      <td>199902</td>\n",
              "      <td>N</td>\n",
              "      <td>202901</td>\n",
              "      <td>19740</td>\n",
              "      <td>0</td>\n",
              "      <td>1</td>\n",
              "      <td>O</td>\n",
              "      <td>73</td>\n",
              "      <td>17</td>\n",
              "      <td>...</td>\n",
              "      <td>80200</td>\n",
              "      <td>F199Q1015092</td>\n",
              "      <td>N</td>\n",
              "      <td>360</td>\n",
              "      <td>1</td>\n",
              "      <td>FT</td>\n",
              "      <td>CHASEHOMEFINANCELLC</td>\n",
              "      <td>0</td>\n",
              "      <td>0</td>\n",
              "      <td>144</td>\n",
              "    </tr>\n",
              "    <tr>\n",
              "      <th>2</th>\n",
              "      <td>0</td>\n",
              "      <td>199902</td>\n",
              "      <td>N</td>\n",
              "      <td>202901</td>\n",
              "      <td>29940</td>\n",
              "      <td>0</td>\n",
              "      <td>1</td>\n",
              "      <td>O</td>\n",
              "      <td>75</td>\n",
              "      <td>16</td>\n",
              "      <td>...</td>\n",
              "      <td>66000</td>\n",
              "      <td>F199Q1266886</td>\n",
              "      <td>N</td>\n",
              "      <td>360</td>\n",
              "      <td>2</td>\n",
              "      <td>FL</td>\n",
              "      <td>WASHINGTONMUTUALBANK</td>\n",
              "      <td>0</td>\n",
              "      <td>0</td>\n",
              "      <td>67</td>\n",
              "    </tr>\n",
              "    <tr>\n",
              "      <th>3</th>\n",
              "      <td>0</td>\n",
              "      <td>199902</td>\n",
              "      <td>N</td>\n",
              "      <td>202901</td>\n",
              "      <td>31084</td>\n",
              "      <td>0</td>\n",
              "      <td>1</td>\n",
              "      <td>O</td>\n",
              "      <td>76</td>\n",
              "      <td>14</td>\n",
              "      <td>...</td>\n",
              "      <td>90700</td>\n",
              "      <td>F199Q1178167</td>\n",
              "      <td>N</td>\n",
              "      <td>360</td>\n",
              "      <td>2</td>\n",
              "      <td>GM</td>\n",
              "      <td>GMACMTGECORP</td>\n",
              "      <td>0</td>\n",
              "      <td>0</td>\n",
              "      <td>35</td>\n",
              "    </tr>\n",
              "    <tr>\n",
              "      <th>4</th>\n",
              "      <td>0</td>\n",
              "      <td>199902</td>\n",
              "      <td>N</td>\n",
              "      <td>202901</td>\n",
              "      <td>35644</td>\n",
              "      <td>0</td>\n",
              "      <td>1</td>\n",
              "      <td>O</td>\n",
              "      <td>78</td>\n",
              "      <td>18</td>\n",
              "      <td>...</td>\n",
              "      <td>7600</td>\n",
              "      <td>F199Q1178517</td>\n",
              "      <td>N</td>\n",
              "      <td>360</td>\n",
              "      <td>2</td>\n",
              "      <td>GM</td>\n",
              "      <td>GMACMTGECORP</td>\n",
              "      <td>0</td>\n",
              "      <td>0</td>\n",
              "      <td>54</td>\n",
              "    </tr>\n",
              "    <tr>\n",
              "      <th>5</th>\n",
              "      <td>0</td>\n",
              "      <td>199902</td>\n",
              "      <td>N</td>\n",
              "      <td>202901</td>\n",
              "      <td>X</td>\n",
              "      <td>25</td>\n",
              "      <td>1</td>\n",
              "      <td>O</td>\n",
              "      <td>89</td>\n",
              "      <td>40</td>\n",
              "      <td>...</td>\n",
              "      <td>80400</td>\n",
              "      <td>F199Q1224802</td>\n",
              "      <td>N</td>\n",
              "      <td>360</td>\n",
              "      <td>2</td>\n",
              "      <td>Ot</td>\n",
              "      <td>Other servicers</td>\n",
              "      <td>0</td>\n",
              "      <td>0</td>\n",
              "      <td>42</td>\n",
              "    </tr>\n",
              "    <tr>\n",
              "      <th>6</th>\n",
              "      <td>0</td>\n",
              "      <td>199902</td>\n",
              "      <td>N</td>\n",
              "      <td>202901</td>\n",
              "      <td>X</td>\n",
              "      <td>25</td>\n",
              "      <td>1</td>\n",
              "      <td>O</td>\n",
              "      <td>90</td>\n",
              "      <td>21</td>\n",
              "      <td>...</td>\n",
              "      <td>53100</td>\n",
              "      <td>F199Q1291436</td>\n",
              "      <td>P</td>\n",
              "      <td>360</td>\n",
              "      <td>1</td>\n",
              "      <td>RE</td>\n",
              "      <td>Other servicers</td>\n",
              "      <td>0</td>\n",
              "      <td>0</td>\n",
              "      <td>44</td>\n",
              "    </tr>\n",
              "    <tr>\n",
              "      <th>7</th>\n",
              "      <td>0</td>\n",
              "      <td>199902</td>\n",
              "      <td>X</td>\n",
              "      <td>202901</td>\n",
              "      <td>36740</td>\n",
              "      <td>0</td>\n",
              "      <td>1</td>\n",
              "      <td>O</td>\n",
              "      <td>72</td>\n",
              "      <td>20</td>\n",
              "      <td>...</td>\n",
              "      <td>32800</td>\n",
              "      <td>F199Q1001824</td>\n",
              "      <td>N</td>\n",
              "      <td>360</td>\n",
              "      <td>1</td>\n",
              "      <td>NO</td>\n",
              "      <td>WELLSFARGOBANKNA</td>\n",
              "      <td>1</td>\n",
              "      <td>3</td>\n",
              "      <td>145</td>\n",
              "    </tr>\n",
              "    <tr>\n",
              "      <th>8</th>\n",
              "      <td>0</td>\n",
              "      <td>199902</td>\n",
              "      <td>Y</td>\n",
              "      <td>202710</td>\n",
              "      <td>25540</td>\n",
              "      <td>30</td>\n",
              "      <td>1</td>\n",
              "      <td>O</td>\n",
              "      <td>95</td>\n",
              "      <td>38</td>\n",
              "      <td>...</td>\n",
              "      <td>6400</td>\n",
              "      <td>F199Q1079744</td>\n",
              "      <td>P</td>\n",
              "      <td>345</td>\n",
              "      <td>1</td>\n",
              "      <td>Ot</td>\n",
              "      <td>Other servicers</td>\n",
              "      <td>0</td>\n",
              "      <td>0</td>\n",
              "      <td>64</td>\n",
              "    </tr>\n",
              "    <tr>\n",
              "      <th>9</th>\n",
              "      <td>0</td>\n",
              "      <td>199902</td>\n",
              "      <td>Y</td>\n",
              "      <td>202901</td>\n",
              "      <td>48620</td>\n",
              "      <td>30</td>\n",
              "      <td>1</td>\n",
              "      <td>O</td>\n",
              "      <td>95</td>\n",
              "      <td>27</td>\n",
              "      <td>...</td>\n",
              "      <td>67000</td>\n",
              "      <td>F199Q1196318</td>\n",
              "      <td>P</td>\n",
              "      <td>360</td>\n",
              "      <td>1</td>\n",
              "      <td>Ot</td>\n",
              "      <td>WELLSFARGOBANKNA</td>\n",
              "      <td>1</td>\n",
              "      <td>104</td>\n",
              "      <td>212</td>\n",
              "    </tr>\n",
              "    <tr>\n",
              "      <th>10</th>\n",
              "      <td>0</td>\n",
              "      <td>199903</td>\n",
              "      <td>N</td>\n",
              "      <td>202902</td>\n",
              "      <td>12060</td>\n",
              "      <td>0</td>\n",
              "      <td>1</td>\n",
              "      <td>O</td>\n",
              "      <td>80</td>\n",
              "      <td>19</td>\n",
              "      <td>...</td>\n",
              "      <td>30100</td>\n",
              "      <td>F199Q1309144</td>\n",
              "      <td>P</td>\n",
              "      <td>360</td>\n",
              "      <td>2</td>\n",
              "      <td>Ot</td>\n",
              "      <td>Other servicers</td>\n",
              "      <td>0</td>\n",
              "      <td>0</td>\n",
              "      <td>37</td>\n",
              "    </tr>\n",
              "    <tr>\n",
              "      <th>11</th>\n",
              "      <td>0</td>\n",
              "      <td>199903</td>\n",
              "      <td>N</td>\n",
              "      <td>202902</td>\n",
              "      <td>12060</td>\n",
              "      <td>12</td>\n",
              "      <td>1</td>\n",
              "      <td>O</td>\n",
              "      <td>77</td>\n",
              "      <td>18</td>\n",
              "      <td>...</td>\n",
              "      <td>30000</td>\n",
              "      <td>F199Q1363208</td>\n",
              "      <td>C</td>\n",
              "      <td>360</td>\n",
              "      <td>1</td>\n",
              "      <td>ST</td>\n",
              "      <td>ABNAMROMTGEGROUPINC</td>\n",
              "      <td>0</td>\n",
              "      <td>0</td>\n",
              "      <td>47</td>\n",
              "    </tr>\n",
              "    <tr>\n",
              "      <th>12</th>\n",
              "      <td>0</td>\n",
              "      <td>199903</td>\n",
              "      <td>N</td>\n",
              "      <td>202902</td>\n",
              "      <td>12060</td>\n",
              "      <td>12</td>\n",
              "      <td>1</td>\n",
              "      <td>O</td>\n",
              "      <td>85</td>\n",
              "      <td>38</td>\n",
              "      <td>...</td>\n",
              "      <td>30100</td>\n",
              "      <td>F199Q1388109</td>\n",
              "      <td>P</td>\n",
              "      <td>360</td>\n",
              "      <td>1</td>\n",
              "      <td>Ot</td>\n",
              "      <td>BANKOFAMERICANA</td>\n",
              "      <td>0</td>\n",
              "      <td>0</td>\n",
              "      <td>53</td>\n",
              "    </tr>\n",
              "    <tr>\n",
              "      <th>13</th>\n",
              "      <td>0</td>\n",
              "      <td>199903</td>\n",
              "      <td>N</td>\n",
              "      <td>202902</td>\n",
              "      <td>12060</td>\n",
              "      <td>25</td>\n",
              "      <td>1</td>\n",
              "      <td>O</td>\n",
              "      <td>90</td>\n",
              "      <td>19</td>\n",
              "      <td>...</td>\n",
              "      <td>30600</td>\n",
              "      <td>F199Q1388083</td>\n",
              "      <td>N</td>\n",
              "      <td>360</td>\n",
              "      <td>2</td>\n",
              "      <td>Ot</td>\n",
              "      <td>BANKOFAMERICANA</td>\n",
              "      <td>0</td>\n",
              "      <td>0</td>\n",
              "      <td>55</td>\n",
              "    </tr>\n",
              "    <tr>\n",
              "      <th>14</th>\n",
              "      <td>0</td>\n",
              "      <td>199903</td>\n",
              "      <td>N</td>\n",
              "      <td>202902</td>\n",
              "      <td>12060</td>\n",
              "      <td>25</td>\n",
              "      <td>1</td>\n",
              "      <td>O</td>\n",
              "      <td>90</td>\n",
              "      <td>23</td>\n",
              "      <td>...</td>\n",
              "      <td>30200</td>\n",
              "      <td>F199Q1312860</td>\n",
              "      <td>P</td>\n",
              "      <td>360</td>\n",
              "      <td>2</td>\n",
              "      <td>ST</td>\n",
              "      <td>CHASEMANHATTANMTGECO</td>\n",
              "      <td>0</td>\n",
              "      <td>0</td>\n",
              "      <td>66</td>\n",
              "    </tr>\n",
              "    <tr>\n",
              "      <th>15</th>\n",
              "      <td>0</td>\n",
              "      <td>199903</td>\n",
              "      <td>N</td>\n",
              "      <td>202902</td>\n",
              "      <td>12060</td>\n",
              "      <td>25</td>\n",
              "      <td>1</td>\n",
              "      <td>O</td>\n",
              "      <td>90</td>\n",
              "      <td>45</td>\n",
              "      <td>...</td>\n",
              "      <td>30300</td>\n",
              "      <td>F199Q1271788</td>\n",
              "      <td>N</td>\n",
              "      <td>360</td>\n",
              "      <td>1</td>\n",
              "      <td>Ot</td>\n",
              "      <td>BANKOFAMERICANA</td>\n",
              "      <td>1</td>\n",
              "      <td>5</td>\n",
              "      <td>55</td>\n",
              "    </tr>\n",
              "    <tr>\n",
              "      <th>16</th>\n",
              "      <td>0</td>\n",
              "      <td>199903</td>\n",
              "      <td>N</td>\n",
              "      <td>202902</td>\n",
              "      <td>12060</td>\n",
              "      <td>30</td>\n",
              "      <td>1</td>\n",
              "      <td>O</td>\n",
              "      <td>95</td>\n",
              "      <td>28</td>\n",
              "      <td>...</td>\n",
              "      <td>30000</td>\n",
              "      <td>F199Q1311724</td>\n",
              "      <td>P</td>\n",
              "      <td>360</td>\n",
              "      <td>1</td>\n",
              "      <td>CR</td>\n",
              "      <td>CHASEMANHATTANMTGECO</td>\n",
              "      <td>1</td>\n",
              "      <td>23</td>\n",
              "      <td>55</td>\n",
              "    </tr>\n",
              "    <tr>\n",
              "      <th>17</th>\n",
              "      <td>0</td>\n",
              "      <td>199903</td>\n",
              "      <td>N</td>\n",
              "      <td>202902</td>\n",
              "      <td>12420</td>\n",
              "      <td>25</td>\n",
              "      <td>1</td>\n",
              "      <td>O</td>\n",
              "      <td>90</td>\n",
              "      <td>27</td>\n",
              "      <td>...</td>\n",
              "      <td>78700</td>\n",
              "      <td>F199Q1330011</td>\n",
              "      <td>P</td>\n",
              "      <td>360</td>\n",
              "      <td>2</td>\n",
              "      <td>Ot</td>\n",
              "      <td>HOMESIDELENDINGINC</td>\n",
              "      <td>0</td>\n",
              "      <td>0</td>\n",
              "      <td>26</td>\n",
              "    </tr>\n",
              "    <tr>\n",
              "      <th>18</th>\n",
              "      <td>0</td>\n",
              "      <td>199903</td>\n",
              "      <td>N</td>\n",
              "      <td>202902</td>\n",
              "      <td>13140</td>\n",
              "      <td>25</td>\n",
              "      <td>1</td>\n",
              "      <td>O</td>\n",
              "      <td>90</td>\n",
              "      <td>29</td>\n",
              "      <td>...</td>\n",
              "      <td>77700</td>\n",
              "      <td>F199Q1321742</td>\n",
              "      <td>P</td>\n",
              "      <td>360</td>\n",
              "      <td>2</td>\n",
              "      <td>CH</td>\n",
              "      <td>CHASEMTGECO</td>\n",
              "      <td>0</td>\n",
              "      <td>0</td>\n",
              "      <td>38</td>\n",
              "    </tr>\n",
              "    <tr>\n",
              "      <th>19</th>\n",
              "      <td>0</td>\n",
              "      <td>199903</td>\n",
              "      <td>N</td>\n",
              "      <td>202902</td>\n",
              "      <td>13644</td>\n",
              "      <td>25</td>\n",
              "      <td>1</td>\n",
              "      <td>O</td>\n",
              "      <td>90</td>\n",
              "      <td>15</td>\n",
              "      <td>...</td>\n",
              "      <td>20800</td>\n",
              "      <td>F199Q1245176</td>\n",
              "      <td>P</td>\n",
              "      <td>360</td>\n",
              "      <td>1</td>\n",
              "      <td>FI</td>\n",
              "      <td>WELLSFARGOHOMEMORTGA</td>\n",
              "      <td>0</td>\n",
              "      <td>0</td>\n",
              "      <td>36</td>\n",
              "    </tr>\n",
              "  </tbody>\n",
              "</table>\n",
              "<p>20 rows × 28 columns</p>\n",
              "</div>\n",
              "      <button class=\"colab-df-convert\" onclick=\"convertToInteractive('df-8660dac6-d4df-4a09-853e-b19305e6f7a7')\"\n",
              "              title=\"Convert this dataframe to an interactive table.\"\n",
              "              style=\"display:none;\">\n",
              "\n",
              "  <svg xmlns=\"http://www.w3.org/2000/svg\" height=\"24px\"viewBox=\"0 0 24 24\"\n",
              "       width=\"24px\">\n",
              "    <path d=\"M0 0h24v24H0V0z\" fill=\"none\"/>\n",
              "    <path d=\"M18.56 5.44l.94 2.06.94-2.06 2.06-.94-2.06-.94-.94-2.06-.94 2.06-2.06.94zm-11 1L8.5 8.5l.94-2.06 2.06-.94-2.06-.94L8.5 2.5l-.94 2.06-2.06.94zm10 10l.94 2.06.94-2.06 2.06-.94-2.06-.94-.94-2.06-.94 2.06-2.06.94z\"/><path d=\"M17.41 7.96l-1.37-1.37c-.4-.4-.92-.59-1.43-.59-.52 0-1.04.2-1.43.59L10.3 9.45l-7.72 7.72c-.78.78-.78 2.05 0 2.83L4 21.41c.39.39.9.59 1.41.59.51 0 1.02-.2 1.41-.59l7.78-7.78 2.81-2.81c.8-.78.8-2.07 0-2.86zM5.41 20L4 18.59l7.72-7.72 1.47 1.35L5.41 20z\"/>\n",
              "  </svg>\n",
              "      </button>\n",
              "\n",
              "\n",
              "\n",
              "    <div id=\"df-6946adf7-a068-4e30-bb11-5313327f0546\">\n",
              "      <button class=\"colab-df-quickchart\" onclick=\"quickchart('df-6946adf7-a068-4e30-bb11-5313327f0546')\"\n",
              "              title=\"Suggest charts.\"\n",
              "              style=\"display:none;\">\n",
              "\n",
              "<svg xmlns=\"http://www.w3.org/2000/svg\" height=\"24px\"viewBox=\"0 0 24 24\"\n",
              "     width=\"24px\">\n",
              "    <g>\n",
              "        <path d=\"M19 3H5c-1.1 0-2 .9-2 2v14c0 1.1.9 2 2 2h14c1.1 0 2-.9 2-2V5c0-1.1-.9-2-2-2zM9 17H7v-7h2v7zm4 0h-2V7h2v10zm4 0h-2v-4h2v4z\"/>\n",
              "    </g>\n",
              "</svg>\n",
              "      </button>\n",
              "    </div>\n",
              "\n",
              "<style>\n",
              "  .colab-df-quickchart {\n",
              "    background-color: #E8F0FE;\n",
              "    border: none;\n",
              "    border-radius: 50%;\n",
              "    cursor: pointer;\n",
              "    display: none;\n",
              "    fill: #1967D2;\n",
              "    height: 32px;\n",
              "    padding: 0 0 0 0;\n",
              "    width: 32px;\n",
              "  }\n",
              "\n",
              "  .colab-df-quickchart:hover {\n",
              "    background-color: #E2EBFA;\n",
              "    box-shadow: 0px 1px 2px rgba(60, 64, 67, 0.3), 0px 1px 3px 1px rgba(60, 64, 67, 0.15);\n",
              "    fill: #174EA6;\n",
              "  }\n",
              "\n",
              "  [theme=dark] .colab-df-quickchart {\n",
              "    background-color: #3B4455;\n",
              "    fill: #D2E3FC;\n",
              "  }\n",
              "\n",
              "  [theme=dark] .colab-df-quickchart:hover {\n",
              "    background-color: #434B5C;\n",
              "    box-shadow: 0px 1px 3px 1px rgba(0, 0, 0, 0.15);\n",
              "    filter: drop-shadow(0px 1px 2px rgba(0, 0, 0, 0.3));\n",
              "    fill: #FFFFFF;\n",
              "  }\n",
              "</style>\n",
              "\n",
              "    <script>\n",
              "      async function quickchart(key) {\n",
              "        const containerElement = document.querySelector('#' + key);\n",
              "        const charts = await google.colab.kernel.invokeFunction(\n",
              "            'suggestCharts', [key], {});\n",
              "      }\n",
              "    </script>\n",
              "\n",
              "\n",
              "      <script>\n",
              "\n",
              "function displayQuickchartButton(domScope) {\n",
              "  let quickchartButtonEl =\n",
              "    domScope.querySelector('#df-6946adf7-a068-4e30-bb11-5313327f0546 button.colab-df-quickchart');\n",
              "  quickchartButtonEl.style.display =\n",
              "    google.colab.kernel.accessAllowed ? 'block' : 'none';\n",
              "}\n",
              "\n",
              "        displayQuickchartButton(document);\n",
              "      </script>\n",
              "      <style>\n",
              "    .colab-df-container {\n",
              "      display:flex;\n",
              "      flex-wrap:wrap;\n",
              "      gap: 12px;\n",
              "    }\n",
              "\n",
              "    .colab-df-convert {\n",
              "      background-color: #E8F0FE;\n",
              "      border: none;\n",
              "      border-radius: 50%;\n",
              "      cursor: pointer;\n",
              "      display: none;\n",
              "      fill: #1967D2;\n",
              "      height: 32px;\n",
              "      padding: 0 0 0 0;\n",
              "      width: 32px;\n",
              "    }\n",
              "\n",
              "    .colab-df-convert:hover {\n",
              "      background-color: #E2EBFA;\n",
              "      box-shadow: 0px 1px 2px rgba(60, 64, 67, 0.3), 0px 1px 3px 1px rgba(60, 64, 67, 0.15);\n",
              "      fill: #174EA6;\n",
              "    }\n",
              "\n",
              "    [theme=dark] .colab-df-convert {\n",
              "      background-color: #3B4455;\n",
              "      fill: #D2E3FC;\n",
              "    }\n",
              "\n",
              "    [theme=dark] .colab-df-convert:hover {\n",
              "      background-color: #434B5C;\n",
              "      box-shadow: 0px 1px 3px 1px rgba(0, 0, 0, 0.15);\n",
              "      filter: drop-shadow(0px 1px 2px rgba(0, 0, 0, 0.3));\n",
              "      fill: #FFFFFF;\n",
              "    }\n",
              "  </style>\n",
              "\n",
              "      <script>\n",
              "        const buttonEl =\n",
              "          document.querySelector('#df-8660dac6-d4df-4a09-853e-b19305e6f7a7 button.colab-df-convert');\n",
              "        buttonEl.style.display =\n",
              "          google.colab.kernel.accessAllowed ? 'block' : 'none';\n",
              "\n",
              "        async function convertToInteractive(key) {\n",
              "          const element = document.querySelector('#df-8660dac6-d4df-4a09-853e-b19305e6f7a7');\n",
              "          const dataTable =\n",
              "            await google.colab.kernel.invokeFunction('convertToInteractive',\n",
              "                                                     [key], {});\n",
              "          if (!dataTable) return;\n",
              "\n",
              "          const docLinkHtml = 'Like what you see? Visit the ' +\n",
              "            '<a target=\"_blank\" href=https://colab.research.google.com/notebooks/data_table.ipynb>data table notebook</a>'\n",
              "            + ' to learn more about interactive tables.';\n",
              "          element.innerHTML = '';\n",
              "          dataTable['output_type'] = 'display_data';\n",
              "          await google.colab.output.renderOutput(dataTable, element);\n",
              "          const docLink = document.createElement('div');\n",
              "          docLink.innerHTML = docLinkHtml;\n",
              "          element.appendChild(docLink);\n",
              "        }\n",
              "      </script>\n",
              "    </div>\n",
              "  </div>\n"
            ]
          },
          "metadata": {},
          "execution_count": 63
        }
      ],
      "source": [
        "data = pd.read_csv('LoanExport.csv')\n",
        "data.head(20)"
      ]
    },
    {
      "cell_type": "markdown",
      "metadata": {
        "id": "1b7bb1a8"
      },
      "source": [
        "## There is a chance of overfitting of the data, so we smote function to balance the data"
      ]
    },
    {
      "cell_type": "code",
      "execution_count": null,
      "metadata": {
        "colab": {
          "base_uri": "https://localhost:8080/",
          "height": 488
        },
        "id": "f31ce3fc",
        "outputId": "d58151f5-f7b0-49b2-ddea-ac816d93565d"
      },
      "outputs": [
        {
          "output_type": "execute_result",
          "data": {
            "text/plain": [
              "                 Specs          Score\n",
              "10   MonthsInRepayment  221960.459335\n",
              "13      RepaymentRange    8336.552337\n",
              "0          CreditScore    5465.087058\n",
              "2                  MIP    1089.217968\n",
              "11    CreditScoreRange     685.609158\n",
              "5                  LTV     183.958058\n",
              "3                OCLTV     179.613370\n",
              "4                  DTI     123.944907\n",
              "9         NumBorrowers     107.264664\n",
              "7                  PPM      21.141453\n",
              "1   FirstTimeHomebuyer       4.022438\n",
              "6     OrigInterestRate       3.860236\n",
              "12            LTVRange       0.366633\n",
              "8         OrigLoanTerm       0.032299"
            ],
            "text/html": [
              "\n",
              "  <div id=\"df-b827e29d-0003-4861-a0a1-9057d5b636da\" class=\"colab-df-container\">\n",
              "    <div>\n",
              "<style scoped>\n",
              "    .dataframe tbody tr th:only-of-type {\n",
              "        vertical-align: middle;\n",
              "    }\n",
              "\n",
              "    .dataframe tbody tr th {\n",
              "        vertical-align: top;\n",
              "    }\n",
              "\n",
              "    .dataframe thead th {\n",
              "        text-align: right;\n",
              "    }\n",
              "</style>\n",
              "<table border=\"1\" class=\"dataframe\">\n",
              "  <thead>\n",
              "    <tr style=\"text-align: right;\">\n",
              "      <th></th>\n",
              "      <th>Specs</th>\n",
              "      <th>Score</th>\n",
              "    </tr>\n",
              "  </thead>\n",
              "  <tbody>\n",
              "    <tr>\n",
              "      <th>10</th>\n",
              "      <td>MonthsInRepayment</td>\n",
              "      <td>221960.459335</td>\n",
              "    </tr>\n",
              "    <tr>\n",
              "      <th>13</th>\n",
              "      <td>RepaymentRange</td>\n",
              "      <td>8336.552337</td>\n",
              "    </tr>\n",
              "    <tr>\n",
              "      <th>0</th>\n",
              "      <td>CreditScore</td>\n",
              "      <td>5465.087058</td>\n",
              "    </tr>\n",
              "    <tr>\n",
              "      <th>2</th>\n",
              "      <td>MIP</td>\n",
              "      <td>1089.217968</td>\n",
              "    </tr>\n",
              "    <tr>\n",
              "      <th>11</th>\n",
              "      <td>CreditScoreRange</td>\n",
              "      <td>685.609158</td>\n",
              "    </tr>\n",
              "    <tr>\n",
              "      <th>5</th>\n",
              "      <td>LTV</td>\n",
              "      <td>183.958058</td>\n",
              "    </tr>\n",
              "    <tr>\n",
              "      <th>3</th>\n",
              "      <td>OCLTV</td>\n",
              "      <td>179.613370</td>\n",
              "    </tr>\n",
              "    <tr>\n",
              "      <th>4</th>\n",
              "      <td>DTI</td>\n",
              "      <td>123.944907</td>\n",
              "    </tr>\n",
              "    <tr>\n",
              "      <th>9</th>\n",
              "      <td>NumBorrowers</td>\n",
              "      <td>107.264664</td>\n",
              "    </tr>\n",
              "    <tr>\n",
              "      <th>7</th>\n",
              "      <td>PPM</td>\n",
              "      <td>21.141453</td>\n",
              "    </tr>\n",
              "    <tr>\n",
              "      <th>1</th>\n",
              "      <td>FirstTimeHomebuyer</td>\n",
              "      <td>4.022438</td>\n",
              "    </tr>\n",
              "    <tr>\n",
              "      <th>6</th>\n",
              "      <td>OrigInterestRate</td>\n",
              "      <td>3.860236</td>\n",
              "    </tr>\n",
              "    <tr>\n",
              "      <th>12</th>\n",
              "      <td>LTVRange</td>\n",
              "      <td>0.366633</td>\n",
              "    </tr>\n",
              "    <tr>\n",
              "      <th>8</th>\n",
              "      <td>OrigLoanTerm</td>\n",
              "      <td>0.032299</td>\n",
              "    </tr>\n",
              "  </tbody>\n",
              "</table>\n",
              "</div>\n",
              "    <div class=\"colab-df-buttons\">\n",
              "\n",
              "  <div class=\"colab-df-container\">\n",
              "    <button class=\"colab-df-convert\" onclick=\"convertToInteractive('df-b827e29d-0003-4861-a0a1-9057d5b636da')\"\n",
              "            title=\"Convert this dataframe to an interactive table.\"\n",
              "            style=\"display:none;\">\n",
              "\n",
              "  <svg xmlns=\"http://www.w3.org/2000/svg\" height=\"24px\" viewBox=\"0 -960 960 960\">\n",
              "    <path d=\"M120-120v-720h720v720H120Zm60-500h600v-160H180v160Zm220 220h160v-160H400v160Zm0 220h160v-160H400v160ZM180-400h160v-160H180v160Zm440 0h160v-160H620v160ZM180-180h160v-160H180v160Zm440 0h160v-160H620v160Z\"/>\n",
              "  </svg>\n",
              "    </button>\n",
              "\n",
              "  <style>\n",
              "    .colab-df-container {\n",
              "      display:flex;\n",
              "      gap: 12px;\n",
              "    }\n",
              "\n",
              "    .colab-df-convert {\n",
              "      background-color: #E8F0FE;\n",
              "      border: none;\n",
              "      border-radius: 50%;\n",
              "      cursor: pointer;\n",
              "      display: none;\n",
              "      fill: #1967D2;\n",
              "      height: 32px;\n",
              "      padding: 0 0 0 0;\n",
              "      width: 32px;\n",
              "    }\n",
              "\n",
              "    .colab-df-convert:hover {\n",
              "      background-color: #E2EBFA;\n",
              "      box-shadow: 0px 1px 2px rgba(60, 64, 67, 0.3), 0px 1px 3px 1px rgba(60, 64, 67, 0.15);\n",
              "      fill: #174EA6;\n",
              "    }\n",
              "\n",
              "    .colab-df-buttons div {\n",
              "      margin-bottom: 4px;\n",
              "    }\n",
              "\n",
              "    [theme=dark] .colab-df-convert {\n",
              "      background-color: #3B4455;\n",
              "      fill: #D2E3FC;\n",
              "    }\n",
              "\n",
              "    [theme=dark] .colab-df-convert:hover {\n",
              "      background-color: #434B5C;\n",
              "      box-shadow: 0px 1px 3px 1px rgba(0, 0, 0, 0.15);\n",
              "      filter: drop-shadow(0px 1px 2px rgba(0, 0, 0, 0.3));\n",
              "      fill: #FFFFFF;\n",
              "    }\n",
              "  </style>\n",
              "\n",
              "    <script>\n",
              "      const buttonEl =\n",
              "        document.querySelector('#df-b827e29d-0003-4861-a0a1-9057d5b636da button.colab-df-convert');\n",
              "      buttonEl.style.display =\n",
              "        google.colab.kernel.accessAllowed ? 'block' : 'none';\n",
              "\n",
              "      async function convertToInteractive(key) {\n",
              "        const element = document.querySelector('#df-b827e29d-0003-4861-a0a1-9057d5b636da');\n",
              "        const dataTable =\n",
              "          await google.colab.kernel.invokeFunction('convertToInteractive',\n",
              "                                                    [key], {});\n",
              "        if (!dataTable) return;\n",
              "\n",
              "        const docLinkHtml = 'Like what you see? Visit the ' +\n",
              "          '<a target=\"_blank\" href=https://colab.research.google.com/notebooks/data_table.ipynb>data table notebook</a>'\n",
              "          + ' to learn more about interactive tables.';\n",
              "        element.innerHTML = '';\n",
              "        dataTable['output_type'] = 'display_data';\n",
              "        await google.colab.output.renderOutput(dataTable, element);\n",
              "        const docLink = document.createElement('div');\n",
              "        docLink.innerHTML = docLinkHtml;\n",
              "        element.appendChild(docLink);\n",
              "      }\n",
              "    </script>\n",
              "  </div>\n",
              "\n",
              "\n",
              "<div id=\"df-cb9938a5-e633-4830-b3e5-907d5a953640\">\n",
              "  <button class=\"colab-df-quickchart\" onclick=\"quickchart('df-cb9938a5-e633-4830-b3e5-907d5a953640')\"\n",
              "            title=\"Suggest charts.\"\n",
              "            style=\"display:none;\">\n",
              "\n",
              "<svg xmlns=\"http://www.w3.org/2000/svg\" height=\"24px\"viewBox=\"0 0 24 24\"\n",
              "     width=\"24px\">\n",
              "    <g>\n",
              "        <path d=\"M19 3H5c-1.1 0-2 .9-2 2v14c0 1.1.9 2 2 2h14c1.1 0 2-.9 2-2V5c0-1.1-.9-2-2-2zM9 17H7v-7h2v7zm4 0h-2V7h2v10zm4 0h-2v-4h2v4z\"/>\n",
              "    </g>\n",
              "</svg>\n",
              "  </button>\n",
              "\n",
              "<style>\n",
              "  .colab-df-quickchart {\n",
              "      --bg-color: #E8F0FE;\n",
              "      --fill-color: #1967D2;\n",
              "      --hover-bg-color: #E2EBFA;\n",
              "      --hover-fill-color: #174EA6;\n",
              "      --disabled-fill-color: #AAA;\n",
              "      --disabled-bg-color: #DDD;\n",
              "  }\n",
              "\n",
              "  [theme=dark] .colab-df-quickchart {\n",
              "      --bg-color: #3B4455;\n",
              "      --fill-color: #D2E3FC;\n",
              "      --hover-bg-color: #434B5C;\n",
              "      --hover-fill-color: #FFFFFF;\n",
              "      --disabled-bg-color: #3B4455;\n",
              "      --disabled-fill-color: #666;\n",
              "  }\n",
              "\n",
              "  .colab-df-quickchart {\n",
              "    background-color: var(--bg-color);\n",
              "    border: none;\n",
              "    border-radius: 50%;\n",
              "    cursor: pointer;\n",
              "    display: none;\n",
              "    fill: var(--fill-color);\n",
              "    height: 32px;\n",
              "    padding: 0;\n",
              "    width: 32px;\n",
              "  }\n",
              "\n",
              "  .colab-df-quickchart:hover {\n",
              "    background-color: var(--hover-bg-color);\n",
              "    box-shadow: 0 1px 2px rgba(60, 64, 67, 0.3), 0 1px 3px 1px rgba(60, 64, 67, 0.15);\n",
              "    fill: var(--button-hover-fill-color);\n",
              "  }\n",
              "\n",
              "  .colab-df-quickchart-complete:disabled,\n",
              "  .colab-df-quickchart-complete:disabled:hover {\n",
              "    background-color: var(--disabled-bg-color);\n",
              "    fill: var(--disabled-fill-color);\n",
              "    box-shadow: none;\n",
              "  }\n",
              "\n",
              "  .colab-df-spinner {\n",
              "    border: 2px solid var(--fill-color);\n",
              "    border-color: transparent;\n",
              "    border-bottom-color: var(--fill-color);\n",
              "    animation:\n",
              "      spin 1s steps(1) infinite;\n",
              "  }\n",
              "\n",
              "  @keyframes spin {\n",
              "    0% {\n",
              "      border-color: transparent;\n",
              "      border-bottom-color: var(--fill-color);\n",
              "      border-left-color: var(--fill-color);\n",
              "    }\n",
              "    20% {\n",
              "      border-color: transparent;\n",
              "      border-left-color: var(--fill-color);\n",
              "      border-top-color: var(--fill-color);\n",
              "    }\n",
              "    30% {\n",
              "      border-color: transparent;\n",
              "      border-left-color: var(--fill-color);\n",
              "      border-top-color: var(--fill-color);\n",
              "      border-right-color: var(--fill-color);\n",
              "    }\n",
              "    40% {\n",
              "      border-color: transparent;\n",
              "      border-right-color: var(--fill-color);\n",
              "      border-top-color: var(--fill-color);\n",
              "    }\n",
              "    60% {\n",
              "      border-color: transparent;\n",
              "      border-right-color: var(--fill-color);\n",
              "    }\n",
              "    80% {\n",
              "      border-color: transparent;\n",
              "      border-right-color: var(--fill-color);\n",
              "      border-bottom-color: var(--fill-color);\n",
              "    }\n",
              "    90% {\n",
              "      border-color: transparent;\n",
              "      border-bottom-color: var(--fill-color);\n",
              "    }\n",
              "  }\n",
              "</style>\n",
              "\n",
              "  <script>\n",
              "    async function quickchart(key) {\n",
              "      const quickchartButtonEl =\n",
              "        document.querySelector('#' + key + ' button');\n",
              "      quickchartButtonEl.disabled = true;  // To prevent multiple clicks.\n",
              "      quickchartButtonEl.classList.add('colab-df-spinner');\n",
              "      try {\n",
              "        const charts = await google.colab.kernel.invokeFunction(\n",
              "            'suggestCharts', [key], {});\n",
              "      } catch (error) {\n",
              "        console.error('Error during call to suggestCharts:', error);\n",
              "      }\n",
              "      quickchartButtonEl.classList.remove('colab-df-spinner');\n",
              "      quickchartButtonEl.classList.add('colab-df-quickchart-complete');\n",
              "    }\n",
              "    (() => {\n",
              "      let quickchartButtonEl =\n",
              "        document.querySelector('#df-cb9938a5-e633-4830-b3e5-907d5a953640 button');\n",
              "      quickchartButtonEl.style.display =\n",
              "        google.colab.kernel.accessAllowed ? 'block' : 'none';\n",
              "    })();\n",
              "  </script>\n",
              "</div>\n",
              "    </div>\n",
              "  </div>\n"
            ]
          },
          "metadata": {},
          "execution_count": 65
        }
      ],
      "source": [
        "\n",
        "from sklearn.feature_selection import SelectKBest\n",
        "from sklearn.feature_selection import chi2\n",
        "\n",
        "x = data.drop(\"EverDelinquent\", axis=1)\n",
        "y = data[\"EverDelinquent\"]\n",
        "\n",
        "bestfeatures = SelectKBest(score_func=chi2, k=14)\n",
        "fit = bestfeatures.fit(x, y)\n",
        "\n",
        "dfscores = pd.DataFrame(fit.scores_)\n",
        "dfcolumns = pd.DataFrame(x.columns)\n",
        "\n",
        "featureScores = pd.concat([dfcolumns, dfscores], axis=1)\n",
        "featureScores.columns = ['Specs', 'Score']\n",
        "featureScores.sort_values(by='Score', ascending=False)"
      ]
    },
    {
      "cell_type": "markdown",
      "metadata": {
        "id": "fb8e6009"
      },
      "source": [
        "## We will use Smote to balance the data."
      ]
    },
    {
      "cell_type": "code",
      "execution_count": null,
      "metadata": {
        "colab": {
          "base_uri": "https://localhost:8080/",
          "height": 36
        },
        "id": "4bcdc0ff",
        "outputId": "51518530-c150-4bee-836b-ca73e63cbb10"
      },
      "outputs": [
        {
          "output_type": "execute_result",
          "data": {
            "text/plain": [
              "'from sklearn.preprocessing import StandardScaler\\nscaler=StandardScaler()\\npd.DataFrame(scaler.fit_transform(x_smote), columns=x.columns)\\n'"
            ],
            "application/vnd.google.colaboratory.intrinsic+json": {
              "type": "string"
            }
          },
          "metadata": {},
          "execution_count": 66
        }
      ],
      "source": [
        "'''from sklearn.preprocessing import StandardScaler\n",
        "scaler=StandardScaler()\n",
        "pd.DataFrame(scaler.fit_transform(x_smote), columns=x.columns)\n",
        "'''"
      ]
    },
    {
      "cell_type": "code",
      "execution_count": null,
      "metadata": {
        "colab": {
          "base_uri": "https://localhost:8080/"
        },
        "id": "ff7b362d",
        "outputId": "a313af42-7058-4af1-bc8b-4b586bcfb27c"
      },
      "outputs": [
        {
          "output_type": "execute_result",
          "data": {
            "text/plain": [
              "0.0    66983\n",
              "1.0    24950\n",
              "Name: EverDelinquent, dtype: int64"
            ]
          },
          "metadata": {},
          "execution_count": 67
        }
      ],
      "source": [
        "y.value_counts()"
      ]
    },
    {
      "cell_type": "code",
      "execution_count": null,
      "metadata": {
        "id": "7020a5ac"
      },
      "outputs": [],
      "source": [
        "from imblearn.combine import SMOTETomek\n",
        "\n",
        "smt = SMOTETomek(random_state=42)\n",
        "x_smote, y_smote = smt.fit_resample(x, y)"
      ]
    },
    {
      "cell_type": "code",
      "execution_count": null,
      "metadata": {
        "id": "4b44ce0b"
      },
      "outputs": [],
      "source": [
        "#Now Concat the x_smote and y_smote and make balance dataframe\n",
        "df_smote_over = pd.concat([pd.DataFrame(x_smote,columns=['CreditScore','FirstTimeHomebuyer','MIP','OCLTV','DTI','LTV','OrigInterestRate','PPM','OrigLoanTerm','NumBorrowers','MonthsInRepayment','CreditScoreRange','LTVRange','RepaymentRange']), pd.DataFrame(y_smote, columns=['EverDelinquent'])], axis=1)"
      ]
    },
    {
      "cell_type": "code",
      "execution_count": null,
      "metadata": {
        "id": "22ded70e"
      },
      "outputs": [],
      "source": [
        "for x in df_smote_over.columns:\n",
        "  if(x==\"OrigInterestRate\"):\n",
        "    continue\n",
        "  df_smote_over[x]=df_smote_over[x].astype(int)\n"
      ]
    },
    {
      "cell_type": "code",
      "execution_count": null,
      "metadata": {
        "scrolled": true,
        "colab": {
          "base_uri": "https://localhost:8080/"
        },
        "id": "1173d178",
        "outputId": "728feeb5-e67e-4a03-c75f-5a9a395034ec"
      },
      "outputs": [
        {
          "output_type": "stream",
          "name": "stdout",
          "text": [
            "CreditScore           669.403408\n",
            "FirstTimeHomebuyer      0.118397\n",
            "MIP                    13.282464\n",
            "OCLTV                  81.738413\n",
            "DTI                    33.037637\n",
            "LTV                    81.720507\n",
            "OrigInterestRate        6.972893\n",
            "PPM                     0.013127\n",
            "OrigLoanTerm          359.899745\n",
            "NumBorrowers            1.550575\n",
            "MonthsInRepayment      65.387011\n",
            "CreditScoreRange        1.914429\n",
            "LTVRange                2.963432\n",
            "RepaymentRange          0.856260\n",
            "EverDelinquent          0.500000\n",
            "dtype: float64\n",
            "CreditScore           37.819691\n",
            "FirstTimeHomebuyer     0.323078\n",
            "MIP                   13.568622\n",
            "OCLTV                 12.977994\n",
            "DTI                   10.944604\n",
            "LTV                   12.973843\n",
            "OrigInterestRate       0.338955\n",
            "PPM                    0.113820\n",
            "OrigLoanTerm           1.707753\n",
            "NumBorrowers           0.497436\n",
            "MonthsInRepayment     49.806860\n",
            "CreditScoreRange       0.725978\n",
            "LTVRange               0.201317\n",
            "RepaymentRange         1.104558\n",
            "EverDelinquent         0.500000\n",
            "dtype: float64\n"
          ]
        }
      ],
      "source": [
        "df_numeric = df_smote_over.select_dtypes(include=[np.number])\n",
        "print(np.mean(df_numeric))\n",
        "print(np.std(df_numeric))\n"
      ]
    },
    {
      "cell_type": "code",
      "execution_count": null,
      "metadata": {
        "colab": {
          "base_uri": "https://localhost:8080/"
        },
        "id": "326ff6c0",
        "outputId": "c48ece7c-ed1f-4084-b772-43335dd06e32"
      },
      "outputs": [
        {
          "output_type": "stream",
          "name": "stdout",
          "text": [
            "<class 'pandas.core.frame.DataFrame'>\n",
            "RangeIndex: 127216 entries, 0 to 127215\n",
            "Data columns (total 15 columns):\n",
            " #   Column              Non-Null Count   Dtype  \n",
            "---  ------              --------------   -----  \n",
            " 0   CreditScore         127216 non-null  int64  \n",
            " 1   FirstTimeHomebuyer  127216 non-null  int64  \n",
            " 2   MIP                 127216 non-null  int64  \n",
            " 3   OCLTV               127216 non-null  int64  \n",
            " 4   DTI                 127216 non-null  int64  \n",
            " 5   LTV                 127216 non-null  int64  \n",
            " 6   OrigInterestRate    127216 non-null  float64\n",
            " 7   PPM                 127216 non-null  int64  \n",
            " 8   OrigLoanTerm        127216 non-null  int64  \n",
            " 9   NumBorrowers        127216 non-null  int64  \n",
            " 10  MonthsInRepayment   127216 non-null  int64  \n",
            " 11  CreditScoreRange    127216 non-null  int64  \n",
            " 12  LTVRange            127216 non-null  int64  \n",
            " 13  RepaymentRange      127216 non-null  int64  \n",
            " 14  EverDelinquent      127216 non-null  int64  \n",
            "dtypes: float64(1), int64(14)\n",
            "memory usage: 14.6 MB\n"
          ]
        }
      ],
      "source": [
        "df=df_smote_over\n",
        "df.info()"
      ]
    },
    {
      "cell_type": "markdown",
      "metadata": {
        "id": "30cf6493"
      },
      "source": [
        "## We will be splitting the data in to test and train datas. We will find accuracy of components"
      ]
    },
    {
      "cell_type": "code",
      "execution_count": null,
      "metadata": {
        "id": "ff22b50e"
      },
      "outputs": [],
      "source": [
        "x = df.drop(\"EverDelinquent\", axis=1)\n",
        "y = df[\"EverDelinquent\"]"
      ]
    },
    {
      "cell_type": "code",
      "execution_count": null,
      "metadata": {
        "colab": {
          "base_uri": "https://localhost:8080/",
          "height": 53
        },
        "id": "0a08cd42",
        "outputId": "071367a6-e20b-4090-f475-9cc5adc9ce25"
      },
      "outputs": [
        {
          "output_type": "execute_result",
          "data": {
            "text/plain": [
              "'\\nfrom sklearn.decomposition import PCA\\npca = PCA(n_components=14, svd_solver=\"full\")\\nx = pd.DataFrame(pca.fit_transform(x), columns=x.columns)\\nx.head()\\n'"
            ],
            "application/vnd.google.colaboratory.intrinsic+json": {
              "type": "string"
            }
          },
          "metadata": {},
          "execution_count": 75
        }
      ],
      "source": [
        "'''\n",
        "from sklearn.decomposition import PCA\n",
        "pca = PCA(n_components=14, svd_solver=\"full\")\n",
        "x = pd.DataFrame(pca.fit_transform(x), columns=x.columns)\n",
        "x.head()\n",
        "'''"
      ]
    },
    {
      "cell_type": "markdown",
      "metadata": {
        "id": "aImn7A1Op4Ws"
      },
      "source": [
        "  ## Features"
      ]
    },
    {
      "cell_type": "code",
      "execution_count": null,
      "metadata": {
        "id": "UkxMczKZp4Ws"
      },
      "outputs": [],
      "source": [
        "# Select the most important features"
      ]
    },
    {
      "cell_type": "code",
      "execution_count": null,
      "metadata": {
        "id": "JTfKLsSIkty0"
      },
      "outputs": [],
      "source": [
        "import category_encoders as ce\n",
        "from sklearn.feature_selection import SelectKBest , SelectPercentile , mutual_info_classif"
      ]
    },
    {
      "cell_type": "code",
      "execution_count": null,
      "metadata": {
        "colab": {
          "base_uri": "https://localhost:8080/"
        },
        "id": "rCp2lOI7MBbI",
        "outputId": "0aa5da9c-4492-469b-f5cd-e6ea2d1af58a"
      },
      "outputs": [
        {
          "name": "stdout",
          "output_type": "stream",
          "text": [
            "[0.03543553 0.00648651 0.04825823 0.00634499 0.00396307 0.06299152\n",
            " 0.00629574 0.03394228 0.04622042 0.00190383 0.00661229 0.01033386\n",
            " 0.00074777 0.01344034 0.02054443 0.00820801 0.01053787 0.01821818\n",
            " 0.0480611 ]\n"
          ]
        }
      ],
      "source": [
        "from sklearn.feature_selection import mutual_info_classif as MIC\n",
        "mi_score = MIC(x,y)\n",
        "print(mi_score)"
      ]
    },
    {
      "cell_type": "code",
      "execution_count": null,
      "metadata": {
        "colab": {
          "base_uri": "https://localhost:8080/",
          "height": 645
        },
        "id": "7bZQs9JhDC0n",
        "outputId": "c67c1edf-8b33-4aa4-fd2c-d3b1da88ea4c"
      },
      "outputs": [
        {
          "data": {
            "text/html": [
              "<div>\n",
              "<style scoped>\n",
              "    .dataframe tbody tr th:only-of-type {\n",
              "        vertical-align: middle;\n",
              "    }\n",
              "\n",
              "    .dataframe tbody tr th {\n",
              "        vertical-align: top;\n",
              "    }\n",
              "\n",
              "    .dataframe thead th {\n",
              "        text-align: right;\n",
              "    }\n",
              "</style>\n",
              "<table border=\"1\" class=\"dataframe\">\n",
              "  <thead>\n",
              "    <tr style=\"text-align: right;\">\n",
              "      <th></th>\n",
              "      <th>feature</th>\n",
              "      <th>score</th>\n",
              "    </tr>\n",
              "  </thead>\n",
              "  <tbody>\n",
              "    <tr>\n",
              "      <th>0</th>\n",
              "      <td>CreditScore</td>\n",
              "      <td>82313.364214</td>\n",
              "    </tr>\n",
              "    <tr>\n",
              "      <th>1</th>\n",
              "      <td>MIP</td>\n",
              "      <td>18965.503893</td>\n",
              "    </tr>\n",
              "    <tr>\n",
              "      <th>17</th>\n",
              "      <td>CreditRange_poor</td>\n",
              "      <td>10713.083319</td>\n",
              "    </tr>\n",
              "    <tr>\n",
              "      <th>4</th>\n",
              "      <td>DTI</td>\n",
              "      <td>6351.661197</td>\n",
              "    </tr>\n",
              "    <tr>\n",
              "      <th>14</th>\n",
              "      <td>CreditRange_excellent</td>\n",
              "      <td>5646.301434</td>\n",
              "    </tr>\n",
              "    <tr>\n",
              "      <th>6</th>\n",
              "      <td>LTV</td>\n",
              "      <td>4025.526627</td>\n",
              "    </tr>\n",
              "    <tr>\n",
              "      <th>3</th>\n",
              "      <td>OCLTV</td>\n",
              "      <td>4004.643940</td>\n",
              "    </tr>\n",
              "    <tr>\n",
              "      <th>15</th>\n",
              "      <td>CreditRange_fair</td>\n",
              "      <td>2039.242517</td>\n",
              "    </tr>\n",
              "    <tr>\n",
              "      <th>16</th>\n",
              "      <td>CreditRange_good</td>\n",
              "      <td>1383.901767</td>\n",
              "    </tr>\n",
              "    <tr>\n",
              "      <th>13</th>\n",
              "      <td>LTVRange</td>\n",
              "      <td>297.554751</td>\n",
              "    </tr>\n",
              "    <tr>\n",
              "      <th>9</th>\n",
              "      <td>LoanPurpose_C</td>\n",
              "      <td>64.852055</td>\n",
              "    </tr>\n",
              "    <tr>\n",
              "      <th>11</th>\n",
              "      <td>LoanPurpose_P</td>\n",
              "      <td>47.502907</td>\n",
              "    </tr>\n",
              "    <tr>\n",
              "      <th>10</th>\n",
              "      <td>LoanPurpose_N</td>\n",
              "      <td>2.012502</td>\n",
              "    </tr>\n",
              "    <tr>\n",
              "      <th>12</th>\n",
              "      <td>FirstTimeHomebuyer_Y</td>\n",
              "      <td>0.992923</td>\n",
              "    </tr>\n",
              "    <tr>\n",
              "      <th>8</th>\n",
              "      <td>OrigLoanTerm</td>\n",
              "      <td>0.475173</td>\n",
              "    </tr>\n",
              "    <tr>\n",
              "      <th>7</th>\n",
              "      <td>OrigInterestRate</td>\n",
              "      <td>0.000000</td>\n",
              "    </tr>\n",
              "    <tr>\n",
              "      <th>5</th>\n",
              "      <td>OrigUPB</td>\n",
              "      <td>0.000000</td>\n",
              "    </tr>\n",
              "    <tr>\n",
              "      <th>2</th>\n",
              "      <td>Units</td>\n",
              "      <td>0.000000</td>\n",
              "    </tr>\n",
              "    <tr>\n",
              "      <th>18</th>\n",
              "      <td>RepayRange_high</td>\n",
              "      <td>0.000000</td>\n",
              "    </tr>\n",
              "  </tbody>\n",
              "</table>\n",
              "</div>"
            ],
            "text/plain": [
              "                  feature         score\n",
              "0             CreditScore  82313.364214\n",
              "1                     MIP  18965.503893\n",
              "17       CreditRange_poor  10713.083319\n",
              "4                     DTI   6351.661197\n",
              "14  CreditRange_excellent   5646.301434\n",
              "6                     LTV   4025.526627\n",
              "3                   OCLTV   4004.643940\n",
              "15       CreditRange_fair   2039.242517\n",
              "16       CreditRange_good   1383.901767\n",
              "13               LTVRange    297.554751\n",
              "9           LoanPurpose_C     64.852055\n",
              "11          LoanPurpose_P     47.502907\n",
              "10          LoanPurpose_N      2.012502\n",
              "12   FirstTimeHomebuyer_Y      0.992923\n",
              "8            OrigLoanTerm      0.475173\n",
              "7        OrigInterestRate      0.000000\n",
              "5                 OrigUPB      0.000000\n",
              "2                   Units      0.000000\n",
              "18        RepayRange_high      0.000000"
            ]
          },
          "execution_count": 109,
          "metadata": {},
          "output_type": "execute_result"
        }
      ],
      "source": [
        "from sklearn.feature_selection import chi2\n",
        "best_features=SelectKBest(score_func=chi2,k=10)\n",
        "fit=best_features.fit(x,y)\n",
        "df_scores= pd.DataFrame(fit.scores_)\n",
        "df_col=pd.DataFrame(x.columns)\n",
        "features_score =pd.concat([df_col,df_scores], axis=1)\n",
        "features_score.columns=['feature','score']\n",
        "features_score.sort_values(by=['score'],ascending=False)"
      ]
    },
    {
      "cell_type": "code",
      "execution_count": null,
      "metadata": {
        "colab": {
          "base_uri": "https://localhost:8080/"
        },
        "id": "3brE6ISOldsa",
        "outputId": "f33175f7-2fc4-4e20-8ba8-6af6cdb8be53"
      },
      "outputs": [
        {
          "data": {
            "text/plain": [
              "['CreditScore',\n",
              " 'MIP',\n",
              " 'Units',\n",
              " 'OCLTV',\n",
              " 'OrigUPB',\n",
              " 'LTV',\n",
              " 'OrigInterestRate',\n",
              " 'OrigLoanTerm',\n",
              " 'LoanPurpose_P',\n",
              " 'LTVRange',\n",
              " 'CreditRange_excellent',\n",
              " 'CreditRange_fair',\n",
              " 'CreditRange_good',\n",
              " 'CreditRange_poor',\n",
              " 'RepayRange_high']"
            ]
          },
          "execution_count": 110,
          "metadata": {},
          "output_type": "execute_result"
        }
      ],
      "source": [
        "selector=SelectKBest(mutual_info_classif,k=15)\n",
        "x_selected=selector.fit_transform(x,y)\n",
        "cols=selector.get_support(indices=True)\n",
        "selected_features = x.iloc[:,cols].columns.tolist()\n",
        "selected_features"
      ]
    },
    {
      "cell_type": "code",
      "execution_count": null,
      "metadata": {
        "colab": {
          "base_uri": "https://localhost:8080/"
        },
        "id": "bgtvrJ4KHOPC",
        "outputId": "3ba02aa8-1642-42a1-c2fa-164ae6328901",
        "scrolled": true
      },
      "outputs": [
        {
          "name": "stdout",
          "output_type": "stream",
          "text": [
            "[0.38252091 0.01805842 0.         0.05438971 0.39739373 0.\n",
            " 0.05382889 0.         0.00437438 0.00090221 0.00087156 0.00100302\n",
            " 0.00262827 0.00364152 0.01703974 0.0119505  0.01114297 0.04025416\n",
            " 0.        ]\n"
          ]
        }
      ],
      "source": [
        "from sklearn.ensemble import ExtraTreesClassifier\n",
        "model=ExtraTreesClassifier()\n",
        "model.fit(x,y)\n",
        "print(model.feature_importances_)"
      ]
    },
    {
      "cell_type": "code",
      "execution_count": null,
      "metadata": {
        "id": "3J3VdALfp4Wu"
      },
      "outputs": [],
      "source": [
        "#view feature importance"
      ]
    },
    {
      "cell_type": "code",
      "execution_count": null,
      "metadata": {
        "colab": {
          "base_uri": "https://localhost:8080/",
          "height": 265
        },
        "id": "HYRLJOU2IbNC",
        "outputId": "f58e40bb-9f7d-452b-ac8f-cd26933ee4d7"
      },
      "outputs": [
        {
          "data": {
            "image/png": "[encoded data removed]",
            "text/plain": [
              "<Figure size 640x480 with 1 Axes>"
            ]
          },
          "metadata": {},
          "output_type": "display_data"
        }
      ],
      "source": [
        "feat_imp=pd.Series(model.feature_importances_,index=x.columns)\n",
        "feat_imp.nlargest(20).plot(kind='barh')\n",
        "plt.show()"
      ]
    },
    {
      "cell_type": "code",
      "execution_count": null,
      "metadata": {
        "colab": {
          "base_uri": "https://localhost:8080/"
        },
        "id": "czMdX7R1fQcU",
        "outputId": "2989611b-42fd-4b4e-da7d-5113d72bdbbd"
      },
      "outputs": [
        {
          "data": {
            "text/plain": [
              "OrigUPB                  0.047547\n",
              "CreditScore              0.035611\n",
              "CreditRange_poor         0.018783\n",
              "CreditRange_excellent    0.017687\n",
              "OrigLoanTerm             0.007728\n",
              "CreditRange_good         0.006610\n",
              "LTV                      0.006538\n",
              "OCLTV                    0.006438\n",
              "MIP                      0.005563\n",
              "CreditRange_fair         0.005496\n",
              "LTVRange                 0.003246\n",
              "DTI                      0.002040\n",
              "OrigInterestRate         0.001883\n",
              "RepayRange_high          0.000960\n",
              "LoanPurpose_C            0.000485\n",
              "LoanPurpose_N            0.000065\n",
              "FirstTimeHomebuyer_Y     0.000000\n",
              "LoanPurpose_P            0.000000\n",
              "Units                    0.000000\n",
              "Name: MI Scores, dtype: float64"
            ]
          },
          "execution_count": 114,
          "metadata": {},
          "output_type": "execute_result"
        }
      ],
      "source": [
        "from sklearn.feature_selection import mutual_info_regression\n",
        "discrete_features = x.dtypes == int\n",
        "def make_mi_scores(X, y):\n",
        "    mi_scores = mutual_info_regression(X, y, discrete_features=discrete_features)\n",
        "    mi_scores = pd.Series(mi_scores, name=\"MI Scores\", index=X.columns)\n",
        "    mi_scores = mi_scores.sort_values(ascending=False)\n",
        "    return mi_scores\n",
        "\n",
        "mi_scores = make_mi_scores(x, y)\n",
        "mi_scores[::]"
      ]
    },
    {
      "cell_type": "code",
      "execution_count": null,
      "metadata": {
        "colab": {
          "base_uri": "https://localhost:8080/"
        },
        "id": "nyeUrX6-rv1_",
        "outputId": "a0783451-83cd-4cc6-c433-e81fa9f3f6c3"
      },
      "outputs": [
        {
          "data": {
            "text/plain": [
              "Index(['CreditScore', 'MIP', 'Units', 'OCLTV', 'DTI', 'OrigUPB', 'LTV',\n",
              "       'OrigInterestRate', 'OrigLoanTerm', 'EverDelinquent', 'LoanPurpose_C',\n",
              "       'LoanPurpose_N', 'LoanPurpose_P', 'FirstTimeHomebuyer_Y', 'LTVRange',\n",
              "       'CreditRange_excellent', 'CreditRange_fair', 'CreditRange_good',\n",
              "       'CreditRange_poor', 'RepayRange_high'],\n",
              "      dtype='object')"
            ]
          },
          "execution_count": 115,
          "metadata": {},
          "output_type": "execute_result"
        }
      ],
      "source": [
        "raw_data.columns"
      ]
    },
    {
      "cell_type": "code",
      "execution_count": null,
      "metadata": {
        "id": "PRZzUgD-p4Wv"
      },
      "outputs": [],
      "source": [
        "#Select best features after PCA"
      ]
    },
    {
      "cell_type": "code",
      "execution_count": null,
      "metadata": {
        "id": "1Bt-RC-lgA4L"
      },
      "outputs": [],
      "source": [
        "import pandas as pd\n",
        "from sklearn.feature_selection import SelectKBest\n",
        "from sklearn.feature_selection import mutual_info_regression\n",
        "\n",
        "\n",
        "# Define the number of top features to select\n",
        "N = 11\n",
        "\n",
        "# Select top N features based on mutual information\n",
        "selector = SelectKBest(score_func=mutual_info_regression, k=N)\n",
        "X_selected = selector.fit_transform(x, y)\n",
        "\n",
        "# Get the indices of the selected features\n",
        "selected_feature_indices = selector.get_support(indices=True)\n",
        "\n",
        "# Get the names of the selected features\n",
        "selected_features = x.columns[selected_feature_indices].tolist()\n",
        "\n"
      ]
    },
    {
      "cell_type": "code",
      "execution_count": null,
      "metadata": {
        "colab": {
          "base_uri": "https://localhost:8080/"
        },
        "id": "8blsOuWogFk9",
        "outputId": "59ff47bd-8d04-4240-9005-66859e75e269"
      },
      "outputs": [
        {
          "data": {
            "text/plain": [
              "0     float64\n",
              "1     float64\n",
              "2     float64\n",
              "3     float64\n",
              "4     float64\n",
              "5     float64\n",
              "6     float64\n",
              "7     float64\n",
              "8     float64\n",
              "9     float64\n",
              "10    float64\n",
              "dtype: object"
            ]
          },
          "execution_count": 118,
          "metadata": {},
          "output_type": "execute_result"
        }
      ],
      "source": [
        "df_selected = pd.DataFrame(X_selected)\n",
        "\n",
        "df_selected.dtypes"
      ]
    },
    {
      "cell_type": "code",
      "execution_count": null,
      "metadata": {
        "id": "0h0tzs2Id9yA"
      },
      "outputs": [],
      "source": [
        "from sklearn.preprocessing import StandardScaler\n",
        "\n",
        "scaler = StandardScaler()\n",
        "x= scaler.fit_transform(x)\n"
      ]
    },
    {
      "cell_type": "code",
      "execution_count": null,
      "metadata": {
        "id": "wE3K1U3DY_en"
      },
      "outputs": [],
      "source": [
        "pca=PCA(n_components=6)\n",
        "pca.fit(x)\n",
        "features=pca.transform(x)"
      ]
    },
    {
      "cell_type": "markdown",
      "metadata": {
        "id": "mMpJBfesp4Wx"
      },
      "source": [
        "## Modelling"
      ]
    },
    {
      "cell_type": "code",
      "execution_count": null,
      "metadata": {
        "colab": {
          "base_uri": "https://localhost:8080/"
        },
        "id": "h3miyH2zgJox",
        "outputId": "714afedb-b0a7-4076-da90-ee817efcf0fc"
      },
      "outputs": [
        {
          "name": "stdout",
          "output_type": "stream",
          "text": [
            "X_train shape: (173587, 6)\n",
            "X_test shape: (57863, 6)\n",
            "y_train shape: (173587,)\n",
            "y_test shape: (57863,)\n",
            "X_val shape: (173587,)\n",
            "y val shape: (57863,)\n"
          ]
        }
      ],
      "source": [
        "from sklearn.model_selection import train_test_split\n",
        "\n",
        "\n",
        "# separate features and labels\n",
        "import pandas as pd\n",
        "df_selected = pd.DataFrame(X_selected)\n",
        "# features = df_selected\n",
        "\n",
        "df_labels = pd.DataFrame(y)\n",
        "labels = df_labels[\"EverDelinquent\"]\n",
        "\n",
        "\n",
        "# Split the data into training and test sets\n",
        "X_train, X_test, y_train, y_test = train_test_split(features, labels, test_size=0.2, random_state=42)\n",
        "X_train, X_val, y_train, y_val = train_test_split(X_train, y_train,\n",
        "    test_size=0.25, random_state= 8)\n",
        "\n",
        "\n",
        "print(\"X_train shape: {}\".format(X_train.shape))\n",
        "print(\"X_test shape: {}\".format(X_test.shape))\n",
        "print(\"y_train shape: {}\".format(y_train.shape))\n",
        "print(\"y_test shape: {}\".format(y_test.shape))\n",
        "print(\"X_val shape: {}\".format(y_train.shape))\n",
        "print(\"y val shape: {}\".format(y_test.shape))\n"
      ]
    },
    {
      "cell_type": "code",
      "execution_count": null,
      "metadata": {
        "colab": {
          "base_uri": "https://localhost:8080/"
        },
        "id": "zR0jSg64gcxE",
        "outputId": "f7b0335c-88ae-492a-8ef4-ed01741796ba"
      },
      "outputs": [
        {
          "data": {
            "text/plain": [
              "(289313, 6)"
            ]
          },
          "execution_count": 122,
          "metadata": {},
          "output_type": "execute_result"
        }
      ],
      "source": [
        "features.shape"
      ]
    },
    {
      "cell_type": "code",
      "execution_count": null,
      "metadata": {
        "colab": {
          "base_uri": "https://localhost:8080/"
        },
        "id": "UJvIKqz3ge20",
        "outputId": "c75259fd-7d5e-4276-cc2e-b5bf1f883152"
      },
      "outputs": [
        {
          "data": {
            "text/plain": [
              "(289313,)"
            ]
          },
          "execution_count": 123,
          "metadata": {},
          "output_type": "execute_result"
        }
      ],
      "source": [
        "labels.shape"
      ]
    },
    {
      "cell_type": "code",
      "execution_count": null,
      "metadata": {
        "colab": {
          "base_uri": "https://localhost:8080/"
        },
        "id": "i__cvxRHglXR",
        "outputId": "68788549-3f38-437d-cf2d-926c1690c591"
      },
      "outputs": [
        {
          "data": {
            "text/plain": [
              "0    231680\n",
              "1     57633\n",
              "Name: EverDelinquent, dtype: int64"
            ]
          },
          "execution_count": 124,
          "metadata": {},
          "output_type": "execute_result"
        }
      ],
      "source": [
        "labels.value_counts()"
      ]
    },
    {
      "cell_type": "code",
      "execution_count": null,
      "metadata": {
        "id": "4idOBSKTWkZc"
      },
      "outputs": [],
      "source": [
        "from imblearn.over_sampling import SMOTE\n",
        "oversampled = SMOTE(random_state=0)\n",
        "X_train_smote, y_train_smote = oversampled.fit_resample(X_train, y_train)"
      ]
    },
    {
      "cell_type": "code",
      "execution_count": null,
      "metadata": {
        "colab": {
          "base_uri": "https://localhost:8080/"
        },
        "id": "nUClmrx9WyYr",
        "outputId": "0a6d4eef-d34b-4789-9083-f662e6580e1a",
        "scrolled": true
      },
      "outputs": [
        {
          "data": {
            "text/plain": [
              "0    139060\n",
              "1    139060\n",
              "Name: EverDelinquent, dtype: int64"
            ]
          },
          "execution_count": 126,
          "metadata": {},
          "output_type": "execute_result"
        }
      ],
      "source": [
        "y_train_smote.value_counts()"
      ]
    },
    {
      "cell_type": "markdown",
      "metadata": {
        "id": "KibaExwep4W1"
      },
      "source": [
        "## Random Forest Model"
      ]
    },
    {
      "cell_type": "code",
      "execution_count": null,
      "metadata": {
        "id": "yPy9GgOqQnnU"
      },
      "outputs": [],
      "source": [
        "from sklearn.ensemble import RandomForestClassifier"
      ]
    },
    {
      "cell_type": "code",
      "execution_count": null,
      "metadata": {
        "colab": {
          "base_uri": "https://localhost:8080/"
        },
        "id": "lYG19ONpqxqy",
        "outputId": "9829d1d5-86b9-40ea-d4ad-5b6bda555932"
      },
      "outputs": [
        {
          "name": "stdout",
          "output_type": "stream",
          "text": [
            "Accuracy: 0.7123550455385999\n"
          ]
        }
      ],
      "source": [
        "\n",
        "from sklearn.ensemble import RandomForestClassifier\n",
        "from sklearn.model_selection import train_test_split\n",
        "from sklearn.metrics import accuracy_score\n",
        "\n",
        "\n",
        "\n",
        "# Train the random forest classifier\n",
        "rf = RandomForestClassifier(n_estimators=2)\n",
        "rf.fit(X_train_smote, y_train_smote)\n",
        "\n",
        "# Make predictions on the test set\n",
        "y_pred = rf.predict(X_test)\n",
        "\n",
        "# Evaluate the model's accuracy\n",
        "accuracy = accuracy_score(y_test, y_pred)\n",
        "print(\"Accuracy:\", accuracy)\n"
      ]
    },
    {
      "cell_type": "code",
      "execution_count": null,
      "metadata": {
        "colab": {
          "base_uri": "https://localhost:8080/"
        },
        "id": "lJQO3R1vUPjd",
        "outputId": "89c535a0-5b8d-4c4e-8164-f4a19b583847"
      },
      "outputs": [
        {
          "name": "stdout",
          "output_type": "stream",
          "text": [
            "Testing data accuracy is: 71.23550455385998\n",
            "\n",
            "Classification report:\n",
            "               precision    recall  f1-score   support\n",
            "\n",
            "           0       0.82      0.83      0.82     46273\n",
            "           1       0.27      0.26      0.26     11590\n",
            "\n",
            "    accuracy                           0.71     57863\n",
            "   macro avg       0.54      0.54      0.54     57863\n",
            "weighted avg       0.71      0.71      0.71     57863\n",
            "\n",
            "\n"
          ]
        },
        {
          "data": {
            "text/plain": [
              "array([[38238,  8035],\n",
              "       [ 8609,  2981]])"
            ]
          },
          "execution_count": 129,
          "metadata": {},
          "output_type": "execute_result"
        }
      ],
      "source": [
        "#Testing Accuracy\n",
        "from sklearn.metrics import accuracy_score, confusion_matrix, classification_report\n",
        "\n",
        "y_pred_test = rf.predict(X_test)\n",
        "y_pred_test[0:5]\n",
        "\n",
        "\n",
        "testing_accuracy = accuracy_score(y_test,y_pred_test)*100\n",
        "print('Testing data accuracy is:', testing_accuracy)\n",
        "print()\n",
        "\n",
        "clf_report = classification_report(y_test,y_pred_test)\n",
        "print('Classification report:\\n', clf_report)\n",
        "print()\n",
        "\n",
        "confusion_matrix(y_test,y_pred_test)"
      ]
    },
    {
      "cell_type": "code",
      "execution_count": null,
      "metadata": {
        "colab": {
          "base_uri": "https://localhost:8080/"
        },
        "id": "S3OEjq8vUkXi",
        "outputId": "b81c0c80-9a77-44b9-f3fd-7e241d7b2fc6"
      },
      "outputs": [
        {
          "name": "stdout",
          "output_type": "stream",
          "text": [
            "training data accuracy is: 90.37312701988051\n",
            "\n",
            "Classification report:\n",
            "               precision    recall  f1-score   support\n",
            "\n",
            "           0       0.93      0.95      0.94    139060\n",
            "           1       0.79      0.71      0.75     34527\n",
            "\n",
            "    accuracy                           0.90    173587\n",
            "   macro avg       0.86      0.83      0.84    173587\n",
            "weighted avg       0.90      0.90      0.90    173587\n",
            "\n",
            "\n"
          ]
        },
        {
          "data": {
            "text/plain": [
              "array([[132452,   6608],\n",
              "       [ 10103,  24424]])"
            ]
          },
          "execution_count": 130,
          "metadata": {},
          "output_type": "execute_result"
        }
      ],
      "source": [
        "#Training Accuracy\n",
        "\n",
        "y_pred_train = rf.predict(X_train)\n",
        "y_pred_train\n",
        "\n",
        "\n",
        "training_accuracy = accuracy_score(y_train,y_pred_train)*100\n",
        "print('training data accuracy is:', training_accuracy)\n",
        "print()\n",
        "\n",
        "clf_report = classification_report(y_train,y_pred_train)\n",
        "print('Classification report:\\n', clf_report)\n",
        "print()\n",
        "\n",
        "confusion_matrix(y_train,y_pred_train)"
      ]
    },
    {
      "cell_type": "code",
      "execution_count": null,
      "metadata": {
        "colab": {
          "base_uri": "https://localhost:8080/"
        },
        "id": "oS6XO9h0VW9l",
        "outputId": "0042fc61-d858-43c6-8e20-d25efb93f703"
      },
      "outputs": [
        {
          "data": {
            "text/plain": [
              "0.7123550455385999"
            ]
          },
          "execution_count": 131,
          "metadata": {},
          "output_type": "execute_result"
        }
      ],
      "source": [
        "accuracy_score(y_test,y_pred)"
      ]
    },
    {
      "cell_type": "code",
      "execution_count": null,
      "metadata": {
        "colab": {
          "base_uri": "https://localhost:8080/"
        },
        "id": "Vt_l1k1L1Hba",
        "outputId": "df65c805-c79d-4d9f-af2f-db7166a5ce8b"
      },
      "outputs": [
        {
          "data": {
            "text/plain": [
              "0.5417805546394604"
            ]
          },
          "execution_count": 132,
          "metadata": {},
          "output_type": "execute_result"
        }
      ],
      "source": [
        "from sklearn.metrics import roc_auc_score\n",
        "roc_auc_score(y_test,y_pred)"
      ]
    },
    {
      "cell_type": "markdown",
      "metadata": {
        "id": "SApgKQ5ayb26"
      },
      "source": [
        "## Accuracy is around 71%"
      ]
    },
    {
      "cell_type": "markdown",
      "metadata": {
        "id": "74d2965d"
      },
      "source": [
        "##  Hyperparametric tuning on Random Forest Classifier model"
      ]
    },
    {
      "cell_type": "code",
      "execution_count": null,
      "metadata": {
        "id": "21e9b1f9",
        "outputId": "86a9218e-f7e5-42bc-f4a4-b502c7d6c2c3"
      },
      "outputs": [
        {
          "name": "stdout",
          "output_type": "stream",
          "text": [
            "Best hyperparameters: {'criterion': 'entropy', 'max_depth': 101, 'max_features': 3, 'n_estimators': 300}\n",
            "Best model: RandomForestClassifier(criterion='entropy', max_depth=101, max_features=3,\n",
            "                       n_estimators=300)\n",
            "Grid search best score: 0.8652326186956752\n",
            "Accuracy score: 0.8753564513289914\n",
            "Roc_auc: 0.8753587120529951\n",
            "R-squared score: 0.5014257163338393\n",
            "Classification Report:\n",
            "               precision    recall  f1-score   support\n",
            "\n",
            "           0       0.87      0.88      0.88     28393\n",
            "           1       0.88      0.87      0.87     28417\n",
            "\n",
            "    accuracy                           0.88     56810\n",
            "   macro avg       0.88      0.88      0.88     56810\n",
            "weighted avg       0.88      0.88      0.88     56810\n",
            "\n",
            "Confusion Matrix:\n",
            " [[25006  3387]\n",
            " [ 3694 24723]]\n"
          ]
        }
      ],
      "source": [
        "\n",
        "# Define the hyperparameters grid\n",
        "param_grid = {\n",
        "               'max_depth': [9, 53, 101], # this is the longest path between the root node and the leaf node. It is possible to limit the depth of every tree in the random forest is goint to grow\n",
        "                'max_features': [1, 3], # It shows the number of features to consider when the model is looking for the best split.\n",
        "                'n_estimators': [100, 300], # it defines the number of trees in the forest.\n",
        "               'criterion' :['gini', 'entropy'] # Checks the quality of the split.\n",
        "}\n",
        "\n",
        "# Initialize the Random Forest classifier\n",
        "rfc = RandomForestClassifier()\n",
        "\n",
        "# Perform grid search with cross-validation\n",
        "grid_search = GridSearchCV(rfc, param_grid, cv=5, scoring='accuracy')\n",
        "grid_search.fit(x_train, y_train)\n",
        "\n",
        "# Get the best model and its predictions\n",
        "best_model = grid_search.best_estimator_\n",
        "y_pred = best_model.predict(x_test)\n",
        "\n",
        "# Calculate evaluation metrics\n",
        "hrf_accuracy = accuracy_score(y_test, y_pred)\n",
        "hrf=grid_search.best_score_\n",
        "# Print the results\n",
        "print(\"Best hyperparameters:\", grid_search.best_params_)\n",
        "print('Best model:', best_model)\n",
        "print('Grid search best score:',grid_search.best_score_)\n",
        "print('Accuracy score:', hrf_accuracy)\n",
        "print('Roc_auc:', roc_auc_score(y_test, y_pred))\n",
        "print('R-squared score:', r2_score(y_test, y_pred))\n",
        "print('Classification Report:\\n', classification_report(y_test, y_pred))\n",
        "print('Confusion Matrix:\\n', confusion_matrix(y_test, y_pred))\n",
        "\n"
      ]
    },
    {
      "cell_type": "markdown",
      "metadata": {
        "id": "1751e01a"
      },
      "source": [
        "## Important features of the dataset."
      ]
    },
    {
      "cell_type": "code",
      "execution_count": null,
      "metadata": {
        "id": "297598bd",
        "outputId": "3c3c1fd5-40b5-4871-887e-94555d50f842"
      },
      "outputs": [
        {
          "data": {
            "image/png": "[encoded data removed]",
            "text/plain": [
              "<Figure size 640x480 with 1 Axes>"
            ]
          },
          "metadata": {},
          "output_type": "display_data"
        }
      ],
      "source": [
        "rfc = RandomForestClassifier()\n",
        "rfc.fit(x_train, y_train)\n",
        "\n",
        "# predict\n",
        "y_pred = rfc.predict(x_test)\n",
        "importances = pd.DataFrame(data={\n",
        "    'Name': x_train.columns,\n",
        "    'Importance': rfc.feature_importances_\n",
        "})\n",
        "importances = importances.sort_values(by='Importance', ascending=False)\n",
        "plt.bar(x=importances['Name'], height=importances['Importance'])\n",
        "plt.title('Feature importances obtained from coefficients')\n",
        "plt.xticks(rotation='vertical')\n",
        "plt.show()\n"
      ]
    },
    {
      "cell_type": "markdown",
      "metadata": {
        "id": "KTHr27W192o0"
      },
      "source": [
        "## Plot Model Results"
      ]
    },
    {
      "cell_type": "code",
      "execution_count": null,
      "metadata": {
        "id": "1EwX1w6X92o0",
        "outputId": "1bca3151-74a0-4328-8899-fc6efaf1754d"
      },
      "outputs": [
        {
          "data": {
            "image/png": "[encoded data removed]",
            "text/plain": [
              "<Figure size 1080x720 with 1 Axes>"
            ]
          },
          "metadata": {
            "needs_background": "light"
          },
          "output_type": "display_data"
        }
      ],
      "source": [
        "#plot with line\n",
        "import matplotlib.pyplot as plt\n",
        "fig, ax = plt.subplots(figsize=(15,10))\n",
        "ax.scatter(y_test.to_pandas().sample(1000), preds.to_pandas().sample(1000))\n",
        "ax.plot([y_test.to_pandas().sample(1000).min(),y_test.to_pandas().sample(1000).max()], [y_test.to_pandas().sample(1000).min(), y_test.to_pandas().sample(1000).max()], 'k--', lw=4)\n",
        "plt.title('Model Results', size=20)\n",
        "ax.set_xlabel('Measured', size=15)\n",
        "ax.set_ylabel('Predicted', size=15)\n",
        "\n",
        "# set x & y limits\n",
        "ax.set(xlim = (0,1000000))\n",
        "ax.set(ylim = (0,1000000))\n",
        "# fix limits format\n",
        "ax.xaxis.set_major_formatter(ticker.EngFormatter())\n",
        "ax.yaxis.set_major_formatter(ticker.EngFormatter())\n",
        "plt.show()"
      ]
    },
    {
      "cell_type": "code",
      "execution_count": null,
      "metadata": {
        "id": "DOpAVOH5yb26",
        "outputId": "ca3aa156-cc96-4a38-e7e2-54beba5612ea"
      },
      "outputs": [
        {
          "name": "stdout",
          "output_type": "stream",
          "text": [
            "0.8661962086619621\n"
          ]
        }
      ],
      "source": [
        "from sklearn.metrics import accuracy_score\n",
        "print(accuracy_score(y_test, y_pred_gu))"
      ]
    },
    {
      "cell_type": "code",
      "execution_count": null,
      "metadata": {
        "id": "sCww1Dtk8YPh",
        "outputId": "81b6f7f7-3f5a-4cae-853c-e2b9f61c54dc"
      },
      "outputs": [
        {
          "name": "stdout",
          "output_type": "stream",
          "text": [
            "\n",
            "1 of kfold 5\n",
            "accuracy_score 0.8292682926829268\n",
            "\n",
            "2 of kfold 5\n",
            "accuracy_score 0.8211382113821138\n",
            "\n",
            "3 of kfold 5\n",
            "accuracy_score 0.7967479674796748\n",
            "\n",
            "4 of kfold 5\n",
            "accuracy_score 0.8130081300813008\n",
            "\n",
            "5 of kfold 5\n",
            "accuracy_score 0.7786885245901639\n"
          ]
        }
      ],
      "source": [
        "from sklearn.ensemble import RandomForestClassifier\n",
        "\n",
        "i=1\n",
        "kf = StratifiedKFold(n_splits=5,random_state=1,shuffle=True)\n",
        "for train_index,test_index in kf.split(X,y):\n",
        "    print('\\n{} of kfold {}'.format(i,kf.n_splits))\n",
        "    xtr,xvl = X.loc[train_index],X.loc[test_index]\n",
        "    ytr,yvl = y[train_index],y[test_index]\n",
        "    model = RandomForestClassifier(random_state=1, max_depth=10)\n",
        "    model.fit(xtr, ytr)\n",
        "    pred_test = model.predict(xvl)\n",
        "    score = accuracy_score(yvl,pred_test)\n",
        "    print('accuracy_score',score)\n",
        "    i+=1\n",
        "    pred_test = model.predict(test)\n",
        "    pred=model.predict_proba(xvl)[:,1]\n"
      ]
    },
    {
      "cell_type": "code",
      "execution_count": null,
      "metadata": {
        "id": "28hpn94u8YPh",
        "outputId": "055f17dc-0d10-4b6a-e145-fbc2d75c01b9"
      },
      "outputs": [
        {
          "data": {
            "image/png": "[encoded data removed]",
            "text/plain": [
              "<Figure size 864x576 with 1 Axes>"
            ]
          },
          "metadata": {
            "needs_background": "light"
          },
          "output_type": "display_data"
        }
      ],
      "source": [
        "from sklearn import metrics\n",
        "fpr, tpr, _ = metrics.roc_curve(yvl,  pred)\n",
        "auc = metrics.roc_auc_score(yvl, pred)\n",
        "plt.figure(figsize=(12,8))\n",
        "plt.plot(fpr,tpr,label=\"validation, auc=\"+str(auc))\n",
        "plt.xlabel('False Positive Rate')\n",
        "plt.ylabel('True Positive Rate')\n",
        "plt.legend(loc=4)\n",
        "plt.show()"
      ]
    },
    {
      "cell_type": "markdown",
      "source": [
        "#other"
      ],
      "metadata": {
        "id": "OYMHxP389Dwi"
      }
    },
    {
      "cell_type": "markdown",
      "metadata": {
        "id": "255f91c6"
      },
      "source": [
        "## Logistic Regression model"
      ]
    },
    {
      "cell_type": "code",
      "execution_count": null,
      "metadata": {
        "id": "1ce1a215",
        "outputId": "ae68b98a-9fe4-4d0e-91c0-667a5a125c39"
      },
      "outputs": [
        {
          "name": "stdout",
          "output_type": "stream",
          "text": [
            "Cross-validation scores: [0.47689155 0.66607291 0.85275426 0.89061701 0.86620507]\n",
            "Average cross-validation score: 0.7505081584552278\n",
            "Logistic regression Accuracy score: 0.7200668896321071\n",
            "ROC AUC score: 0.7200725285044332\n",
            "R-squared score: -0.11973264131379113\n",
            "Classification Report:\n",
            "               precision    recall  f1-score   support\n",
            "\n",
            "           0       0.71      0.73      0.72     28393\n",
            "           1       0.73      0.71      0.72     28417\n",
            "\n",
            "    accuracy                           0.72     56810\n",
            "   macro avg       0.72      0.72      0.72     56810\n",
            "weighted avg       0.72      0.72      0.72     56810\n",
            "\n",
            "Confusion Matrix:\n",
            " [[20824  7569]\n",
            " [ 8334 20083]]\n"
          ]
        }
      ],
      "source": [
        "from sklearn.model_selection import train_test_split\n",
        "from sklearn.linear_model import LogisticRegression\n",
        "from sklearn.metrics import accuracy_score,r2_score, precision_score, recall_score, f1_score, roc_auc_score,classification_report, confusion_matrix\n",
        "from sklearn.model_selection import cross_val_score\n",
        "\n",
        "# Split the data into training and testing sets\n",
        "x_train, x_test, y_train, y_test = train_test_split(x, y, test_size=0.2, random_state=42)\n",
        "\n",
        "# Instantiate the Logistic Regression model\n",
        "model = LogisticRegression()\n",
        "\n",
        "# Fit the model on the training data\n",
        "model.fit(x_train, y_train)\n",
        "\n",
        "# Predict on the testing data\n",
        "y_pred = model.predict(x_test)\n",
        "lr_accuracy=accuracy_score(y_test, y_pred)\n",
        "\n",
        "# Perform cross-validation\n",
        "lr_cross_val_scores = cross_val_score(model, x, y, cv=5,scoring='roc_auc')  # cv=5 for 5-fold cross-validation\n",
        "\n",
        "print(\"Cross-validation scores:\", lr_cross_val_scores)\n",
        "print(\"Average cross-validation score:\", lr_cross_val_scores.mean())\n",
        "print(\"Logistic regression Accuracy score:\", accuracy_score(y_test, y_pred))\n",
        "print(\"ROC AUC score:\", roc_auc_score(y_test, y_pred))\n",
        "print(\"R-squared score:\", r2_score(y_test, y_pred))\n",
        "\n",
        "print('Classification Report:\\n',classification_report(y_test,y_pred))\n",
        "\n",
        "print('Confusion Matrix:\\n',confusion_matrix(y_test,y_pred))\n"
      ]
    },
    {
      "cell_type": "markdown",
      "metadata": {
        "id": "2952003f"
      },
      "source": [
        "##  Hyperparametric tuning on Logistic Regression model"
      ]
    },
    {
      "cell_type": "code",
      "execution_count": null,
      "metadata": {
        "id": "c417853a",
        "outputId": "0bd3f2a3-f776-4bcc-ba0d-d40229eb102a"
      },
      "outputs": [
        {
          "name": "stdout",
          "output_type": "stream",
          "text": [
            "Best hyperparameters: {'C': 50.0, 'penalty': 'l2', 'solver': 'liblinear'}\n",
            "Best model: LogisticRegression(C=50.0, solver='liblinear')\n",
            "Grid search best score: 0.7073217726620846\n",
            "Accuracy score: 0.7210526315789474\n",
            "Roc_auc: 0.7210579434263567\n",
            "R-squared score: -0.11578967282271568\n",
            "Classification Report:\n",
            "               precision    recall  f1-score   support\n",
            "\n",
            "           0       0.72      0.73      0.72     28393\n",
            "           1       0.73      0.71      0.72     28417\n",
            "\n",
            "    accuracy                           0.72     56810\n",
            "   macro avg       0.72      0.72      0.72     56810\n",
            "weighted avg       0.72      0.72      0.72     56810\n",
            "\n",
            "Confusion Matrix:\n",
            " [[20830  7563]\n",
            " [ 8284 20133]]\n"
          ]
        }
      ],
      "source": [
        "from sklearn.model_selection import GridSearchCV\n",
        "\n",
        "# Define the hyperparameters grid\n",
        "param_grid = {\n",
        "    'penalty' : ['l1','l2'], # Also known as regularization. It specifies the norm of the penalty.\n",
        "                'C'       : [10.0, 25.0, 50.0], # it shows the Inverse of regularization strength.\n",
        "                'solver'  : ['newton-cg', 'lbfgs', 'liblinear']        # Whether to calculate the intercept for this model\n",
        "}\n",
        "\n",
        "# Initialize the Logistic Regression model\n",
        "lr = LogisticRegression()\n",
        "\n",
        "# Perform grid search with cross-validation\n",
        "grid_search = GridSearchCV(lr, param_grid, cv=5, scoring='recall')\n",
        "grid_search.fit(x_train, y_train)\n",
        "\n",
        "# Get the best model and its predictions\n",
        "best_model = grid_search.best_estimator_\n",
        "y_pred = best_model.predict(x_test)\n",
        "\n",
        "# Calculate evaluation metrics\n",
        "hlr_accuracy = accuracy_score(y_test, y_pred)\n",
        "hlr=grid_search.best_score_\n",
        "\n",
        "# Print the results\n",
        "print(\"Best hyperparameters:\", grid_search.best_params_)\n",
        "print('Best model:', best_model)\n",
        "print('Grid search best score:',grid_search.best_score_)\n",
        "print('Accuracy score:', hlr_accuracy)\n",
        "print('Roc_auc:', roc_auc_score(y_test, y_pred))\n",
        "print('R-squared score:', r2_score(y_test, y_pred))\n",
        "print('Classification Report:\\n', classification_report(y_test, y_pred))\n",
        "print('Confusion Matrix:\\n', confusion_matrix(y_test, y_pred))\n"
      ]
    }
  ]
}